{
  "cells": [
    {
      "cell_type": "markdown",
      "metadata": {
        "id": "view-in-github",
        "colab_type": "text"
      },
      "source": [
        "<a href=\"https://colab.research.google.com/github/Iris-Agape/PT/blob/main/ML_vib_binary.ipynb\" target=\"_parent\"><img src=\"https://colab.research.google.com/assets/colab-badge.svg\" alt=\"Open In Colab\"/></a>"
      ]
    },
    {
      "cell_type": "code",
      "execution_count": null,
      "metadata": {
        "id": "z5_ASQ5U93k7"
      },
      "outputs": [],
      "source": [
        "%%capture\n",
        "import pandas as pd\n",
        "import numpy as np\n",
        "\n",
        "# for normalization\n",
        "from sklearn import preprocessing\n",
        "\n",
        "# for visualization\n",
        "import matplotlib.pyplot as plt\n",
        "import plotly.graph_objects as go\n",
        "\n",
        "# for Machine Learning\n",
        "from sklearn.tree import DecisionTreeClassifier\n",
        "from sklearn.neighbors import KNeighborsClassifier\n",
        "from sklearn.naive_bayes import GaussianNB\n",
        "from sklearn.ensemble import RandomForestClassifier\n",
        "\n",
        "# for data imbalance, SMOTE\n",
        "from imblearn.over_sampling import SMOTE\n",
        "from scipy import stats\n",
        "\n",
        "# to calculate the performance of the models\n",
        "from sklearn.metrics import accuracy_score\n",
        "from sklearn.metrics import recall_score"
      ]
    },
    {
      "cell_type": "code",
      "execution_count": null,
      "metadata": {
        "colab": {
          "background_save": true,
          "base_uri": "https://localhost:8080/"
        },
        "id": "f65LCvVr-KUe",
        "outputId": "20c92919-a22e-411c-c915-e313fa6b9573"
      },
      "outputs": [
        {
          "name": "stdout",
          "output_type": "stream",
          "text": [
            "Requirement already satisfied: rdkit-pypi in /usr/local/lib/python3.10/dist-packages (2022.9.5)\n",
            "Requirement already satisfied: numpy in /usr/local/lib/python3.10/dist-packages (from rdkit-pypi) (1.23.5)\n",
            "Requirement already satisfied: Pillow in /usr/local/lib/python3.10/dist-packages (from rdkit-pypi) (9.4.0)\n",
            "\n",
            "real\t0m4.619s\n",
            "user\t0m4.420s\n",
            "sys\t0m0.147s\n"
          ]
        }
      ],
      "source": [
        "import sys\n",
        "!time pip install rdkit-pypi"
      ]
    },
    {
      "cell_type": "code",
      "execution_count": null,
      "metadata": {
        "colab": {
          "background_save": true
        },
        "id": "RECVYyUm-WkF"
      },
      "outputs": [],
      "source": [
        "try:\n",
        "  from rdkit import Chem\n",
        "  from rdkit.Chem import Draw\n",
        "  from rdkit.Chem.Draw import IPythonConsole\n",
        "except ImportError:\n",
        "  print('Stopping RUNTIME. Colaboratory will restart automatically. Please run again.')\n",
        "  exit()"
      ]
    },
    {
      "cell_type": "code",
      "execution_count": null,
      "metadata": {
        "colab": {
          "background_save": true
        },
        "id": "RzwREPRi_Xhw"
      },
      "outputs": [],
      "source": [
        "# load the training data and save it in the variable \"train\"\n",
        "train=pd.read_csv('https://raw.githubusercontent.com/elizabeththrall/MLforPChem/main/MLforvibspectroscopy/Data/binary_train.csv',index_col=0)\n",
        "# load the test data and save it in the variable \"test\"\n",
        "test=pd.read_csv('https://raw.githubusercontent.com/elizabeththrall/MLforPChem/main/MLforvibspectroscopy/Data/binary_test.csv',index_col=0)"
      ]
    },
    {
      "cell_type": "code",
      "execution_count": null,
      "metadata": {
        "colab": {
          "background_save": true,
          "base_uri": "https://localhost:8080/",
          "height": 547
        },
        "id": "FOW62Hrj_hcP",
        "outputId": "f8c15b2c-3718-4da8-a0e8-eb52e21e39e9"
      },
      "outputs": [
        {
          "data": {
            "text/html": [
              "\n",
              "  <div id=\"df-ad641022-2f0c-4f20-ab87-948849812deb\" class=\"colab-df-container\">\n",
              "    <div>\n",
              "<style scoped>\n",
              "    .dataframe tbody tr th:only-of-type {\n",
              "        vertical-align: middle;\n",
              "    }\n",
              "\n",
              "    .dataframe tbody tr th {\n",
              "        vertical-align: top;\n",
              "    }\n",
              "\n",
              "    .dataframe thead th {\n",
              "        text-align: right;\n",
              "    }\n",
              "</style>\n",
              "<table border=\"1\" class=\"dataframe\">\n",
              "  <thead>\n",
              "    <tr style=\"text-align: right;\">\n",
              "      <th></th>\n",
              "      <th>SMILES</th>\n",
              "      <th>name</th>\n",
              "      <th>label</th>\n",
              "      <th>500</th>\n",
              "      <th>502</th>\n",
              "      <th>504</th>\n",
              "      <th>506</th>\n",
              "      <th>508</th>\n",
              "      <th>510</th>\n",
              "      <th>512</th>\n",
              "      <th>...</th>\n",
              "      <th>3982</th>\n",
              "      <th>3984</th>\n",
              "      <th>3986</th>\n",
              "      <th>3988</th>\n",
              "      <th>3990</th>\n",
              "      <th>3992</th>\n",
              "      <th>3994</th>\n",
              "      <th>3996</th>\n",
              "      <th>3998</th>\n",
              "      <th>4000</th>\n",
              "    </tr>\n",
              "  </thead>\n",
              "  <tbody>\n",
              "    <tr>\n",
              "      <th>0</th>\n",
              "      <td>COC1OCCO1</td>\n",
              "      <td>2-methoxy-13-dioxolane</td>\n",
              "      <td>0</td>\n",
              "      <td>0.000051</td>\n",
              "      <td>0.000051</td>\n",
              "      <td>0.000052</td>\n",
              "      <td>0.000052</td>\n",
              "      <td>0.000053</td>\n",
              "      <td>0.000053</td>\n",
              "      <td>0.000054</td>\n",
              "      <td>...</td>\n",
              "      <td>0.000005</td>\n",
              "      <td>0.000004</td>\n",
              "      <td>0.000004</td>\n",
              "      <td>0.000004</td>\n",
              "      <td>0.000004</td>\n",
              "      <td>0.000004</td>\n",
              "      <td>0.000004</td>\n",
              "      <td>0.000004</td>\n",
              "      <td>0.000004</td>\n",
              "      <td>0.000004</td>\n",
              "    </tr>\n",
              "    <tr>\n",
              "      <th>1</th>\n",
              "      <td>CCCCCC=O</td>\n",
              "      <td>hexanal</td>\n",
              "      <td>1</td>\n",
              "      <td>0.000121</td>\n",
              "      <td>0.000126</td>\n",
              "      <td>0.000131</td>\n",
              "      <td>0.000136</td>\n",
              "      <td>0.000141</td>\n",
              "      <td>0.000146</td>\n",
              "      <td>0.000151</td>\n",
              "      <td>...</td>\n",
              "      <td>0.000008</td>\n",
              "      <td>0.000008</td>\n",
              "      <td>0.000008</td>\n",
              "      <td>0.000008</td>\n",
              "      <td>0.000008</td>\n",
              "      <td>0.000008</td>\n",
              "      <td>0.000008</td>\n",
              "      <td>0.000008</td>\n",
              "      <td>0.000008</td>\n",
              "      <td>0.000008</td>\n",
              "    </tr>\n",
              "    <tr>\n",
              "      <th>2</th>\n",
              "      <td>CC1CCC(C)C1C</td>\n",
              "      <td>1R2R3S-123-trimethylcyclopentane</td>\n",
              "      <td>0</td>\n",
              "      <td>0.000013</td>\n",
              "      <td>0.000013</td>\n",
              "      <td>0.000013</td>\n",
              "      <td>0.000013</td>\n",
              "      <td>0.000012</td>\n",
              "      <td>0.000012</td>\n",
              "      <td>0.000012</td>\n",
              "      <td>...</td>\n",
              "      <td>0.000013</td>\n",
              "      <td>0.000013</td>\n",
              "      <td>0.000013</td>\n",
              "      <td>0.000013</td>\n",
              "      <td>0.000013</td>\n",
              "      <td>0.000013</td>\n",
              "      <td>0.000013</td>\n",
              "      <td>0.000013</td>\n",
              "      <td>0.000013</td>\n",
              "      <td>0.000013</td>\n",
              "    </tr>\n",
              "    <tr>\n",
              "      <th>3</th>\n",
              "      <td>c1cn[se]c1</td>\n",
              "      <td>12-selenazole</td>\n",
              "      <td>0</td>\n",
              "      <td>0.000243</td>\n",
              "      <td>0.000244</td>\n",
              "      <td>0.000245</td>\n",
              "      <td>0.000246</td>\n",
              "      <td>0.000248</td>\n",
              "      <td>0.000249</td>\n",
              "      <td>0.000251</td>\n",
              "      <td>...</td>\n",
              "      <td>0.000003</td>\n",
              "      <td>0.000003</td>\n",
              "      <td>0.000003</td>\n",
              "      <td>0.000003</td>\n",
              "      <td>0.000003</td>\n",
              "      <td>0.000003</td>\n",
              "      <td>0.000003</td>\n",
              "      <td>0.000003</td>\n",
              "      <td>0.000003</td>\n",
              "      <td>0.000003</td>\n",
              "    </tr>\n",
              "    <tr>\n",
              "      <th>4</th>\n",
              "      <td>CCC(C)=CC(C)C</td>\n",
              "      <td>3E-24-dimethylhex-3-ene</td>\n",
              "      <td>0</td>\n",
              "      <td>0.000053</td>\n",
              "      <td>0.000053</td>\n",
              "      <td>0.000053</td>\n",
              "      <td>0.000054</td>\n",
              "      <td>0.000054</td>\n",
              "      <td>0.000054</td>\n",
              "      <td>0.000054</td>\n",
              "      <td>...</td>\n",
              "      <td>0.000012</td>\n",
              "      <td>0.000012</td>\n",
              "      <td>0.000012</td>\n",
              "      <td>0.000012</td>\n",
              "      <td>0.000012</td>\n",
              "      <td>0.000012</td>\n",
              "      <td>0.000012</td>\n",
              "      <td>0.000012</td>\n",
              "      <td>0.000012</td>\n",
              "      <td>0.000012</td>\n",
              "    </tr>\n",
              "    <tr>\n",
              "      <th>...</th>\n",
              "      <td>...</td>\n",
              "      <td>...</td>\n",
              "      <td>...</td>\n",
              "      <td>...</td>\n",
              "      <td>...</td>\n",
              "      <td>...</td>\n",
              "      <td>...</td>\n",
              "      <td>...</td>\n",
              "      <td>...</td>\n",
              "      <td>...</td>\n",
              "      <td>...</td>\n",
              "      <td>...</td>\n",
              "      <td>...</td>\n",
              "      <td>...</td>\n",
              "      <td>...</td>\n",
              "      <td>...</td>\n",
              "      <td>...</td>\n",
              "      <td>...</td>\n",
              "      <td>...</td>\n",
              "      <td>...</td>\n",
              "      <td>...</td>\n",
              "    </tr>\n",
              "    <tr>\n",
              "      <th>2099</th>\n",
              "      <td>c1c[nH]cn1</td>\n",
              "      <td>imidazole</td>\n",
              "      <td>0</td>\n",
              "      <td>0.001059</td>\n",
              "      <td>0.001111</td>\n",
              "      <td>0.001166</td>\n",
              "      <td>0.001222</td>\n",
              "      <td>0.001282</td>\n",
              "      <td>0.001343</td>\n",
              "      <td>0.001406</td>\n",
              "      <td>...</td>\n",
              "      <td>0.000019</td>\n",
              "      <td>0.000018</td>\n",
              "      <td>0.000018</td>\n",
              "      <td>0.000018</td>\n",
              "      <td>0.000018</td>\n",
              "      <td>0.000018</td>\n",
              "      <td>0.000018</td>\n",
              "      <td>0.000017</td>\n",
              "      <td>0.000017</td>\n",
              "      <td>0.000017</td>\n",
              "    </tr>\n",
              "    <tr>\n",
              "      <th>2100</th>\n",
              "      <td>C=C[Si](C)(Cl)Cl</td>\n",
              "      <td>methyl-vinyl-dichlorosilane</td>\n",
              "      <td>0</td>\n",
              "      <td>0.001328</td>\n",
              "      <td>0.001328</td>\n",
              "      <td>0.001327</td>\n",
              "      <td>0.001326</td>\n",
              "      <td>0.001324</td>\n",
              "      <td>0.001323</td>\n",
              "      <td>0.001322</td>\n",
              "      <td>...</td>\n",
              "      <td>0.000002</td>\n",
              "      <td>0.000002</td>\n",
              "      <td>0.000002</td>\n",
              "      <td>0.000002</td>\n",
              "      <td>0.000002</td>\n",
              "      <td>0.000002</td>\n",
              "      <td>0.000002</td>\n",
              "      <td>0.000002</td>\n",
              "      <td>0.000002</td>\n",
              "      <td>0.000002</td>\n",
              "    </tr>\n",
              "    <tr>\n",
              "      <th>2101</th>\n",
              "      <td>CCC=CCl</td>\n",
              "      <td>1E-1-chloro-1-butene</td>\n",
              "      <td>0</td>\n",
              "      <td>0.000055</td>\n",
              "      <td>0.000055</td>\n",
              "      <td>0.000055</td>\n",
              "      <td>0.000055</td>\n",
              "      <td>0.000055</td>\n",
              "      <td>0.000055</td>\n",
              "      <td>0.000055</td>\n",
              "      <td>...</td>\n",
              "      <td>0.000007</td>\n",
              "      <td>0.000007</td>\n",
              "      <td>0.000007</td>\n",
              "      <td>0.000007</td>\n",
              "      <td>0.000007</td>\n",
              "      <td>0.000007</td>\n",
              "      <td>0.000007</td>\n",
              "      <td>0.000007</td>\n",
              "      <td>0.000007</td>\n",
              "      <td>0.000007</td>\n",
              "    </tr>\n",
              "    <tr>\n",
              "      <th>2102</th>\n",
              "      <td>FC(F)(F)C(F)(F)C(F)(F)C(F)(F)C(F)(F)F</td>\n",
              "      <td>perfluoro-n-pentane</td>\n",
              "      <td>0</td>\n",
              "      <td>0.000111</td>\n",
              "      <td>0.000114</td>\n",
              "      <td>0.000117</td>\n",
              "      <td>0.000121</td>\n",
              "      <td>0.000124</td>\n",
              "      <td>0.000128</td>\n",
              "      <td>0.000131</td>\n",
              "      <td>...</td>\n",
              "      <td>0.000002</td>\n",
              "      <td>0.000002</td>\n",
              "      <td>0.000002</td>\n",
              "      <td>0.000002</td>\n",
              "      <td>0.000002</td>\n",
              "      <td>0.000002</td>\n",
              "      <td>0.000002</td>\n",
              "      <td>0.000002</td>\n",
              "      <td>0.000002</td>\n",
              "      <td>0.000002</td>\n",
              "    </tr>\n",
              "    <tr>\n",
              "      <th>2103</th>\n",
              "      <td>NCCCO</td>\n",
              "      <td>3-amino-1-propanol</td>\n",
              "      <td>0</td>\n",
              "      <td>0.000178</td>\n",
              "      <td>0.000172</td>\n",
              "      <td>0.000166</td>\n",
              "      <td>0.000161</td>\n",
              "      <td>0.000156</td>\n",
              "      <td>0.000152</td>\n",
              "      <td>0.000147</td>\n",
              "      <td>...</td>\n",
              "      <td>0.000023</td>\n",
              "      <td>0.000022</td>\n",
              "      <td>0.000022</td>\n",
              "      <td>0.000021</td>\n",
              "      <td>0.000021</td>\n",
              "      <td>0.000021</td>\n",
              "      <td>0.000020</td>\n",
              "      <td>0.000020</td>\n",
              "      <td>0.000019</td>\n",
              "      <td>0.000019</td>\n",
              "    </tr>\n",
              "  </tbody>\n",
              "</table>\n",
              "<p>2104 rows × 1754 columns</p>\n",
              "</div>\n",
              "    <div class=\"colab-df-buttons\">\n",
              "\n",
              "  <div class=\"colab-df-container\">\n",
              "    <button class=\"colab-df-convert\" onclick=\"convertToInteractive('df-ad641022-2f0c-4f20-ab87-948849812deb')\"\n",
              "            title=\"Convert this dataframe to an interactive table.\"\n",
              "            style=\"display:none;\">\n",
              "\n",
              "  <svg xmlns=\"http://www.w3.org/2000/svg\" height=\"24px\" viewBox=\"0 -960 960 960\">\n",
              "    <path d=\"M120-120v-720h720v720H120Zm60-500h600v-160H180v160Zm220 220h160v-160H400v160Zm0 220h160v-160H400v160ZM180-400h160v-160H180v160Zm440 0h160v-160H620v160ZM180-180h160v-160H180v160Zm440 0h160v-160H620v160Z\"/>\n",
              "  </svg>\n",
              "    </button>\n",
              "\n",
              "  <style>\n",
              "    .colab-df-container {\n",
              "      display:flex;\n",
              "      gap: 12px;\n",
              "    }\n",
              "\n",
              "    .colab-df-convert {\n",
              "      background-color: #E8F0FE;\n",
              "      border: none;\n",
              "      border-radius: 50%;\n",
              "      cursor: pointer;\n",
              "      display: none;\n",
              "      fill: #1967D2;\n",
              "      height: 32px;\n",
              "      padding: 0 0 0 0;\n",
              "      width: 32px;\n",
              "    }\n",
              "\n",
              "    .colab-df-convert:hover {\n",
              "      background-color: #E2EBFA;\n",
              "      box-shadow: 0px 1px 2px rgba(60, 64, 67, 0.3), 0px 1px 3px 1px rgba(60, 64, 67, 0.15);\n",
              "      fill: #174EA6;\n",
              "    }\n",
              "\n",
              "    .colab-df-buttons div {\n",
              "      margin-bottom: 4px;\n",
              "    }\n",
              "\n",
              "    [theme=dark] .colab-df-convert {\n",
              "      background-color: #3B4455;\n",
              "      fill: #D2E3FC;\n",
              "    }\n",
              "\n",
              "    [theme=dark] .colab-df-convert:hover {\n",
              "      background-color: #434B5C;\n",
              "      box-shadow: 0px 1px 3px 1px rgba(0, 0, 0, 0.15);\n",
              "      filter: drop-shadow(0px 1px 2px rgba(0, 0, 0, 0.3));\n",
              "      fill: #FFFFFF;\n",
              "    }\n",
              "  </style>\n",
              "\n",
              "    <script>\n",
              "      const buttonEl =\n",
              "        document.querySelector('#df-ad641022-2f0c-4f20-ab87-948849812deb button.colab-df-convert');\n",
              "      buttonEl.style.display =\n",
              "        google.colab.kernel.accessAllowed ? 'block' : 'none';\n",
              "\n",
              "      async function convertToInteractive(key) {\n",
              "        const element = document.querySelector('#df-ad641022-2f0c-4f20-ab87-948849812deb');\n",
              "        const dataTable =\n",
              "          await google.colab.kernel.invokeFunction('convertToInteractive',\n",
              "                                                    [key], {});\n",
              "        if (!dataTable) return;\n",
              "\n",
              "        const docLinkHtml = 'Like what you see? Visit the ' +\n",
              "          '<a target=\"_blank\" href=https://colab.research.google.com/notebooks/data_table.ipynb>data table notebook</a>'\n",
              "          + ' to learn more about interactive tables.';\n",
              "        element.innerHTML = '';\n",
              "        dataTable['output_type'] = 'display_data';\n",
              "        await google.colab.output.renderOutput(dataTable, element);\n",
              "        const docLink = document.createElement('div');\n",
              "        docLink.innerHTML = docLinkHtml;\n",
              "        element.appendChild(docLink);\n",
              "      }\n",
              "    </script>\n",
              "  </div>\n",
              "\n",
              "\n",
              "<div id=\"df-a3ea0963-4313-49c7-b207-6f37e542e112\">\n",
              "  <button class=\"colab-df-quickchart\" onclick=\"quickchart('df-a3ea0963-4313-49c7-b207-6f37e542e112')\"\n",
              "            title=\"Suggest charts.\"\n",
              "            style=\"display:none;\">\n",
              "\n",
              "<svg xmlns=\"http://www.w3.org/2000/svg\" height=\"24px\"viewBox=\"0 0 24 24\"\n",
              "     width=\"24px\">\n",
              "    <g>\n",
              "        <path d=\"M19 3H5c-1.1 0-2 .9-2 2v14c0 1.1.9 2 2 2h14c1.1 0 2-.9 2-2V5c0-1.1-.9-2-2-2zM9 17H7v-7h2v7zm4 0h-2V7h2v10zm4 0h-2v-4h2v4z\"/>\n",
              "    </g>\n",
              "</svg>\n",
              "  </button>\n",
              "\n",
              "<style>\n",
              "  .colab-df-quickchart {\n",
              "      --bg-color: #E8F0FE;\n",
              "      --fill-color: #1967D2;\n",
              "      --hover-bg-color: #E2EBFA;\n",
              "      --hover-fill-color: #174EA6;\n",
              "      --disabled-fill-color: #AAA;\n",
              "      --disabled-bg-color: #DDD;\n",
              "  }\n",
              "\n",
              "  [theme=dark] .colab-df-quickchart {\n",
              "      --bg-color: #3B4455;\n",
              "      --fill-color: #D2E3FC;\n",
              "      --hover-bg-color: #434B5C;\n",
              "      --hover-fill-color: #FFFFFF;\n",
              "      --disabled-bg-color: #3B4455;\n",
              "      --disabled-fill-color: #666;\n",
              "  }\n",
              "\n",
              "  .colab-df-quickchart {\n",
              "    background-color: var(--bg-color);\n",
              "    border: none;\n",
              "    border-radius: 50%;\n",
              "    cursor: pointer;\n",
              "    display: none;\n",
              "    fill: var(--fill-color);\n",
              "    height: 32px;\n",
              "    padding: 0;\n",
              "    width: 32px;\n",
              "  }\n",
              "\n",
              "  .colab-df-quickchart:hover {\n",
              "    background-color: var(--hover-bg-color);\n",
              "    box-shadow: 0 1px 2px rgba(60, 64, 67, 0.3), 0 1px 3px 1px rgba(60, 64, 67, 0.15);\n",
              "    fill: var(--button-hover-fill-color);\n",
              "  }\n",
              "\n",
              "  .colab-df-quickchart-complete:disabled,\n",
              "  .colab-df-quickchart-complete:disabled:hover {\n",
              "    background-color: var(--disabled-bg-color);\n",
              "    fill: var(--disabled-fill-color);\n",
              "    box-shadow: none;\n",
              "  }\n",
              "\n",
              "  .colab-df-spinner {\n",
              "    border: 2px solid var(--fill-color);\n",
              "    border-color: transparent;\n",
              "    border-bottom-color: var(--fill-color);\n",
              "    animation:\n",
              "      spin 1s steps(1) infinite;\n",
              "  }\n",
              "\n",
              "  @keyframes spin {\n",
              "    0% {\n",
              "      border-color: transparent;\n",
              "      border-bottom-color: var(--fill-color);\n",
              "      border-left-color: var(--fill-color);\n",
              "    }\n",
              "    20% {\n",
              "      border-color: transparent;\n",
              "      border-left-color: var(--fill-color);\n",
              "      border-top-color: var(--fill-color);\n",
              "    }\n",
              "    30% {\n",
              "      border-color: transparent;\n",
              "      border-left-color: var(--fill-color);\n",
              "      border-top-color: var(--fill-color);\n",
              "      border-right-color: var(--fill-color);\n",
              "    }\n",
              "    40% {\n",
              "      border-color: transparent;\n",
              "      border-right-color: var(--fill-color);\n",
              "      border-top-color: var(--fill-color);\n",
              "    }\n",
              "    60% {\n",
              "      border-color: transparent;\n",
              "      border-right-color: var(--fill-color);\n",
              "    }\n",
              "    80% {\n",
              "      border-color: transparent;\n",
              "      border-right-color: var(--fill-color);\n",
              "      border-bottom-color: var(--fill-color);\n",
              "    }\n",
              "    90% {\n",
              "      border-color: transparent;\n",
              "      border-bottom-color: var(--fill-color);\n",
              "    }\n",
              "  }\n",
              "</style>\n",
              "\n",
              "  <script>\n",
              "    async function quickchart(key) {\n",
              "      const quickchartButtonEl =\n",
              "        document.querySelector('#' + key + ' button');\n",
              "      quickchartButtonEl.disabled = true;  // To prevent multiple clicks.\n",
              "      quickchartButtonEl.classList.add('colab-df-spinner');\n",
              "      try {\n",
              "        const charts = await google.colab.kernel.invokeFunction(\n",
              "            'suggestCharts', [key], {});\n",
              "      } catch (error) {\n",
              "        console.error('Error during call to suggestCharts:', error);\n",
              "      }\n",
              "      quickchartButtonEl.classList.remove('colab-df-spinner');\n",
              "      quickchartButtonEl.classList.add('colab-df-quickchart-complete');\n",
              "    }\n",
              "    (() => {\n",
              "      let quickchartButtonEl =\n",
              "        document.querySelector('#df-a3ea0963-4313-49c7-b207-6f37e542e112 button');\n",
              "      quickchartButtonEl.style.display =\n",
              "        google.colab.kernel.accessAllowed ? 'block' : 'none';\n",
              "    })();\n",
              "  </script>\n",
              "</div>\n",
              "    </div>\n",
              "  </div>\n"
            ],
            "text/plain": [
              "                                     SMILES                              name  \\\n",
              "0                                 COC1OCCO1            2-methoxy-13-dioxolane   \n",
              "1                                  CCCCCC=O                           hexanal   \n",
              "2                              CC1CCC(C)C1C  1R2R3S-123-trimethylcyclopentane   \n",
              "3                                c1cn[se]c1                     12-selenazole   \n",
              "4                             CCC(C)=CC(C)C           3E-24-dimethylhex-3-ene   \n",
              "...                                     ...                               ...   \n",
              "2099                             c1c[nH]cn1                         imidazole   \n",
              "2100                       C=C[Si](C)(Cl)Cl       methyl-vinyl-dichlorosilane   \n",
              "2101                                CCC=CCl              1E-1-chloro-1-butene   \n",
              "2102  FC(F)(F)C(F)(F)C(F)(F)C(F)(F)C(F)(F)F               perfluoro-n-pentane   \n",
              "2103                                  NCCCO                3-amino-1-propanol   \n",
              "\n",
              "      label       500       502       504       506       508       510  \\\n",
              "0         0  0.000051  0.000051  0.000052  0.000052  0.000053  0.000053   \n",
              "1         1  0.000121  0.000126  0.000131  0.000136  0.000141  0.000146   \n",
              "2         0  0.000013  0.000013  0.000013  0.000013  0.000012  0.000012   \n",
              "3         0  0.000243  0.000244  0.000245  0.000246  0.000248  0.000249   \n",
              "4         0  0.000053  0.000053  0.000053  0.000054  0.000054  0.000054   \n",
              "...     ...       ...       ...       ...       ...       ...       ...   \n",
              "2099      0  0.001059  0.001111  0.001166  0.001222  0.001282  0.001343   \n",
              "2100      0  0.001328  0.001328  0.001327  0.001326  0.001324  0.001323   \n",
              "2101      0  0.000055  0.000055  0.000055  0.000055  0.000055  0.000055   \n",
              "2102      0  0.000111  0.000114  0.000117  0.000121  0.000124  0.000128   \n",
              "2103      0  0.000178  0.000172  0.000166  0.000161  0.000156  0.000152   \n",
              "\n",
              "           512  ...      3982      3984      3986      3988      3990  \\\n",
              "0     0.000054  ...  0.000005  0.000004  0.000004  0.000004  0.000004   \n",
              "1     0.000151  ...  0.000008  0.000008  0.000008  0.000008  0.000008   \n",
              "2     0.000012  ...  0.000013  0.000013  0.000013  0.000013  0.000013   \n",
              "3     0.000251  ...  0.000003  0.000003  0.000003  0.000003  0.000003   \n",
              "4     0.000054  ...  0.000012  0.000012  0.000012  0.000012  0.000012   \n",
              "...        ...  ...       ...       ...       ...       ...       ...   \n",
              "2099  0.001406  ...  0.000019  0.000018  0.000018  0.000018  0.000018   \n",
              "2100  0.001322  ...  0.000002  0.000002  0.000002  0.000002  0.000002   \n",
              "2101  0.000055  ...  0.000007  0.000007  0.000007  0.000007  0.000007   \n",
              "2102  0.000131  ...  0.000002  0.000002  0.000002  0.000002  0.000002   \n",
              "2103  0.000147  ...  0.000023  0.000022  0.000022  0.000021  0.000021   \n",
              "\n",
              "          3992      3994      3996      3998      4000  \n",
              "0     0.000004  0.000004  0.000004  0.000004  0.000004  \n",
              "1     0.000008  0.000008  0.000008  0.000008  0.000008  \n",
              "2     0.000013  0.000013  0.000013  0.000013  0.000013  \n",
              "3     0.000003  0.000003  0.000003  0.000003  0.000003  \n",
              "4     0.000012  0.000012  0.000012  0.000012  0.000012  \n",
              "...        ...       ...       ...       ...       ...  \n",
              "2099  0.000018  0.000018  0.000017  0.000017  0.000017  \n",
              "2100  0.000002  0.000002  0.000002  0.000002  0.000002  \n",
              "2101  0.000007  0.000007  0.000007  0.000007  0.000007  \n",
              "2102  0.000002  0.000002  0.000002  0.000002  0.000002  \n",
              "2103  0.000021  0.000020  0.000020  0.000019  0.000019  \n",
              "\n",
              "[2104 rows x 1754 columns]"
            ]
          },
          "execution_count": 269,
          "metadata": {},
          "output_type": "execute_result"
        }
      ],
      "source": [
        "# display the contents of the variable \"train\"\n",
        "train"
      ]
    },
    {
      "cell_type": "code",
      "execution_count": null,
      "metadata": {
        "colab": {
          "background_save": true,
          "base_uri": "https://localhost:8080/",
          "height": 530
        },
        "id": "2XPfV3UF_dVi",
        "outputId": "ef7f17a1-2405-4b5c-d15d-2f5313d48b4a"
      },
      "outputs": [
        {
          "data": {
            "text/html": [
              "\n",
              "  <div id=\"df-c22606e3-67a6-4015-829e-87d51a92f2d5\" class=\"colab-df-container\">\n",
              "    <div>\n",
              "<style scoped>\n",
              "    .dataframe tbody tr th:only-of-type {\n",
              "        vertical-align: middle;\n",
              "    }\n",
              "\n",
              "    .dataframe tbody tr th {\n",
              "        vertical-align: top;\n",
              "    }\n",
              "\n",
              "    .dataframe thead th {\n",
              "        text-align: right;\n",
              "    }\n",
              "</style>\n",
              "<table border=\"1\" class=\"dataframe\">\n",
              "  <thead>\n",
              "    <tr style=\"text-align: right;\">\n",
              "      <th></th>\n",
              "      <th>SMILES</th>\n",
              "      <th>name</th>\n",
              "      <th>label</th>\n",
              "      <th>500</th>\n",
              "      <th>502</th>\n",
              "      <th>504</th>\n",
              "      <th>506</th>\n",
              "      <th>508</th>\n",
              "      <th>510</th>\n",
              "      <th>512</th>\n",
              "      <th>...</th>\n",
              "      <th>3982</th>\n",
              "      <th>3984</th>\n",
              "      <th>3986</th>\n",
              "      <th>3988</th>\n",
              "      <th>3990</th>\n",
              "      <th>3992</th>\n",
              "      <th>3994</th>\n",
              "      <th>3996</th>\n",
              "      <th>3998</th>\n",
              "      <th>4000</th>\n",
              "    </tr>\n",
              "  </thead>\n",
              "  <tbody>\n",
              "    <tr>\n",
              "      <th>0</th>\n",
              "      <td>C1CCOCC1</td>\n",
              "      <td>tetrahydropyran</td>\n",
              "      <td>0</td>\n",
              "      <td>0.000040</td>\n",
              "      <td>0.000041</td>\n",
              "      <td>0.000041</td>\n",
              "      <td>0.000041</td>\n",
              "      <td>0.000041</td>\n",
              "      <td>0.000042</td>\n",
              "      <td>0.000043</td>\n",
              "      <td>...</td>\n",
              "      <td>0.000009</td>\n",
              "      <td>0.000009</td>\n",
              "      <td>0.000009</td>\n",
              "      <td>0.000009</td>\n",
              "      <td>0.000009</td>\n",
              "      <td>0.000009</td>\n",
              "      <td>0.000009</td>\n",
              "      <td>0.000009</td>\n",
              "      <td>0.000009</td>\n",
              "      <td>0.000009</td>\n",
              "    </tr>\n",
              "    <tr>\n",
              "      <th>1</th>\n",
              "      <td>[N]=N=N[GeH3]</td>\n",
              "      <td>germylazide</td>\n",
              "      <td>0</td>\n",
              "      <td>0.000301</td>\n",
              "      <td>0.000296</td>\n",
              "      <td>0.000290</td>\n",
              "      <td>0.000284</td>\n",
              "      <td>0.000278</td>\n",
              "      <td>0.000272</td>\n",
              "      <td>0.000266</td>\n",
              "      <td>...</td>\n",
              "      <td>0.000003</td>\n",
              "      <td>0.000003</td>\n",
              "      <td>0.000003</td>\n",
              "      <td>0.000003</td>\n",
              "      <td>0.000003</td>\n",
              "      <td>0.000003</td>\n",
              "      <td>0.000003</td>\n",
              "      <td>0.000003</td>\n",
              "      <td>0.000003</td>\n",
              "      <td>0.000003</td>\n",
              "    </tr>\n",
              "    <tr>\n",
              "      <th>2</th>\n",
              "      <td>CCC(C)=O</td>\n",
              "      <td>2-butanone</td>\n",
              "      <td>1</td>\n",
              "      <td>0.000048</td>\n",
              "      <td>0.000049</td>\n",
              "      <td>0.000050</td>\n",
              "      <td>0.000050</td>\n",
              "      <td>0.000051</td>\n",
              "      <td>0.000052</td>\n",
              "      <td>0.000053</td>\n",
              "      <td>...</td>\n",
              "      <td>0.000005</td>\n",
              "      <td>0.000005</td>\n",
              "      <td>0.000005</td>\n",
              "      <td>0.000005</td>\n",
              "      <td>0.000005</td>\n",
              "      <td>0.000005</td>\n",
              "      <td>0.000005</td>\n",
              "      <td>0.000005</td>\n",
              "      <td>0.000005</td>\n",
              "      <td>0.000005</td>\n",
              "    </tr>\n",
              "    <tr>\n",
              "      <th>3</th>\n",
              "      <td>CN=N=[N]</td>\n",
              "      <td>methyl-azide</td>\n",
              "      <td>0</td>\n",
              "      <td>0.000024</td>\n",
              "      <td>0.000024</td>\n",
              "      <td>0.000025</td>\n",
              "      <td>0.000025</td>\n",
              "      <td>0.000026</td>\n",
              "      <td>0.000027</td>\n",
              "      <td>0.000027</td>\n",
              "      <td>...</td>\n",
              "      <td>0.000005</td>\n",
              "      <td>0.000005</td>\n",
              "      <td>0.000005</td>\n",
              "      <td>0.000004</td>\n",
              "      <td>0.000004</td>\n",
              "      <td>0.000004</td>\n",
              "      <td>0.000004</td>\n",
              "      <td>0.000004</td>\n",
              "      <td>0.000004</td>\n",
              "      <td>0.000004</td>\n",
              "    </tr>\n",
              "    <tr>\n",
              "      <th>4</th>\n",
              "      <td>CC(C)(C)S</td>\n",
              "      <td>2-methyl-2-propanethiol</td>\n",
              "      <td>0</td>\n",
              "      <td>0.000050</td>\n",
              "      <td>0.000051</td>\n",
              "      <td>0.000052</td>\n",
              "      <td>0.000053</td>\n",
              "      <td>0.000055</td>\n",
              "      <td>0.000056</td>\n",
              "      <td>0.000058</td>\n",
              "      <td>...</td>\n",
              "      <td>0.000010</td>\n",
              "      <td>0.000010</td>\n",
              "      <td>0.000010</td>\n",
              "      <td>0.000010</td>\n",
              "      <td>0.000010</td>\n",
              "      <td>0.000010</td>\n",
              "      <td>0.000010</td>\n",
              "      <td>0.000010</td>\n",
              "      <td>0.000010</td>\n",
              "      <td>0.000010</td>\n",
              "    </tr>\n",
              "    <tr>\n",
              "      <th>...</th>\n",
              "      <td>...</td>\n",
              "      <td>...</td>\n",
              "      <td>...</td>\n",
              "      <td>...</td>\n",
              "      <td>...</td>\n",
              "      <td>...</td>\n",
              "      <td>...</td>\n",
              "      <td>...</td>\n",
              "      <td>...</td>\n",
              "      <td>...</td>\n",
              "      <td>...</td>\n",
              "      <td>...</td>\n",
              "      <td>...</td>\n",
              "      <td>...</td>\n",
              "      <td>...</td>\n",
              "      <td>...</td>\n",
              "      <td>...</td>\n",
              "      <td>...</td>\n",
              "      <td>...</td>\n",
              "      <td>...</td>\n",
              "      <td>...</td>\n",
              "    </tr>\n",
              "    <tr>\n",
              "      <th>228</th>\n",
              "      <td>CC(=O)Nc1ccc(O)cc1</td>\n",
              "      <td>acetaminophen</td>\n",
              "      <td>1</td>\n",
              "      <td>0.000310</td>\n",
              "      <td>0.000315</td>\n",
              "      <td>0.000320</td>\n",
              "      <td>0.000324</td>\n",
              "      <td>0.000327</td>\n",
              "      <td>0.000330</td>\n",
              "      <td>0.000332</td>\n",
              "      <td>...</td>\n",
              "      <td>0.000019</td>\n",
              "      <td>0.000018</td>\n",
              "      <td>0.000018</td>\n",
              "      <td>0.000018</td>\n",
              "      <td>0.000017</td>\n",
              "      <td>0.000017</td>\n",
              "      <td>0.000017</td>\n",
              "      <td>0.000017</td>\n",
              "      <td>0.000016</td>\n",
              "      <td>0.000016</td>\n",
              "    </tr>\n",
              "    <tr>\n",
              "      <th>229</th>\n",
              "      <td>CC1OCCO1</td>\n",
              "      <td>2-methyl-13-dioxolane</td>\n",
              "      <td>0</td>\n",
              "      <td>0.000063</td>\n",
              "      <td>0.000064</td>\n",
              "      <td>0.000065</td>\n",
              "      <td>0.000065</td>\n",
              "      <td>0.000065</td>\n",
              "      <td>0.000065</td>\n",
              "      <td>0.000065</td>\n",
              "      <td>...</td>\n",
              "      <td>0.000006</td>\n",
              "      <td>0.000006</td>\n",
              "      <td>0.000006</td>\n",
              "      <td>0.000006</td>\n",
              "      <td>0.000006</td>\n",
              "      <td>0.000006</td>\n",
              "      <td>0.000006</td>\n",
              "      <td>0.000006</td>\n",
              "      <td>0.000006</td>\n",
              "      <td>0.000006</td>\n",
              "    </tr>\n",
              "    <tr>\n",
              "      <th>230</th>\n",
              "      <td>CC(C)(C)[Se]C(C)(C)C</td>\n",
              "      <td>2-methyl-2---2-methyl-2-propanyl-selanyl-propane</td>\n",
              "      <td>0</td>\n",
              "      <td>0.000067</td>\n",
              "      <td>0.000069</td>\n",
              "      <td>0.000071</td>\n",
              "      <td>0.000073</td>\n",
              "      <td>0.000074</td>\n",
              "      <td>0.000076</td>\n",
              "      <td>0.000077</td>\n",
              "      <td>...</td>\n",
              "      <td>0.000010</td>\n",
              "      <td>0.000010</td>\n",
              "      <td>0.000010</td>\n",
              "      <td>0.000010</td>\n",
              "      <td>0.000010</td>\n",
              "      <td>0.000010</td>\n",
              "      <td>0.000010</td>\n",
              "      <td>0.000010</td>\n",
              "      <td>0.000010</td>\n",
              "      <td>0.000010</td>\n",
              "    </tr>\n",
              "    <tr>\n",
              "      <th>231</th>\n",
              "      <td>CCCOCCC</td>\n",
              "      <td>dipropylether</td>\n",
              "      <td>0</td>\n",
              "      <td>0.000052</td>\n",
              "      <td>0.000053</td>\n",
              "      <td>0.000054</td>\n",
              "      <td>0.000055</td>\n",
              "      <td>0.000056</td>\n",
              "      <td>0.000056</td>\n",
              "      <td>0.000056</td>\n",
              "      <td>...</td>\n",
              "      <td>0.000009</td>\n",
              "      <td>0.000009</td>\n",
              "      <td>0.000008</td>\n",
              "      <td>0.000008</td>\n",
              "      <td>0.000008</td>\n",
              "      <td>0.000008</td>\n",
              "      <td>0.000008</td>\n",
              "      <td>0.000008</td>\n",
              "      <td>0.000008</td>\n",
              "      <td>0.000008</td>\n",
              "    </tr>\n",
              "    <tr>\n",
              "      <th>232</th>\n",
              "      <td>CC1CC1C</td>\n",
              "      <td>1R2S-12-dimethylcyclopropane</td>\n",
              "      <td>0</td>\n",
              "      <td>0.000047</td>\n",
              "      <td>0.000046</td>\n",
              "      <td>0.000044</td>\n",
              "      <td>0.000043</td>\n",
              "      <td>0.000042</td>\n",
              "      <td>0.000041</td>\n",
              "      <td>0.000040</td>\n",
              "      <td>...</td>\n",
              "      <td>0.000013</td>\n",
              "      <td>0.000013</td>\n",
              "      <td>0.000013</td>\n",
              "      <td>0.000013</td>\n",
              "      <td>0.000013</td>\n",
              "      <td>0.000013</td>\n",
              "      <td>0.000012</td>\n",
              "      <td>0.000012</td>\n",
              "      <td>0.000012</td>\n",
              "      <td>0.000012</td>\n",
              "    </tr>\n",
              "  </tbody>\n",
              "</table>\n",
              "<p>233 rows × 1754 columns</p>\n",
              "</div>\n",
              "    <div class=\"colab-df-buttons\">\n",
              "\n",
              "  <div class=\"colab-df-container\">\n",
              "    <button class=\"colab-df-convert\" onclick=\"convertToInteractive('df-c22606e3-67a6-4015-829e-87d51a92f2d5')\"\n",
              "            title=\"Convert this dataframe to an interactive table.\"\n",
              "            style=\"display:none;\">\n",
              "\n",
              "  <svg xmlns=\"http://www.w3.org/2000/svg\" height=\"24px\" viewBox=\"0 -960 960 960\">\n",
              "    <path d=\"M120-120v-720h720v720H120Zm60-500h600v-160H180v160Zm220 220h160v-160H400v160Zm0 220h160v-160H400v160ZM180-400h160v-160H180v160Zm440 0h160v-160H620v160ZM180-180h160v-160H180v160Zm440 0h160v-160H620v160Z\"/>\n",
              "  </svg>\n",
              "    </button>\n",
              "\n",
              "  <style>\n",
              "    .colab-df-container {\n",
              "      display:flex;\n",
              "      gap: 12px;\n",
              "    }\n",
              "\n",
              "    .colab-df-convert {\n",
              "      background-color: #E8F0FE;\n",
              "      border: none;\n",
              "      border-radius: 50%;\n",
              "      cursor: pointer;\n",
              "      display: none;\n",
              "      fill: #1967D2;\n",
              "      height: 32px;\n",
              "      padding: 0 0 0 0;\n",
              "      width: 32px;\n",
              "    }\n",
              "\n",
              "    .colab-df-convert:hover {\n",
              "      background-color: #E2EBFA;\n",
              "      box-shadow: 0px 1px 2px rgba(60, 64, 67, 0.3), 0px 1px 3px 1px rgba(60, 64, 67, 0.15);\n",
              "      fill: #174EA6;\n",
              "    }\n",
              "\n",
              "    .colab-df-buttons div {\n",
              "      margin-bottom: 4px;\n",
              "    }\n",
              "\n",
              "    [theme=dark] .colab-df-convert {\n",
              "      background-color: #3B4455;\n",
              "      fill: #D2E3FC;\n",
              "    }\n",
              "\n",
              "    [theme=dark] .colab-df-convert:hover {\n",
              "      background-color: #434B5C;\n",
              "      box-shadow: 0px 1px 3px 1px rgba(0, 0, 0, 0.15);\n",
              "      filter: drop-shadow(0px 1px 2px rgba(0, 0, 0, 0.3));\n",
              "      fill: #FFFFFF;\n",
              "    }\n",
              "  </style>\n",
              "\n",
              "    <script>\n",
              "      const buttonEl =\n",
              "        document.querySelector('#df-c22606e3-67a6-4015-829e-87d51a92f2d5 button.colab-df-convert');\n",
              "      buttonEl.style.display =\n",
              "        google.colab.kernel.accessAllowed ? 'block' : 'none';\n",
              "\n",
              "      async function convertToInteractive(key) {\n",
              "        const element = document.querySelector('#df-c22606e3-67a6-4015-829e-87d51a92f2d5');\n",
              "        const dataTable =\n",
              "          await google.colab.kernel.invokeFunction('convertToInteractive',\n",
              "                                                    [key], {});\n",
              "        if (!dataTable) return;\n",
              "\n",
              "        const docLinkHtml = 'Like what you see? Visit the ' +\n",
              "          '<a target=\"_blank\" href=https://colab.research.google.com/notebooks/data_table.ipynb>data table notebook</a>'\n",
              "          + ' to learn more about interactive tables.';\n",
              "        element.innerHTML = '';\n",
              "        dataTable['output_type'] = 'display_data';\n",
              "        await google.colab.output.renderOutput(dataTable, element);\n",
              "        const docLink = document.createElement('div');\n",
              "        docLink.innerHTML = docLinkHtml;\n",
              "        element.appendChild(docLink);\n",
              "      }\n",
              "    </script>\n",
              "  </div>\n",
              "\n",
              "\n",
              "<div id=\"df-964ded97-204f-4880-9e2e-266c8c41df8b\">\n",
              "  <button class=\"colab-df-quickchart\" onclick=\"quickchart('df-964ded97-204f-4880-9e2e-266c8c41df8b')\"\n",
              "            title=\"Suggest charts.\"\n",
              "            style=\"display:none;\">\n",
              "\n",
              "<svg xmlns=\"http://www.w3.org/2000/svg\" height=\"24px\"viewBox=\"0 0 24 24\"\n",
              "     width=\"24px\">\n",
              "    <g>\n",
              "        <path d=\"M19 3H5c-1.1 0-2 .9-2 2v14c0 1.1.9 2 2 2h14c1.1 0 2-.9 2-2V5c0-1.1-.9-2-2-2zM9 17H7v-7h2v7zm4 0h-2V7h2v10zm4 0h-2v-4h2v4z\"/>\n",
              "    </g>\n",
              "</svg>\n",
              "  </button>\n",
              "\n",
              "<style>\n",
              "  .colab-df-quickchart {\n",
              "      --bg-color: #E8F0FE;\n",
              "      --fill-color: #1967D2;\n",
              "      --hover-bg-color: #E2EBFA;\n",
              "      --hover-fill-color: #174EA6;\n",
              "      --disabled-fill-color: #AAA;\n",
              "      --disabled-bg-color: #DDD;\n",
              "  }\n",
              "\n",
              "  [theme=dark] .colab-df-quickchart {\n",
              "      --bg-color: #3B4455;\n",
              "      --fill-color: #D2E3FC;\n",
              "      --hover-bg-color: #434B5C;\n",
              "      --hover-fill-color: #FFFFFF;\n",
              "      --disabled-bg-color: #3B4455;\n",
              "      --disabled-fill-color: #666;\n",
              "  }\n",
              "\n",
              "  .colab-df-quickchart {\n",
              "    background-color: var(--bg-color);\n",
              "    border: none;\n",
              "    border-radius: 50%;\n",
              "    cursor: pointer;\n",
              "    display: none;\n",
              "    fill: var(--fill-color);\n",
              "    height: 32px;\n",
              "    padding: 0;\n",
              "    width: 32px;\n",
              "  }\n",
              "\n",
              "  .colab-df-quickchart:hover {\n",
              "    background-color: var(--hover-bg-color);\n",
              "    box-shadow: 0 1px 2px rgba(60, 64, 67, 0.3), 0 1px 3px 1px rgba(60, 64, 67, 0.15);\n",
              "    fill: var(--button-hover-fill-color);\n",
              "  }\n",
              "\n",
              "  .colab-df-quickchart-complete:disabled,\n",
              "  .colab-df-quickchart-complete:disabled:hover {\n",
              "    background-color: var(--disabled-bg-color);\n",
              "    fill: var(--disabled-fill-color);\n",
              "    box-shadow: none;\n",
              "  }\n",
              "\n",
              "  .colab-df-spinner {\n",
              "    border: 2px solid var(--fill-color);\n",
              "    border-color: transparent;\n",
              "    border-bottom-color: var(--fill-color);\n",
              "    animation:\n",
              "      spin 1s steps(1) infinite;\n",
              "  }\n",
              "\n",
              "  @keyframes spin {\n",
              "    0% {\n",
              "      border-color: transparent;\n",
              "      border-bottom-color: var(--fill-color);\n",
              "      border-left-color: var(--fill-color);\n",
              "    }\n",
              "    20% {\n",
              "      border-color: transparent;\n",
              "      border-left-color: var(--fill-color);\n",
              "      border-top-color: var(--fill-color);\n",
              "    }\n",
              "    30% {\n",
              "      border-color: transparent;\n",
              "      border-left-color: var(--fill-color);\n",
              "      border-top-color: var(--fill-color);\n",
              "      border-right-color: var(--fill-color);\n",
              "    }\n",
              "    40% {\n",
              "      border-color: transparent;\n",
              "      border-right-color: var(--fill-color);\n",
              "      border-top-color: var(--fill-color);\n",
              "    }\n",
              "    60% {\n",
              "      border-color: transparent;\n",
              "      border-right-color: var(--fill-color);\n",
              "    }\n",
              "    80% {\n",
              "      border-color: transparent;\n",
              "      border-right-color: var(--fill-color);\n",
              "      border-bottom-color: var(--fill-color);\n",
              "    }\n",
              "    90% {\n",
              "      border-color: transparent;\n",
              "      border-bottom-color: var(--fill-color);\n",
              "    }\n",
              "  }\n",
              "</style>\n",
              "\n",
              "  <script>\n",
              "    async function quickchart(key) {\n",
              "      const quickchartButtonEl =\n",
              "        document.querySelector('#' + key + ' button');\n",
              "      quickchartButtonEl.disabled = true;  // To prevent multiple clicks.\n",
              "      quickchartButtonEl.classList.add('colab-df-spinner');\n",
              "      try {\n",
              "        const charts = await google.colab.kernel.invokeFunction(\n",
              "            'suggestCharts', [key], {});\n",
              "      } catch (error) {\n",
              "        console.error('Error during call to suggestCharts:', error);\n",
              "      }\n",
              "      quickchartButtonEl.classList.remove('colab-df-spinner');\n",
              "      quickchartButtonEl.classList.add('colab-df-quickchart-complete');\n",
              "    }\n",
              "    (() => {\n",
              "      let quickchartButtonEl =\n",
              "        document.querySelector('#df-964ded97-204f-4880-9e2e-266c8c41df8b button');\n",
              "      quickchartButtonEl.style.display =\n",
              "        google.colab.kernel.accessAllowed ? 'block' : 'none';\n",
              "    })();\n",
              "  </script>\n",
              "</div>\n",
              "    </div>\n",
              "  </div>\n"
            ],
            "text/plain": [
              "                   SMILES                                              name  \\\n",
              "0                C1CCOCC1                                   tetrahydropyran   \n",
              "1           [N]=N=N[GeH3]                                       germylazide   \n",
              "2                CCC(C)=O                                        2-butanone   \n",
              "3                CN=N=[N]                                      methyl-azide   \n",
              "4               CC(C)(C)S                           2-methyl-2-propanethiol   \n",
              "..                    ...                                               ...   \n",
              "228    CC(=O)Nc1ccc(O)cc1                                     acetaminophen   \n",
              "229              CC1OCCO1                             2-methyl-13-dioxolane   \n",
              "230  CC(C)(C)[Se]C(C)(C)C  2-methyl-2---2-methyl-2-propanyl-selanyl-propane   \n",
              "231               CCCOCCC                                     dipropylether   \n",
              "232               CC1CC1C                      1R2S-12-dimethylcyclopropane   \n",
              "\n",
              "     label       500       502       504       506       508       510  \\\n",
              "0        0  0.000040  0.000041  0.000041  0.000041  0.000041  0.000042   \n",
              "1        0  0.000301  0.000296  0.000290  0.000284  0.000278  0.000272   \n",
              "2        1  0.000048  0.000049  0.000050  0.000050  0.000051  0.000052   \n",
              "3        0  0.000024  0.000024  0.000025  0.000025  0.000026  0.000027   \n",
              "4        0  0.000050  0.000051  0.000052  0.000053  0.000055  0.000056   \n",
              "..     ...       ...       ...       ...       ...       ...       ...   \n",
              "228      1  0.000310  0.000315  0.000320  0.000324  0.000327  0.000330   \n",
              "229      0  0.000063  0.000064  0.000065  0.000065  0.000065  0.000065   \n",
              "230      0  0.000067  0.000069  0.000071  0.000073  0.000074  0.000076   \n",
              "231      0  0.000052  0.000053  0.000054  0.000055  0.000056  0.000056   \n",
              "232      0  0.000047  0.000046  0.000044  0.000043  0.000042  0.000041   \n",
              "\n",
              "          512  ...      3982      3984      3986      3988      3990  \\\n",
              "0    0.000043  ...  0.000009  0.000009  0.000009  0.000009  0.000009   \n",
              "1    0.000266  ...  0.000003  0.000003  0.000003  0.000003  0.000003   \n",
              "2    0.000053  ...  0.000005  0.000005  0.000005  0.000005  0.000005   \n",
              "3    0.000027  ...  0.000005  0.000005  0.000005  0.000004  0.000004   \n",
              "4    0.000058  ...  0.000010  0.000010  0.000010  0.000010  0.000010   \n",
              "..        ...  ...       ...       ...       ...       ...       ...   \n",
              "228  0.000332  ...  0.000019  0.000018  0.000018  0.000018  0.000017   \n",
              "229  0.000065  ...  0.000006  0.000006  0.000006  0.000006  0.000006   \n",
              "230  0.000077  ...  0.000010  0.000010  0.000010  0.000010  0.000010   \n",
              "231  0.000056  ...  0.000009  0.000009  0.000008  0.000008  0.000008   \n",
              "232  0.000040  ...  0.000013  0.000013  0.000013  0.000013  0.000013   \n",
              "\n",
              "         3992      3994      3996      3998      4000  \n",
              "0    0.000009  0.000009  0.000009  0.000009  0.000009  \n",
              "1    0.000003  0.000003  0.000003  0.000003  0.000003  \n",
              "2    0.000005  0.000005  0.000005  0.000005  0.000005  \n",
              "3    0.000004  0.000004  0.000004  0.000004  0.000004  \n",
              "4    0.000010  0.000010  0.000010  0.000010  0.000010  \n",
              "..        ...       ...       ...       ...       ...  \n",
              "228  0.000017  0.000017  0.000017  0.000016  0.000016  \n",
              "229  0.000006  0.000006  0.000006  0.000006  0.000006  \n",
              "230  0.000010  0.000010  0.000010  0.000010  0.000010  \n",
              "231  0.000008  0.000008  0.000008  0.000008  0.000008  \n",
              "232  0.000013  0.000012  0.000012  0.000012  0.000012  \n",
              "\n",
              "[233 rows x 1754 columns]"
            ]
          },
          "execution_count": 270,
          "metadata": {},
          "output_type": "execute_result"
        }
      ],
      "source": [
        "# display the contents of the variable \"test\"\n",
        "test"
      ]
    },
    {
      "cell_type": "code",
      "execution_count": null,
      "metadata": {
        "colab": {
          "background_save": true,
          "base_uri": "https://localhost:8080/",
          "height": 143
        },
        "id": "d6QLadzhAOUx",
        "outputId": "6d0dd3c7-6bd1-4888-f1e1-8f6a49755502"
      },
      "outputs": [
        {
          "data": {
            "text/html": [
              "\n",
              "  <div id=\"df-cebd27a6-41f1-4d9e-9c88-5f96040fcfc1\" class=\"colab-df-container\">\n",
              "    <div>\n",
              "<style scoped>\n",
              "    .dataframe tbody tr th:only-of-type {\n",
              "        vertical-align: middle;\n",
              "    }\n",
              "\n",
              "    .dataframe tbody tr th {\n",
              "        vertical-align: top;\n",
              "    }\n",
              "\n",
              "    .dataframe thead th {\n",
              "        text-align: right;\n",
              "    }\n",
              "</style>\n",
              "<table border=\"1\" class=\"dataframe\">\n",
              "  <thead>\n",
              "    <tr style=\"text-align: right;\">\n",
              "      <th></th>\n",
              "      <th>SMILES</th>\n",
              "      <th>name</th>\n",
              "      <th>label</th>\n",
              "      <th>500</th>\n",
              "      <th>502</th>\n",
              "      <th>504</th>\n",
              "      <th>506</th>\n",
              "      <th>508</th>\n",
              "      <th>510</th>\n",
              "      <th>512</th>\n",
              "    </tr>\n",
              "  </thead>\n",
              "  <tbody>\n",
              "    <tr>\n",
              "      <th>0</th>\n",
              "      <td>COC1OCCO1</td>\n",
              "      <td>2-methoxy-13-dioxolane</td>\n",
              "      <td>0</td>\n",
              "      <td>0.000051</td>\n",
              "      <td>0.000051</td>\n",
              "      <td>0.000052</td>\n",
              "      <td>0.000052</td>\n",
              "      <td>0.000053</td>\n",
              "      <td>0.000053</td>\n",
              "      <td>0.000054</td>\n",
              "    </tr>\n",
              "    <tr>\n",
              "      <th>1</th>\n",
              "      <td>CCCCCC=O</td>\n",
              "      <td>hexanal</td>\n",
              "      <td>1</td>\n",
              "      <td>0.000121</td>\n",
              "      <td>0.000126</td>\n",
              "      <td>0.000131</td>\n",
              "      <td>0.000136</td>\n",
              "      <td>0.000141</td>\n",
              "      <td>0.000146</td>\n",
              "      <td>0.000151</td>\n",
              "    </tr>\n",
              "    <tr>\n",
              "      <th>2</th>\n",
              "      <td>CC1CCC(C)C1C</td>\n",
              "      <td>1R2R3S-123-trimethylcyclopentane</td>\n",
              "      <td>0</td>\n",
              "      <td>0.000013</td>\n",
              "      <td>0.000013</td>\n",
              "      <td>0.000013</td>\n",
              "      <td>0.000013</td>\n",
              "      <td>0.000012</td>\n",
              "      <td>0.000012</td>\n",
              "      <td>0.000012</td>\n",
              "    </tr>\n",
              "  </tbody>\n",
              "</table>\n",
              "</div>\n",
              "    <div class=\"colab-df-buttons\">\n",
              "\n",
              "  <div class=\"colab-df-container\">\n",
              "    <button class=\"colab-df-convert\" onclick=\"convertToInteractive('df-cebd27a6-41f1-4d9e-9c88-5f96040fcfc1')\"\n",
              "            title=\"Convert this dataframe to an interactive table.\"\n",
              "            style=\"display:none;\">\n",
              "\n",
              "  <svg xmlns=\"http://www.w3.org/2000/svg\" height=\"24px\" viewBox=\"0 -960 960 960\">\n",
              "    <path d=\"M120-120v-720h720v720H120Zm60-500h600v-160H180v160Zm220 220h160v-160H400v160Zm0 220h160v-160H400v160ZM180-400h160v-160H180v160Zm440 0h160v-160H620v160ZM180-180h160v-160H180v160Zm440 0h160v-160H620v160Z\"/>\n",
              "  </svg>\n",
              "    </button>\n",
              "\n",
              "  <style>\n",
              "    .colab-df-container {\n",
              "      display:flex;\n",
              "      gap: 12px;\n",
              "    }\n",
              "\n",
              "    .colab-df-convert {\n",
              "      background-color: #E8F0FE;\n",
              "      border: none;\n",
              "      border-radius: 50%;\n",
              "      cursor: pointer;\n",
              "      display: none;\n",
              "      fill: #1967D2;\n",
              "      height: 32px;\n",
              "      padding: 0 0 0 0;\n",
              "      width: 32px;\n",
              "    }\n",
              "\n",
              "    .colab-df-convert:hover {\n",
              "      background-color: #E2EBFA;\n",
              "      box-shadow: 0px 1px 2px rgba(60, 64, 67, 0.3), 0px 1px 3px 1px rgba(60, 64, 67, 0.15);\n",
              "      fill: #174EA6;\n",
              "    }\n",
              "\n",
              "    .colab-df-buttons div {\n",
              "      margin-bottom: 4px;\n",
              "    }\n",
              "\n",
              "    [theme=dark] .colab-df-convert {\n",
              "      background-color: #3B4455;\n",
              "      fill: #D2E3FC;\n",
              "    }\n",
              "\n",
              "    [theme=dark] .colab-df-convert:hover {\n",
              "      background-color: #434B5C;\n",
              "      box-shadow: 0px 1px 3px 1px rgba(0, 0, 0, 0.15);\n",
              "      filter: drop-shadow(0px 1px 2px rgba(0, 0, 0, 0.3));\n",
              "      fill: #FFFFFF;\n",
              "    }\n",
              "  </style>\n",
              "\n",
              "    <script>\n",
              "      const buttonEl =\n",
              "        document.querySelector('#df-cebd27a6-41f1-4d9e-9c88-5f96040fcfc1 button.colab-df-convert');\n",
              "      buttonEl.style.display =\n",
              "        google.colab.kernel.accessAllowed ? 'block' : 'none';\n",
              "\n",
              "      async function convertToInteractive(key) {\n",
              "        const element = document.querySelector('#df-cebd27a6-41f1-4d9e-9c88-5f96040fcfc1');\n",
              "        const dataTable =\n",
              "          await google.colab.kernel.invokeFunction('convertToInteractive',\n",
              "                                                    [key], {});\n",
              "        if (!dataTable) return;\n",
              "\n",
              "        const docLinkHtml = 'Like what you see? Visit the ' +\n",
              "          '<a target=\"_blank\" href=https://colab.research.google.com/notebooks/data_table.ipynb>data table notebook</a>'\n",
              "          + ' to learn more about interactive tables.';\n",
              "        element.innerHTML = '';\n",
              "        dataTable['output_type'] = 'display_data';\n",
              "        await google.colab.output.renderOutput(dataTable, element);\n",
              "        const docLink = document.createElement('div');\n",
              "        docLink.innerHTML = docLinkHtml;\n",
              "        element.appendChild(docLink);\n",
              "      }\n",
              "    </script>\n",
              "  </div>\n",
              "\n",
              "\n",
              "<div id=\"df-ffe14834-a86c-4826-99c2-660de875cdd9\">\n",
              "  <button class=\"colab-df-quickchart\" onclick=\"quickchart('df-ffe14834-a86c-4826-99c2-660de875cdd9')\"\n",
              "            title=\"Suggest charts.\"\n",
              "            style=\"display:none;\">\n",
              "\n",
              "<svg xmlns=\"http://www.w3.org/2000/svg\" height=\"24px\"viewBox=\"0 0 24 24\"\n",
              "     width=\"24px\">\n",
              "    <g>\n",
              "        <path d=\"M19 3H5c-1.1 0-2 .9-2 2v14c0 1.1.9 2 2 2h14c1.1 0 2-.9 2-2V5c0-1.1-.9-2-2-2zM9 17H7v-7h2v7zm4 0h-2V7h2v10zm4 0h-2v-4h2v4z\"/>\n",
              "    </g>\n",
              "</svg>\n",
              "  </button>\n",
              "\n",
              "<style>\n",
              "  .colab-df-quickchart {\n",
              "      --bg-color: #E8F0FE;\n",
              "      --fill-color: #1967D2;\n",
              "      --hover-bg-color: #E2EBFA;\n",
              "      --hover-fill-color: #174EA6;\n",
              "      --disabled-fill-color: #AAA;\n",
              "      --disabled-bg-color: #DDD;\n",
              "  }\n",
              "\n",
              "  [theme=dark] .colab-df-quickchart {\n",
              "      --bg-color: #3B4455;\n",
              "      --fill-color: #D2E3FC;\n",
              "      --hover-bg-color: #434B5C;\n",
              "      --hover-fill-color: #FFFFFF;\n",
              "      --disabled-bg-color: #3B4455;\n",
              "      --disabled-fill-color: #666;\n",
              "  }\n",
              "\n",
              "  .colab-df-quickchart {\n",
              "    background-color: var(--bg-color);\n",
              "    border: none;\n",
              "    border-radius: 50%;\n",
              "    cursor: pointer;\n",
              "    display: none;\n",
              "    fill: var(--fill-color);\n",
              "    height: 32px;\n",
              "    padding: 0;\n",
              "    width: 32px;\n",
              "  }\n",
              "\n",
              "  .colab-df-quickchart:hover {\n",
              "    background-color: var(--hover-bg-color);\n",
              "    box-shadow: 0 1px 2px rgba(60, 64, 67, 0.3), 0 1px 3px 1px rgba(60, 64, 67, 0.15);\n",
              "    fill: var(--button-hover-fill-color);\n",
              "  }\n",
              "\n",
              "  .colab-df-quickchart-complete:disabled,\n",
              "  .colab-df-quickchart-complete:disabled:hover {\n",
              "    background-color: var(--disabled-bg-color);\n",
              "    fill: var(--disabled-fill-color);\n",
              "    box-shadow: none;\n",
              "  }\n",
              "\n",
              "  .colab-df-spinner {\n",
              "    border: 2px solid var(--fill-color);\n",
              "    border-color: transparent;\n",
              "    border-bottom-color: var(--fill-color);\n",
              "    animation:\n",
              "      spin 1s steps(1) infinite;\n",
              "  }\n",
              "\n",
              "  @keyframes spin {\n",
              "    0% {\n",
              "      border-color: transparent;\n",
              "      border-bottom-color: var(--fill-color);\n",
              "      border-left-color: var(--fill-color);\n",
              "    }\n",
              "    20% {\n",
              "      border-color: transparent;\n",
              "      border-left-color: var(--fill-color);\n",
              "      border-top-color: var(--fill-color);\n",
              "    }\n",
              "    30% {\n",
              "      border-color: transparent;\n",
              "      border-left-color: var(--fill-color);\n",
              "      border-top-color: var(--fill-color);\n",
              "      border-right-color: var(--fill-color);\n",
              "    }\n",
              "    40% {\n",
              "      border-color: transparent;\n",
              "      border-right-color: var(--fill-color);\n",
              "      border-top-color: var(--fill-color);\n",
              "    }\n",
              "    60% {\n",
              "      border-color: transparent;\n",
              "      border-right-color: var(--fill-color);\n",
              "    }\n",
              "    80% {\n",
              "      border-color: transparent;\n",
              "      border-right-color: var(--fill-color);\n",
              "      border-bottom-color: var(--fill-color);\n",
              "    }\n",
              "    90% {\n",
              "      border-color: transparent;\n",
              "      border-bottom-color: var(--fill-color);\n",
              "    }\n",
              "  }\n",
              "</style>\n",
              "\n",
              "  <script>\n",
              "    async function quickchart(key) {\n",
              "      const quickchartButtonEl =\n",
              "        document.querySelector('#' + key + ' button');\n",
              "      quickchartButtonEl.disabled = true;  // To prevent multiple clicks.\n",
              "      quickchartButtonEl.classList.add('colab-df-spinner');\n",
              "      try {\n",
              "        const charts = await google.colab.kernel.invokeFunction(\n",
              "            'suggestCharts', [key], {});\n",
              "      } catch (error) {\n",
              "        console.error('Error during call to suggestCharts:', error);\n",
              "      }\n",
              "      quickchartButtonEl.classList.remove('colab-df-spinner');\n",
              "      quickchartButtonEl.classList.add('colab-df-quickchart-complete');\n",
              "    }\n",
              "    (() => {\n",
              "      let quickchartButtonEl =\n",
              "        document.querySelector('#df-ffe14834-a86c-4826-99c2-660de875cdd9 button');\n",
              "      quickchartButtonEl.style.display =\n",
              "        google.colab.kernel.accessAllowed ? 'block' : 'none';\n",
              "    })();\n",
              "  </script>\n",
              "</div>\n",
              "    </div>\n",
              "  </div>\n"
            ],
            "text/plain": [
              "         SMILES                              name  label       500       502  \\\n",
              "0     COC1OCCO1            2-methoxy-13-dioxolane      0  0.000051  0.000051   \n",
              "1      CCCCCC=O                           hexanal      1  0.000121  0.000126   \n",
              "2  CC1CCC(C)C1C  1R2R3S-123-trimethylcyclopentane      0  0.000013  0.000013   \n",
              "\n",
              "        504       506       508       510       512  \n",
              "0  0.000052  0.000052  0.000053  0.000053  0.000054  \n",
              "1  0.000131  0.000136  0.000141  0.000146  0.000151  \n",
              "2  0.000013  0.000013  0.000012  0.000012  0.000012  "
            ]
          },
          "execution_count": 271,
          "metadata": {},
          "output_type": "execute_result"
        }
      ],
      "source": [
        "# this line of code returns the first three rows and first 10 columns of the training data\n",
        "# to check whether we can fetch data or not\n",
        "train.iloc[0:3,0:10]"
      ]
    },
    {
      "cell_type": "code",
      "execution_count": null,
      "metadata": {
        "colab": {
          "background_save": true,
          "base_uri": "https://localhost:8080/",
          "height": 542
        },
        "id": "KmTbxhYvAQrD",
        "outputId": "ef855388-9be6-435e-dc37-9d8cc3287daa"
      },
      "outputs": [
        {
          "data": {
            "text/html": [
              "<html>\n",
              "<head><meta charset=\"utf-8\" /></head>\n",
              "<body>\n",
              "    <div>            <script src=\"https://cdnjs.cloudflare.com/ajax/libs/mathjax/2.7.5/MathJax.js?config=TeX-AMS-MML_SVG\"></script><script type=\"text/javascript\">if (window.MathJax && window.MathJax.Hub && window.MathJax.Hub.Config) {window.MathJax.Hub.Config({SVG: {font: \"STIX-Web\"}});}</script>                <script type=\"text/javascript\">window.PlotlyConfig = {MathJaxConfig: 'local'};</script>\n",
              "        <script charset=\"utf-8\" src=\"https://cdn.plot.ly/plotly-2.24.1.min.js\"></script>                <div id=\"868eabd5-c23a-49e8-a8a3-3ae2c5975022\" class=\"plotly-graph-div\" style=\"height:525px; width:100%;\"></div>            <script type=\"text/javascript\">                                    window.PLOTLYENV=window.PLOTLYENV || {};                                    if (document.getElementById(\"868eabd5-c23a-49e8-a8a3-3ae2c5975022\")) {                    Plotly.newPlot(                        \"868eabd5-c23a-49e8-a8a3-3ae2c5975022\",                        [{\"mode\":\"markers\",\"name\":\"NN-diethylacetamide\",\"x\":[\"502\",\"504\",\"506\",\"508\",\"510\",\"512\",\"514\",\"516\",\"518\",\"520\",\"522\",\"524\",\"526\",\"528\",\"530\",\"532\",\"534\",\"536\",\"538\",\"540\",\"542\",\"544\",\"546\",\"548\",\"550\",\"552\",\"554\",\"556\",\"558\",\"560\",\"562\",\"564\",\"566\",\"568\",\"570\",\"572\",\"574\",\"576\",\"578\",\"580\",\"582\",\"584\",\"586\",\"588\",\"590\",\"592\",\"594\",\"596\",\"598\",\"600\",\"602\",\"604\",\"606\",\"608\",\"610\",\"612\",\"614\",\"616\",\"618\",\"620\",\"622\",\"624\",\"626\",\"628\",\"630\",\"632\",\"634\",\"636\",\"638\",\"640\",\"642\",\"644\",\"646\",\"648\",\"650\",\"652\",\"654\",\"656\",\"658\",\"660\",\"662\",\"664\",\"666\",\"668\",\"670\",\"672\",\"674\",\"676\",\"678\",\"680\",\"682\",\"684\",\"686\",\"688\",\"690\",\"692\",\"694\",\"696\",\"698\",\"700\",\"702\",\"704\",\"706\",\"708\",\"710\",\"712\",\"714\",\"716\",\"718\",\"720\",\"722\",\"724\",\"726\",\"728\",\"730\",\"732\",\"734\",\"736\",\"738\",\"740\",\"742\",\"744\",\"746\",\"748\",\"750\",\"752\",\"754\",\"756\",\"758\",\"760\",\"762\",\"764\",\"766\",\"768\",\"770\",\"772\",\"774\",\"776\",\"778\",\"780\",\"782\",\"784\",\"786\",\"788\",\"790\",\"792\",\"794\",\"796\",\"798\",\"800\",\"802\",\"804\",\"806\",\"808\",\"810\",\"812\",\"814\",\"816\",\"818\",\"820\",\"822\",\"824\",\"826\",\"828\",\"830\",\"832\",\"834\",\"836\",\"838\",\"840\",\"842\",\"844\",\"846\",\"848\",\"850\",\"852\",\"854\",\"856\",\"858\",\"860\",\"862\",\"864\",\"866\",\"868\",\"870\",\"872\",\"874\",\"876\",\"878\",\"880\",\"882\",\"884\",\"886\",\"888\",\"890\",\"892\",\"894\",\"896\",\"898\",\"900\",\"902\",\"904\",\"906\",\"908\",\"910\",\"912\",\"914\",\"916\",\"918\",\"920\",\"922\",\"924\",\"926\",\"928\",\"930\",\"932\",\"934\",\"936\",\"938\",\"940\",\"942\",\"944\",\"946\",\"948\",\"950\",\"952\",\"954\",\"956\",\"958\",\"960\",\"962\",\"964\",\"966\",\"968\",\"970\",\"972\",\"974\",\"976\",\"978\",\"980\",\"982\",\"984\",\"986\",\"988\",\"990\",\"992\",\"994\",\"996\",\"998\",\"1000\",\"1002\",\"1004\",\"1006\",\"1008\",\"1010\",\"1012\",\"1014\",\"1016\",\"1018\",\"1020\",\"1022\",\"1024\",\"1026\",\"1028\",\"1030\",\"1032\",\"1034\",\"1036\",\"1038\",\"1040\",\"1042\",\"1044\",\"1046\",\"1048\",\"1050\",\"1052\",\"1054\",\"1056\",\"1058\",\"1060\",\"1062\",\"1064\",\"1066\",\"1068\",\"1070\",\"1072\",\"1074\",\"1076\",\"1078\",\"1080\",\"1082\",\"1084\",\"1086\",\"1088\",\"1090\",\"1092\",\"1094\",\"1096\",\"1098\",\"1100\",\"1102\",\"1104\",\"1106\",\"1108\",\"1110\",\"1112\",\"1114\",\"1116\",\"1118\",\"1120\",\"1122\",\"1124\",\"1126\",\"1128\",\"1130\",\"1132\",\"1134\",\"1136\",\"1138\",\"1140\",\"1142\",\"1144\",\"1146\",\"1148\",\"1150\",\"1152\",\"1154\",\"1156\",\"1158\",\"1160\",\"1162\",\"1164\",\"1166\",\"1168\",\"1170\",\"1172\",\"1174\",\"1176\",\"1178\",\"1180\",\"1182\",\"1184\",\"1186\",\"1188\",\"1190\",\"1192\",\"1194\",\"1196\",\"1198\",\"1200\",\"1202\",\"1204\",\"1206\",\"1208\",\"1210\",\"1212\",\"1214\",\"1216\",\"1218\",\"1220\",\"1222\",\"1224\",\"1226\",\"1228\",\"1230\",\"1232\",\"1234\",\"1236\",\"1238\",\"1240\",\"1242\",\"1244\",\"1246\",\"1248\",\"1250\",\"1252\",\"1254\",\"1256\",\"1258\",\"1260\",\"1262\",\"1264\",\"1266\",\"1268\",\"1270\",\"1272\",\"1274\",\"1276\",\"1278\",\"1280\",\"1282\",\"1284\",\"1286\",\"1288\",\"1290\",\"1292\",\"1294\",\"1296\",\"1298\",\"1300\",\"1302\",\"1304\",\"1306\",\"1308\",\"1310\",\"1312\",\"1314\",\"1316\",\"1318\",\"1320\",\"1322\",\"1324\",\"1326\",\"1328\",\"1330\",\"1332\",\"1334\",\"1336\",\"1338\",\"1340\",\"1342\",\"1344\",\"1346\",\"1348\",\"1350\",\"1352\",\"1354\",\"1356\",\"1358\",\"1360\",\"1362\",\"1364\",\"1366\",\"1368\",\"1370\",\"1372\",\"1374\",\"1376\",\"1378\",\"1380\",\"1382\",\"1384\",\"1386\",\"1388\",\"1390\",\"1392\",\"1394\",\"1396\",\"1398\",\"1400\",\"1402\",\"1404\",\"1406\",\"1408\",\"1410\",\"1412\",\"1414\",\"1416\",\"1418\",\"1420\",\"1422\",\"1424\",\"1426\",\"1428\",\"1430\",\"1432\",\"1434\",\"1436\",\"1438\",\"1440\",\"1442\",\"1444\",\"1446\",\"1448\",\"1450\",\"1452\",\"1454\",\"1456\",\"1458\",\"1460\",\"1462\",\"1464\",\"1466\",\"1468\",\"1470\",\"1472\",\"1474\",\"1476\",\"1478\",\"1480\",\"1482\",\"1484\",\"1486\",\"1488\",\"1490\",\"1492\",\"1494\",\"1496\",\"1498\",\"1500\",\"1502\",\"1504\",\"1506\",\"1508\",\"1510\",\"1512\",\"1514\",\"1516\",\"1518\",\"1520\",\"1522\",\"1524\",\"1526\",\"1528\",\"1530\",\"1532\",\"1534\",\"1536\",\"1538\",\"1540\",\"1542\",\"1544\",\"1546\",\"1548\",\"1550\",\"1552\",\"1554\",\"1556\",\"1558\",\"1560\",\"1562\",\"1564\",\"1566\",\"1568\",\"1570\",\"1572\",\"1574\",\"1576\",\"1578\",\"1580\",\"1582\",\"1584\",\"1586\",\"1588\",\"1590\",\"1592\",\"1594\",\"1596\",\"1598\",\"1600\",\"1602\",\"1604\",\"1606\",\"1608\",\"1610\",\"1612\",\"1614\",\"1616\",\"1618\",\"1620\",\"1622\",\"1624\",\"1626\",\"1628\",\"1630\",\"1632\",\"1634\",\"1636\",\"1638\",\"1640\",\"1642\",\"1644\",\"1646\",\"1648\",\"1650\",\"1652\",\"1654\",\"1656\",\"1658\",\"1660\",\"1662\",\"1664\",\"1666\",\"1668\",\"1670\",\"1672\",\"1674\",\"1676\",\"1678\",\"1680\",\"1682\",\"1684\",\"1686\",\"1688\",\"1690\",\"1692\",\"1694\",\"1696\",\"1698\",\"1700\",\"1702\",\"1704\",\"1706\",\"1708\",\"1710\",\"1712\",\"1714\",\"1716\",\"1718\",\"1720\",\"1722\",\"1724\",\"1726\",\"1728\",\"1730\",\"1732\",\"1734\",\"1736\",\"1738\",\"1740\",\"1742\",\"1744\",\"1746\",\"1748\",\"1750\",\"1752\",\"1754\",\"1756\",\"1758\",\"1760\",\"1762\",\"1764\",\"1766\",\"1768\",\"1770\",\"1772\",\"1774\",\"1776\",\"1778\",\"1780\",\"1782\",\"1784\",\"1786\",\"1788\",\"1790\",\"1792\",\"1794\",\"1796\",\"1798\",\"1800\",\"1802\",\"1804\",\"1806\",\"1808\",\"1810\",\"1812\",\"1814\",\"1816\",\"1818\",\"1820\",\"1822\",\"1824\",\"1826\",\"1828\",\"1830\",\"1832\",\"1834\",\"1836\",\"1838\",\"1840\",\"1842\",\"1844\",\"1846\",\"1848\",\"1850\",\"1852\",\"1854\",\"1856\",\"1858\",\"1860\",\"1862\",\"1864\",\"1866\",\"1868\",\"1870\",\"1872\",\"1874\",\"1876\",\"1878\",\"1880\",\"1882\",\"1884\",\"1886\",\"1888\",\"1890\",\"1892\",\"1894\",\"1896\",\"1898\",\"1900\",\"1902\",\"1904\",\"1906\",\"1908\",\"1910\",\"1912\",\"1914\",\"1916\",\"1918\",\"1920\",\"1922\",\"1924\",\"1926\",\"1928\",\"1930\",\"1932\",\"1934\",\"1936\",\"1938\",\"1940\",\"1942\",\"1944\",\"1946\",\"1948\",\"1950\",\"1952\",\"1954\",\"1956\",\"1958\",\"1960\",\"1962\",\"1964\",\"1966\",\"1968\",\"1970\",\"1972\",\"1974\",\"1976\",\"1978\",\"1980\",\"1982\",\"1984\",\"1986\",\"1988\",\"1990\",\"1992\",\"1994\",\"1996\",\"1998\",\"2000\",\"2002\",\"2004\",\"2006\",\"2008\",\"2010\",\"2012\",\"2014\",\"2016\",\"2018\",\"2020\",\"2022\",\"2024\",\"2026\",\"2028\",\"2030\",\"2032\",\"2034\",\"2036\",\"2038\",\"2040\",\"2042\",\"2044\",\"2046\",\"2048\",\"2050\",\"2052\",\"2054\",\"2056\",\"2058\",\"2060\",\"2062\",\"2064\",\"2066\",\"2068\",\"2070\",\"2072\",\"2074\",\"2076\",\"2078\",\"2080\",\"2082\",\"2084\",\"2086\",\"2088\",\"2090\",\"2092\",\"2094\",\"2096\",\"2098\",\"2100\",\"2102\",\"2104\",\"2106\",\"2108\",\"2110\",\"2112\",\"2114\",\"2116\",\"2118\",\"2120\",\"2122\",\"2124\",\"2126\",\"2128\",\"2130\",\"2132\",\"2134\",\"2136\",\"2138\",\"2140\",\"2142\",\"2144\",\"2146\",\"2148\",\"2150\",\"2152\",\"2154\",\"2156\",\"2158\",\"2160\",\"2162\",\"2164\",\"2166\",\"2168\",\"2170\",\"2172\",\"2174\",\"2176\",\"2178\",\"2180\",\"2182\",\"2184\",\"2186\",\"2188\",\"2190\",\"2192\",\"2194\",\"2196\",\"2198\",\"2200\",\"2202\",\"2204\",\"2206\",\"2208\",\"2210\",\"2212\",\"2214\",\"2216\",\"2218\",\"2220\",\"2222\",\"2224\",\"2226\",\"2228\",\"2230\",\"2232\",\"2234\",\"2236\",\"2238\",\"2240\",\"2242\",\"2244\",\"2246\",\"2248\",\"2250\",\"2252\",\"2254\",\"2256\",\"2258\",\"2260\",\"2262\",\"2264\",\"2266\",\"2268\",\"2270\",\"2272\",\"2274\",\"2276\",\"2278\",\"2280\",\"2282\",\"2284\",\"2286\",\"2288\",\"2290\",\"2292\",\"2294\",\"2296\",\"2298\",\"2300\",\"2302\",\"2304\",\"2306\",\"2308\",\"2310\",\"2312\",\"2314\",\"2316\",\"2318\",\"2320\",\"2322\",\"2324\",\"2326\",\"2328\",\"2330\",\"2332\",\"2334\",\"2336\",\"2338\",\"2340\",\"2342\",\"2344\",\"2346\",\"2348\",\"2350\",\"2352\",\"2354\",\"2356\",\"2358\",\"2360\",\"2362\",\"2364\",\"2366\",\"2368\",\"2370\",\"2372\",\"2374\",\"2376\",\"2378\",\"2380\",\"2382\",\"2384\",\"2386\",\"2388\",\"2390\",\"2392\",\"2394\",\"2396\",\"2398\",\"2400\",\"2402\",\"2404\",\"2406\",\"2408\",\"2410\",\"2412\",\"2414\",\"2416\",\"2418\",\"2420\",\"2422\",\"2424\",\"2426\",\"2428\",\"2430\",\"2432\",\"2434\",\"2436\",\"2438\",\"2440\",\"2442\",\"2444\",\"2446\",\"2448\",\"2450\",\"2452\",\"2454\",\"2456\",\"2458\",\"2460\",\"2462\",\"2464\",\"2466\",\"2468\",\"2470\",\"2472\",\"2474\",\"2476\",\"2478\",\"2480\",\"2482\",\"2484\",\"2486\",\"2488\",\"2490\",\"2492\",\"2494\",\"2496\",\"2498\",\"2500\",\"2502\",\"2504\",\"2506\",\"2508\",\"2510\",\"2512\",\"2514\",\"2516\",\"2518\",\"2520\",\"2522\",\"2524\",\"2526\",\"2528\",\"2530\",\"2532\",\"2534\",\"2536\",\"2538\",\"2540\",\"2542\",\"2544\",\"2546\",\"2548\",\"2550\",\"2552\",\"2554\",\"2556\",\"2558\",\"2560\",\"2562\",\"2564\",\"2566\",\"2568\",\"2570\",\"2572\",\"2574\",\"2576\",\"2578\",\"2580\",\"2582\",\"2584\",\"2586\",\"2588\",\"2590\",\"2592\",\"2594\",\"2596\",\"2598\",\"2600\",\"2602\",\"2604\",\"2606\",\"2608\",\"2610\",\"2612\",\"2614\",\"2616\",\"2618\",\"2620\",\"2622\",\"2624\",\"2626\",\"2628\",\"2630\",\"2632\",\"2634\",\"2636\",\"2638\",\"2640\",\"2642\",\"2644\",\"2646\",\"2648\",\"2650\",\"2652\",\"2654\",\"2656\",\"2658\",\"2660\",\"2662\",\"2664\",\"2666\",\"2668\",\"2670\",\"2672\",\"2674\",\"2676\",\"2678\",\"2680\",\"2682\",\"2684\",\"2686\",\"2688\",\"2690\",\"2692\",\"2694\",\"2696\",\"2698\",\"2700\",\"2702\",\"2704\",\"2706\",\"2708\",\"2710\",\"2712\",\"2714\",\"2716\",\"2718\",\"2720\",\"2722\",\"2724\",\"2726\",\"2728\",\"2730\",\"2732\",\"2734\",\"2736\",\"2738\",\"2740\",\"2742\",\"2744\",\"2746\",\"2748\",\"2750\",\"2752\",\"2754\",\"2756\",\"2758\",\"2760\",\"2762\",\"2764\",\"2766\",\"2768\",\"2770\",\"2772\",\"2774\",\"2776\",\"2778\",\"2780\",\"2782\",\"2784\",\"2786\",\"2788\",\"2790\",\"2792\",\"2794\",\"2796\",\"2798\",\"2800\",\"2802\",\"2804\",\"2806\",\"2808\",\"2810\",\"2812\",\"2814\",\"2816\",\"2818\",\"2820\",\"2822\",\"2824\",\"2826\",\"2828\",\"2830\",\"2832\",\"2834\",\"2836\",\"2838\",\"2840\",\"2842\",\"2844\",\"2846\",\"2848\",\"2850\",\"2852\",\"2854\",\"2856\",\"2858\",\"2860\",\"2862\",\"2864\",\"2866\",\"2868\",\"2870\",\"2872\",\"2874\",\"2876\",\"2878\",\"2880\",\"2882\",\"2884\",\"2886\",\"2888\",\"2890\",\"2892\",\"2894\",\"2896\",\"2898\",\"2900\",\"2902\",\"2904\",\"2906\",\"2908\",\"2910\",\"2912\",\"2914\",\"2916\",\"2918\",\"2920\",\"2922\",\"2924\",\"2926\",\"2928\",\"2930\",\"2932\",\"2934\",\"2936\",\"2938\",\"2940\",\"2942\",\"2944\",\"2946\",\"2948\",\"2950\",\"2952\",\"2954\",\"2956\",\"2958\",\"2960\",\"2962\",\"2964\",\"2966\",\"2968\",\"2970\",\"2972\",\"2974\",\"2976\",\"2978\",\"2980\",\"2982\",\"2984\",\"2986\",\"2988\",\"2990\",\"2992\",\"2994\",\"2996\",\"2998\",\"3000\",\"3002\",\"3004\",\"3006\",\"3008\",\"3010\",\"3012\",\"3014\",\"3016\",\"3018\",\"3020\",\"3022\",\"3024\",\"3026\",\"3028\",\"3030\",\"3032\",\"3034\",\"3036\",\"3038\",\"3040\",\"3042\",\"3044\",\"3046\",\"3048\",\"3050\",\"3052\",\"3054\",\"3056\",\"3058\",\"3060\",\"3062\",\"3064\",\"3066\",\"3068\",\"3070\",\"3072\",\"3074\",\"3076\",\"3078\",\"3080\",\"3082\",\"3084\",\"3086\",\"3088\",\"3090\",\"3092\",\"3094\",\"3096\",\"3098\",\"3100\",\"3102\",\"3104\",\"3106\",\"3108\",\"3110\",\"3112\",\"3114\",\"3116\",\"3118\",\"3120\",\"3122\",\"3124\",\"3126\",\"3128\",\"3130\",\"3132\",\"3134\",\"3136\",\"3138\",\"3140\",\"3142\",\"3144\",\"3146\",\"3148\",\"3150\",\"3152\",\"3154\",\"3156\",\"3158\",\"3160\",\"3162\",\"3164\",\"3166\",\"3168\",\"3170\",\"3172\",\"3174\",\"3176\",\"3178\",\"3180\",\"3182\",\"3184\",\"3186\",\"3188\",\"3190\",\"3192\",\"3194\",\"3196\",\"3198\",\"3200\",\"3202\",\"3204\",\"3206\",\"3208\",\"3210\",\"3212\",\"3214\",\"3216\",\"3218\",\"3220\",\"3222\",\"3224\",\"3226\",\"3228\",\"3230\",\"3232\",\"3234\",\"3236\",\"3238\",\"3240\",\"3242\",\"3244\",\"3246\",\"3248\",\"3250\",\"3252\",\"3254\",\"3256\",\"3258\",\"3260\",\"3262\",\"3264\",\"3266\",\"3268\",\"3270\",\"3272\",\"3274\",\"3276\",\"3278\",\"3280\",\"3282\",\"3284\",\"3286\",\"3288\",\"3290\",\"3292\",\"3294\",\"3296\",\"3298\",\"3300\",\"3302\",\"3304\",\"3306\",\"3308\",\"3310\",\"3312\",\"3314\",\"3316\",\"3318\",\"3320\",\"3322\",\"3324\",\"3326\",\"3328\",\"3330\",\"3332\",\"3334\",\"3336\",\"3338\",\"3340\",\"3342\",\"3344\",\"3346\",\"3348\",\"3350\",\"3352\",\"3354\",\"3356\",\"3358\",\"3360\",\"3362\",\"3364\",\"3366\",\"3368\",\"3370\",\"3372\",\"3374\",\"3376\",\"3378\",\"3380\",\"3382\",\"3384\",\"3386\",\"3388\",\"3390\",\"3392\",\"3394\",\"3396\",\"3398\",\"3400\",\"3402\",\"3404\",\"3406\",\"3408\",\"3410\",\"3412\",\"3414\",\"3416\",\"3418\",\"3420\",\"3422\",\"3424\",\"3426\",\"3428\",\"3430\",\"3432\",\"3434\",\"3436\",\"3438\",\"3440\",\"3442\",\"3444\",\"3446\",\"3448\",\"3450\",\"3452\",\"3454\",\"3456\",\"3458\",\"3460\",\"3462\",\"3464\",\"3466\",\"3468\",\"3470\",\"3472\",\"3474\",\"3476\",\"3478\",\"3480\",\"3482\",\"3484\",\"3486\",\"3488\",\"3490\",\"3492\",\"3494\",\"3496\",\"3498\",\"3500\",\"3502\",\"3504\",\"3506\",\"3508\",\"3510\",\"3512\",\"3514\",\"3516\",\"3518\",\"3520\",\"3522\",\"3524\",\"3526\",\"3528\",\"3530\",\"3532\",\"3534\",\"3536\",\"3538\",\"3540\",\"3542\",\"3544\",\"3546\",\"3548\",\"3550\",\"3552\",\"3554\",\"3556\",\"3558\",\"3560\",\"3562\",\"3564\",\"3566\",\"3568\",\"3570\",\"3572\",\"3574\",\"3576\",\"3578\",\"3580\",\"3582\",\"3584\",\"3586\",\"3588\",\"3590\",\"3592\",\"3594\",\"3596\",\"3598\",\"3600\",\"3602\",\"3604\",\"3606\",\"3608\",\"3610\",\"3612\",\"3614\",\"3616\",\"3618\",\"3620\",\"3622\",\"3624\",\"3626\",\"3628\",\"3630\",\"3632\",\"3634\",\"3636\",\"3638\",\"3640\",\"3642\",\"3644\",\"3646\",\"3648\",\"3650\",\"3652\",\"3654\",\"3656\",\"3658\",\"3660\",\"3662\",\"3664\",\"3666\",\"3668\",\"3670\",\"3672\",\"3674\",\"3676\",\"3678\",\"3680\",\"3682\",\"3684\",\"3686\",\"3688\",\"3690\",\"3692\",\"3694\",\"3696\",\"3698\",\"3700\",\"3702\",\"3704\",\"3706\",\"3708\",\"3710\",\"3712\",\"3714\",\"3716\",\"3718\",\"3720\",\"3722\",\"3724\",\"3726\",\"3728\",\"3730\",\"3732\",\"3734\",\"3736\",\"3738\",\"3740\",\"3742\",\"3744\",\"3746\",\"3748\",\"3750\",\"3752\",\"3754\",\"3756\",\"3758\",\"3760\",\"3762\",\"3764\",\"3766\",\"3768\",\"3770\",\"3772\",\"3774\",\"3776\",\"3778\",\"3780\",\"3782\",\"3784\",\"3786\",\"3788\",\"3790\",\"3792\",\"3794\",\"3796\",\"3798\",\"3800\",\"3802\",\"3804\",\"3806\",\"3808\",\"3810\",\"3812\",\"3814\",\"3816\",\"3818\",\"3820\",\"3822\",\"3824\",\"3826\",\"3828\",\"3830\",\"3832\",\"3834\",\"3836\",\"3838\",\"3840\",\"3842\",\"3844\",\"3846\",\"3848\",\"3850\",\"3852\",\"3854\",\"3856\",\"3858\",\"3860\",\"3862\",\"3864\",\"3866\",\"3868\",\"3870\",\"3872\",\"3874\",\"3876\",\"3878\",\"3880\",\"3882\",\"3884\",\"3886\",\"3888\",\"3890\",\"3892\",\"3894\",\"3896\",\"3898\",\"3900\",\"3902\",\"3904\",\"3906\",\"3908\",\"3910\",\"3912\",\"3914\",\"3916\",\"3918\",\"3920\",\"3922\",\"3924\",\"3926\",\"3928\",\"3930\",\"3932\",\"3934\",\"3936\",\"3938\",\"3940\",\"3942\",\"3944\",\"3946\",\"3948\",\"3950\",\"3952\",\"3954\",\"3956\",\"3958\",\"3960\",\"3962\",\"3964\",\"3966\",\"3968\",\"3970\",\"3972\",\"3974\",\"3976\",\"3978\",\"3980\",\"3982\",\"3984\",\"3986\",\"3988\",\"3990\",\"3992\",\"3994\",\"3996\",\"3998\",\"4000\"],\"y\":[7.88e-05,7.83e-05,7.77e-05,7.71e-05,7.65e-05,7.58e-05,7.52e-05,7.45e-05,7.39e-05,7.33e-05,7.28e-05,7.24e-05,7.21e-05,7.18e-05,7.17e-05,7.17e-05,7.18e-05,7.2e-05,7.24e-05,7.29e-05,7.35e-05,7.42e-05,7.51e-05,7.62e-05,7.73e-05,7.86e-05,8e-05,8.16e-05,8.32e-05,8.49e-05,8.67e-05,8.86e-05,9.05e-05,9.24e-05,9.43e-05,9.62e-05,9.8e-05,9.97e-05,0.000101235,0.000102683,0.000103981,0.000105117,0.000106086,0.000106889,0.000107531,0.000108017,0.000108357,0.00010856,0.000108631,0.000108576,0.000108396,0.000108088,0.000107646,0.000107063,0.000106331,0.000105442,0.000104389,0.000103171,0.000101789,0.000100251,9.86e-05,9.68e-05,9.48e-05,9.28e-05,9.08e-05,8.87e-05,8.66e-05,8.45e-05,8.24e-05,8.04e-05,7.85e-05,7.66e-05,7.48e-05,7.32e-05,7.16e-05,7.01e-05,6.87e-05,6.74e-05,6.63e-05,6.52e-05,6.42e-05,6.33e-05,6.26e-05,6.19e-05,6.13e-05,6.08e-05,6.03e-05,6e-05,5.97e-05,5.95e-05,5.94e-05,5.93e-05,5.93e-05,5.94e-05,5.95e-05,5.96e-05,5.98e-05,6e-05,6.02e-05,6.05e-05,6.08e-05,6.12e-05,6.15e-05,6.19e-05,6.23e-05,6.27e-05,6.32e-05,6.37e-05,6.42e-05,6.48e-05,6.55e-05,6.62e-05,6.7e-05,6.79e-05,6.88e-05,6.99e-05,7.1e-05,7.23e-05,7.37e-05,7.51e-05,7.67e-05,7.85e-05,8.03e-05,8.23e-05,8.44e-05,8.66e-05,8.89e-05,9.14e-05,9.4e-05,9.67e-05,9.94e-05,0.00010224,0.000105095,0.000107954,0.000110782,0.000113538,0.000116178,0.000118653,0.000120914,0.000122914,0.000124607,0.000125952,0.000126919,0.000127484,0.000127639,0.000127385,0.000126736,0.000125716,0.000124362,0.000122714,0.000120819,0.000118727,0.000116487,0.000114146,0.000111747,0.000109331,0.000106932,0.000104579,0.000102295,0.000100101,9.8e-05,9.6e-05,9.42e-05,9.25e-05,9.09e-05,8.94e-05,8.81e-05,8.69e-05,8.58e-05,8.49e-05,8.4e-05,8.33e-05,8.27e-05,8.23e-05,8.19e-05,8.17e-05,8.15e-05,8.15e-05,8.15e-05,8.17e-05,8.19e-05,8.23e-05,8.28e-05,8.33e-05,8.4e-05,8.47e-05,8.56e-05,8.65e-05,8.75e-05,8.87e-05,8.99e-05,9.12e-05,9.26e-05,9.4e-05,9.56e-05,9.71e-05,9.88e-05,0.000100497,0.000102227,0.000103977,0.000105737,0.000107494,0.000109237,0.000110956,0.000112645,0.000114299,0.000115918,0.000117502,0.000119057,0.00012059,0.00012211,0.000123629,0.000125157,0.000126704,0.000128281,0.000129895,0.000131554,0.000133265,0.000135032,0.000136862,0.000138758,0.000140728,0.000142778,0.000144919,0.00014716,0.000149513,0.000151993,0.000154612,0.000157387,0.000160329,0.000163452,0.000166766,0.000170278,0.000173994,0.000177912,0.00018203,0.00018634,0.000190827,0.000195474,0.00020026,0.000205158,0.00021014,0.000215177,0.00022024,0.000225305,0.000230349,0.000235359,0.000240329,0.000245262,0.00025017,0.000255075,0.000260006,0.000264996,0.00027008,0.000275293,0.000280665,0.000286221,0.000291972,0.000297921,0.000304054,0.000310345,0.00031675,0.000323212,0.000329658,0.000336008,0.000342172,0.000348057,0.000353574,0.000358641,0.000363192,0.000367175,0.000370565,0.000373359,0.000375579,0.000377267,0.000378488,0.000379316,0.000379835,0.000380131,0.000380286,0.000380371,0.000380447,0.000380558,0.00038073,0.000380974,0.000381284,0.000381639,0.000382009,0.000382355,0.000382636,0.00038281,0.000382839,0.00038269,0.000382338,0.000381765,0.00038096,0.000379919,0.000378642,0.000377135,0.000375403,0.000373453,0.000371295,0.000368937,0.000366389,0.000363662,0.000360772,0.000357737,0.000354581,0.000351336,0.000348038,0.000344729,0.000341459,0.00033828,0.000335248,0.000332418,0.000329847,0.000327586,0.000325684,0.000324184,0.000323126,0.000322542,0.000322458,0.000322896,0.000323869,0.000325386,0.000327451,0.00033006,0.000333202,0.00033686,0.000341009,0.000345614,0.000350633,0.000356013,0.00036169,0.000367591,0.000373633,0.000379726,0.000385776,0.000391686,0.000397363,0.00040272,0.000407685,0.000412205,0.000416246,0.000419803,0.000422894,0.000425563,0.000427879,0.000429926,0.000431804,0.000433621,0.000435486,0.000437506,0.000439783,0.000442406,0.000445452,0.000448985,0.000453052,0.000457683,0.000462893,0.000468679,0.000475021,0.000481887,0.000489228,0.000496983,0.000505081,0.000513448,0.000522003,0.000530674,0.000539394,0.000548111,0.000556792,0.000565428,0.000574033,0.00058265,0.000591341,0.000600194,0.000609307,0.00061879,0.000628755,0.000639309,0.000650548,0.000662549,0.000675369,0.000689037,0.000703546,0.000718859,0.000734896,0.000751535,0.000768614,0.000785928,0.000803229,0.000820236,0.00083664,0.000852115,0.000866333,0.00087898,0.000889774,0.000898482,0.000904939,0.000909054,0.000910821,0.000910319,0.000907701,0.000903189,0.000897052,0.000889593,0.000881125,0.000871961,0.000862393,0.000852686,0.000843069,0.000833732,0.000824828,0.000816472,0.000808749,0.00080172,0.000795427,0.000789903,0.000785174,0.00078127,0.000778221,0.000776066,0.000774848,0.000774616,0.000775419,0.000777305,0.000780317,0.000784491,0.000789849,0.000796399,0.000804134,0.000813027,0.000823033,0.000834092,0.000846125,0.000859039,0.000872731,0.00088709,0.000901999,0.000917344,0.000933014,0.000948903,0.000964917,0.000980974,0.000997004,0.001012953,0.001028783,0.001044476,0.001060031,0.001075469,0.001090835,0.001106194,0.001121636,0.001137268,0.001153217,0.001169615,0.001186601,0.001204303,0.001222833,0.001242273,0.001262664,0.001283993,0.001306186,0.001329099,0.001352511,0.001376126,0.001399572,0.001422417,0.001444175,0.001464333,0.001482372,0.001497799,0.001510173,0.001519137,0.001524437,0.001525942,0.001523647,0.001517668,0.001508232,0.001495649,0.001480294,0.00146257,0.001442889,0.001421646,0.001399202,0.001375871,0.001351915,0.001327542,0.001302911,0.001278131,0.001253275,0.001228383,0.001203473,0.001178547,0.001153596,0.00112861,0.00110358,0.001078501,0.001053376,0.001028218,0.001003048,0.000977894,0.000952796,0.000927799,0.000902955,0.00087832,0.000853958,0.000829932,0.000806313,0.000783168,0.000760567,0.000738578,0.000717264,0.000696684,0.00067689,0.000657924,0.000639823,0.000622612,0.000606308,0.00059092,0.00057645,0.000562893,0.000550238,0.00053847,0.000527572,0.000517521,0.000508297,0.000499875,0.000492234,0.00048535,0.000479201,0.000473766,0.000469027,0.000464965,0.000461565,0.000458812,0.000456695,0.000455204,0.00045433,0.000454067,0.000454413,0.000455366,0.000456927,0.000459099,0.000461886,0.000465298,0.000469343,0.000474035,0.000479389,0.000485422,0.000492154,0.000499609,0.000507814,0.000516797,0.00052659,0.000537231,0.000548759,0.000561216,0.000574651,0.000589116,0.000604666,0.000621363,0.000639272,0.000658465,0.000679018,0.000701014,0.00072454,0.000749689,0.000776562,0.000805262,0.000835901,0.000868592,0.000903456,0.000940613,0.000980186,0.001022297,0.001067064,0.001114596,0.001164992,0.001218331,0.001274669,0.001334026,0.001396378,0.001461646,0.001529681,0.001600251,0.001673022,0.001747547,0.001823246,0.001899399,0.00197514,0.00204945,0.002121175,0.002189044,0.002251706,0.002307775,0.002355898,0.00239482,0.002423458,0.002440974,0.002446826,0.002440812,0.002423085,0.002394137,0.002354766,0.002306025,0.002249147,0.002185475,0.00211639,0.002043253,0.001967346,0.001889839,0.00181177,0.001734025,0.001657344,0.001582322,0.001509424,0.001438996,0.001371283,0.001306442,0.001244559,0.001185664,0.00112974,0.001076732,0.001026564,0.000979136,0.000934338,0.00089205,0.000852149,0.000814508,0.000779004,0.000745514,0.000713919,0.000684106,0.000655965,0.000629393,0.000604291,0.000580567,0.000558135,0.000536911,0.00051682,0.00049779,0.000479755,0.000462651,0.000446421,0.000431011,0.000416369,0.000402449,0.000389208,0.000376603,0.000364597,0.000353154,0.000342242,0.000331829,0.000321887,0.000312388,0.000303308,0.000294624,0.000286312,0.000278354,0.000270729,0.00026342,0.00025641,0.000249683,0.000243224,0.000237021,0.000231059,0.000225326,0.000219812,0.000214504,0.000209394,0.000204472,0.000199728,0.000195154,0.000190742,0.000186486,0.000182376,0.000178408,0.000174574,0.000170868,0.000167286,0.00016382,0.000160468,0.000157223,0.000154081,0.000151037,0.000148089,0.000145231,0.00014246,0.000139772,0.000137165,0.000134635,0.000132179,0.000129794,0.000127477,0.000125226,0.000123039,0.000120912,0.000118844,0.000116833,0.000114876,0.000112971,0.000111117,0.000109312,0.000107554,0.000105842,0.000104173,0.000102547,0.000100962,9.94e-05,9.79e-05,9.64e-05,9.5e-05,9.36e-05,9.22e-05,9.09e-05,8.96e-05,8.83e-05,8.71e-05,8.59e-05,8.47e-05,8.35e-05,8.24e-05,8.13e-05,8.02e-05,7.91e-05,7.81e-05,7.71e-05,7.61e-05,7.51e-05,7.42e-05,7.32e-05,7.23e-05,7.14e-05,7.06e-05,6.97e-05,6.89e-05,6.8e-05,6.72e-05,6.64e-05,6.57e-05,6.49e-05,6.42e-05,6.34e-05,6.27e-05,6.2e-05,6.13e-05,6.06e-05,6e-05,5.93e-05,5.87e-05,5.81e-05,5.74e-05,5.68e-05,5.62e-05,5.57e-05,5.51e-05,5.45e-05,5.4e-05,5.34e-05,5.29e-05,5.24e-05,5.18e-05,5.13e-05,5.08e-05,5.03e-05,4.99e-05,4.94e-05,4.89e-05,4.85e-05,4.8e-05,4.76e-05,4.71e-05,4.67e-05,4.63e-05,4.59e-05,4.54e-05,4.5e-05,4.46e-05,4.43e-05,4.39e-05,4.35e-05,4.31e-05,4.28e-05,4.24e-05,4.2e-05,4.17e-05,4.13e-05,4.1e-05,4.07e-05,4.03e-05,4e-05,3.97e-05,3.94e-05,3.91e-05,3.88e-05,3.85e-05,3.82e-05,3.79e-05,3.76e-05,3.73e-05,3.7e-05,3.67e-05,3.65e-05,3.62e-05,3.59e-05,3.57e-05,3.54e-05,3.52e-05,3.49e-05,3.47e-05,3.44e-05,3.42e-05,3.39e-05,3.37e-05,3.35e-05,3.32e-05,3.3e-05,3.28e-05,3.26e-05,3.24e-05,3.22e-05,3.19e-05,3.17e-05,3.15e-05,3.13e-05,3.11e-05,3.09e-05,3.07e-05,3.06e-05,3.04e-05,3.02e-05,3e-05,2.98e-05,2.96e-05,2.95e-05,2.93e-05,2.91e-05,2.89e-05,2.88e-05,2.86e-05,2.84e-05,2.83e-05,2.81e-05,2.8e-05,2.78e-05,2.77e-05,2.75e-05,2.74e-05,2.72e-05,2.71e-05,2.69e-05,2.68e-05,2.66e-05,2.65e-05,2.64e-05,2.62e-05,2.61e-05,2.6e-05,2.58e-05,2.57e-05,2.56e-05,2.55e-05,2.53e-05,2.52e-05,2.51e-05,2.5e-05,2.49e-05,2.47e-05,2.46e-05,2.45e-05,2.44e-05,2.43e-05,2.42e-05,2.41e-05,2.4e-05,2.39e-05,2.38e-05,2.37e-05,2.36e-05,2.35e-05,2.34e-05,2.33e-05,2.32e-05,2.31e-05,2.3e-05,2.29e-05,2.28e-05,2.27e-05,2.26e-05,2.25e-05,2.25e-05,2.24e-05,2.23e-05,2.22e-05,2.21e-05,2.2e-05,2.2e-05,2.19e-05,2.18e-05,2.17e-05,2.17e-05,2.16e-05,2.15e-05,2.15e-05,2.14e-05,2.13e-05,2.12e-05,2.12e-05,2.11e-05,2.1e-05,2.1e-05,2.09e-05,2.09e-05,2.08e-05,2.07e-05,2.07e-05,2.06e-05,2.06e-05,2.05e-05,2.05e-05,2.04e-05,2.03e-05,2.03e-05,2.02e-05,2.02e-05,2.01e-05,2.01e-05,2e-05,2e-05,1.99e-05,1.99e-05,1.99e-05,1.98e-05,1.98e-05,1.97e-05,1.97e-05,1.97e-05,1.96e-05,1.96e-05,1.95e-05,1.95e-05,1.95e-05,1.94e-05,1.94e-05,1.94e-05,1.93e-05,1.93e-05,1.93e-05,1.92e-05,1.92e-05,1.92e-05,1.91e-05,1.91e-05,1.91e-05,1.91e-05,1.9e-05,1.9e-05,1.9e-05,1.9e-05,1.9e-05,1.89e-05,1.89e-05,1.89e-05,1.89e-05,1.89e-05,1.89e-05,1.88e-05,1.88e-05,1.88e-05,1.88e-05,1.88e-05,1.88e-05,1.88e-05,1.88e-05,1.87e-05,1.87e-05,1.87e-05,1.87e-05,1.87e-05,1.87e-05,1.87e-05,1.87e-05,1.87e-05,1.87e-05,1.87e-05,1.87e-05,1.87e-05,1.87e-05,1.87e-05,1.87e-05,1.87e-05,1.87e-05,1.87e-05,1.87e-05,1.88e-05,1.88e-05,1.88e-05,1.88e-05,1.88e-05,1.88e-05,1.88e-05,1.88e-05,1.89e-05,1.89e-05,1.89e-05,1.89e-05,1.89e-05,1.89e-05,1.9e-05,1.9e-05,1.9e-05,1.9e-05,1.91e-05,1.91e-05,1.91e-05,1.92e-05,1.92e-05,1.92e-05,1.92e-05,1.93e-05,1.93e-05,1.93e-05,1.94e-05,1.94e-05,1.95e-05,1.95e-05,1.95e-05,1.96e-05,1.96e-05,1.97e-05,1.97e-05,1.98e-05,1.98e-05,1.99e-05,1.99e-05,2e-05,2e-05,2.01e-05,2.01e-05,2.02e-05,2.02e-05,2.03e-05,2.04e-05,2.04e-05,2.05e-05,2.06e-05,2.06e-05,2.07e-05,2.08e-05,2.08e-05,2.09e-05,2.1e-05,2.11e-05,2.11e-05,2.12e-05,2.13e-05,2.14e-05,2.15e-05,2.16e-05,2.17e-05,2.17e-05,2.18e-05,2.19e-05,2.2e-05,2.21e-05,2.22e-05,2.23e-05,2.24e-05,2.25e-05,2.26e-05,2.28e-05,2.29e-05,2.3e-05,2.31e-05,2.32e-05,2.33e-05,2.35e-05,2.36e-05,2.37e-05,2.39e-05,2.4e-05,2.41e-05,2.43e-05,2.44e-05,2.45e-05,2.47e-05,2.48e-05,2.5e-05,2.52e-05,2.53e-05,2.55e-05,2.56e-05,2.58e-05,2.6e-05,2.62e-05,2.63e-05,2.65e-05,2.67e-05,2.69e-05,2.71e-05,2.73e-05,2.75e-05,2.77e-05,2.79e-05,2.81e-05,2.83e-05,2.85e-05,2.88e-05,2.9e-05,2.92e-05,2.95e-05,2.97e-05,3e-05,3.02e-05,3.05e-05,3.07e-05,3.1e-05,3.13e-05,3.16e-05,3.18e-05,3.21e-05,3.24e-05,3.27e-05,3.3e-05,3.34e-05,3.37e-05,3.4e-05,3.43e-05,3.47e-05,3.5e-05,3.54e-05,3.58e-05,3.61e-05,3.65e-05,3.69e-05,3.73e-05,3.77e-05,3.81e-05,3.86e-05,3.9e-05,3.94e-05,3.99e-05,4.04e-05,4.08e-05,4.13e-05,4.18e-05,4.24e-05,4.29e-05,4.34e-05,4.4e-05,4.45e-05,4.51e-05,4.57e-05,4.63e-05,4.69e-05,4.76e-05,4.82e-05,4.89e-05,4.96e-05,5.03e-05,5.1e-05,5.17e-05,5.25e-05,5.33e-05,5.41e-05,5.49e-05,5.57e-05,5.66e-05,5.75e-05,5.84e-05,5.93e-05,6.03e-05,6.13e-05,6.23e-05,6.34e-05,6.44e-05,6.56e-05,6.67e-05,6.79e-05,6.91e-05,7.04e-05,7.17e-05,7.3e-05,7.44e-05,7.58e-05,7.73e-05,7.88e-05,8.04e-05,8.2e-05,8.36e-05,8.54e-05,8.72e-05,8.9e-05,9.09e-05,9.29e-05,9.5e-05,9.71e-05,9.93e-05,0.000101572,0.000103944,0.000106407,0.000108964,0.00011162,0.00011438,0.000117251,0.000120237,0.000123345,0.000126581,0.000129953,0.000133468,0.000137133,0.000140958,0.000144951,0.000149123,0.000153483,0.000158042,0.000162813,0.000167807,0.00017304,0.000178525,0.000184277,0.000190315,0.000196654,0.000203315,0.000210318,0.000217685,0.000225438,0.000233604,0.000242209,0.00025128,0.000260849,0.000270946,0.000281606,0.000292864,0.000304756,0.000317322,0.0003306,0.000344633,0.00035946,0.000375124,0.000391663,0.000409116,0.000427517,0.000446897,0.000467276,0.00048867,0.000511078,0.000534488,0.000558866,0.000584159,0.000610287,0.00063714,0.00066458,0.000692432,0.000720489,0.000748513,0.000776236,0.00080337,0.000829615,0.00085467,0.000878246,0.00090008,0.000919952,0.00093769,0.000953187,0.000966404,0.000977372,0.000986191,0.000993026,0.000998098,0.001001675,0.001004057,0.001005565,0.001006528,0.001007269,0.00100809,0.001009266,0.001011031,0.001013572,0.001017026,0.001021473,0.001026935,0.001033382,0.001040728,0.001048837,0.001057531,0.00106659,0.001075766,0.001084783,0.00109335,0.001101166,0.001107927,0.001113336,0.001117111,0.00111899,0.00111874,0.001116164,0.001111106,0.001103457,0.00109316,0.001080211,0.001064661,0.001046616,0.001026234,0.00100372,0.00097932,0.000953308,0.000925983,0.000897647,0.000868606,0.000839148,0.000809543,0.000780031,0.00075082,0.000722083,0.000693959,0.000666551,0.000639936,0.000614164,0.000589263,0.000565246,0.000542115,0.000519864,0.000498482,0.000477954,0.000458266,0.0004394,0.000421342,0.000404074,0.000387578,0.000371834,0.000356823,0.000342522,0.000328908,0.000315956,0.000303641,0.000291936,0.000280814,0.000270248,0.000260211,0.000250677,0.000241619,0.000233011,0.000224831,0.000217053,0.000209655,0.000202616,0.000195915,0.000189534,0.000183454,0.000177657,0.000172128,0.000166852,0.000161813,0.000157,0.000152398,0.000147997,0.000143786,0.000139753,0.00013589,0.000132186,0.000128635,0.000125227,0.000121955,0.000118812,0.000115792,0.000112889,0.000110095,0.000107407,0.000104818,0.000102325,9.99e-05,9.76e-05,9.54e-05,9.32e-05,9.11e-05,8.91e-05,8.72e-05,8.53e-05,8.35e-05,8.17e-05,8e-05,7.84e-05,7.68e-05,7.52e-05,7.38e-05,7.23e-05,7.09e-05,6.95e-05,6.82e-05,6.69e-05,6.57e-05,6.45e-05,6.33e-05,6.22e-05,6.1e-05,6e-05,5.89e-05,5.79e-05,5.69e-05,5.59e-05,5.5e-05,5.41e-05,5.32e-05,5.23e-05,5.15e-05,5.06e-05,4.98e-05,4.91e-05,4.83e-05,4.75e-05,4.68e-05,4.61e-05,4.54e-05,4.47e-05,4.41e-05,4.34e-05,4.28e-05,4.22e-05,4.16e-05,4.1e-05,4.04e-05,3.98e-05,3.93e-05,3.87e-05,3.82e-05,3.77e-05,3.72e-05,3.67e-05,3.62e-05,3.57e-05,3.53e-05,3.48e-05,3.44e-05,3.39e-05,3.35e-05,3.31e-05,3.27e-05,3.23e-05,3.19e-05,3.15e-05,3.11e-05,3.08e-05,3.04e-05,3e-05,2.97e-05,2.93e-05,2.9e-05,2.87e-05,2.83e-05,2.8e-05,2.77e-05,2.74e-05,2.71e-05,2.68e-05,2.65e-05,2.62e-05,2.59e-05,2.57e-05,2.54e-05,2.51e-05,2.49e-05,2.46e-05,2.43e-05,2.41e-05,2.38e-05,2.36e-05,2.34e-05,2.31e-05,2.29e-05,2.27e-05,2.25e-05,2.22e-05,2.2e-05,2.18e-05,2.16e-05,2.14e-05,2.12e-05,2.1e-05,2.08e-05,2.06e-05,2.04e-05,2.02e-05,2e-05,1.98e-05,1.97e-05,1.95e-05,1.93e-05,1.91e-05,1.9e-05,1.88e-05,1.86e-05,1.85e-05,1.83e-05,1.82e-05,1.8e-05,1.79e-05,1.77e-05,1.76e-05,1.74e-05,1.73e-05,1.71e-05,1.7e-05,1.68e-05,1.67e-05,1.66e-05,1.64e-05,1.63e-05,1.62e-05,1.6e-05,1.59e-05,1.58e-05,1.57e-05,1.55e-05,1.54e-05,1.53e-05,1.52e-05,1.51e-05,1.5e-05,1.48e-05,1.47e-05,1.46e-05,1.45e-05,1.44e-05,1.43e-05,1.42e-05,1.41e-05,1.4e-05,1.39e-05,1.38e-05,1.37e-05,1.36e-05,1.35e-05,1.34e-05,1.33e-05,1.32e-05,1.31e-05,1.3e-05,1.29e-05,1.29e-05,1.28e-05,1.27e-05,1.26e-05,1.25e-05,1.24e-05,1.23e-05,1.23e-05,1.22e-05,1.21e-05,1.2e-05,1.19e-05,1.19e-05,1.18e-05,1.17e-05,1.16e-05,1.16e-05,1.15e-05,1.14e-05,1.13e-05,1.13e-05,1.12e-05,1.11e-05,1.11e-05,1.1e-05,1.09e-05,1.09e-05,1.08e-05,1.07e-05,1.07e-05,1.06e-05,1.05e-05,1.05e-05,1.04e-05,1.04e-05,1.03e-05,1.02e-05,1.02e-05,1.01e-05,1.01e-05,9.99e-06,9.94e-06,9.88e-06,9.82e-06,9.77e-06,9.71e-06,9.66e-06,9.6e-06,9.55e-06,9.49e-06,9.44e-06,9.39e-06,9.34e-06,9.29e-06,9.24e-06,9.18e-06,9.13e-06,9.09e-06,9.04e-06,8.99e-06,8.94e-06,8.89e-06,8.84e-06,8.8e-06,8.75e-06,8.71e-06,8.66e-06,8.61e-06,8.57e-06,8.53e-06,8.48e-06,8.44e-06,8.39e-06,8.35e-06,8.31e-06,8.27e-06,8.23e-06,8.18e-06,8.14e-06,8.1e-06,8.06e-06,8.02e-06,7.98e-06,7.94e-06,7.9e-06,7.86e-06,7.83e-06,7.79e-06,7.75e-06,7.71e-06,7.68e-06,7.64e-06,7.6e-06,7.57e-06,7.53e-06,7.49e-06,7.46e-06,7.42e-06,7.39e-06,7.35e-06,7.32e-06,7.29e-06,7.25e-06,7.22e-06,7.19e-06,7.15e-06,7.12e-06,7.09e-06,7.06e-06,7.02e-06,6.99e-06,6.96e-06,6.93e-06,6.9e-06,6.87e-06,6.84e-06,6.81e-06,6.78e-06,6.75e-06,6.72e-06,6.69e-06,6.66e-06,6.63e-06,6.6e-06,6.57e-06,6.54e-06,6.52e-06,6.49e-06,6.46e-06,6.43e-06,6.41e-06,6.38e-06,6.35e-06,6.33e-06,6.3e-06,6.27e-06,6.25e-06,6.22e-06,6.2e-06,6.17e-06,6.14e-06,6.12e-06,6.09e-06,6.07e-06,6.04e-06,6.02e-06,6e-06,5.97e-06,5.95e-06,5.92e-06,5.9e-06,5.88e-06,5.85e-06,5.83e-06,5.81e-06,5.78e-06,5.76e-06,5.74e-06,5.72e-06,5.69e-06,5.67e-06,5.65e-06,5.63e-06,5.61e-06,5.58e-06,5.56e-06,5.54e-06,5.52e-06,5.5e-06,5.48e-06,5.46e-06,5.44e-06,5.42e-06,5.4e-06,5.38e-06,5.36e-06,5.34e-06,5.32e-06,5.3e-06,5.28e-06,5.26e-06,5.24e-06,5.22e-06,5.2e-06,5.18e-06,5.16e-06,5.14e-06,5.13e-06,5.11e-06,5.09e-06,5.07e-06,5.05e-06,5.03e-06,5.02e-06,5e-06,4.98e-06,4.96e-06,4.95e-06,4.93e-06,4.91e-06,4.89e-06,4.88e-06,4.86e-06,4.84e-06,4.83e-06,4.81e-06,4.79e-06,4.78e-06,4.76e-06],\"type\":\"scatter\"},{\"mode\":\"markers\",\"name\":\"methylcyclopentadiene\",\"x\":[\"502\",\"504\",\"506\",\"508\",\"510\",\"512\",\"514\",\"516\",\"518\",\"520\",\"522\",\"524\",\"526\",\"528\",\"530\",\"532\",\"534\",\"536\",\"538\",\"540\",\"542\",\"544\",\"546\",\"548\",\"550\",\"552\",\"554\",\"556\",\"558\",\"560\",\"562\",\"564\",\"566\",\"568\",\"570\",\"572\",\"574\",\"576\",\"578\",\"580\",\"582\",\"584\",\"586\",\"588\",\"590\",\"592\",\"594\",\"596\",\"598\",\"600\",\"602\",\"604\",\"606\",\"608\",\"610\",\"612\",\"614\",\"616\",\"618\",\"620\",\"622\",\"624\",\"626\",\"628\",\"630\",\"632\",\"634\",\"636\",\"638\",\"640\",\"642\",\"644\",\"646\",\"648\",\"650\",\"652\",\"654\",\"656\",\"658\",\"660\",\"662\",\"664\",\"666\",\"668\",\"670\",\"672\",\"674\",\"676\",\"678\",\"680\",\"682\",\"684\",\"686\",\"688\",\"690\",\"692\",\"694\",\"696\",\"698\",\"700\",\"702\",\"704\",\"706\",\"708\",\"710\",\"712\",\"714\",\"716\",\"718\",\"720\",\"722\",\"724\",\"726\",\"728\",\"730\",\"732\",\"734\",\"736\",\"738\",\"740\",\"742\",\"744\",\"746\",\"748\",\"750\",\"752\",\"754\",\"756\",\"758\",\"760\",\"762\",\"764\",\"766\",\"768\",\"770\",\"772\",\"774\",\"776\",\"778\",\"780\",\"782\",\"784\",\"786\",\"788\",\"790\",\"792\",\"794\",\"796\",\"798\",\"800\",\"802\",\"804\",\"806\",\"808\",\"810\",\"812\",\"814\",\"816\",\"818\",\"820\",\"822\",\"824\",\"826\",\"828\",\"830\",\"832\",\"834\",\"836\",\"838\",\"840\",\"842\",\"844\",\"846\",\"848\",\"850\",\"852\",\"854\",\"856\",\"858\",\"860\",\"862\",\"864\",\"866\",\"868\",\"870\",\"872\",\"874\",\"876\",\"878\",\"880\",\"882\",\"884\",\"886\",\"888\",\"890\",\"892\",\"894\",\"896\",\"898\",\"900\",\"902\",\"904\",\"906\",\"908\",\"910\",\"912\",\"914\",\"916\",\"918\",\"920\",\"922\",\"924\",\"926\",\"928\",\"930\",\"932\",\"934\",\"936\",\"938\",\"940\",\"942\",\"944\",\"946\",\"948\",\"950\",\"952\",\"954\",\"956\",\"958\",\"960\",\"962\",\"964\",\"966\",\"968\",\"970\",\"972\",\"974\",\"976\",\"978\",\"980\",\"982\",\"984\",\"986\",\"988\",\"990\",\"992\",\"994\",\"996\",\"998\",\"1000\",\"1002\",\"1004\",\"1006\",\"1008\",\"1010\",\"1012\",\"1014\",\"1016\",\"1018\",\"1020\",\"1022\",\"1024\",\"1026\",\"1028\",\"1030\",\"1032\",\"1034\",\"1036\",\"1038\",\"1040\",\"1042\",\"1044\",\"1046\",\"1048\",\"1050\",\"1052\",\"1054\",\"1056\",\"1058\",\"1060\",\"1062\",\"1064\",\"1066\",\"1068\",\"1070\",\"1072\",\"1074\",\"1076\",\"1078\",\"1080\",\"1082\",\"1084\",\"1086\",\"1088\",\"1090\",\"1092\",\"1094\",\"1096\",\"1098\",\"1100\",\"1102\",\"1104\",\"1106\",\"1108\",\"1110\",\"1112\",\"1114\",\"1116\",\"1118\",\"1120\",\"1122\",\"1124\",\"1126\",\"1128\",\"1130\",\"1132\",\"1134\",\"1136\",\"1138\",\"1140\",\"1142\",\"1144\",\"1146\",\"1148\",\"1150\",\"1152\",\"1154\",\"1156\",\"1158\",\"1160\",\"1162\",\"1164\",\"1166\",\"1168\",\"1170\",\"1172\",\"1174\",\"1176\",\"1178\",\"1180\",\"1182\",\"1184\",\"1186\",\"1188\",\"1190\",\"1192\",\"1194\",\"1196\",\"1198\",\"1200\",\"1202\",\"1204\",\"1206\",\"1208\",\"1210\",\"1212\",\"1214\",\"1216\",\"1218\",\"1220\",\"1222\",\"1224\",\"1226\",\"1228\",\"1230\",\"1232\",\"1234\",\"1236\",\"1238\",\"1240\",\"1242\",\"1244\",\"1246\",\"1248\",\"1250\",\"1252\",\"1254\",\"1256\",\"1258\",\"1260\",\"1262\",\"1264\",\"1266\",\"1268\",\"1270\",\"1272\",\"1274\",\"1276\",\"1278\",\"1280\",\"1282\",\"1284\",\"1286\",\"1288\",\"1290\",\"1292\",\"1294\",\"1296\",\"1298\",\"1300\",\"1302\",\"1304\",\"1306\",\"1308\",\"1310\",\"1312\",\"1314\",\"1316\",\"1318\",\"1320\",\"1322\",\"1324\",\"1326\",\"1328\",\"1330\",\"1332\",\"1334\",\"1336\",\"1338\",\"1340\",\"1342\",\"1344\",\"1346\",\"1348\",\"1350\",\"1352\",\"1354\",\"1356\",\"1358\",\"1360\",\"1362\",\"1364\",\"1366\",\"1368\",\"1370\",\"1372\",\"1374\",\"1376\",\"1378\",\"1380\",\"1382\",\"1384\",\"1386\",\"1388\",\"1390\",\"1392\",\"1394\",\"1396\",\"1398\",\"1400\",\"1402\",\"1404\",\"1406\",\"1408\",\"1410\",\"1412\",\"1414\",\"1416\",\"1418\",\"1420\",\"1422\",\"1424\",\"1426\",\"1428\",\"1430\",\"1432\",\"1434\",\"1436\",\"1438\",\"1440\",\"1442\",\"1444\",\"1446\",\"1448\",\"1450\",\"1452\",\"1454\",\"1456\",\"1458\",\"1460\",\"1462\",\"1464\",\"1466\",\"1468\",\"1470\",\"1472\",\"1474\",\"1476\",\"1478\",\"1480\",\"1482\",\"1484\",\"1486\",\"1488\",\"1490\",\"1492\",\"1494\",\"1496\",\"1498\",\"1500\",\"1502\",\"1504\",\"1506\",\"1508\",\"1510\",\"1512\",\"1514\",\"1516\",\"1518\",\"1520\",\"1522\",\"1524\",\"1526\",\"1528\",\"1530\",\"1532\",\"1534\",\"1536\",\"1538\",\"1540\",\"1542\",\"1544\",\"1546\",\"1548\",\"1550\",\"1552\",\"1554\",\"1556\",\"1558\",\"1560\",\"1562\",\"1564\",\"1566\",\"1568\",\"1570\",\"1572\",\"1574\",\"1576\",\"1578\",\"1580\",\"1582\",\"1584\",\"1586\",\"1588\",\"1590\",\"1592\",\"1594\",\"1596\",\"1598\",\"1600\",\"1602\",\"1604\",\"1606\",\"1608\",\"1610\",\"1612\",\"1614\",\"1616\",\"1618\",\"1620\",\"1622\",\"1624\",\"1626\",\"1628\",\"1630\",\"1632\",\"1634\",\"1636\",\"1638\",\"1640\",\"1642\",\"1644\",\"1646\",\"1648\",\"1650\",\"1652\",\"1654\",\"1656\",\"1658\",\"1660\",\"1662\",\"1664\",\"1666\",\"1668\",\"1670\",\"1672\",\"1674\",\"1676\",\"1678\",\"1680\",\"1682\",\"1684\",\"1686\",\"1688\",\"1690\",\"1692\",\"1694\",\"1696\",\"1698\",\"1700\",\"1702\",\"1704\",\"1706\",\"1708\",\"1710\",\"1712\",\"1714\",\"1716\",\"1718\",\"1720\",\"1722\",\"1724\",\"1726\",\"1728\",\"1730\",\"1732\",\"1734\",\"1736\",\"1738\",\"1740\",\"1742\",\"1744\",\"1746\",\"1748\",\"1750\",\"1752\",\"1754\",\"1756\",\"1758\",\"1760\",\"1762\",\"1764\",\"1766\",\"1768\",\"1770\",\"1772\",\"1774\",\"1776\",\"1778\",\"1780\",\"1782\",\"1784\",\"1786\",\"1788\",\"1790\",\"1792\",\"1794\",\"1796\",\"1798\",\"1800\",\"1802\",\"1804\",\"1806\",\"1808\",\"1810\",\"1812\",\"1814\",\"1816\",\"1818\",\"1820\",\"1822\",\"1824\",\"1826\",\"1828\",\"1830\",\"1832\",\"1834\",\"1836\",\"1838\",\"1840\",\"1842\",\"1844\",\"1846\",\"1848\",\"1850\",\"1852\",\"1854\",\"1856\",\"1858\",\"1860\",\"1862\",\"1864\",\"1866\",\"1868\",\"1870\",\"1872\",\"1874\",\"1876\",\"1878\",\"1880\",\"1882\",\"1884\",\"1886\",\"1888\",\"1890\",\"1892\",\"1894\",\"1896\",\"1898\",\"1900\",\"1902\",\"1904\",\"1906\",\"1908\",\"1910\",\"1912\",\"1914\",\"1916\",\"1918\",\"1920\",\"1922\",\"1924\",\"1926\",\"1928\",\"1930\",\"1932\",\"1934\",\"1936\",\"1938\",\"1940\",\"1942\",\"1944\",\"1946\",\"1948\",\"1950\",\"1952\",\"1954\",\"1956\",\"1958\",\"1960\",\"1962\",\"1964\",\"1966\",\"1968\",\"1970\",\"1972\",\"1974\",\"1976\",\"1978\",\"1980\",\"1982\",\"1984\",\"1986\",\"1988\",\"1990\",\"1992\",\"1994\",\"1996\",\"1998\",\"2000\",\"2002\",\"2004\",\"2006\",\"2008\",\"2010\",\"2012\",\"2014\",\"2016\",\"2018\",\"2020\",\"2022\",\"2024\",\"2026\",\"2028\",\"2030\",\"2032\",\"2034\",\"2036\",\"2038\",\"2040\",\"2042\",\"2044\",\"2046\",\"2048\",\"2050\",\"2052\",\"2054\",\"2056\",\"2058\",\"2060\",\"2062\",\"2064\",\"2066\",\"2068\",\"2070\",\"2072\",\"2074\",\"2076\",\"2078\",\"2080\",\"2082\",\"2084\",\"2086\",\"2088\",\"2090\",\"2092\",\"2094\",\"2096\",\"2098\",\"2100\",\"2102\",\"2104\",\"2106\",\"2108\",\"2110\",\"2112\",\"2114\",\"2116\",\"2118\",\"2120\",\"2122\",\"2124\",\"2126\",\"2128\",\"2130\",\"2132\",\"2134\",\"2136\",\"2138\",\"2140\",\"2142\",\"2144\",\"2146\",\"2148\",\"2150\",\"2152\",\"2154\",\"2156\",\"2158\",\"2160\",\"2162\",\"2164\",\"2166\",\"2168\",\"2170\",\"2172\",\"2174\",\"2176\",\"2178\",\"2180\",\"2182\",\"2184\",\"2186\",\"2188\",\"2190\",\"2192\",\"2194\",\"2196\",\"2198\",\"2200\",\"2202\",\"2204\",\"2206\",\"2208\",\"2210\",\"2212\",\"2214\",\"2216\",\"2218\",\"2220\",\"2222\",\"2224\",\"2226\",\"2228\",\"2230\",\"2232\",\"2234\",\"2236\",\"2238\",\"2240\",\"2242\",\"2244\",\"2246\",\"2248\",\"2250\",\"2252\",\"2254\",\"2256\",\"2258\",\"2260\",\"2262\",\"2264\",\"2266\",\"2268\",\"2270\",\"2272\",\"2274\",\"2276\",\"2278\",\"2280\",\"2282\",\"2284\",\"2286\",\"2288\",\"2290\",\"2292\",\"2294\",\"2296\",\"2298\",\"2300\",\"2302\",\"2304\",\"2306\",\"2308\",\"2310\",\"2312\",\"2314\",\"2316\",\"2318\",\"2320\",\"2322\",\"2324\",\"2326\",\"2328\",\"2330\",\"2332\",\"2334\",\"2336\",\"2338\",\"2340\",\"2342\",\"2344\",\"2346\",\"2348\",\"2350\",\"2352\",\"2354\",\"2356\",\"2358\",\"2360\",\"2362\",\"2364\",\"2366\",\"2368\",\"2370\",\"2372\",\"2374\",\"2376\",\"2378\",\"2380\",\"2382\",\"2384\",\"2386\",\"2388\",\"2390\",\"2392\",\"2394\",\"2396\",\"2398\",\"2400\",\"2402\",\"2404\",\"2406\",\"2408\",\"2410\",\"2412\",\"2414\",\"2416\",\"2418\",\"2420\",\"2422\",\"2424\",\"2426\",\"2428\",\"2430\",\"2432\",\"2434\",\"2436\",\"2438\",\"2440\",\"2442\",\"2444\",\"2446\",\"2448\",\"2450\",\"2452\",\"2454\",\"2456\",\"2458\",\"2460\",\"2462\",\"2464\",\"2466\",\"2468\",\"2470\",\"2472\",\"2474\",\"2476\",\"2478\",\"2480\",\"2482\",\"2484\",\"2486\",\"2488\",\"2490\",\"2492\",\"2494\",\"2496\",\"2498\",\"2500\",\"2502\",\"2504\",\"2506\",\"2508\",\"2510\",\"2512\",\"2514\",\"2516\",\"2518\",\"2520\",\"2522\",\"2524\",\"2526\",\"2528\",\"2530\",\"2532\",\"2534\",\"2536\",\"2538\",\"2540\",\"2542\",\"2544\",\"2546\",\"2548\",\"2550\",\"2552\",\"2554\",\"2556\",\"2558\",\"2560\",\"2562\",\"2564\",\"2566\",\"2568\",\"2570\",\"2572\",\"2574\",\"2576\",\"2578\",\"2580\",\"2582\",\"2584\",\"2586\",\"2588\",\"2590\",\"2592\",\"2594\",\"2596\",\"2598\",\"2600\",\"2602\",\"2604\",\"2606\",\"2608\",\"2610\",\"2612\",\"2614\",\"2616\",\"2618\",\"2620\",\"2622\",\"2624\",\"2626\",\"2628\",\"2630\",\"2632\",\"2634\",\"2636\",\"2638\",\"2640\",\"2642\",\"2644\",\"2646\",\"2648\",\"2650\",\"2652\",\"2654\",\"2656\",\"2658\",\"2660\",\"2662\",\"2664\",\"2666\",\"2668\",\"2670\",\"2672\",\"2674\",\"2676\",\"2678\",\"2680\",\"2682\",\"2684\",\"2686\",\"2688\",\"2690\",\"2692\",\"2694\",\"2696\",\"2698\",\"2700\",\"2702\",\"2704\",\"2706\",\"2708\",\"2710\",\"2712\",\"2714\",\"2716\",\"2718\",\"2720\",\"2722\",\"2724\",\"2726\",\"2728\",\"2730\",\"2732\",\"2734\",\"2736\",\"2738\",\"2740\",\"2742\",\"2744\",\"2746\",\"2748\",\"2750\",\"2752\",\"2754\",\"2756\",\"2758\",\"2760\",\"2762\",\"2764\",\"2766\",\"2768\",\"2770\",\"2772\",\"2774\",\"2776\",\"2778\",\"2780\",\"2782\",\"2784\",\"2786\",\"2788\",\"2790\",\"2792\",\"2794\",\"2796\",\"2798\",\"2800\",\"2802\",\"2804\",\"2806\",\"2808\",\"2810\",\"2812\",\"2814\",\"2816\",\"2818\",\"2820\",\"2822\",\"2824\",\"2826\",\"2828\",\"2830\",\"2832\",\"2834\",\"2836\",\"2838\",\"2840\",\"2842\",\"2844\",\"2846\",\"2848\",\"2850\",\"2852\",\"2854\",\"2856\",\"2858\",\"2860\",\"2862\",\"2864\",\"2866\",\"2868\",\"2870\",\"2872\",\"2874\",\"2876\",\"2878\",\"2880\",\"2882\",\"2884\",\"2886\",\"2888\",\"2890\",\"2892\",\"2894\",\"2896\",\"2898\",\"2900\",\"2902\",\"2904\",\"2906\",\"2908\",\"2910\",\"2912\",\"2914\",\"2916\",\"2918\",\"2920\",\"2922\",\"2924\",\"2926\",\"2928\",\"2930\",\"2932\",\"2934\",\"2936\",\"2938\",\"2940\",\"2942\",\"2944\",\"2946\",\"2948\",\"2950\",\"2952\",\"2954\",\"2956\",\"2958\",\"2960\",\"2962\",\"2964\",\"2966\",\"2968\",\"2970\",\"2972\",\"2974\",\"2976\",\"2978\",\"2980\",\"2982\",\"2984\",\"2986\",\"2988\",\"2990\",\"2992\",\"2994\",\"2996\",\"2998\",\"3000\",\"3002\",\"3004\",\"3006\",\"3008\",\"3010\",\"3012\",\"3014\",\"3016\",\"3018\",\"3020\",\"3022\",\"3024\",\"3026\",\"3028\",\"3030\",\"3032\",\"3034\",\"3036\",\"3038\",\"3040\",\"3042\",\"3044\",\"3046\",\"3048\",\"3050\",\"3052\",\"3054\",\"3056\",\"3058\",\"3060\",\"3062\",\"3064\",\"3066\",\"3068\",\"3070\",\"3072\",\"3074\",\"3076\",\"3078\",\"3080\",\"3082\",\"3084\",\"3086\",\"3088\",\"3090\",\"3092\",\"3094\",\"3096\",\"3098\",\"3100\",\"3102\",\"3104\",\"3106\",\"3108\",\"3110\",\"3112\",\"3114\",\"3116\",\"3118\",\"3120\",\"3122\",\"3124\",\"3126\",\"3128\",\"3130\",\"3132\",\"3134\",\"3136\",\"3138\",\"3140\",\"3142\",\"3144\",\"3146\",\"3148\",\"3150\",\"3152\",\"3154\",\"3156\",\"3158\",\"3160\",\"3162\",\"3164\",\"3166\",\"3168\",\"3170\",\"3172\",\"3174\",\"3176\",\"3178\",\"3180\",\"3182\",\"3184\",\"3186\",\"3188\",\"3190\",\"3192\",\"3194\",\"3196\",\"3198\",\"3200\",\"3202\",\"3204\",\"3206\",\"3208\",\"3210\",\"3212\",\"3214\",\"3216\",\"3218\",\"3220\",\"3222\",\"3224\",\"3226\",\"3228\",\"3230\",\"3232\",\"3234\",\"3236\",\"3238\",\"3240\",\"3242\",\"3244\",\"3246\",\"3248\",\"3250\",\"3252\",\"3254\",\"3256\",\"3258\",\"3260\",\"3262\",\"3264\",\"3266\",\"3268\",\"3270\",\"3272\",\"3274\",\"3276\",\"3278\",\"3280\",\"3282\",\"3284\",\"3286\",\"3288\",\"3290\",\"3292\",\"3294\",\"3296\",\"3298\",\"3300\",\"3302\",\"3304\",\"3306\",\"3308\",\"3310\",\"3312\",\"3314\",\"3316\",\"3318\",\"3320\",\"3322\",\"3324\",\"3326\",\"3328\",\"3330\",\"3332\",\"3334\",\"3336\",\"3338\",\"3340\",\"3342\",\"3344\",\"3346\",\"3348\",\"3350\",\"3352\",\"3354\",\"3356\",\"3358\",\"3360\",\"3362\",\"3364\",\"3366\",\"3368\",\"3370\",\"3372\",\"3374\",\"3376\",\"3378\",\"3380\",\"3382\",\"3384\",\"3386\",\"3388\",\"3390\",\"3392\",\"3394\",\"3396\",\"3398\",\"3400\",\"3402\",\"3404\",\"3406\",\"3408\",\"3410\",\"3412\",\"3414\",\"3416\",\"3418\",\"3420\",\"3422\",\"3424\",\"3426\",\"3428\",\"3430\",\"3432\",\"3434\",\"3436\",\"3438\",\"3440\",\"3442\",\"3444\",\"3446\",\"3448\",\"3450\",\"3452\",\"3454\",\"3456\",\"3458\",\"3460\",\"3462\",\"3464\",\"3466\",\"3468\",\"3470\",\"3472\",\"3474\",\"3476\",\"3478\",\"3480\",\"3482\",\"3484\",\"3486\",\"3488\",\"3490\",\"3492\",\"3494\",\"3496\",\"3498\",\"3500\",\"3502\",\"3504\",\"3506\",\"3508\",\"3510\",\"3512\",\"3514\",\"3516\",\"3518\",\"3520\",\"3522\",\"3524\",\"3526\",\"3528\",\"3530\",\"3532\",\"3534\",\"3536\",\"3538\",\"3540\",\"3542\",\"3544\",\"3546\",\"3548\",\"3550\",\"3552\",\"3554\",\"3556\",\"3558\",\"3560\",\"3562\",\"3564\",\"3566\",\"3568\",\"3570\",\"3572\",\"3574\",\"3576\",\"3578\",\"3580\",\"3582\",\"3584\",\"3586\",\"3588\",\"3590\",\"3592\",\"3594\",\"3596\",\"3598\",\"3600\",\"3602\",\"3604\",\"3606\",\"3608\",\"3610\",\"3612\",\"3614\",\"3616\",\"3618\",\"3620\",\"3622\",\"3624\",\"3626\",\"3628\",\"3630\",\"3632\",\"3634\",\"3636\",\"3638\",\"3640\",\"3642\",\"3644\",\"3646\",\"3648\",\"3650\",\"3652\",\"3654\",\"3656\",\"3658\",\"3660\",\"3662\",\"3664\",\"3666\",\"3668\",\"3670\",\"3672\",\"3674\",\"3676\",\"3678\",\"3680\",\"3682\",\"3684\",\"3686\",\"3688\",\"3690\",\"3692\",\"3694\",\"3696\",\"3698\",\"3700\",\"3702\",\"3704\",\"3706\",\"3708\",\"3710\",\"3712\",\"3714\",\"3716\",\"3718\",\"3720\",\"3722\",\"3724\",\"3726\",\"3728\",\"3730\",\"3732\",\"3734\",\"3736\",\"3738\",\"3740\",\"3742\",\"3744\",\"3746\",\"3748\",\"3750\",\"3752\",\"3754\",\"3756\",\"3758\",\"3760\",\"3762\",\"3764\",\"3766\",\"3768\",\"3770\",\"3772\",\"3774\",\"3776\",\"3778\",\"3780\",\"3782\",\"3784\",\"3786\",\"3788\",\"3790\",\"3792\",\"3794\",\"3796\",\"3798\",\"3800\",\"3802\",\"3804\",\"3806\",\"3808\",\"3810\",\"3812\",\"3814\",\"3816\",\"3818\",\"3820\",\"3822\",\"3824\",\"3826\",\"3828\",\"3830\",\"3832\",\"3834\",\"3836\",\"3838\",\"3840\",\"3842\",\"3844\",\"3846\",\"3848\",\"3850\",\"3852\",\"3854\",\"3856\",\"3858\",\"3860\",\"3862\",\"3864\",\"3866\",\"3868\",\"3870\",\"3872\",\"3874\",\"3876\",\"3878\",\"3880\",\"3882\",\"3884\",\"3886\",\"3888\",\"3890\",\"3892\",\"3894\",\"3896\",\"3898\",\"3900\",\"3902\",\"3904\",\"3906\",\"3908\",\"3910\",\"3912\",\"3914\",\"3916\",\"3918\",\"3920\",\"3922\",\"3924\",\"3926\",\"3928\",\"3930\",\"3932\",\"3934\",\"3936\",\"3938\",\"3940\",\"3942\",\"3944\",\"3946\",\"3948\",\"3950\",\"3952\",\"3954\",\"3956\",\"3958\",\"3960\",\"3962\",\"3964\",\"3966\",\"3968\",\"3970\",\"3972\",\"3974\",\"3976\",\"3978\",\"3980\",\"3982\",\"3984\",\"3986\",\"3988\",\"3990\",\"3992\",\"3994\",\"3996\",\"3998\",\"4000\"],\"y\":[9.91e-05,9.96e-05,0.000100199,0.000100828,0.000101521,0.000102275,0.000103086,0.000103954,0.000104874,0.000105844,0.000106863,0.000107927,0.000109036,0.00011019,0.000111389,0.000112635,0.00011393,0.000115277,0.000116682,0.000118149,0.000119684,0.000121293,0.000122982,0.000124759,0.000126628,0.000128598,0.000130675,0.000132864,0.000135173,0.000137608,0.000140175,0.00014288,0.000145732,0.000148735,0.000151899,0.00015523,0.000158737,0.000162426,0.000166308,0.000170392,0.000174686,0.000179201,0.000183947,0.000188936,0.000194178,0.000199687,0.000205473,0.00021155,0.000217932,0.000224632,0.000231667,0.000239052,0.000246805,0.000254946,0.000263496,0.000272478,0.000281921,0.000291854,0.000302312,0.000313331,0.000324955,0.000337228,0.0003502,0.000363925,0.000378458,0.000393858,0.000410186,0.000427506,0.00044588,0.000465372,0.000486044,0.000507957,0.000531166,0.00055572,0.00058166,0.000609013,0.000637792,0.000667987,0.000699562,0.000732447,0.000766535,0.00080167,0.000837641,0.000874178,0.000910943,0.000947528,0.000983456,0.001018186,0.00105112,0.001081625,0.001109052,0.001132764,0.001152175,0.001166777,0.001176178,0.001180125,0.001178525,0.001171452,0.001159139,0.001141964,0.001120421,0.001095093,0.001066611,0.001035627,0.001002782,0.000968678,0.00093387,0.000898844,0.00086402,0.000829747,0.000796308,0.000763924,0.000732761,0.000702935,0.000674526,0.000647578,0.000622107,0.00059811,0.000575567,0.000554447,0.000534708,0.000516304,0.000499185,0.000483299,0.000468594,0.00045502,0.000442527,0.000431066,0.000420595,0.00041107,0.000402453,0.000394708,0.000387802,0.000381705,0.000376392,0.000371836,0.000368017,0.000364915,0.000362511,0.00036079,0.000359734,0.000359329,0.000359558,0.000360404,0.000361846,0.000363863,0.000366425,0.000369501,0.000373051,0.000377029,0.000381378,0.000386036,0.000390928,0.000395976,0.00040109,0.000406181,0.000411157,0.000415932,0.000420427,0.000424577,0.000428338,0.000431684,0.000434618,0.000437166,0.000439379,0.00044133,0.000443109,0.000444821,0.000446577,0.000448495,0.000450689,0.00045327,0.000456344,0.000460007,0.00046435,0.000469451,0.000475384,0.000482214,0.000489997,0.000498785,0.000508625,0.000519557,0.000531617,0.000544837,0.000559241,0.00057485,0.000591677,0.000609727,0.000628994,0.000649463,0.000671098,0.000693848,0.000717636,0.000742355,0.000767863,0.000793979,0.000820478,0.000847088,0.000873492,0.000899327,0.000924197,0.000947679,0.000969345,0.000988778,0.001005594,0.001019466,0.001030146,0.001037477,0.001041404,0.001041975,0.001039335,0.001033705,0.001025372,0.001014653,0.001001881,0.000987379,0.000971441,0.000954323,0.000936236,0.000917346,0.000897776,0.00087762,0.000856948,0.00083582,0.000814296,0.000792444,0.000770344,0.000748092,0.0007258,0.00070359,0.000681589,0.000659928,0.000638729,0.00061811,0.00059817,0.000578997,0.000560657,0.000543201,0.000526662,0.000511055,0.000496381,0.000482628,0.000469771,0.000457777,0.000446605,0.000436207,0.000426535,0.000417533,0.000409148,0.000401324,0.000394002,0.000387127,0.000380639,0.000374476,0.000368577,0.000362875,0.000357303,0.000351794,0.000346282,0.000340705,0.000335006,0.000329141,0.000323075,0.000316788,0.000310276,0.000303549,0.000296628,0.00028955,0.000282357,0.000275098,0.000267823,0.000260583,0.000253426,0.000246395,0.000239527,0.000232856,0.000226406,0.000220198,0.000214247,0.000208561,0.000203147,0.000198007,0.00019314,0.000188543,0.000184211,0.00018014,0.000176321,0.000172749,0.000169415,0.000166312,0.000163433,0.000160769,0.000158315,0.000156062,0.000154004,0.000152135,0.000150448,0.000148938,0.000147597,0.000146421,0.000145403,0.000144536,0.000143816,0.000143235,0.000142787,0.000142466,0.000142266,0.000142181,0.000142207,0.00014234,0.000142576,0.000142915,0.000143357,0.000143904,0.000144558,0.000145325,0.000146211,0.000147222,0.000148365,0.00014965,0.000151083,0.000152673,0.000154426,0.000156347,0.000158441,0.000160708,0.000163148,0.000165755,0.000168519,0.000171425,0.00017445,0.000177568,0.000180742,0.000183928,0.000187077,0.00019013,0.000193025,0.000195696,0.000198076,0.000200101,0.000201713,0.000202863,0.000203516,0.000203653,0.000203268,0.000202378,0.000201012,0.000199215,0.000197043,0.000194558,0.000191831,0.000188928,0.000185917,0.000182861,0.000179816,0.000176832,0.000173953,0.000171215,0.000168647,0.000166271,0.000164107,0.000162167,0.000160459,0.000158991,0.000157764,0.00015678,0.000156036,0.000155528,0.000155253,0.000155201,0.000155366,0.000155737,0.000156302,0.000157048,0.000157958,0.000159017,0.000160206,0.000161506,0.000162899,0.000164367,0.000165892,0.000167461,0.000169061,0.000170688,0.000172338,0.000174014,0.000175723,0.000177476,0.000179288,0.000181174,0.00018315,0.000185231,0.000187431,0.000189758,0.000192217,0.000194807,0.000197523,0.000200351,0.000203273,0.000206266,0.000209301,0.000212348,0.000215374,0.000218349,0.000221245,0.000224039,0.000226718,0.000229277,0.000231722,0.00023407,0.000236348,0.000238593,0.00024085,0.000243168,0.000245602,0.000248206,0.000251034,0.000254141,0.000257575,0.000261383,0.000265609,0.000270289,0.00027546,0.00028115,0.000287385,0.000294186,0.00030157,0.000309547,0.000318125,0.000327303,0.000337074,0.000347423,0.000358329,0.000369761,0.000381679,0.000394036,0.000406777,0.000419839,0.000433156,0.000446655,0.000460261,0.0004739,0.000487494,0.000500963,0.000514224,0.00052719,0.000539761,0.00055183,0.000563276,0.000573966,0.000583755,0.000592495,0.000600038,0.000606251,0.000611019,0.000614262,0.000615942,0.000616068,0.000614701,0.000611953,0.000607979,0.000602975,0.000597162,0.000590777,0.000584065,0.000577265,0.000570603,0.000564287,0.000558501,0.000553404,0.000549127,0.000545775,0.000543426,0.000542131,0.000541915,0.000542778,0.000544695,0.000547615,0.000551459,0.000556124,0.000561476,0.000567354,0.000573572,0.000579916,0.000586153,0.000592034,0.000597301,0.000601699,0.000604983,0.000606934,0.000607369,0.000606148,0.000603187,0.00059846,0.000592,0.000583897,0.000574291,0.000563364,0.000551324,0.000538401,0.000524831,0.000510844,0.000496661,0.000482483,0.000468489,0.000454837,0.000441655,0.000429053,0.000417116,0.00040591,0.000395483,0.00038587,0.000377093,0.000369165,0.000362088,0.000355861,0.000350473,0.000345912,0.00034216,0.000339192,0.000336982,0.000335495,0.000334692,0.000334526,0.000334941,0.000335872,0.000337241,0.000338961,0.000340932,0.000343042,0.00034517,0.000347184,0.000348952,0.000350341,0.000351222,0.000351482,0.000351026,0.000349784,0.000347715,0.000344809,0.000341089,0.000336607,0.000331442,0.000325692,0.000319471,0.000312899,0.000306098,0.000299186,0.000292274,0.000285463,0.00027884,0.000272482,0.000266452,0.0002608,0.000255566,0.00025078,0.000246464,0.000242629,0.000239282,0.000236423,0.000234045,0.000232135,0.000230677,0.000229645,0.000229009,0.000228731,0.000228764,0.000229055,0.000229542,0.000230153,0.000230811,0.00023143,0.000231921,0.000232192,0.000232155,0.000231726,0.000230833,0.000229417,0.000227437,0.000224873,0.000221724,0.000218013,0.000213778,0.000209075,0.00020397,0.000198536,0.000192852,0.000186991,0.000181027,0.000175024,0.000169042,0.000163129,0.000157328,0.00015167,0.000146181,0.00014088,0.00013578,0.000130887,0.000126206,0.000121737,0.000117476,0.000113419,0.000109561,0.000105895,0.000102411,9.91e-05,9.6e-05,9.3e-05,9.01e-05,8.75e-05,8.49e-05,8.25e-05,8.01e-05,7.79e-05,7.59e-05,7.39e-05,7.2e-05,7.01e-05,6.84e-05,6.67e-05,6.52e-05,6.36e-05,6.22e-05,6.08e-05,5.95e-05,5.82e-05,5.7e-05,5.58e-05,5.47e-05,5.36e-05,5.26e-05,5.16e-05,5.06e-05,4.97e-05,4.88e-05,4.79e-05,4.71e-05,4.62e-05,4.55e-05,4.47e-05,4.4e-05,4.33e-05,4.26e-05,4.19e-05,4.13e-05,4.07e-05,4.01e-05,3.95e-05,3.89e-05,3.84e-05,3.79e-05,3.73e-05,3.68e-05,3.63e-05,3.59e-05,3.54e-05,3.5e-05,3.45e-05,3.41e-05,3.37e-05,3.33e-05,3.29e-05,3.25e-05,3.21e-05,3.18e-05,3.14e-05,3.11e-05,3.07e-05,3.04e-05,3.01e-05,2.98e-05,2.94e-05,2.91e-05,2.89e-05,2.86e-05,2.83e-05,2.8e-05,2.77e-05,2.75e-05,2.72e-05,2.7e-05,2.67e-05,2.65e-05,2.62e-05,2.6e-05,2.58e-05,2.56e-05,2.54e-05,2.51e-05,2.49e-05,2.47e-05,2.45e-05,2.43e-05,2.41e-05,2.4e-05,2.38e-05,2.36e-05,2.34e-05,2.32e-05,2.31e-05,2.29e-05,2.27e-05,2.26e-05,2.24e-05,2.23e-05,2.21e-05,2.2e-05,2.18e-05,2.17e-05,2.15e-05,2.14e-05,2.12e-05,2.11e-05,2.1e-05,2.08e-05,2.07e-05,2.06e-05,2.05e-05,2.04e-05,2.02e-05,2.01e-05,2e-05,1.99e-05,1.98e-05,1.97e-05,1.96e-05,1.95e-05,1.94e-05,1.93e-05,1.92e-05,1.91e-05,1.9e-05,1.89e-05,1.88e-05,1.87e-05,1.86e-05,1.85e-05,1.84e-05,1.83e-05,1.82e-05,1.82e-05,1.81e-05,1.8e-05,1.79e-05,1.78e-05,1.78e-05,1.77e-05,1.76e-05,1.75e-05,1.75e-05,1.74e-05,1.73e-05,1.73e-05,1.72e-05,1.71e-05,1.71e-05,1.7e-05,1.69e-05,1.69e-05,1.68e-05,1.68e-05,1.67e-05,1.67e-05,1.66e-05,1.65e-05,1.65e-05,1.64e-05,1.64e-05,1.63e-05,1.63e-05,1.62e-05,1.62e-05,1.61e-05,1.61e-05,1.6e-05,1.6e-05,1.6e-05,1.59e-05,1.59e-05,1.58e-05,1.58e-05,1.58e-05,1.57e-05,1.57e-05,1.56e-05,1.56e-05,1.56e-05,1.55e-05,1.55e-05,1.55e-05,1.54e-05,1.54e-05,1.54e-05,1.53e-05,1.53e-05,1.53e-05,1.52e-05,1.52e-05,1.52e-05,1.52e-05,1.51e-05,1.51e-05,1.51e-05,1.51e-05,1.5e-05,1.5e-05,1.5e-05,1.5e-05,1.49e-05,1.49e-05,1.49e-05,1.49e-05,1.49e-05,1.48e-05,1.48e-05,1.48e-05,1.48e-05,1.48e-05,1.48e-05,1.48e-05,1.47e-05,1.47e-05,1.47e-05,1.47e-05,1.47e-05,1.47e-05,1.47e-05,1.47e-05,1.46e-05,1.46e-05,1.46e-05,1.46e-05,1.46e-05,1.46e-05,1.46e-05,1.46e-05,1.46e-05,1.46e-05,1.46e-05,1.46e-05,1.46e-05,1.46e-05,1.46e-05,1.46e-05,1.46e-05,1.46e-05,1.46e-05,1.46e-05,1.46e-05,1.46e-05,1.46e-05,1.46e-05,1.46e-05,1.46e-05,1.46e-05,1.46e-05,1.46e-05,1.46e-05,1.46e-05,1.46e-05,1.46e-05,1.46e-05,1.46e-05,1.46e-05,1.46e-05,1.47e-05,1.47e-05,1.47e-05,1.47e-05,1.47e-05,1.47e-05,1.47e-05,1.47e-05,1.48e-05,1.48e-05,1.48e-05,1.48e-05,1.48e-05,1.48e-05,1.48e-05,1.49e-05,1.49e-05,1.49e-05,1.49e-05,1.49e-05,1.5e-05,1.5e-05,1.5e-05,1.5e-05,1.5e-05,1.51e-05,1.51e-05,1.51e-05,1.51e-05,1.52e-05,1.52e-05,1.52e-05,1.52e-05,1.53e-05,1.53e-05,1.53e-05,1.54e-05,1.54e-05,1.54e-05,1.54e-05,1.55e-05,1.55e-05,1.55e-05,1.56e-05,1.56e-05,1.56e-05,1.57e-05,1.57e-05,1.57e-05,1.58e-05,1.58e-05,1.59e-05,1.59e-05,1.59e-05,1.6e-05,1.6e-05,1.61e-05,1.61e-05,1.61e-05,1.62e-05,1.62e-05,1.63e-05,1.63e-05,1.64e-05,1.64e-05,1.65e-05,1.65e-05,1.65e-05,1.66e-05,1.66e-05,1.67e-05,1.67e-05,1.68e-05,1.69e-05,1.69e-05,1.7e-05,1.7e-05,1.71e-05,1.71e-05,1.72e-05,1.72e-05,1.73e-05,1.74e-05,1.74e-05,1.75e-05,1.75e-05,1.76e-05,1.77e-05,1.77e-05,1.78e-05,1.79e-05,1.79e-05,1.8e-05,1.81e-05,1.81e-05,1.82e-05,1.83e-05,1.84e-05,1.84e-05,1.85e-05,1.86e-05,1.87e-05,1.87e-05,1.88e-05,1.89e-05,1.9e-05,1.91e-05,1.91e-05,1.92e-05,1.93e-05,1.94e-05,1.95e-05,1.96e-05,1.97e-05,1.97e-05,1.98e-05,1.99e-05,2e-05,2.01e-05,2.02e-05,2.03e-05,2.04e-05,2.05e-05,2.06e-05,2.07e-05,2.08e-05,2.09e-05,2.1e-05,2.11e-05,2.12e-05,2.14e-05,2.15e-05,2.16e-05,2.17e-05,2.18e-05,2.19e-05,2.2e-05,2.22e-05,2.23e-05,2.24e-05,2.25e-05,2.27e-05,2.28e-05,2.29e-05,2.31e-05,2.32e-05,2.33e-05,2.35e-05,2.36e-05,2.37e-05,2.39e-05,2.4e-05,2.42e-05,2.43e-05,2.45e-05,2.46e-05,2.48e-05,2.49e-05,2.51e-05,2.52e-05,2.54e-05,2.56e-05,2.57e-05,2.59e-05,2.61e-05,2.63e-05,2.64e-05,2.66e-05,2.68e-05,2.7e-05,2.72e-05,2.74e-05,2.75e-05,2.77e-05,2.79e-05,2.81e-05,2.83e-05,2.85e-05,2.87e-05,2.9e-05,2.92e-05,2.94e-05,2.96e-05,2.98e-05,3.01e-05,3.03e-05,3.05e-05,3.07e-05,3.1e-05,3.12e-05,3.15e-05,3.17e-05,3.2e-05,3.22e-05,3.25e-05,3.28e-05,3.3e-05,3.33e-05,3.36e-05,3.39e-05,3.41e-05,3.44e-05,3.47e-05,3.5e-05,3.53e-05,3.56e-05,3.6e-05,3.63e-05,3.66e-05,3.69e-05,3.73e-05,3.76e-05,3.79e-05,3.83e-05,3.86e-05,3.9e-05,3.94e-05,3.97e-05,4.01e-05,4.05e-05,4.09e-05,4.13e-05,4.17e-05,4.21e-05,4.25e-05,4.3e-05,4.34e-05,4.38e-05,4.43e-05,4.47e-05,4.52e-05,4.57e-05,4.62e-05,4.67e-05,4.71e-05,4.77e-05,4.82e-05,4.87e-05,4.92e-05,4.98e-05,5.03e-05,5.09e-05,5.15e-05,5.21e-05,5.27e-05,5.33e-05,5.39e-05,5.45e-05,5.52e-05,5.58e-05,5.65e-05,5.72e-05,5.79e-05,5.86e-05,5.93e-05,6.01e-05,6.08e-05,6.16e-05,6.24e-05,6.32e-05,6.4e-05,6.49e-05,6.57e-05,6.66e-05,6.75e-05,6.84e-05,6.94e-05,7.03e-05,7.13e-05,7.23e-05,7.33e-05,7.44e-05,7.55e-05,7.65e-05,7.77e-05,7.88e-05,8e-05,8.12e-05,8.24e-05,8.37e-05,8.5e-05,8.63e-05,8.77e-05,8.91e-05,9.05e-05,9.2e-05,9.35e-05,9.5e-05,9.66e-05,9.82e-05,9.99e-05,0.000101629,0.000103393,0.000105205,0.000107068,0.000108983,0.000110952,0.000112978,0.000115062,0.000117208,0.000119416,0.000121691,0.000124034,0.000126448,0.000128936,0.000131501,0.000134147,0.000136876,0.000139693,0.000142601,0.000145604,0.000148707,0.000151913,0.000155227,0.000158655,0.000162201,0.000165871,0.000169671,0.000173607,0.000177685,0.000181912,0.000186296,0.000190845,0.000195566,0.000200468,0.000205561,0.000210854,0.000216359,0.000222085,0.000228046,0.000234253,0.000240721,0.000247463,0.000254495,0.000261834,0.000269496,0.000277502,0.00028587,0.000294622,0.000303782,0.000313374,0.000323423,0.000333959,0.000345012,0.000356613,0.000368798,0.000381605,0.000395072,0.000409243,0.000424163,0.000439881,0.00045645,0.000473926,0.000492369,0.000511842,0.000532412,0.000554152,0.000577137,0.000601446,0.000627164,0.000654376,0.000683173,0.000713647,0.000745888,0.000779991,0.000816043,0.00085413,0.000894328,0.000936701,0.000981297,0.001028141,0.001077229,0.001128522,0.001181933,0.001237325,0.001294496,0.001353175,0.00141301,0.001473566,0.001534323,0.00159468,0.001653962,0.001711436,0.001766338,0.001817896,0.001865373,0.001908096,0.001945499,0.001977152,0.002002787,0.002022305,0.002035779,0.002043438,0.002045638,0.002042833,0.002035528,0.002024245,0.002009489,0.001991718,0.001971329,0.001948647,0.001923933,0.001897391,0.001869185,0.001839465,0.001808379,0.001776097,0.001742822,0.001708795,0.001674295,0.001639633,0.001605139,0.001571146,0.001537976,0.001505923,0.001475239,0.001446124,0.001418715,0.001393081,0.001369225,0.001347077,0.001326505,0.001307313,0.001289257,0.001272048,0.001255373,0.001238907,0.001222332,0.001205357,0.001187732,0.001169265,0.001149835,0.001129393,0.001107967,0.001085656,0.001062617,0.001039056,0.001015207,0.000991324,0.000967663,0.000944471,0.000921978,0.000900392,0.000879893,0.000860634,0.000842744,0.000826326,0.000811459,0.000798208,0.000786617,0.000776722,0.000768545,0.000762101,0.000757399,0.000754442,0.000753227,0.000753747,0.000755989,0.000759933,0.000765552,0.000772806,0.000781645,0.000792,0.000803784,0.000816887,0.000831173,0.000846477,0.000862605,0.000879328,0.000896389,0.000913502,0.000930359,0.000946635,0.000961999,0.000976122,0.000988691,0.000999419,0.001008054,0.001014391,0.001018275,0.001019609,0.001018352,0.001014518,0.001008172,0.000999422,0.00098841,0.000975299,0.000960269,0.0009435,0.000925168,0.000905446,0.000884492,0.00086246,0.000839496,0.000815745,0.000791353,0.000766468,0.000741245,0.000715837,0.000690401,0.000665087,0.000640039,0.000615389,0.000591256,0.000567739,0.000544923,0.000522873,0.000501636,0.000481245,0.000461718,0.000443058,0.000425262,0.000408315,0.000392196,0.000376881,0.00036234,0.00034854,0.000335449,0.000323032,0.000311254,0.000300083,0.000289484,0.000279426,0.000269878,0.00026081,0.000252194,0.000244003,0.000236213,0.000228799,0.000221739,0.000215013,0.0002086,0.000202483,0.000196643,0.000191066,0.000185735,0.000180637,0.000175759,0.000171088,0.000166613,0.000162322,0.000158207,0.000154257,0.000150464,0.000146819,0.000143315,0.000139944,0.000136699,0.000133575,0.000130566,0.000127664,0.000124866,0.000122167,0.000119561,0.000117044,0.000114612,0.000112262,0.000109989,0.00010779,0.000105661,0.000103601,0.000101605,9.97e-05,9.78e-05,9.6e-05,9.42e-05,9.25e-05,9.08e-05,8.92e-05,8.77e-05,8.61e-05,8.47e-05,8.32e-05,8.18e-05,8.05e-05,7.91e-05,7.78e-05,7.66e-05,7.54e-05,7.42e-05,7.3e-05,7.19e-05,7.08e-05,6.97e-05,6.86e-05,6.76e-05,6.66e-05,6.56e-05,6.47e-05,6.37e-05,6.28e-05,6.19e-05,6.11e-05,6.02e-05,5.94e-05,5.86e-05,5.78e-05,5.7e-05,5.62e-05,5.55e-05,5.48e-05,5.41e-05,5.34e-05,5.27e-05,5.2e-05,5.14e-05,5.07e-05,5.01e-05,4.95e-05,4.89e-05,4.83e-05,4.77e-05,4.71e-05,4.65e-05,4.6e-05,4.55e-05,4.49e-05,4.44e-05,4.39e-05,4.34e-05,4.29e-05,4.24e-05,4.2e-05,4.15e-05,4.1e-05,4.06e-05,4.01e-05,3.97e-05,3.93e-05,3.89e-05,3.85e-05,3.8e-05,3.76e-05,3.73e-05,3.69e-05,3.65e-05,3.61e-05,3.58e-05,3.54e-05,3.5e-05,3.47e-05,3.43e-05,3.4e-05,3.37e-05,3.33e-05,3.3e-05,3.27e-05,3.24e-05,3.21e-05,3.18e-05,3.15e-05,3.12e-05,3.09e-05,3.06e-05,3.03e-05,3.01e-05,2.98e-05,2.95e-05,2.92e-05,2.9e-05,2.87e-05,2.85e-05,2.82e-05,2.8e-05,2.77e-05,2.75e-05,2.72e-05,2.7e-05,2.68e-05,2.66e-05,2.63e-05,2.61e-05,2.59e-05,2.57e-05,2.55e-05,2.53e-05,2.5e-05,2.48e-05,2.46e-05,2.44e-05,2.42e-05,2.4e-05,2.39e-05,2.37e-05,2.35e-05,2.33e-05,2.31e-05,2.29e-05,2.28e-05,2.26e-05,2.24e-05,2.22e-05,2.21e-05,2.19e-05,2.17e-05,2.16e-05,2.14e-05,2.12e-05,2.11e-05,2.09e-05,2.08e-05,2.06e-05,2.05e-05,2.03e-05,2.02e-05,2e-05,1.99e-05,1.97e-05,1.96e-05,1.95e-05,1.93e-05,1.92e-05,1.91e-05,1.89e-05,1.88e-05,1.87e-05,1.85e-05,1.84e-05,1.83e-05,1.82e-05,1.8e-05,1.79e-05,1.78e-05,1.77e-05,1.76e-05,1.74e-05,1.73e-05,1.72e-05,1.71e-05,1.7e-05,1.69e-05,1.68e-05,1.67e-05,1.65e-05,1.64e-05,1.63e-05,1.62e-05,1.61e-05,1.6e-05,1.59e-05,1.58e-05,1.57e-05,1.56e-05,1.55e-05,1.54e-05,1.53e-05,1.52e-05,1.52e-05,1.51e-05,1.5e-05,1.49e-05,1.48e-05,1.47e-05,1.46e-05,1.45e-05,1.44e-05,1.44e-05,1.43e-05,1.42e-05,1.41e-05,1.4e-05,1.39e-05,1.39e-05,1.38e-05,1.37e-05,1.36e-05,1.35e-05,1.35e-05,1.34e-05,1.33e-05,1.32e-05,1.32e-05,1.31e-05,1.3e-05,1.29e-05,1.29e-05,1.28e-05,1.27e-05,1.27e-05,1.26e-05,1.25e-05,1.24e-05,1.24e-05,1.23e-05,1.22e-05,1.22e-05,1.21e-05,1.21e-05,1.2e-05,1.19e-05,1.19e-05,1.18e-05,1.17e-05,1.17e-05,1.16e-05,1.16e-05,1.15e-05,1.14e-05,1.14e-05,1.13e-05,1.13e-05,1.12e-05,1.11e-05,1.11e-05,1.1e-05,1.1e-05,1.09e-05,1.09e-05,1.08e-05,1.08e-05,1.07e-05,1.06e-05,1.06e-05,1.05e-05,1.05e-05,1.04e-05,1.04e-05,1.03e-05,1.03e-05,1.02e-05,1.02e-05,1.01e-05,1.01e-05,1e-05,9.99e-06,9.94e-06,9.9e-06,9.85e-06,9.8e-06,9.75e-06,9.71e-06,9.66e-06,9.62e-06,9.57e-06,9.53e-06,9.48e-06,9.44e-06,9.4e-06,9.35e-06,9.31e-06,9.27e-06,9.22e-06,9.18e-06,9.14e-06,9.1e-06,9.06e-06,9.02e-06,8.98e-06,8.94e-06,8.9e-06,8.86e-06,8.82e-06,8.78e-06,8.74e-06,8.7e-06,8.66e-06,8.62e-06,8.59e-06,8.55e-06,8.51e-06,8.47e-06,8.44e-06,8.4e-06,8.36e-06,8.33e-06,8.29e-06,8.26e-06,8.22e-06,8.19e-06,8.15e-06,8.12e-06,8.08e-06,8.05e-06,8.02e-06,7.98e-06,7.95e-06,7.91e-06,7.88e-06,7.85e-06,7.82e-06,7.78e-06,7.75e-06,7.72e-06,7.69e-06,7.66e-06],\"type\":\"scatter\"}],                        {\"template\":{\"data\":{\"histogram2dcontour\":[{\"type\":\"histogram2dcontour\",\"colorbar\":{\"outlinewidth\":0,\"ticks\":\"\"},\"colorscale\":[[0.0,\"#0d0887\"],[0.1111111111111111,\"#46039f\"],[0.2222222222222222,\"#7201a8\"],[0.3333333333333333,\"#9c179e\"],[0.4444444444444444,\"#bd3786\"],[0.5555555555555556,\"#d8576b\"],[0.6666666666666666,\"#ed7953\"],[0.7777777777777778,\"#fb9f3a\"],[0.8888888888888888,\"#fdca26\"],[1.0,\"#f0f921\"]]}],\"choropleth\":[{\"type\":\"choropleth\",\"colorbar\":{\"outlinewidth\":0,\"ticks\":\"\"}}],\"histogram2d\":[{\"type\":\"histogram2d\",\"colorbar\":{\"outlinewidth\":0,\"ticks\":\"\"},\"colorscale\":[[0.0,\"#0d0887\"],[0.1111111111111111,\"#46039f\"],[0.2222222222222222,\"#7201a8\"],[0.3333333333333333,\"#9c179e\"],[0.4444444444444444,\"#bd3786\"],[0.5555555555555556,\"#d8576b\"],[0.6666666666666666,\"#ed7953\"],[0.7777777777777778,\"#fb9f3a\"],[0.8888888888888888,\"#fdca26\"],[1.0,\"#f0f921\"]]}],\"heatmap\":[{\"type\":\"heatmap\",\"colorbar\":{\"outlinewidth\":0,\"ticks\":\"\"},\"colorscale\":[[0.0,\"#0d0887\"],[0.1111111111111111,\"#46039f\"],[0.2222222222222222,\"#7201a8\"],[0.3333333333333333,\"#9c179e\"],[0.4444444444444444,\"#bd3786\"],[0.5555555555555556,\"#d8576b\"],[0.6666666666666666,\"#ed7953\"],[0.7777777777777778,\"#fb9f3a\"],[0.8888888888888888,\"#fdca26\"],[1.0,\"#f0f921\"]]}],\"heatmapgl\":[{\"type\":\"heatmapgl\",\"colorbar\":{\"outlinewidth\":0,\"ticks\":\"\"},\"colorscale\":[[0.0,\"#0d0887\"],[0.1111111111111111,\"#46039f\"],[0.2222222222222222,\"#7201a8\"],[0.3333333333333333,\"#9c179e\"],[0.4444444444444444,\"#bd3786\"],[0.5555555555555556,\"#d8576b\"],[0.6666666666666666,\"#ed7953\"],[0.7777777777777778,\"#fb9f3a\"],[0.8888888888888888,\"#fdca26\"],[1.0,\"#f0f921\"]]}],\"contourcarpet\":[{\"type\":\"contourcarpet\",\"colorbar\":{\"outlinewidth\":0,\"ticks\":\"\"}}],\"contour\":[{\"type\":\"contour\",\"colorbar\":{\"outlinewidth\":0,\"ticks\":\"\"},\"colorscale\":[[0.0,\"#0d0887\"],[0.1111111111111111,\"#46039f\"],[0.2222222222222222,\"#7201a8\"],[0.3333333333333333,\"#9c179e\"],[0.4444444444444444,\"#bd3786\"],[0.5555555555555556,\"#d8576b\"],[0.6666666666666666,\"#ed7953\"],[0.7777777777777778,\"#fb9f3a\"],[0.8888888888888888,\"#fdca26\"],[1.0,\"#f0f921\"]]}],\"surface\":[{\"type\":\"surface\",\"colorbar\":{\"outlinewidth\":0,\"ticks\":\"\"},\"colorscale\":[[0.0,\"#0d0887\"],[0.1111111111111111,\"#46039f\"],[0.2222222222222222,\"#7201a8\"],[0.3333333333333333,\"#9c179e\"],[0.4444444444444444,\"#bd3786\"],[0.5555555555555556,\"#d8576b\"],[0.6666666666666666,\"#ed7953\"],[0.7777777777777778,\"#fb9f3a\"],[0.8888888888888888,\"#fdca26\"],[1.0,\"#f0f921\"]]}],\"mesh3d\":[{\"type\":\"mesh3d\",\"colorbar\":{\"outlinewidth\":0,\"ticks\":\"\"}}],\"scatter\":[{\"fillpattern\":{\"fillmode\":\"overlay\",\"size\":10,\"solidity\":0.2},\"type\":\"scatter\"}],\"parcoords\":[{\"type\":\"parcoords\",\"line\":{\"colorbar\":{\"outlinewidth\":0,\"ticks\":\"\"}}}],\"scatterpolargl\":[{\"type\":\"scatterpolargl\",\"marker\":{\"colorbar\":{\"outlinewidth\":0,\"ticks\":\"\"}}}],\"bar\":[{\"error_x\":{\"color\":\"#2a3f5f\"},\"error_y\":{\"color\":\"#2a3f5f\"},\"marker\":{\"line\":{\"color\":\"#E5ECF6\",\"width\":0.5},\"pattern\":{\"fillmode\":\"overlay\",\"size\":10,\"solidity\":0.2}},\"type\":\"bar\"}],\"scattergeo\":[{\"type\":\"scattergeo\",\"marker\":{\"colorbar\":{\"outlinewidth\":0,\"ticks\":\"\"}}}],\"scatterpolar\":[{\"type\":\"scatterpolar\",\"marker\":{\"colorbar\":{\"outlinewidth\":0,\"ticks\":\"\"}}}],\"histogram\":[{\"marker\":{\"pattern\":{\"fillmode\":\"overlay\",\"size\":10,\"solidity\":0.2}},\"type\":\"histogram\"}],\"scattergl\":[{\"type\":\"scattergl\",\"marker\":{\"colorbar\":{\"outlinewidth\":0,\"ticks\":\"\"}}}],\"scatter3d\":[{\"type\":\"scatter3d\",\"line\":{\"colorbar\":{\"outlinewidth\":0,\"ticks\":\"\"}},\"marker\":{\"colorbar\":{\"outlinewidth\":0,\"ticks\":\"\"}}}],\"scattermapbox\":[{\"type\":\"scattermapbox\",\"marker\":{\"colorbar\":{\"outlinewidth\":0,\"ticks\":\"\"}}}],\"scatterternary\":[{\"type\":\"scatterternary\",\"marker\":{\"colorbar\":{\"outlinewidth\":0,\"ticks\":\"\"}}}],\"scattercarpet\":[{\"type\":\"scattercarpet\",\"marker\":{\"colorbar\":{\"outlinewidth\":0,\"ticks\":\"\"}}}],\"carpet\":[{\"aaxis\":{\"endlinecolor\":\"#2a3f5f\",\"gridcolor\":\"white\",\"linecolor\":\"white\",\"minorgridcolor\":\"white\",\"startlinecolor\":\"#2a3f5f\"},\"baxis\":{\"endlinecolor\":\"#2a3f5f\",\"gridcolor\":\"white\",\"linecolor\":\"white\",\"minorgridcolor\":\"white\",\"startlinecolor\":\"#2a3f5f\"},\"type\":\"carpet\"}],\"table\":[{\"cells\":{\"fill\":{\"color\":\"#EBF0F8\"},\"line\":{\"color\":\"white\"}},\"header\":{\"fill\":{\"color\":\"#C8D4E3\"},\"line\":{\"color\":\"white\"}},\"type\":\"table\"}],\"barpolar\":[{\"marker\":{\"line\":{\"color\":\"#E5ECF6\",\"width\":0.5},\"pattern\":{\"fillmode\":\"overlay\",\"size\":10,\"solidity\":0.2}},\"type\":\"barpolar\"}],\"pie\":[{\"automargin\":true,\"type\":\"pie\"}]},\"layout\":{\"autotypenumbers\":\"strict\",\"colorway\":[\"#636efa\",\"#EF553B\",\"#00cc96\",\"#ab63fa\",\"#FFA15A\",\"#19d3f3\",\"#FF6692\",\"#B6E880\",\"#FF97FF\",\"#FECB52\"],\"font\":{\"color\":\"#2a3f5f\"},\"hovermode\":\"closest\",\"hoverlabel\":{\"align\":\"left\"},\"paper_bgcolor\":\"white\",\"plot_bgcolor\":\"#E5ECF6\",\"polar\":{\"bgcolor\":\"#E5ECF6\",\"angularaxis\":{\"gridcolor\":\"white\",\"linecolor\":\"white\",\"ticks\":\"\"},\"radialaxis\":{\"gridcolor\":\"white\",\"linecolor\":\"white\",\"ticks\":\"\"}},\"ternary\":{\"bgcolor\":\"#E5ECF6\",\"aaxis\":{\"gridcolor\":\"white\",\"linecolor\":\"white\",\"ticks\":\"\"},\"baxis\":{\"gridcolor\":\"white\",\"linecolor\":\"white\",\"ticks\":\"\"},\"caxis\":{\"gridcolor\":\"white\",\"linecolor\":\"white\",\"ticks\":\"\"}},\"coloraxis\":{\"colorbar\":{\"outlinewidth\":0,\"ticks\":\"\"}},\"colorscale\":{\"sequential\":[[0.0,\"#0d0887\"],[0.1111111111111111,\"#46039f\"],[0.2222222222222222,\"#7201a8\"],[0.3333333333333333,\"#9c179e\"],[0.4444444444444444,\"#bd3786\"],[0.5555555555555556,\"#d8576b\"],[0.6666666666666666,\"#ed7953\"],[0.7777777777777778,\"#fb9f3a\"],[0.8888888888888888,\"#fdca26\"],[1.0,\"#f0f921\"]],\"sequentialminus\":[[0.0,\"#0d0887\"],[0.1111111111111111,\"#46039f\"],[0.2222222222222222,\"#7201a8\"],[0.3333333333333333,\"#9c179e\"],[0.4444444444444444,\"#bd3786\"],[0.5555555555555556,\"#d8576b\"],[0.6666666666666666,\"#ed7953\"],[0.7777777777777778,\"#fb9f3a\"],[0.8888888888888888,\"#fdca26\"],[1.0,\"#f0f921\"]],\"diverging\":[[0,\"#8e0152\"],[0.1,\"#c51b7d\"],[0.2,\"#de77ae\"],[0.3,\"#f1b6da\"],[0.4,\"#fde0ef\"],[0.5,\"#f7f7f7\"],[0.6,\"#e6f5d0\"],[0.7,\"#b8e186\"],[0.8,\"#7fbc41\"],[0.9,\"#4d9221\"],[1,\"#276419\"]]},\"xaxis\":{\"gridcolor\":\"white\",\"linecolor\":\"white\",\"ticks\":\"\",\"title\":{\"standoff\":15},\"zerolinecolor\":\"white\",\"automargin\":true,\"zerolinewidth\":2},\"yaxis\":{\"gridcolor\":\"white\",\"linecolor\":\"white\",\"ticks\":\"\",\"title\":{\"standoff\":15},\"zerolinecolor\":\"white\",\"automargin\":true,\"zerolinewidth\":2},\"scene\":{\"xaxis\":{\"backgroundcolor\":\"#E5ECF6\",\"gridcolor\":\"white\",\"linecolor\":\"white\",\"showbackground\":true,\"ticks\":\"\",\"zerolinecolor\":\"white\",\"gridwidth\":2},\"yaxis\":{\"backgroundcolor\":\"#E5ECF6\",\"gridcolor\":\"white\",\"linecolor\":\"white\",\"showbackground\":true,\"ticks\":\"\",\"zerolinecolor\":\"white\",\"gridwidth\":2},\"zaxis\":{\"backgroundcolor\":\"#E5ECF6\",\"gridcolor\":\"white\",\"linecolor\":\"white\",\"showbackground\":true,\"ticks\":\"\",\"zerolinecolor\":\"white\",\"gridwidth\":2}},\"shapedefaults\":{\"line\":{\"color\":\"#2a3f5f\"}},\"annotationdefaults\":{\"arrowcolor\":\"#2a3f5f\",\"arrowhead\":0,\"arrowwidth\":1},\"geo\":{\"bgcolor\":\"white\",\"landcolor\":\"#E5ECF6\",\"subunitcolor\":\"white\",\"showland\":true,\"showlakes\":true,\"lakecolor\":\"white\"},\"title\":{\"x\":0.05},\"mapbox\":{\"style\":\"light\"}}},\"title\":{\"text\":\"Intensities over frequency\",\"x\":0.5}},                        {\"responsive\": true}                    ).then(function(){\n",
              "                            \n",
              "var gd = document.getElementById('868eabd5-c23a-49e8-a8a3-3ae2c5975022');\n",
              "var x = new MutationObserver(function (mutations, observer) {{\n",
              "        var display = window.getComputedStyle(gd).display;\n",
              "        if (!display || display === 'none') {{\n",
              "            console.log([gd, 'removed!']);\n",
              "            Plotly.purge(gd);\n",
              "            observer.disconnect();\n",
              "        }}\n",
              "}});\n",
              "\n",
              "// Listen for the removal of the full notebook cells\n",
              "var notebookContainer = gd.closest('#notebook-container');\n",
              "if (notebookContainer) {{\n",
              "    x.observe(notebookContainer, {childList: true});\n",
              "}}\n",
              "\n",
              "// Listen for the clearing of the current output cell\n",
              "var outputEl = gd.closest('.output');\n",
              "if (outputEl) {{\n",
              "    x.observe(outputEl, {childList: true});\n",
              "}}\n",
              "\n",
              "                        })                };                            </script>        </div>\n",
              "</body>\n",
              "</html>"
            ]
          },
          "metadata": {},
          "output_type": "display_data"
        }
      ],
      "source": [
        "# change the index values below to pick molecules with and without a carbonyl\n",
        "idx_hasCarbonyl=7\n",
        "idx_notCarbonyl=23\n",
        "# get the data for the two molecules\n",
        "hasCarbonyl=train.set_index('name').iloc[idx_hasCarbonyl,3:]\n",
        "notCarbonyl=train.set_index('name').iloc[idx_notCarbonyl,3:]\n",
        "# plot the spectra\n",
        "fig = go.Figure()\n",
        "fig.add_trace(go.Scatter(x=hasCarbonyl.index, y=hasCarbonyl, name=hasCarbonyl.name,mode='markers'))\n",
        "fig.add_trace(go.Scatter(x=notCarbonyl.index, y=notCarbonyl,name=notCarbonyl.name,mode='markers'))\n",
        "fig.update_layout(title='Intensities over frequency',title_x=0.5)"
      ]
    },
    {
      "cell_type": "markdown",
      "metadata": {
        "id": "vGir6sC0BJo5"
      },
      "source": [
        "Notice that the spectra span the same frequency range, but the maximum intensity value is different for each molecule."
      ]
    },
    {
      "cell_type": "code",
      "execution_count": null,
      "metadata": {
        "colab": {
          "background_save": true
        },
        "id": "rOrvD4zECJ41"
      },
      "outputs": [],
      "source": [
        "# define a function to perform min-max normalization\n",
        "def df_normalize(df,i=3):\n",
        "  \"\"\"\n",
        "  apply min-max_scaler to each rows\n",
        "  since min-max scaler originally applies to columns,\n",
        "  we will use transposed data and then update the data with transposed result\n",
        "  \"\"\"\n",
        "  min_max_scaler = preprocessing.MinMaxScaler()\n",
        "  df.iloc[:,i:] = min_max_scaler.fit_transform(df.iloc[:,i:].T).T"
      ]
    },
    {
      "cell_type": "code",
      "execution_count": null,
      "metadata": {
        "colab": {
          "background_save": true
        },
        "id": "L-WYyWxBCM4J"
      },
      "outputs": [],
      "source": [
        "# use the functional to normalize the training and test data\n",
        "df_normalize(train)\n",
        "df_normalize(test)"
      ]
    },
    {
      "cell_type": "code",
      "execution_count": null,
      "metadata": {
        "colab": {
          "background_save": true,
          "base_uri": "https://localhost:8080/",
          "height": 542
        },
        "id": "9QwJhWTFCWfK",
        "outputId": "8547878a-1743-42cc-ee0f-40f6e8c8fd73"
      },
      "outputs": [
        {
          "data": {
            "text/html": [
              "<html>\n",
              "<head><meta charset=\"utf-8\" /></head>\n",
              "<body>\n",
              "    <div>            <script src=\"https://cdnjs.cloudflare.com/ajax/libs/mathjax/2.7.5/MathJax.js?config=TeX-AMS-MML_SVG\"></script><script type=\"text/javascript\">if (window.MathJax && window.MathJax.Hub && window.MathJax.Hub.Config) {window.MathJax.Hub.Config({SVG: {font: \"STIX-Web\"}});}</script>                <script type=\"text/javascript\">window.PlotlyConfig = {MathJaxConfig: 'local'};</script>\n",
              "        <script charset=\"utf-8\" src=\"https://cdn.plot.ly/plotly-2.24.1.min.js\"></script>                <div id=\"cf880c74-0619-4c05-8ab2-40f23ab5e7cc\" class=\"plotly-graph-div\" style=\"height:525px; width:100%;\"></div>            <script type=\"text/javascript\">                                    window.PLOTLYENV=window.PLOTLYENV || {};                                    if (document.getElementById(\"cf880c74-0619-4c05-8ab2-40f23ab5e7cc\")) {                    Plotly.newPlot(                        \"cf880c74-0619-4c05-8ab2-40f23ab5e7cc\",                        [{\"mode\":\"markers\",\"name\":\"NN-diethylacetamide\",\"x\":[\"502\",\"504\",\"506\",\"508\",\"510\",\"512\",\"514\",\"516\",\"518\",\"520\",\"522\",\"524\",\"526\",\"528\",\"530\",\"532\",\"534\",\"536\",\"538\",\"540\",\"542\",\"544\",\"546\",\"548\",\"550\",\"552\",\"554\",\"556\",\"558\",\"560\",\"562\",\"564\",\"566\",\"568\",\"570\",\"572\",\"574\",\"576\",\"578\",\"580\",\"582\",\"584\",\"586\",\"588\",\"590\",\"592\",\"594\",\"596\",\"598\",\"600\",\"602\",\"604\",\"606\",\"608\",\"610\",\"612\",\"614\",\"616\",\"618\",\"620\",\"622\",\"624\",\"626\",\"628\",\"630\",\"632\",\"634\",\"636\",\"638\",\"640\",\"642\",\"644\",\"646\",\"648\",\"650\",\"652\",\"654\",\"656\",\"658\",\"660\",\"662\",\"664\",\"666\",\"668\",\"670\",\"672\",\"674\",\"676\",\"678\",\"680\",\"682\",\"684\",\"686\",\"688\",\"690\",\"692\",\"694\",\"696\",\"698\",\"700\",\"702\",\"704\",\"706\",\"708\",\"710\",\"712\",\"714\",\"716\",\"718\",\"720\",\"722\",\"724\",\"726\",\"728\",\"730\",\"732\",\"734\",\"736\",\"738\",\"740\",\"742\",\"744\",\"746\",\"748\",\"750\",\"752\",\"754\",\"756\",\"758\",\"760\",\"762\",\"764\",\"766\",\"768\",\"770\",\"772\",\"774\",\"776\",\"778\",\"780\",\"782\",\"784\",\"786\",\"788\",\"790\",\"792\",\"794\",\"796\",\"798\",\"800\",\"802\",\"804\",\"806\",\"808\",\"810\",\"812\",\"814\",\"816\",\"818\",\"820\",\"822\",\"824\",\"826\",\"828\",\"830\",\"832\",\"834\",\"836\",\"838\",\"840\",\"842\",\"844\",\"846\",\"848\",\"850\",\"852\",\"854\",\"856\",\"858\",\"860\",\"862\",\"864\",\"866\",\"868\",\"870\",\"872\",\"874\",\"876\",\"878\",\"880\",\"882\",\"884\",\"886\",\"888\",\"890\",\"892\",\"894\",\"896\",\"898\",\"900\",\"902\",\"904\",\"906\",\"908\",\"910\",\"912\",\"914\",\"916\",\"918\",\"920\",\"922\",\"924\",\"926\",\"928\",\"930\",\"932\",\"934\",\"936\",\"938\",\"940\",\"942\",\"944\",\"946\",\"948\",\"950\",\"952\",\"954\",\"956\",\"958\",\"960\",\"962\",\"964\",\"966\",\"968\",\"970\",\"972\",\"974\",\"976\",\"978\",\"980\",\"982\",\"984\",\"986\",\"988\",\"990\",\"992\",\"994\",\"996\",\"998\",\"1000\",\"1002\",\"1004\",\"1006\",\"1008\",\"1010\",\"1012\",\"1014\",\"1016\",\"1018\",\"1020\",\"1022\",\"1024\",\"1026\",\"1028\",\"1030\",\"1032\",\"1034\",\"1036\",\"1038\",\"1040\",\"1042\",\"1044\",\"1046\",\"1048\",\"1050\",\"1052\",\"1054\",\"1056\",\"1058\",\"1060\",\"1062\",\"1064\",\"1066\",\"1068\",\"1070\",\"1072\",\"1074\",\"1076\",\"1078\",\"1080\",\"1082\",\"1084\",\"1086\",\"1088\",\"1090\",\"1092\",\"1094\",\"1096\",\"1098\",\"1100\",\"1102\",\"1104\",\"1106\",\"1108\",\"1110\",\"1112\",\"1114\",\"1116\",\"1118\",\"1120\",\"1122\",\"1124\",\"1126\",\"1128\",\"1130\",\"1132\",\"1134\",\"1136\",\"1138\",\"1140\",\"1142\",\"1144\",\"1146\",\"1148\",\"1150\",\"1152\",\"1154\",\"1156\",\"1158\",\"1160\",\"1162\",\"1164\",\"1166\",\"1168\",\"1170\",\"1172\",\"1174\",\"1176\",\"1178\",\"1180\",\"1182\",\"1184\",\"1186\",\"1188\",\"1190\",\"1192\",\"1194\",\"1196\",\"1198\",\"1200\",\"1202\",\"1204\",\"1206\",\"1208\",\"1210\",\"1212\",\"1214\",\"1216\",\"1218\",\"1220\",\"1222\",\"1224\",\"1226\",\"1228\",\"1230\",\"1232\",\"1234\",\"1236\",\"1238\",\"1240\",\"1242\",\"1244\",\"1246\",\"1248\",\"1250\",\"1252\",\"1254\",\"1256\",\"1258\",\"1260\",\"1262\",\"1264\",\"1266\",\"1268\",\"1270\",\"1272\",\"1274\",\"1276\",\"1278\",\"1280\",\"1282\",\"1284\",\"1286\",\"1288\",\"1290\",\"1292\",\"1294\",\"1296\",\"1298\",\"1300\",\"1302\",\"1304\",\"1306\",\"1308\",\"1310\",\"1312\",\"1314\",\"1316\",\"1318\",\"1320\",\"1322\",\"1324\",\"1326\",\"1328\",\"1330\",\"1332\",\"1334\",\"1336\",\"1338\",\"1340\",\"1342\",\"1344\",\"1346\",\"1348\",\"1350\",\"1352\",\"1354\",\"1356\",\"1358\",\"1360\",\"1362\",\"1364\",\"1366\",\"1368\",\"1370\",\"1372\",\"1374\",\"1376\",\"1378\",\"1380\",\"1382\",\"1384\",\"1386\",\"1388\",\"1390\",\"1392\",\"1394\",\"1396\",\"1398\",\"1400\",\"1402\",\"1404\",\"1406\",\"1408\",\"1410\",\"1412\",\"1414\",\"1416\",\"1418\",\"1420\",\"1422\",\"1424\",\"1426\",\"1428\",\"1430\",\"1432\",\"1434\",\"1436\",\"1438\",\"1440\",\"1442\",\"1444\",\"1446\",\"1448\",\"1450\",\"1452\",\"1454\",\"1456\",\"1458\",\"1460\",\"1462\",\"1464\",\"1466\",\"1468\",\"1470\",\"1472\",\"1474\",\"1476\",\"1478\",\"1480\",\"1482\",\"1484\",\"1486\",\"1488\",\"1490\",\"1492\",\"1494\",\"1496\",\"1498\",\"1500\",\"1502\",\"1504\",\"1506\",\"1508\",\"1510\",\"1512\",\"1514\",\"1516\",\"1518\",\"1520\",\"1522\",\"1524\",\"1526\",\"1528\",\"1530\",\"1532\",\"1534\",\"1536\",\"1538\",\"1540\",\"1542\",\"1544\",\"1546\",\"1548\",\"1550\",\"1552\",\"1554\",\"1556\",\"1558\",\"1560\",\"1562\",\"1564\",\"1566\",\"1568\",\"1570\",\"1572\",\"1574\",\"1576\",\"1578\",\"1580\",\"1582\",\"1584\",\"1586\",\"1588\",\"1590\",\"1592\",\"1594\",\"1596\",\"1598\",\"1600\",\"1602\",\"1604\",\"1606\",\"1608\",\"1610\",\"1612\",\"1614\",\"1616\",\"1618\",\"1620\",\"1622\",\"1624\",\"1626\",\"1628\",\"1630\",\"1632\",\"1634\",\"1636\",\"1638\",\"1640\",\"1642\",\"1644\",\"1646\",\"1648\",\"1650\",\"1652\",\"1654\",\"1656\",\"1658\",\"1660\",\"1662\",\"1664\",\"1666\",\"1668\",\"1670\",\"1672\",\"1674\",\"1676\",\"1678\",\"1680\",\"1682\",\"1684\",\"1686\",\"1688\",\"1690\",\"1692\",\"1694\",\"1696\",\"1698\",\"1700\",\"1702\",\"1704\",\"1706\",\"1708\",\"1710\",\"1712\",\"1714\",\"1716\",\"1718\",\"1720\",\"1722\",\"1724\",\"1726\",\"1728\",\"1730\",\"1732\",\"1734\",\"1736\",\"1738\",\"1740\",\"1742\",\"1744\",\"1746\",\"1748\",\"1750\",\"1752\",\"1754\",\"1756\",\"1758\",\"1760\",\"1762\",\"1764\",\"1766\",\"1768\",\"1770\",\"1772\",\"1774\",\"1776\",\"1778\",\"1780\",\"1782\",\"1784\",\"1786\",\"1788\",\"1790\",\"1792\",\"1794\",\"1796\",\"1798\",\"1800\",\"1802\",\"1804\",\"1806\",\"1808\",\"1810\",\"1812\",\"1814\",\"1816\",\"1818\",\"1820\",\"1822\",\"1824\",\"1826\",\"1828\",\"1830\",\"1832\",\"1834\",\"1836\",\"1838\",\"1840\",\"1842\",\"1844\",\"1846\",\"1848\",\"1850\",\"1852\",\"1854\",\"1856\",\"1858\",\"1860\",\"1862\",\"1864\",\"1866\",\"1868\",\"1870\",\"1872\",\"1874\",\"1876\",\"1878\",\"1880\",\"1882\",\"1884\",\"1886\",\"1888\",\"1890\",\"1892\",\"1894\",\"1896\",\"1898\",\"1900\",\"1902\",\"1904\",\"1906\",\"1908\",\"1910\",\"1912\",\"1914\",\"1916\",\"1918\",\"1920\",\"1922\",\"1924\",\"1926\",\"1928\",\"1930\",\"1932\",\"1934\",\"1936\",\"1938\",\"1940\",\"1942\",\"1944\",\"1946\",\"1948\",\"1950\",\"1952\",\"1954\",\"1956\",\"1958\",\"1960\",\"1962\",\"1964\",\"1966\",\"1968\",\"1970\",\"1972\",\"1974\",\"1976\",\"1978\",\"1980\",\"1982\",\"1984\",\"1986\",\"1988\",\"1990\",\"1992\",\"1994\",\"1996\",\"1998\",\"2000\",\"2002\",\"2004\",\"2006\",\"2008\",\"2010\",\"2012\",\"2014\",\"2016\",\"2018\",\"2020\",\"2022\",\"2024\",\"2026\",\"2028\",\"2030\",\"2032\",\"2034\",\"2036\",\"2038\",\"2040\",\"2042\",\"2044\",\"2046\",\"2048\",\"2050\",\"2052\",\"2054\",\"2056\",\"2058\",\"2060\",\"2062\",\"2064\",\"2066\",\"2068\",\"2070\",\"2072\",\"2074\",\"2076\",\"2078\",\"2080\",\"2082\",\"2084\",\"2086\",\"2088\",\"2090\",\"2092\",\"2094\",\"2096\",\"2098\",\"2100\",\"2102\",\"2104\",\"2106\",\"2108\",\"2110\",\"2112\",\"2114\",\"2116\",\"2118\",\"2120\",\"2122\",\"2124\",\"2126\",\"2128\",\"2130\",\"2132\",\"2134\",\"2136\",\"2138\",\"2140\",\"2142\",\"2144\",\"2146\",\"2148\",\"2150\",\"2152\",\"2154\",\"2156\",\"2158\",\"2160\",\"2162\",\"2164\",\"2166\",\"2168\",\"2170\",\"2172\",\"2174\",\"2176\",\"2178\",\"2180\",\"2182\",\"2184\",\"2186\",\"2188\",\"2190\",\"2192\",\"2194\",\"2196\",\"2198\",\"2200\",\"2202\",\"2204\",\"2206\",\"2208\",\"2210\",\"2212\",\"2214\",\"2216\",\"2218\",\"2220\",\"2222\",\"2224\",\"2226\",\"2228\",\"2230\",\"2232\",\"2234\",\"2236\",\"2238\",\"2240\",\"2242\",\"2244\",\"2246\",\"2248\",\"2250\",\"2252\",\"2254\",\"2256\",\"2258\",\"2260\",\"2262\",\"2264\",\"2266\",\"2268\",\"2270\",\"2272\",\"2274\",\"2276\",\"2278\",\"2280\",\"2282\",\"2284\",\"2286\",\"2288\",\"2290\",\"2292\",\"2294\",\"2296\",\"2298\",\"2300\",\"2302\",\"2304\",\"2306\",\"2308\",\"2310\",\"2312\",\"2314\",\"2316\",\"2318\",\"2320\",\"2322\",\"2324\",\"2326\",\"2328\",\"2330\",\"2332\",\"2334\",\"2336\",\"2338\",\"2340\",\"2342\",\"2344\",\"2346\",\"2348\",\"2350\",\"2352\",\"2354\",\"2356\",\"2358\",\"2360\",\"2362\",\"2364\",\"2366\",\"2368\",\"2370\",\"2372\",\"2374\",\"2376\",\"2378\",\"2380\",\"2382\",\"2384\",\"2386\",\"2388\",\"2390\",\"2392\",\"2394\",\"2396\",\"2398\",\"2400\",\"2402\",\"2404\",\"2406\",\"2408\",\"2410\",\"2412\",\"2414\",\"2416\",\"2418\",\"2420\",\"2422\",\"2424\",\"2426\",\"2428\",\"2430\",\"2432\",\"2434\",\"2436\",\"2438\",\"2440\",\"2442\",\"2444\",\"2446\",\"2448\",\"2450\",\"2452\",\"2454\",\"2456\",\"2458\",\"2460\",\"2462\",\"2464\",\"2466\",\"2468\",\"2470\",\"2472\",\"2474\",\"2476\",\"2478\",\"2480\",\"2482\",\"2484\",\"2486\",\"2488\",\"2490\",\"2492\",\"2494\",\"2496\",\"2498\",\"2500\",\"2502\",\"2504\",\"2506\",\"2508\",\"2510\",\"2512\",\"2514\",\"2516\",\"2518\",\"2520\",\"2522\",\"2524\",\"2526\",\"2528\",\"2530\",\"2532\",\"2534\",\"2536\",\"2538\",\"2540\",\"2542\",\"2544\",\"2546\",\"2548\",\"2550\",\"2552\",\"2554\",\"2556\",\"2558\",\"2560\",\"2562\",\"2564\",\"2566\",\"2568\",\"2570\",\"2572\",\"2574\",\"2576\",\"2578\",\"2580\",\"2582\",\"2584\",\"2586\",\"2588\",\"2590\",\"2592\",\"2594\",\"2596\",\"2598\",\"2600\",\"2602\",\"2604\",\"2606\",\"2608\",\"2610\",\"2612\",\"2614\",\"2616\",\"2618\",\"2620\",\"2622\",\"2624\",\"2626\",\"2628\",\"2630\",\"2632\",\"2634\",\"2636\",\"2638\",\"2640\",\"2642\",\"2644\",\"2646\",\"2648\",\"2650\",\"2652\",\"2654\",\"2656\",\"2658\",\"2660\",\"2662\",\"2664\",\"2666\",\"2668\",\"2670\",\"2672\",\"2674\",\"2676\",\"2678\",\"2680\",\"2682\",\"2684\",\"2686\",\"2688\",\"2690\",\"2692\",\"2694\",\"2696\",\"2698\",\"2700\",\"2702\",\"2704\",\"2706\",\"2708\",\"2710\",\"2712\",\"2714\",\"2716\",\"2718\",\"2720\",\"2722\",\"2724\",\"2726\",\"2728\",\"2730\",\"2732\",\"2734\",\"2736\",\"2738\",\"2740\",\"2742\",\"2744\",\"2746\",\"2748\",\"2750\",\"2752\",\"2754\",\"2756\",\"2758\",\"2760\",\"2762\",\"2764\",\"2766\",\"2768\",\"2770\",\"2772\",\"2774\",\"2776\",\"2778\",\"2780\",\"2782\",\"2784\",\"2786\",\"2788\",\"2790\",\"2792\",\"2794\",\"2796\",\"2798\",\"2800\",\"2802\",\"2804\",\"2806\",\"2808\",\"2810\",\"2812\",\"2814\",\"2816\",\"2818\",\"2820\",\"2822\",\"2824\",\"2826\",\"2828\",\"2830\",\"2832\",\"2834\",\"2836\",\"2838\",\"2840\",\"2842\",\"2844\",\"2846\",\"2848\",\"2850\",\"2852\",\"2854\",\"2856\",\"2858\",\"2860\",\"2862\",\"2864\",\"2866\",\"2868\",\"2870\",\"2872\",\"2874\",\"2876\",\"2878\",\"2880\",\"2882\",\"2884\",\"2886\",\"2888\",\"2890\",\"2892\",\"2894\",\"2896\",\"2898\",\"2900\",\"2902\",\"2904\",\"2906\",\"2908\",\"2910\",\"2912\",\"2914\",\"2916\",\"2918\",\"2920\",\"2922\",\"2924\",\"2926\",\"2928\",\"2930\",\"2932\",\"2934\",\"2936\",\"2938\",\"2940\",\"2942\",\"2944\",\"2946\",\"2948\",\"2950\",\"2952\",\"2954\",\"2956\",\"2958\",\"2960\",\"2962\",\"2964\",\"2966\",\"2968\",\"2970\",\"2972\",\"2974\",\"2976\",\"2978\",\"2980\",\"2982\",\"2984\",\"2986\",\"2988\",\"2990\",\"2992\",\"2994\",\"2996\",\"2998\",\"3000\",\"3002\",\"3004\",\"3006\",\"3008\",\"3010\",\"3012\",\"3014\",\"3016\",\"3018\",\"3020\",\"3022\",\"3024\",\"3026\",\"3028\",\"3030\",\"3032\",\"3034\",\"3036\",\"3038\",\"3040\",\"3042\",\"3044\",\"3046\",\"3048\",\"3050\",\"3052\",\"3054\",\"3056\",\"3058\",\"3060\",\"3062\",\"3064\",\"3066\",\"3068\",\"3070\",\"3072\",\"3074\",\"3076\",\"3078\",\"3080\",\"3082\",\"3084\",\"3086\",\"3088\",\"3090\",\"3092\",\"3094\",\"3096\",\"3098\",\"3100\",\"3102\",\"3104\",\"3106\",\"3108\",\"3110\",\"3112\",\"3114\",\"3116\",\"3118\",\"3120\",\"3122\",\"3124\",\"3126\",\"3128\",\"3130\",\"3132\",\"3134\",\"3136\",\"3138\",\"3140\",\"3142\",\"3144\",\"3146\",\"3148\",\"3150\",\"3152\",\"3154\",\"3156\",\"3158\",\"3160\",\"3162\",\"3164\",\"3166\",\"3168\",\"3170\",\"3172\",\"3174\",\"3176\",\"3178\",\"3180\",\"3182\",\"3184\",\"3186\",\"3188\",\"3190\",\"3192\",\"3194\",\"3196\",\"3198\",\"3200\",\"3202\",\"3204\",\"3206\",\"3208\",\"3210\",\"3212\",\"3214\",\"3216\",\"3218\",\"3220\",\"3222\",\"3224\",\"3226\",\"3228\",\"3230\",\"3232\",\"3234\",\"3236\",\"3238\",\"3240\",\"3242\",\"3244\",\"3246\",\"3248\",\"3250\",\"3252\",\"3254\",\"3256\",\"3258\",\"3260\",\"3262\",\"3264\",\"3266\",\"3268\",\"3270\",\"3272\",\"3274\",\"3276\",\"3278\",\"3280\",\"3282\",\"3284\",\"3286\",\"3288\",\"3290\",\"3292\",\"3294\",\"3296\",\"3298\",\"3300\",\"3302\",\"3304\",\"3306\",\"3308\",\"3310\",\"3312\",\"3314\",\"3316\",\"3318\",\"3320\",\"3322\",\"3324\",\"3326\",\"3328\",\"3330\",\"3332\",\"3334\",\"3336\",\"3338\",\"3340\",\"3342\",\"3344\",\"3346\",\"3348\",\"3350\",\"3352\",\"3354\",\"3356\",\"3358\",\"3360\",\"3362\",\"3364\",\"3366\",\"3368\",\"3370\",\"3372\",\"3374\",\"3376\",\"3378\",\"3380\",\"3382\",\"3384\",\"3386\",\"3388\",\"3390\",\"3392\",\"3394\",\"3396\",\"3398\",\"3400\",\"3402\",\"3404\",\"3406\",\"3408\",\"3410\",\"3412\",\"3414\",\"3416\",\"3418\",\"3420\",\"3422\",\"3424\",\"3426\",\"3428\",\"3430\",\"3432\",\"3434\",\"3436\",\"3438\",\"3440\",\"3442\",\"3444\",\"3446\",\"3448\",\"3450\",\"3452\",\"3454\",\"3456\",\"3458\",\"3460\",\"3462\",\"3464\",\"3466\",\"3468\",\"3470\",\"3472\",\"3474\",\"3476\",\"3478\",\"3480\",\"3482\",\"3484\",\"3486\",\"3488\",\"3490\",\"3492\",\"3494\",\"3496\",\"3498\",\"3500\",\"3502\",\"3504\",\"3506\",\"3508\",\"3510\",\"3512\",\"3514\",\"3516\",\"3518\",\"3520\",\"3522\",\"3524\",\"3526\",\"3528\",\"3530\",\"3532\",\"3534\",\"3536\",\"3538\",\"3540\",\"3542\",\"3544\",\"3546\",\"3548\",\"3550\",\"3552\",\"3554\",\"3556\",\"3558\",\"3560\",\"3562\",\"3564\",\"3566\",\"3568\",\"3570\",\"3572\",\"3574\",\"3576\",\"3578\",\"3580\",\"3582\",\"3584\",\"3586\",\"3588\",\"3590\",\"3592\",\"3594\",\"3596\",\"3598\",\"3600\",\"3602\",\"3604\",\"3606\",\"3608\",\"3610\",\"3612\",\"3614\",\"3616\",\"3618\",\"3620\",\"3622\",\"3624\",\"3626\",\"3628\",\"3630\",\"3632\",\"3634\",\"3636\",\"3638\",\"3640\",\"3642\",\"3644\",\"3646\",\"3648\",\"3650\",\"3652\",\"3654\",\"3656\",\"3658\",\"3660\",\"3662\",\"3664\",\"3666\",\"3668\",\"3670\",\"3672\",\"3674\",\"3676\",\"3678\",\"3680\",\"3682\",\"3684\",\"3686\",\"3688\",\"3690\",\"3692\",\"3694\",\"3696\",\"3698\",\"3700\",\"3702\",\"3704\",\"3706\",\"3708\",\"3710\",\"3712\",\"3714\",\"3716\",\"3718\",\"3720\",\"3722\",\"3724\",\"3726\",\"3728\",\"3730\",\"3732\",\"3734\",\"3736\",\"3738\",\"3740\",\"3742\",\"3744\",\"3746\",\"3748\",\"3750\",\"3752\",\"3754\",\"3756\",\"3758\",\"3760\",\"3762\",\"3764\",\"3766\",\"3768\",\"3770\",\"3772\",\"3774\",\"3776\",\"3778\",\"3780\",\"3782\",\"3784\",\"3786\",\"3788\",\"3790\",\"3792\",\"3794\",\"3796\",\"3798\",\"3800\",\"3802\",\"3804\",\"3806\",\"3808\",\"3810\",\"3812\",\"3814\",\"3816\",\"3818\",\"3820\",\"3822\",\"3824\",\"3826\",\"3828\",\"3830\",\"3832\",\"3834\",\"3836\",\"3838\",\"3840\",\"3842\",\"3844\",\"3846\",\"3848\",\"3850\",\"3852\",\"3854\",\"3856\",\"3858\",\"3860\",\"3862\",\"3864\",\"3866\",\"3868\",\"3870\",\"3872\",\"3874\",\"3876\",\"3878\",\"3880\",\"3882\",\"3884\",\"3886\",\"3888\",\"3890\",\"3892\",\"3894\",\"3896\",\"3898\",\"3900\",\"3902\",\"3904\",\"3906\",\"3908\",\"3910\",\"3912\",\"3914\",\"3916\",\"3918\",\"3920\",\"3922\",\"3924\",\"3926\",\"3928\",\"3930\",\"3932\",\"3934\",\"3936\",\"3938\",\"3940\",\"3942\",\"3944\",\"3946\",\"3948\",\"3950\",\"3952\",\"3954\",\"3956\",\"3958\",\"3960\",\"3962\",\"3964\",\"3966\",\"3968\",\"3970\",\"3972\",\"3974\",\"3976\",\"3978\",\"3980\",\"3982\",\"3984\",\"3986\",\"3988\",\"3990\",\"3992\",\"3994\",\"3996\",\"3998\",\"4000\"],\"y\":[0.0303185908980347,0.030113846226924257,0.029868152621591718,0.029622459016259185,0.029376765410926653,0.029090122871372026,0.028844429266039494,0.028557786726484867,0.028312093121152335,0.028066399515819806,0.027861654844709354,0.027697859107821,0.027575012305154738,0.027452165502488468,0.027411216568266377,0.027411216568266377,0.027452165502488468,0.027534063370932647,0.027697859107821,0.027902603778931445,0.02814829738426398,0.028434939923818604,0.028803480331817403,0.029253918608260383,0.02970435688470336,0.03023669302959052,0.030809978108699766,0.031465161056253195,0.03212034400380662,0.032816475885582126,0.03355355670157973,0.03433158645179942,0.03510961620201911,0.0358876459522388,0.036665675702458496,0.03744370545267818,0.038180786268675784,0.0388769181504513,0.03950548429076037,0.04009842485829622,0.04062994202449893,0.04109512191726186,0.0414919170898739,0.041820737031677276,0.04208362918938309,0.04228264100970244,0.04242186738605755,0.04250499372252839,0.04253406746582607,0.04251154555200392,0.04243783747040416,0.04231171475300013,0.042130720463738495,0.04189198817722371,0.04159224197871802,0.04122820595348365,0.04079701367612505,0.04029825565730001,0.03973234138635074,0.03910254677801501,0.03842647987400832,0.03768939905801071,0.03687042037356894,0.03605144168912716,0.035232463004685376,0.03437253538602151,0.03351260776735764,0.03265268014869377,0.0317927525300299,0.030973773845588123,0.030195744095368432,0.02941771434514874,0.02868063352915114,0.028025450581597715,0.027370267634044293,0.026756033620712952,0.02618274854160371,0.02565041239671655,0.025199974120273572,0.024749535843830592,0.024340046501609706,0.0239715060936109,0.02368486355405628,0.023398221014501657,0.02315252740916912,0.022947782738058677,0.022743038066948232,0.022620191264281966,0.0224973444616157,0.02241544659317152,0.02237449765894943,0.022333548724727342,0.022333548724727342,0.02237449765894943,0.02241544659317152,0.02245639552739361,0.022538293395837787,0.022620191264281966,0.022702089132726144,0.02282493593539241,0.022947782738058677,0.023111578474947034,0.023234425277613303,0.023398221014501657,0.02356201675139001,0.02372581248827837,0.023930557159388816,0.02413530183049926,0.024340046501609706,0.024585740106942238,0.024872382646496865,0.02515902518605148,0.025486616659828196,0.025855157067826994,0.0262236974758258,0.02667413575226878,0.027124574028711757,0.02765691017359891,0.02823019525270816,0.028803480331817403,0.029458663279370828,0.030195744095368432,0.030932824911366036,0.03175180359580781,0.03261173121447168,0.03351260776735764,0.03445443325446569,0.035478156610017915,0.036542828899792226,0.03764845012378863,0.03875407134778503,0.03991702107969236,0.041086113151733,0.04225684318114253,0.043414879040943204,0.044543431668103976,0.045624483531567124,0.04663796965356383,0.04756382505632526,0.04838280374076705,0.04907606919714701,0.049626832362434106,0.0500228085563617,0.05025417003471651,0.05031764088276074,0.05021363058983663,0.049947872006735276,0.04953019287766997,0.04897574430830289,0.048300905872322865,0.04752492356881428,0.04666827186488817,0.04575101573831338,0.04479240118817428,0.04381003625618636,0.042820710005380694,0.04183834507339278,0.04087481665114702,0.03993954299351451,0.03904112337668188,0.038180786268675784,0.037361807584234005,0.0366247267682364,0.03592859488646089,0.03527341193890747,0.034659177925576136,0.03412684178068898,0.033635454570023905,0.03318501629358093,0.032816475885582126,0.032447935477583324,0.032161292938028704,0.03191559933269617,0.03175180359580781,0.03158800785891946,0.031506109990475276,0.0314242121220311,0.0314242121220311,0.0314242121220311,0.031506109990475276,0.03158800785891946,0.03175180359580781,0.03195654826691825,0.032161292938028704,0.032447935477583324,0.03273457801713795,0.033103118425136746,0.033471658833135555,0.03388114817535644,0.03437253538602151,0.03486392259668658,0.03539625874157373,0.03596954382068298,0.036542828899792226,0.037198011847345655,0.03781224586067699,0.0385083777424525,0.03920328115620135,0.03991169771824349,0.04062830406713004,0.04134900530943881,0.04206847808372092,0.04278221800721193,0.043486130186489634,0.044177757685500724,0.044855053057534074,0.04551801630258969,0.04616664742066758,0.046803403347821064,0.04743115050944569,0.04805357430962145,0.04867558862045497,0.0493012883353685,0.049934768347784216,0.05058053304046656,0.05124144883881107,0.05192079165755553,0.052621427922095475,0.053344995589799785,0.05409436108606401,0.054870752878914825,0.05567744688308998,0.056516900034642804,0.05739361671633773,0.05831128233225474,0.05927481075450049,0.0602903443232083,0.0613627969104848,0.06249912983514778,0.06370384747996163,0.06498268269571747,0.0663397303758375,0.06777785694571727,0.06929951934141008,0.07090389858423153,0.07259017569549717,0.07435507476046921,0.07619245343901433,0.07809535041231482,0.080055166404184,0.08206084520238191,0.08410092110532638,0.08616351892209301,0.08823676346175738,0.09031082698010619,0.09237629122226836,0.09442783282679501,0.09646299485763284,0.09848300578280848,0.10049277947442863,0.10250132469802209,0.1045205166445133,0.10656386846219552,0.10864571227804654,0.11078038021904404,0.11298015696545465,0.11525527975083392,0.11761025295794625,0.12004630505481832,0.12255770319065905,0.12513380064257068,0.12775657987949549,0.1304027000089269,0.13304226830888272,0.1356425256319854,0.13816661793743495,0.1405764627164049,0.14283561541743753,0.14491049791447078,0.14677408391091806,0.14840507996098387,0.1497932488311127,0.15093736205327785,0.15184642839300824,0.15253764640267709,0.1530376328895288,0.1533766900648877,0.15358921503350034,0.15371042387879771,0.15377389472684197,0.15380870132093075,0.15383982251093953,0.15388527582792605,0.15395570799478803,0.15405562339428994,0.15418256509037842,0.15432793380686682,0.15447944486348855,0.154621128175897,0.15473619468106103,0.15480744582660746,0.15481932101753187,0.15475830710554098,0.15461416685707924,0.15437952946398664,0.15404989054349885,0.15362361213824688,0.1531006942482308,0.15248359380950394,0.15177435826877736,0.15097585405144662,0.15009217605093395,0.14912660018197707,0.14808322133799826,0.1469665439017619,0.1457831197027435,0.1445403195491031,0.14324797118505397,0.1419191782695472,0.1405686824189027,0.13921368218549376,0.13787465203643146,0.13657288541751125,0.13533131373189752,0.1341724588934124,0.13311966179456247,0.13219380639180103,0.13141495766289693,0.13080072364956558,0.13036748392549588,0.13012834214963886,0.13009394504489233,0.13027330137678506,0.130671734506766,0.13129292983891508,0.13213852533060122,0.13320688302445555,0.13449349853771356,0.13599141055155758,0.13769038183243204,0.13957608025335927,0.1416313072619659,0.1438343599231143,0.14615903091890228,0.14857542752734776,0.15104956213304638,0.15354458069519825,0.15602199121563465,0.1584420732281601,0.1607667442239481,0.16296037863022542,0.16499349321435214,0.16684438504119056,0.16849913147310516,0.16995568506338488,0.17122141662018964,0.17231434367457718,0.17326272099116077,0.17410094567468695,0.17486996665937776,0.17561400879419312,0.17637770641743508,0.17720487488872128,0.17813728212095825,0.17921137266560364,0.18045867720200848,0.18190540304807487,0.18357079620288724,0.1854671413467122,0.187600580819683,0.18996988615377308,0.19256686756213798,0.19537842138582662,0.19838448264707015,0.20156007249599314,0.20487611718929793,0.20830231451566011,0.21180549583835984,0.21535617792475714,0.21892692498892333,0.22249644358506282,0.22605122056488236,0.22958757052430195,0.23311122631411277,0.23663979597603013,0.2401986678492719,0.24382387699595343,0.24755555337161242,0.2514387408038931,0.2555193020991243,0.25984105261692353,0.2644433033341442,0.26935758493013706,0.27460723829740885,0.280204138626884,0.28614541949316685,0.29241592979059533,0.29898291037179175,0.30579640353700516,0.31279007201279574,0.31987997048400824,0.32696454559377186,0.33392873083692254,0.340645994006714,0.34698284157758225,0.35280496104527886,0.35798377275634646,0.36240380071627876,0.3659696339083383,0.3686137065910586,0.3702987552342975,0.3710223229020019,0.370816759252207,0.3697447161542727,0.367897100242172,0.3653840641489624,0.3623296831453368,0.3588621273954103,0.35510956706329805,0.3511915730369286,0.34721665999199036,0.3432786009878521,0.33945519899953563,0.33580910589640084,0.3323874129528031,0.32922492676283116,0.3263466261763605,0.32376970974576447,0.32150769061933626,0.3195712155199737,0.3179725691279433,0.3167240361235118,0.3158415865910258,0.31534282857220075,0.31524782704480553,0.31557664698660887,0.3163489438860375,0.31758232578480683,0.3192915342992368,0.32148557819485635,0.3241677333864032,0.32733513344848175,0.33097672216885216,0.33507407252711435,0.3396026151627352,0.3445300004176791,0.3498181457831197,0.3554248738568081,0.3613047313217579,0.36740980792492917,0.37369342188130866,0.3801101198739101,0.38661649603245773,0.3931740583587831,0.3997492287268239,0.4063133428826248,0.4128442884017058,0.41932650468906246,0.4257526209365349,0.4321222276547808,0.4384439241199869,0.4447361373525532,0.4510254841597238,0.4573488185822988,0.46374995597989577,0.4702809014989767,0.4769957077327148,0.4839512936996789,0.4912000740356731,0.49878791154702623,0.5067483843598002,0.5150982815370264,0.5238322797172558,0.532920076689164,0.5423027059874712,0.5518896704675467,0.561559761284093,0.571160648401804,0.5805154324248403,0.5894251015328824,0.597679587693371,0.6050663659376937,0.6113835580201353,0.6164505791407767,0.6201212416044447,0.6222915351182154,0.6229078165782579,0.6219680385378609,0.6195197017607222,0.6156557603275259,0.6105031559343604,0.6042154470845588,0.5969576579830357,0.5888984982387863,0.580199716141988,0.5710091373451823,0.5614553415018267,0.5516456148195831,0.5416651310816333,0.5315789990933906,0.5214318531931569,0.5112535861029145,0.501060577396352,0.49086019788162977,0.48065326653743184,0.47043609795967845,0.4602045972549472,0.44995507901915843,0.4396854958056007,0.4293970760823008,0.4190951432107077,0.40878829646700793,0.3984880015527836,0.3882106380417237,0.3779746329542281,0.36780127973609233,0.3577135097904807,0.34773753043529537,0.3378991394990963,0.3282274107251811,0.31874977989947856,0.3094949112759442,0.3004906501298491,0.29176279428975305,0.2833355036268471,0.2752300715869268,0.2674636967223654,0.2600515301388251,0.25300380906986136,0.24632749483429195,0.2400262728361969,0.23410096205426065,0.228549515041772,0.22336742741596666,0.2185485568367112,0.21408594198518796,0.2099701646065258,0.2061930349138803,0.20274431567369597,0.19961540760978616,0.19679648297793756,0.1942785330126213,0.19205295843765074,0.19011238844486597,0.18844904273676472,0.18705677897321368,0.18592945481407958,0.18506256587659795,0.18445201726734659,0.18409412358224556,0.18398642788524144,0.18412811119764985,0.18451835454078638,0.18515756740399317,0.18604697825529695,0.1871882250520666,0.18858540268772425,0.19024178707700776,0.19216311107070816,0.1943555170089588,0.19682596621057744,0.19958264846240847,0.20263539150866522,0.2059952515615876,0.2096736943227579,0.21368382345112702,0.21804119954169954,0.22276179267882196,0.2278628014148676,0.23336429072760526,0.23928755406283042,0.24565511333436527,0.25249235688142746,0.2598259015112614,0.26768523045650694,0.27610146490717286,0.2851085924786636,0.2947422387437522,0.3050404862112654,0.31604469330476737,0.3277970374265069,0.3403433813828128,0.35372999746935585,0.36800643389654497,0.3832218293854466,0.3994265511251539,0.41667055681541776,0.43500216619862037,0.4544660136130637,0.47510263850362766,0.4969443905283477,0.5200142010903882,0.5443202599765936,0.5698527394427505,0.5965792898308235,0.6244388972288217,0.65333656010935,0.6831355090321064,0.7136527022611182,0.7446506359778974,0.7758344778560448,0.8068496101251972,0.8372787631456315,0.8666493862164248,0.8944410183836145,0.92010043954586,0.9430600974748431,0.9627659530905388,0.9787040972684604,0.9904310530509821,0.9976036683693232,1.0,0.9975373310958836,0.9902783135263339,0.9784244160477236,0.9623024111551448,0.9423434911259565,0.9190525563191166,0.8929795509212282,0.864689979713898,0.8347411576918887,0.8036580501919276,0.7719197597444131,0.7399513362865705,0.7081155873756073,0.6767155351247673,0.6459948256926716,0.6161438716234533,0.5873043562295204,0.5595766043997172,0.5330249059607726,0.5076844769961172,0.48356760218601785,0.46066732021165685,0.4389611091592119,0.4184178478386743,0.39899658731582194,0.3806522837630105,0.3633357984591735,0.34699676421521775,0.3315831758846813,0.3170446662784708,0.30333086820749317,0.29039305244002417,0.27818494668039273,0.2666615071009547,0.2557805562994612,0.24550155483103242,0.23578682967618406,0.226601164751485,0.21791016295218887,0.20968311257762895,0.2018905303951654,0.19450539010821166,0.18750148439886558,0.18085547237462052,0.1745452416109966,0.16854949866219832,0.16284940701848352,0.15742735863813673,0.1522657454794424,0.1473494164367384,0.14266362989370476,0.1381952821913904,0.1339312696708443,0.12986012663048419,0.12597038736872795,0.12225222414136228,0.11869621869351606,0.11529254328097602,0.11203382709558218,0.10891147086114789,0.1059185132588554,0.10304799296988697,0.10029335816476705,0.09764846650336231,0.09510840411356612,0.09266702865524519,0.09031942625629283,0.08806150202328683,0.08588793259477835,0.08379544205602961,0.08177993551361838,0.07983731807412249,0.07796431382280414,0.07615764684492557,0.07441486020443346,0.07273185900790559,0.0711070052979731,0.06953702315989822,0.06801945565762758,0.06655266483379237,0.06513337477365476,0.06376076649853034,0.062431973583023555,0.06114535806976552,0.05989887251204513,0.05869169793117795,0.05752137739111064,0.05638668242381655,0.055285975071926806,0.05421843635675694,0.05318242832093809,0.05217672249644359,0.051200090415246764,0.05025130360932096,0.04932954309998174,0.04843398990854465,0.047563006077640815,0.046716182117928017,0.045892699050721804,0.045091328407995526,0.04431125121106473,0.0435520579705872,0.04281292970787849,0.04209304744425417,0.041392001690372,0.04070856397820534,0.04004273430775417,0.03939369370033406,0.03875407134778503,0.0381398373344537,0.03752560332112236,0.036952318242013116,0.03637903316290387,0.03580574808379463,0.03527341193890747,0.03474107579402031,0.03420873964913315,0.03371735243846809,0.033225965227803016,0.03273457801713795,0.03224319080647288,0.0317927525300299,0.03134231425358692,0.03089187597714394,0.030441437700700964,0.030031948358480075,0.029622459016259185,0.029212969674038296,0.028803480331817403,0.028434939923818604,0.028025450581597715,0.02765691017359891,0.02728836976560011,0.026960778291823397,0.026592237883824598,0.026264646410047884,0.025896106002049085,0.02556851452827237,0.025240923054495663,0.024954280514941037,0.02462668904116433,0.024340046501609706,0.02401245502783299,0.02372581248827837,0.023439169948723748,0.02315252740916912,0.0228658848696145,0.022620191264281966,0.022333548724727342,0.022087855119394807,0.021842161514062274,0.02155551897450765,0.021309825369175115,0.021064131763842583,0.020859387092732138,0.020613693487399602,0.020367999882067073,0.020163255210956625,0.01991756160562409,0.019712816934513645,0.0195080722634032,0.019262378658070668,0.019057633986960223,0.018852889315849778,0.018648144644739333,0.018484348907850976,0.01827960423674053,0.018074859565630087,0.01791106382874173,0.017706319157631285,0.017542523420742927,0.017337778749632483,0.017173983012744126,0.017010187275855772,0.016846391538967415,0.01664164686785697,0.016477851130968616,0.01631405539408026,0.016191208591413993,0.01602741285452564,0.015863617117637282,0.01569982138074892,0.015576974578082655,0.015413178841194301,0.015249383104305944,0.015126536301639678,0.01496274056475132,0.014839893762085055,0.014717046959418788,0.014553251222530431,0.014430404419864165,0.014307557617197899,0.014184710814531633,0.014061864011865363,0.013939017209199097,0.01381617040653283,0.013693323603866565,0.013570476801200295,0.013447629998534029,0.013324783195867761,0.013201936393201495,0.013079089590535227,0.01299719172209105,0.012874344919424782,0.012751498116758516,0.012669600248314337,0.012546753445648071,0.012464855577203893,0.012342008774537627,0.01226011090609345,0.012137264103427182,0.012055366234983001,0.011932519432316735,0.011850621563872557,0.01176872369542838,0.011645876892762114,0.011563979024317935,0.011482081155873756,0.011400183287429578,0.011318285418985401,0.01123638755054122,0.011113540747874956,0.011031642879430778,0.010949745010986599,0.010867847142542422,0.010785949274098242,0.010704051405654065,0.010622153537209888,0.010581204602987799,0.01049930673454362,0.010417408866099442,0.010335510997655265,0.010253613129211086,0.01017171526076691,0.010130766326544818,0.010048868458100641,0.009966970589656463,0.009885072721212286,0.009844123786990197,0.009762225918546018,0.00968032805010184,0.009639379115879752,0.009557481247435573,0.009516532313213484,0.009434634444769307,0.009393685510547218,0.00931178764210304,0.00927083870788095,0.009188940839436773,0.009147991905214684,0.009066094036770505,0.009025145102548418,0.008943247234104239,0.00890229829988215,0.00886134936566006,0.008779451497215882,0.008738502562993794,0.008697553628771703,0.008615655760327526,0.008574706826105439,0.008533757891883348,0.00849280895766126,0.008410911089217082,0.008369962154994992,0.008329013220772903,0.008288064286550816,0.008247115352328725,0.008165217483884548,0.00812426854966246,0.008083319615440369,0.00804237068121828,0.008001421746996192,0.007960472812774101,0.007919523878552014,0.007878574944329924,0.007837626010107837,0.007796677075885745,0.007755728141663657,0.007714779207441568,0.007673830273219479,0.007632881338997389,0.0075919324047753,0.0075509834705532125,0.0075100345363311215,0.007469085602109034,0.007428136667886945,0.007387187733664855,0.007346238799442766,0.0073052898652206785,0.007264340930998589,0.007264340930998589,0.0072233919967765,0.007182443062554411,0.007141494128332321,0.007100545194110232,0.007059596259888143,0.007059596259888143,0.007018647325666055,0.006977698391443966,0.0069367494572218765,0.0069367494572218765,0.006895800522999787,0.0068548515887777,0.0068548515887777,0.006813902654555609,0.006772953720333521,0.006732004786111432,0.006732004786111432,0.0066910558518893425,0.006650106917667253,0.006650106917667253,0.006609157983445164,0.006609157983445164,0.006568209049223076,0.006527260115000985,0.006527260115000985,0.006486311180778898,0.006486311180778898,0.0064453622465568084,0.0064453622465568084,0.006404413312334721,0.00636346437811263,0.00636346437811263,0.006322515443890542,0.006322515443890542,0.006281566509668453,0.006281566509668453,0.006240617575446364,0.006240617575446364,0.006199668641224274,0.006199668641224274,0.006199668641224274,0.006158719707002185,0.006158719707002185,0.0061177707727800975,0.0061177707727800975,0.0061177707727800975,0.0060768218385580065,0.0060768218385580065,0.006035872904335919,0.006035872904335919,0.006035872904335919,0.00599492397011383,0.00599492397011383,0.00599492397011383,0.005953975035891742,0.005953975035891742,0.005953975035891742,0.005913026101669651,0.005913026101669651,0.005913026101669651,0.0058720771674475635,0.0058720771674475635,0.0058720771674475635,0.0058720771674475635,0.005831128233225474,0.005831128233225474,0.005831128233225474,0.005831128233225474,0.005831128233225474,0.005790179299003384,0.005790179299003384,0.005790179299003384,0.005790179299003384,0.005790179299003384,0.005790179299003384,0.005749230364781296,0.005749230364781296,0.005749230364781296,0.005749230364781296,0.005749230364781296,0.005749230364781296,0.005749230364781296,0.005749230364781296,0.005708281430559207,0.005708281430559207,0.005708281430559207,0.005708281430559207,0.005708281430559207,0.005708281430559207,0.005708281430559207,0.005708281430559207,0.005708281430559207,0.005708281430559207,0.005708281430559207,0.005708281430559207,0.005708281430559207,0.005708281430559207,0.005708281430559207,0.005708281430559207,0.005708281430559207,0.005708281430559207,0.005708281430559207,0.005708281430559207,0.005749230364781296,0.005749230364781296,0.005749230364781296,0.005749230364781296,0.005749230364781296,0.005749230364781296,0.005749230364781296,0.005749230364781296,0.005790179299003384,0.005790179299003384,0.005790179299003384,0.005790179299003384,0.005790179299003384,0.005790179299003384,0.005831128233225474,0.005831128233225474,0.005831128233225474,0.005831128233225474,0.0058720771674475635,0.0058720771674475635,0.0058720771674475635,0.005913026101669651,0.005913026101669651,0.005913026101669651,0.005913026101669651,0.005953975035891742,0.005953975035891742,0.005953975035891742,0.00599492397011383,0.00599492397011383,0.006035872904335919,0.006035872904335919,0.006035872904335919,0.0060768218385580065,0.0060768218385580065,0.0061177707727800975,0.0061177707727800975,0.006158719707002185,0.006158719707002185,0.006199668641224274,0.006199668641224274,0.006240617575446364,0.006240617575446364,0.006281566509668453,0.006281566509668453,0.006322515443890542,0.006322515443890542,0.00636346437811263,0.006404413312334721,0.006404413312334721,0.0064453622465568084,0.006486311180778898,0.006486311180778898,0.006527260115000985,0.006568209049223076,0.006568209049223076,0.006609157983445164,0.006650106917667253,0.0066910558518893425,0.0066910558518893425,0.006732004786111432,0.006772953720333521,0.006813902654555609,0.0068548515887777,0.006895800522999787,0.0069367494572218765,0.0069367494572218765,0.006977698391443966,0.007018647325666055,0.007059596259888143,0.007100545194110232,0.007141494128332321,0.007182443062554411,0.0072233919967765,0.007264340930998589,0.0073052898652206785,0.007387187733664855,0.007428136667886945,0.007469085602109034,0.0075100345363311215,0.0075509834705532125,0.0075919324047753,0.007673830273219479,0.007714779207441568,0.007755728141663657,0.007837626010107837,0.007878574944329924,0.007919523878552014,0.008001421746996192,0.00804237068121828,0.008083319615440369,0.008165217483884548,0.008206166418106637,0.008288064286550816,0.008369962154994992,0.008410911089217082,0.00849280895766126,0.008533757891883348,0.008615655760327526,0.008697553628771703,0.008779451497215882,0.008820400431437971,0.00890229829988215,0.008984196168326327,0.009066094036770505,0.009147991905214684,0.00922988977365886,0.00931178764210304,0.009393685510547218,0.009475583378991397,0.009557481247435573,0.009639379115879752,0.00972127698432393,0.009844123786990197,0.009926021655434375,0.010007919523878554,0.010130766326544818,0.010212664194988997,0.010335510997655265,0.010417408866099442,0.01054025566876571,0.010622153537209888,0.010745000339876156,0.010867847142542422,0.01099069394520869,0.011072591813652867,0.011195438616319135,0.011318285418985401,0.011441132221651669,0.011563979024317935,0.01172777476120629,0.011850621563872557,0.011973468366538825,0.012096315169205092,0.01226011090609345,0.012382957708759714,0.012546753445648071,0.012710549182536428,0.012833395985202695,0.01299719172209105,0.013160987458979407,0.013324783195867761,0.013488578932756118,0.013652374669644474,0.013857119340754922,0.014020915077643276,0.014184710814531633,0.014389455485642078,0.014594200156752522,0.01475799589364088,0.01496274056475132,0.015167485235861766,0.015413178841194301,0.015617923512304746,0.01582266818341519,0.016068361788747723,0.016273106459858168,0.016518800065190704,0.01676449367052324,0.017010187275855772,0.017255880881188308,0.017542523420742927,0.017788217026075463,0.018074859565630087,0.01836150210518471,0.018648144644739333,0.018934787184293957,0.01922142972384858,0.01954902119762529,0.019876612671402002,0.020204204145178713,0.020531795618955427,0.020859387092732138,0.02122792750073094,0.021596467908729742,0.021965008316728544,0.022333548724727342,0.022743038066948232,0.02315252740916912,0.02356201675139001,0.02401245502783299,0.024421944370053877,0.02491333158071895,0.025363769857161926,0.025855157067826994,0.026346544278492066,0.02687888042337922,0.027411216568266377,0.027943552713153536,0.028516837792262783,0.029090122871372026,0.02970435688470336,0.0303185908980347,0.030973773845588123,0.031628956793141545,0.03228413974069497,0.03302122055669257,0.033758301372690175,0.03449538218868777,0.03527341193890747,0.03609239062334924,0.036952318242013116,0.03781224586067699,0.03871312241356294,0.0396434821990888,0.04061479091883676,0.04162336316872681,0.042670427416785624,0.04375803110972431,0.044888221694253966,0.046063865595770144,0.047286600771641714,0.04855929364726424,0.04988440115869105,0.05126519922065989,0.052704554258566315,0.05420533269780588,0.05577162943180078,0.05740672037528879,0.05911510991103435,0.06090048344311743,0.06276734535430246,0.06472101900603831,0.06676600878108944,0.06890886650893137,0.07115491555101294,0.0735102982474675,0.07598279489579725,0.07857854783613547,0.08130615634466881,0.0841738102082417,0.08719051819238299,0.09036528906262156,0.09370917903119735,0.09723283482100811,0.1009473126442938,0.1048657161600055,0.10900033004840982,0.11336548643648452,0.1179755174512073,0.12284516470889811,0.12799080778324584,0.13342800726925483,0.13917437120864057,0.14524586968574968,0.1516601107422977,0.158432654973289,0.16557947246307023,0.1731144858492768,0.18105038930151765,0.18939537260663716,0.19815598759411088,0.2073318247745966,0.2169179702759876,0.2269005014606485,0.23725771539344145,0.2479568529269889,0.25895287023364644,0.2701892577841877,0.28159435494372387,0.29308339741841544,0.3045589267448136,0.31591119977920334,0.327022283591025,0.3377693313776123,0.34802908684695666,0.35768320757915634,0.3666239978772073,0.3747613700858208,0.38202489203813494,0.38837074837453206,0.39378296901066556,0.3982742481161443,0.40188553462519033,0.40468439427927005,0.4067613242230145,0.40822606760013863,0.40920147121330874,0.4098189811413778,0.4102133193779366,0.41051675098052226,0.41085294173048553,0.4113345011969374,0.4120572498859572,0.4130977623045405,0.4145121384925715,0.41633313759742774,0.41856976838463833,0.42120974617393636,0.42421785488189107,0.42753840395796017,0.43109850429922864,0.4348080682504077,0.43856554245462653,0.4422579078534323,0.4457660030482387,0.44896657174703714,0.45173512918979264,0.45395005704186536,0.4554958793087493,0.4562653097827823,0.4561629374472271,0.45510809290166604,0.45303689580871276,0.4499047118300652,0.4456882000732167,0.4403857225807984,0.4340181633092635,0.4266289281288876,0.41828271635574144,0.40906347330498033,0.39907193335479063,0.3884202965849408,0.377231000308755,0.36562771030758384,0.35373573032014693,0.34167299327700396,0.32955006130055453,0.31746521183293164,0.30550361865731723,0.2937361234299155,0.28221964516929515,0.27099636127770504,0.26009780243449604,0.2495444431067793,0.2393477489961369,0.2295130434640178,0.2200411454891064,0.21092959813534934,0.20217389701998226,0.19376789980287185,0.18570587363322694,0.17798044770288765,0.17058588916106282,0.16351482719959248,0.1567598910103167,0.150312890806391,0.1441660462903132,0.13830993920721227,0.13273515130221705,0.1274314453417721,0.12238858409232183,0.11759551134162631,0.11304117087744557,0.10871450648753965,0.10460446195966856,0.1007003905709346,0.09699123610909778,0.09346635185126037,0.09011672903189348,0.0869317209280994,0.08390231877434925,0.08101992329445641,0.07827593521223424,0.07566298371952272,0.07317328851881971,0.07079947880196522,0.0685354122288259,0.0663749464592685,0.06431152966381742,0.0623406574597083,0.06045618750680776,0.05865402491169362,0.056929665291601456,0.05527819477442461,0.05369633744542531,0.05217958892183914,0.05072549226761275,0.04932995258932396,0.047990103461577206,0.04670307845897695,0.045466420645469866,0.04427767308500262,0.04313355986283745,0.042032852510947696,0.04097268460393781,0.03995182767378113,0.038958816018895476,0.03801699053178743,0.03711611397890147,0.03621523742601551,0.035355309807351645,0.034536331122909866,0.033758301372690175,0.03298027162247048,0.03224319080647288,0.031506109990475276,0.030809978108699766,0.030154795161146337,0.029499612213592916,0.028844429266039494,0.02827114418693025,0.02765691017359891,0.027083625094489666,0.02651034001538042,0.025978003870493264,0.025445667725606108,0.024954280514941037,0.02446289330427597,0.0239715060936109,0.02352106781716792,0.023029680606502855,0.022620191264281966,0.02216975298783899,0.021760263645618096,0.021350774303397206,0.020941284961176317,0.020572744553177515,0.020204204145178713,0.019835663737179914,0.019467123329181112,0.019139531855404398,0.0187709914474056,0.018443399973628885,0.018156757434074265,0.017829165960297554,0.01750157448652084,0.017214931946966217,0.016928289407411597,0.01664164686785697,0.01635500432830235,0.016109310722969814,0.01582266818341519,0.015576974578082655,0.015331280972750123,0.01508558736741759,0.014839893762085055,0.014594200156752522,0.014348506551419987,0.014143761880309542,0.013898068274977006,0.013693323603866565,0.013488578932756118,0.013283834261645673,0.013079089590535227,0.012874344919424782,0.012669600248314337,0.01250580451142598,0.012301059840315536,0.012137264103427182,0.011932519432316735,0.01176872369542838,0.011604927958540023,0.011441132221651669,0.011277336484763312,0.011113540747874956,0.010949745010986599,0.010785949274098242,0.010663102471431977,0.01049930673454362,0.010335510997655265,0.010212664194988997,0.010048868458100641,0.009926021655434375,0.009803174852768107,0.009639379115879752,0.009516532313213484,0.009393685510547218,0.00927083870788095,0.009147991905214684,0.009025145102548418,0.00890229829988215,0.008779451497215882,0.008656604694549616,0.008574706826105439,0.008451860023439171,0.008329013220772903,0.008247115352328725,0.00812426854966246,0.008001421746996192,0.007919523878552014,0.007796677075885745,0.007714779207441568,0.007632881338997389,0.0075100345363311215,0.007428136667886945,0.007346238799442766,0.007264340930998589,0.007141494128332321,0.007059596259888143,0.006977698391443966,0.006895800522999787,0.006813902654555609,0.006732004786111432,0.006650106917667253,0.006568209049223076,0.006486311180778898,0.006404413312334721,0.006322515443890542,0.006240617575446364,0.006158719707002185,0.0061177707727800975,0.006035872904335919,0.005953975035891742,0.0058720771674475635,0.005831128233225474,0.005749230364781296,0.005667332496337118,0.0056263835621150286,0.005544485693670851,0.005503536759448761,0.005421638891004584,0.005380689956782495,0.005298792088338317,0.0052578431541162275,0.005175945285672049,0.0051349963514499605,0.005053098483005782,0.005012149548783693,0.004930251680339515,0.004889302746117426,0.004848353811895338,0.004766455943451159,0.00472550700922907,0.004684558075006982,0.004602660206562803,0.004561711272340715,0.004520762338118626,0.004479813403896536,0.004397915535452359,0.00435696660123027,0.004316017667008181,0.004275068732786091,0.004234119798564002,0.0041931708643419136,0.004111272995897736,0.0040703240616756465,0.004029375127453558,0.003988426193231469,0.0039474772590093795,0.00390652832478729,0.003865579390565201,0.0038246304563431125,0.003783681522121023,0.0037427325878989347,0.0037017836536768454,0.003660834719454756,0.0036198857852326677,0.0035789368510105784,0.00353798791678849,0.0034970389825664007,0.0034560900483443114,0.003415141114122222,0.003374192179900133,0.0033332432456780444,0.0033332432456780444,0.003292294311455955,0.0032513453772338666,0.0032103964430117773,0.003169447508789689,0.0031284985745675996,0.003087549640345511,0.003087549640345511,0.003046600706123421,0.0030056517719013317,0.0029647028376792433,0.002923753903457154,0.002923753903457154,0.0028828049692350656,0.0028418560350129763,0.002800907100790888,0.002800907100790888,0.0027599581665687985,0.0027190092323467092,0.002678060298124621,0.002678060298124621,0.0026371113639025315,0.0025961624296804422,0.0025961624296804422,0.002555213495458353,0.0025142645612362645,0.0025142645612362645,0.002473315627014175,0.002432366692792086,0.002432366692792086,0.0023914177585699975,0.002350468824347908,0.002350468824347908,0.0023095198901258197,0.0023095198901258197,0.0022685709559037304,0.002227622021681642,0.002227622021681642,0.0021866730874595527,0.0021866730874595527,0.0021416292598152543,0.0021211547927042097,0.0020965854321709568,0.002072016071637703,0.0020515416045266584,0.0020269722439934055,0.002006497776882361,0.001981928416349107,0.0019614539492380633,0.0019368845887048098,0.0019164101215937651,0.0018959356544827205,0.0018754611873716763,0.001854986720260632,0.001834512253149587,0.0018099428926163336,0.0017894684255052894,0.0017730888518164534,0.0017526143847054092,0.0017321399175943646,0.0017116654504833204,0.0016911909833722753,0.001670716516261231,0.0016543369425723955,0.0016338624754613509,0.0016174829017725153,0.0015970084346614711,0.001576533967550427,0.0015601543938615905,0.001543774820172755,0.0015233003530617107,0.0015069207793728752,0.0014864463122618305,0.001470066738572995,0.0014536871648841594,0.001437307591195324,0.0014209280175064888,0.0014004535503954437,0.0013840739767066082,0.0013676944030177726,0.001351314829328937,0.001334935255640101,0.0013185556819512655,0.0013021761082624304,0.0012857965345735949,0.0012694169608847585,0.001257132280618132,0.0012407527069292965,0.0012243731332404614,0.0012079935595516258,0.0011957088792849985,0.001179329305596163,0.0011629497319073274,0.001150665051640701,0.001134285477951865,0.0011179059042630299,0.001105621223996403,0.0010892416503075675,0.0010769569700409406,0.001060577396352105,0.0010482927160854786,0.0010360080358188513,0.0010196284621300162,0.0010073437818633893,0.0009950591015967624,0.0009786795279079269,0.0009663948476413,0.0009541101673746736,0.0009418254871080471,0.0009254459134192111,0.0009131612331525847,0.0009008765528859578,0.000888591872619331,0.0008763071923527045,0.0008640225120860781,0.0008517378318194512,0.0008394531515528243,0.0008271684712861979,0.000814883791019571,0.0008025991107529441,0.0007903144304863177,0.0007780297502196908,0.0007657450699530644,0.0007534603896864375,0.0007411757094198106,0.0007288910291531842,0.0007207012423087664,0.0007084165620421395,0.0006961318817755131,0.0006838472015088862,0.0006756574146644684,0.0006633727343978415,0.0006510880541312151,0.0006428982672867973,0.0006306135870201705,0.000618328906753544,0.0006101391199091262,0.0005978544396424994,0.0005896646527980816,0.0005773799725314547,0.0005650952922648278,0.0005569055054204101,0.0005446208251537836,0.0005364310383093659,0.000524146358042739,0.0005159565711983212,0.0005077667843539034,0.0004954821040872766,0.0004872923172428588,0.00047500763697623234,0.00046681785013181457,0.00045862806328739636,0.0004463433830207699,0.00043815359617635215,0.0004299638093319344,0.0004176791290653075,0.0004094893422208897,0.00040129955537647195,0.0003931097685320546,0.0003808250882654273,0.00037263530142100996,0.0003644455145765922,0.0003562557277321744,0.0003480659408877562,0.00033578126062112977,0.000327591473776712,0.0003194016869322942,0.000311211900087876,0.00030302211324345824,0.0002948323263990409,0.00028664253955462313,0.0002784527527102049,0.00027026296586578715,0.0002620731790213694,0.0002538833921769516,0.00024569360533253383,0.00023750381848811606,0.0002293140316436983,0.00022112424479928052,0.00021293445795486274,0.00020474467111044454,0.0001965548842660272,0.00018836509742160942,0.00018017531057719165,0.00017198552373277388,0.00016379573688835567,0.0001556059500439379,0.00015151105662172923,0.00014332126977731146,0.00013513148293289368,0.00012694169608847548,0.00011875190924405814,0.00011056212239964037,0.00010646722897743126,9.827744213301349e-05,9.008765528859572e-05,8.189786844417794e-05,7.780297502196884e-05,6.961318817755107e-05,6.14234013331333e-05,5.323361448871552e-05,4.913872106650642e-05,4.094893422208908e-05,3.275914737767131e-05,2.8664253955462205e-05,2.0474467111044432e-05,1.228468026662666e-05,8.189786844417556e-06,0.0],\"type\":\"scatter\"},{\"mode\":\"markers\",\"name\":\"methylcyclopentadiene\",\"x\":[\"502\",\"504\",\"506\",\"508\",\"510\",\"512\",\"514\",\"516\",\"518\",\"520\",\"522\",\"524\",\"526\",\"528\",\"530\",\"532\",\"534\",\"536\",\"538\",\"540\",\"542\",\"544\",\"546\",\"548\",\"550\",\"552\",\"554\",\"556\",\"558\",\"560\",\"562\",\"564\",\"566\",\"568\",\"570\",\"572\",\"574\",\"576\",\"578\",\"580\",\"582\",\"584\",\"586\",\"588\",\"590\",\"592\",\"594\",\"596\",\"598\",\"600\",\"602\",\"604\",\"606\",\"608\",\"610\",\"612\",\"614\",\"616\",\"618\",\"620\",\"622\",\"624\",\"626\",\"628\",\"630\",\"632\",\"634\",\"636\",\"638\",\"640\",\"642\",\"644\",\"646\",\"648\",\"650\",\"652\",\"654\",\"656\",\"658\",\"660\",\"662\",\"664\",\"666\",\"668\",\"670\",\"672\",\"674\",\"676\",\"678\",\"680\",\"682\",\"684\",\"686\",\"688\",\"690\",\"692\",\"694\",\"696\",\"698\",\"700\",\"702\",\"704\",\"706\",\"708\",\"710\",\"712\",\"714\",\"716\",\"718\",\"720\",\"722\",\"724\",\"726\",\"728\",\"730\",\"732\",\"734\",\"736\",\"738\",\"740\",\"742\",\"744\",\"746\",\"748\",\"750\",\"752\",\"754\",\"756\",\"758\",\"760\",\"762\",\"764\",\"766\",\"768\",\"770\",\"772\",\"774\",\"776\",\"778\",\"780\",\"782\",\"784\",\"786\",\"788\",\"790\",\"792\",\"794\",\"796\",\"798\",\"800\",\"802\",\"804\",\"806\",\"808\",\"810\",\"812\",\"814\",\"816\",\"818\",\"820\",\"822\",\"824\",\"826\",\"828\",\"830\",\"832\",\"834\",\"836\",\"838\",\"840\",\"842\",\"844\",\"846\",\"848\",\"850\",\"852\",\"854\",\"856\",\"858\",\"860\",\"862\",\"864\",\"866\",\"868\",\"870\",\"872\",\"874\",\"876\",\"878\",\"880\",\"882\",\"884\",\"886\",\"888\",\"890\",\"892\",\"894\",\"896\",\"898\",\"900\",\"902\",\"904\",\"906\",\"908\",\"910\",\"912\",\"914\",\"916\",\"918\",\"920\",\"922\",\"924\",\"926\",\"928\",\"930\",\"932\",\"934\",\"936\",\"938\",\"940\",\"942\",\"944\",\"946\",\"948\",\"950\",\"952\",\"954\",\"956\",\"958\",\"960\",\"962\",\"964\",\"966\",\"968\",\"970\",\"972\",\"974\",\"976\",\"978\",\"980\",\"982\",\"984\",\"986\",\"988\",\"990\",\"992\",\"994\",\"996\",\"998\",\"1000\",\"1002\",\"1004\",\"1006\",\"1008\",\"1010\",\"1012\",\"1014\",\"1016\",\"1018\",\"1020\",\"1022\",\"1024\",\"1026\",\"1028\",\"1030\",\"1032\",\"1034\",\"1036\",\"1038\",\"1040\",\"1042\",\"1044\",\"1046\",\"1048\",\"1050\",\"1052\",\"1054\",\"1056\",\"1058\",\"1060\",\"1062\",\"1064\",\"1066\",\"1068\",\"1070\",\"1072\",\"1074\",\"1076\",\"1078\",\"1080\",\"1082\",\"1084\",\"1086\",\"1088\",\"1090\",\"1092\",\"1094\",\"1096\",\"1098\",\"1100\",\"1102\",\"1104\",\"1106\",\"1108\",\"1110\",\"1112\",\"1114\",\"1116\",\"1118\",\"1120\",\"1122\",\"1124\",\"1126\",\"1128\",\"1130\",\"1132\",\"1134\",\"1136\",\"1138\",\"1140\",\"1142\",\"1144\",\"1146\",\"1148\",\"1150\",\"1152\",\"1154\",\"1156\",\"1158\",\"1160\",\"1162\",\"1164\",\"1166\",\"1168\",\"1170\",\"1172\",\"1174\",\"1176\",\"1178\",\"1180\",\"1182\",\"1184\",\"1186\",\"1188\",\"1190\",\"1192\",\"1194\",\"1196\",\"1198\",\"1200\",\"1202\",\"1204\",\"1206\",\"1208\",\"1210\",\"1212\",\"1214\",\"1216\",\"1218\",\"1220\",\"1222\",\"1224\",\"1226\",\"1228\",\"1230\",\"1232\",\"1234\",\"1236\",\"1238\",\"1240\",\"1242\",\"1244\",\"1246\",\"1248\",\"1250\",\"1252\",\"1254\",\"1256\",\"1258\",\"1260\",\"1262\",\"1264\",\"1266\",\"1268\",\"1270\",\"1272\",\"1274\",\"1276\",\"1278\",\"1280\",\"1282\",\"1284\",\"1286\",\"1288\",\"1290\",\"1292\",\"1294\",\"1296\",\"1298\",\"1300\",\"1302\",\"1304\",\"1306\",\"1308\",\"1310\",\"1312\",\"1314\",\"1316\",\"1318\",\"1320\",\"1322\",\"1324\",\"1326\",\"1328\",\"1330\",\"1332\",\"1334\",\"1336\",\"1338\",\"1340\",\"1342\",\"1344\",\"1346\",\"1348\",\"1350\",\"1352\",\"1354\",\"1356\",\"1358\",\"1360\",\"1362\",\"1364\",\"1366\",\"1368\",\"1370\",\"1372\",\"1374\",\"1376\",\"1378\",\"1380\",\"1382\",\"1384\",\"1386\",\"1388\",\"1390\",\"1392\",\"1394\",\"1396\",\"1398\",\"1400\",\"1402\",\"1404\",\"1406\",\"1408\",\"1410\",\"1412\",\"1414\",\"1416\",\"1418\",\"1420\",\"1422\",\"1424\",\"1426\",\"1428\",\"1430\",\"1432\",\"1434\",\"1436\",\"1438\",\"1440\",\"1442\",\"1444\",\"1446\",\"1448\",\"1450\",\"1452\",\"1454\",\"1456\",\"1458\",\"1460\",\"1462\",\"1464\",\"1466\",\"1468\",\"1470\",\"1472\",\"1474\",\"1476\",\"1478\",\"1480\",\"1482\",\"1484\",\"1486\",\"1488\",\"1490\",\"1492\",\"1494\",\"1496\",\"1498\",\"1500\",\"1502\",\"1504\",\"1506\",\"1508\",\"1510\",\"1512\",\"1514\",\"1516\",\"1518\",\"1520\",\"1522\",\"1524\",\"1526\",\"1528\",\"1530\",\"1532\",\"1534\",\"1536\",\"1538\",\"1540\",\"1542\",\"1544\",\"1546\",\"1548\",\"1550\",\"1552\",\"1554\",\"1556\",\"1558\",\"1560\",\"1562\",\"1564\",\"1566\",\"1568\",\"1570\",\"1572\",\"1574\",\"1576\",\"1578\",\"1580\",\"1582\",\"1584\",\"1586\",\"1588\",\"1590\",\"1592\",\"1594\",\"1596\",\"1598\",\"1600\",\"1602\",\"1604\",\"1606\",\"1608\",\"1610\",\"1612\",\"1614\",\"1616\",\"1618\",\"1620\",\"1622\",\"1624\",\"1626\",\"1628\",\"1630\",\"1632\",\"1634\",\"1636\",\"1638\",\"1640\",\"1642\",\"1644\",\"1646\",\"1648\",\"1650\",\"1652\",\"1654\",\"1656\",\"1658\",\"1660\",\"1662\",\"1664\",\"1666\",\"1668\",\"1670\",\"1672\",\"1674\",\"1676\",\"1678\",\"1680\",\"1682\",\"1684\",\"1686\",\"1688\",\"1690\",\"1692\",\"1694\",\"1696\",\"1698\",\"1700\",\"1702\",\"1704\",\"1706\",\"1708\",\"1710\",\"1712\",\"1714\",\"1716\",\"1718\",\"1720\",\"1722\",\"1724\",\"1726\",\"1728\",\"1730\",\"1732\",\"1734\",\"1736\",\"1738\",\"1740\",\"1742\",\"1744\",\"1746\",\"1748\",\"1750\",\"1752\",\"1754\",\"1756\",\"1758\",\"1760\",\"1762\",\"1764\",\"1766\",\"1768\",\"1770\",\"1772\",\"1774\",\"1776\",\"1778\",\"1780\",\"1782\",\"1784\",\"1786\",\"1788\",\"1790\",\"1792\",\"1794\",\"1796\",\"1798\",\"1800\",\"1802\",\"1804\",\"1806\",\"1808\",\"1810\",\"1812\",\"1814\",\"1816\",\"1818\",\"1820\",\"1822\",\"1824\",\"1826\",\"1828\",\"1830\",\"1832\",\"1834\",\"1836\",\"1838\",\"1840\",\"1842\",\"1844\",\"1846\",\"1848\",\"1850\",\"1852\",\"1854\",\"1856\",\"1858\",\"1860\",\"1862\",\"1864\",\"1866\",\"1868\",\"1870\",\"1872\",\"1874\",\"1876\",\"1878\",\"1880\",\"1882\",\"1884\",\"1886\",\"1888\",\"1890\",\"1892\",\"1894\",\"1896\",\"1898\",\"1900\",\"1902\",\"1904\",\"1906\",\"1908\",\"1910\",\"1912\",\"1914\",\"1916\",\"1918\",\"1920\",\"1922\",\"1924\",\"1926\",\"1928\",\"1930\",\"1932\",\"1934\",\"1936\",\"1938\",\"1940\",\"1942\",\"1944\",\"1946\",\"1948\",\"1950\",\"1952\",\"1954\",\"1956\",\"1958\",\"1960\",\"1962\",\"1964\",\"1966\",\"1968\",\"1970\",\"1972\",\"1974\",\"1976\",\"1978\",\"1980\",\"1982\",\"1984\",\"1986\",\"1988\",\"1990\",\"1992\",\"1994\",\"1996\",\"1998\",\"2000\",\"2002\",\"2004\",\"2006\",\"2008\",\"2010\",\"2012\",\"2014\",\"2016\",\"2018\",\"2020\",\"2022\",\"2024\",\"2026\",\"2028\",\"2030\",\"2032\",\"2034\",\"2036\",\"2038\",\"2040\",\"2042\",\"2044\",\"2046\",\"2048\",\"2050\",\"2052\",\"2054\",\"2056\",\"2058\",\"2060\",\"2062\",\"2064\",\"2066\",\"2068\",\"2070\",\"2072\",\"2074\",\"2076\",\"2078\",\"2080\",\"2082\",\"2084\",\"2086\",\"2088\",\"2090\",\"2092\",\"2094\",\"2096\",\"2098\",\"2100\",\"2102\",\"2104\",\"2106\",\"2108\",\"2110\",\"2112\",\"2114\",\"2116\",\"2118\",\"2120\",\"2122\",\"2124\",\"2126\",\"2128\",\"2130\",\"2132\",\"2134\",\"2136\",\"2138\",\"2140\",\"2142\",\"2144\",\"2146\",\"2148\",\"2150\",\"2152\",\"2154\",\"2156\",\"2158\",\"2160\",\"2162\",\"2164\",\"2166\",\"2168\",\"2170\",\"2172\",\"2174\",\"2176\",\"2178\",\"2180\",\"2182\",\"2184\",\"2186\",\"2188\",\"2190\",\"2192\",\"2194\",\"2196\",\"2198\",\"2200\",\"2202\",\"2204\",\"2206\",\"2208\",\"2210\",\"2212\",\"2214\",\"2216\",\"2218\",\"2220\",\"2222\",\"2224\",\"2226\",\"2228\",\"2230\",\"2232\",\"2234\",\"2236\",\"2238\",\"2240\",\"2242\",\"2244\",\"2246\",\"2248\",\"2250\",\"2252\",\"2254\",\"2256\",\"2258\",\"2260\",\"2262\",\"2264\",\"2266\",\"2268\",\"2270\",\"2272\",\"2274\",\"2276\",\"2278\",\"2280\",\"2282\",\"2284\",\"2286\",\"2288\",\"2290\",\"2292\",\"2294\",\"2296\",\"2298\",\"2300\",\"2302\",\"2304\",\"2306\",\"2308\",\"2310\",\"2312\",\"2314\",\"2316\",\"2318\",\"2320\",\"2322\",\"2324\",\"2326\",\"2328\",\"2330\",\"2332\",\"2334\",\"2336\",\"2338\",\"2340\",\"2342\",\"2344\",\"2346\",\"2348\",\"2350\",\"2352\",\"2354\",\"2356\",\"2358\",\"2360\",\"2362\",\"2364\",\"2366\",\"2368\",\"2370\",\"2372\",\"2374\",\"2376\",\"2378\",\"2380\",\"2382\",\"2384\",\"2386\",\"2388\",\"2390\",\"2392\",\"2394\",\"2396\",\"2398\",\"2400\",\"2402\",\"2404\",\"2406\",\"2408\",\"2410\",\"2412\",\"2414\",\"2416\",\"2418\",\"2420\",\"2422\",\"2424\",\"2426\",\"2428\",\"2430\",\"2432\",\"2434\",\"2436\",\"2438\",\"2440\",\"2442\",\"2444\",\"2446\",\"2448\",\"2450\",\"2452\",\"2454\",\"2456\",\"2458\",\"2460\",\"2462\",\"2464\",\"2466\",\"2468\",\"2470\",\"2472\",\"2474\",\"2476\",\"2478\",\"2480\",\"2482\",\"2484\",\"2486\",\"2488\",\"2490\",\"2492\",\"2494\",\"2496\",\"2498\",\"2500\",\"2502\",\"2504\",\"2506\",\"2508\",\"2510\",\"2512\",\"2514\",\"2516\",\"2518\",\"2520\",\"2522\",\"2524\",\"2526\",\"2528\",\"2530\",\"2532\",\"2534\",\"2536\",\"2538\",\"2540\",\"2542\",\"2544\",\"2546\",\"2548\",\"2550\",\"2552\",\"2554\",\"2556\",\"2558\",\"2560\",\"2562\",\"2564\",\"2566\",\"2568\",\"2570\",\"2572\",\"2574\",\"2576\",\"2578\",\"2580\",\"2582\",\"2584\",\"2586\",\"2588\",\"2590\",\"2592\",\"2594\",\"2596\",\"2598\",\"2600\",\"2602\",\"2604\",\"2606\",\"2608\",\"2610\",\"2612\",\"2614\",\"2616\",\"2618\",\"2620\",\"2622\",\"2624\",\"2626\",\"2628\",\"2630\",\"2632\",\"2634\",\"2636\",\"2638\",\"2640\",\"2642\",\"2644\",\"2646\",\"2648\",\"2650\",\"2652\",\"2654\",\"2656\",\"2658\",\"2660\",\"2662\",\"2664\",\"2666\",\"2668\",\"2670\",\"2672\",\"2674\",\"2676\",\"2678\",\"2680\",\"2682\",\"2684\",\"2686\",\"2688\",\"2690\",\"2692\",\"2694\",\"2696\",\"2698\",\"2700\",\"2702\",\"2704\",\"2706\",\"2708\",\"2710\",\"2712\",\"2714\",\"2716\",\"2718\",\"2720\",\"2722\",\"2724\",\"2726\",\"2728\",\"2730\",\"2732\",\"2734\",\"2736\",\"2738\",\"2740\",\"2742\",\"2744\",\"2746\",\"2748\",\"2750\",\"2752\",\"2754\",\"2756\",\"2758\",\"2760\",\"2762\",\"2764\",\"2766\",\"2768\",\"2770\",\"2772\",\"2774\",\"2776\",\"2778\",\"2780\",\"2782\",\"2784\",\"2786\",\"2788\",\"2790\",\"2792\",\"2794\",\"2796\",\"2798\",\"2800\",\"2802\",\"2804\",\"2806\",\"2808\",\"2810\",\"2812\",\"2814\",\"2816\",\"2818\",\"2820\",\"2822\",\"2824\",\"2826\",\"2828\",\"2830\",\"2832\",\"2834\",\"2836\",\"2838\",\"2840\",\"2842\",\"2844\",\"2846\",\"2848\",\"2850\",\"2852\",\"2854\",\"2856\",\"2858\",\"2860\",\"2862\",\"2864\",\"2866\",\"2868\",\"2870\",\"2872\",\"2874\",\"2876\",\"2878\",\"2880\",\"2882\",\"2884\",\"2886\",\"2888\",\"2890\",\"2892\",\"2894\",\"2896\",\"2898\",\"2900\",\"2902\",\"2904\",\"2906\",\"2908\",\"2910\",\"2912\",\"2914\",\"2916\",\"2918\",\"2920\",\"2922\",\"2924\",\"2926\",\"2928\",\"2930\",\"2932\",\"2934\",\"2936\",\"2938\",\"2940\",\"2942\",\"2944\",\"2946\",\"2948\",\"2950\",\"2952\",\"2954\",\"2956\",\"2958\",\"2960\",\"2962\",\"2964\",\"2966\",\"2968\",\"2970\",\"2972\",\"2974\",\"2976\",\"2978\",\"2980\",\"2982\",\"2984\",\"2986\",\"2988\",\"2990\",\"2992\",\"2994\",\"2996\",\"2998\",\"3000\",\"3002\",\"3004\",\"3006\",\"3008\",\"3010\",\"3012\",\"3014\",\"3016\",\"3018\",\"3020\",\"3022\",\"3024\",\"3026\",\"3028\",\"3030\",\"3032\",\"3034\",\"3036\",\"3038\",\"3040\",\"3042\",\"3044\",\"3046\",\"3048\",\"3050\",\"3052\",\"3054\",\"3056\",\"3058\",\"3060\",\"3062\",\"3064\",\"3066\",\"3068\",\"3070\",\"3072\",\"3074\",\"3076\",\"3078\",\"3080\",\"3082\",\"3084\",\"3086\",\"3088\",\"3090\",\"3092\",\"3094\",\"3096\",\"3098\",\"3100\",\"3102\",\"3104\",\"3106\",\"3108\",\"3110\",\"3112\",\"3114\",\"3116\",\"3118\",\"3120\",\"3122\",\"3124\",\"3126\",\"3128\",\"3130\",\"3132\",\"3134\",\"3136\",\"3138\",\"3140\",\"3142\",\"3144\",\"3146\",\"3148\",\"3150\",\"3152\",\"3154\",\"3156\",\"3158\",\"3160\",\"3162\",\"3164\",\"3166\",\"3168\",\"3170\",\"3172\",\"3174\",\"3176\",\"3178\",\"3180\",\"3182\",\"3184\",\"3186\",\"3188\",\"3190\",\"3192\",\"3194\",\"3196\",\"3198\",\"3200\",\"3202\",\"3204\",\"3206\",\"3208\",\"3210\",\"3212\",\"3214\",\"3216\",\"3218\",\"3220\",\"3222\",\"3224\",\"3226\",\"3228\",\"3230\",\"3232\",\"3234\",\"3236\",\"3238\",\"3240\",\"3242\",\"3244\",\"3246\",\"3248\",\"3250\",\"3252\",\"3254\",\"3256\",\"3258\",\"3260\",\"3262\",\"3264\",\"3266\",\"3268\",\"3270\",\"3272\",\"3274\",\"3276\",\"3278\",\"3280\",\"3282\",\"3284\",\"3286\",\"3288\",\"3290\",\"3292\",\"3294\",\"3296\",\"3298\",\"3300\",\"3302\",\"3304\",\"3306\",\"3308\",\"3310\",\"3312\",\"3314\",\"3316\",\"3318\",\"3320\",\"3322\",\"3324\",\"3326\",\"3328\",\"3330\",\"3332\",\"3334\",\"3336\",\"3338\",\"3340\",\"3342\",\"3344\",\"3346\",\"3348\",\"3350\",\"3352\",\"3354\",\"3356\",\"3358\",\"3360\",\"3362\",\"3364\",\"3366\",\"3368\",\"3370\",\"3372\",\"3374\",\"3376\",\"3378\",\"3380\",\"3382\",\"3384\",\"3386\",\"3388\",\"3390\",\"3392\",\"3394\",\"3396\",\"3398\",\"3400\",\"3402\",\"3404\",\"3406\",\"3408\",\"3410\",\"3412\",\"3414\",\"3416\",\"3418\",\"3420\",\"3422\",\"3424\",\"3426\",\"3428\",\"3430\",\"3432\",\"3434\",\"3436\",\"3438\",\"3440\",\"3442\",\"3444\",\"3446\",\"3448\",\"3450\",\"3452\",\"3454\",\"3456\",\"3458\",\"3460\",\"3462\",\"3464\",\"3466\",\"3468\",\"3470\",\"3472\",\"3474\",\"3476\",\"3478\",\"3480\",\"3482\",\"3484\",\"3486\",\"3488\",\"3490\",\"3492\",\"3494\",\"3496\",\"3498\",\"3500\",\"3502\",\"3504\",\"3506\",\"3508\",\"3510\",\"3512\",\"3514\",\"3516\",\"3518\",\"3520\",\"3522\",\"3524\",\"3526\",\"3528\",\"3530\",\"3532\",\"3534\",\"3536\",\"3538\",\"3540\",\"3542\",\"3544\",\"3546\",\"3548\",\"3550\",\"3552\",\"3554\",\"3556\",\"3558\",\"3560\",\"3562\",\"3564\",\"3566\",\"3568\",\"3570\",\"3572\",\"3574\",\"3576\",\"3578\",\"3580\",\"3582\",\"3584\",\"3586\",\"3588\",\"3590\",\"3592\",\"3594\",\"3596\",\"3598\",\"3600\",\"3602\",\"3604\",\"3606\",\"3608\",\"3610\",\"3612\",\"3614\",\"3616\",\"3618\",\"3620\",\"3622\",\"3624\",\"3626\",\"3628\",\"3630\",\"3632\",\"3634\",\"3636\",\"3638\",\"3640\",\"3642\",\"3644\",\"3646\",\"3648\",\"3650\",\"3652\",\"3654\",\"3656\",\"3658\",\"3660\",\"3662\",\"3664\",\"3666\",\"3668\",\"3670\",\"3672\",\"3674\",\"3676\",\"3678\",\"3680\",\"3682\",\"3684\",\"3686\",\"3688\",\"3690\",\"3692\",\"3694\",\"3696\",\"3698\",\"3700\",\"3702\",\"3704\",\"3706\",\"3708\",\"3710\",\"3712\",\"3714\",\"3716\",\"3718\",\"3720\",\"3722\",\"3724\",\"3726\",\"3728\",\"3730\",\"3732\",\"3734\",\"3736\",\"3738\",\"3740\",\"3742\",\"3744\",\"3746\",\"3748\",\"3750\",\"3752\",\"3754\",\"3756\",\"3758\",\"3760\",\"3762\",\"3764\",\"3766\",\"3768\",\"3770\",\"3772\",\"3774\",\"3776\",\"3778\",\"3780\",\"3782\",\"3784\",\"3786\",\"3788\",\"3790\",\"3792\",\"3794\",\"3796\",\"3798\",\"3800\",\"3802\",\"3804\",\"3806\",\"3808\",\"3810\",\"3812\",\"3814\",\"3816\",\"3818\",\"3820\",\"3822\",\"3824\",\"3826\",\"3828\",\"3830\",\"3832\",\"3834\",\"3836\",\"3838\",\"3840\",\"3842\",\"3844\",\"3846\",\"3848\",\"3850\",\"3852\",\"3854\",\"3856\",\"3858\",\"3860\",\"3862\",\"3864\",\"3866\",\"3868\",\"3870\",\"3872\",\"3874\",\"3876\",\"3878\",\"3880\",\"3882\",\"3884\",\"3886\",\"3888\",\"3890\",\"3892\",\"3894\",\"3896\",\"3898\",\"3900\",\"3902\",\"3904\",\"3906\",\"3908\",\"3910\",\"3912\",\"3914\",\"3916\",\"3918\",\"3920\",\"3922\",\"3924\",\"3926\",\"3928\",\"3930\",\"3932\",\"3934\",\"3936\",\"3938\",\"3940\",\"3942\",\"3944\",\"3946\",\"3948\",\"3950\",\"3952\",\"3954\",\"3956\",\"3958\",\"3960\",\"3962\",\"3964\",\"3966\",\"3968\",\"3970\",\"3972\",\"3974\",\"3976\",\"3978\",\"3980\",\"3982\",\"3984\",\"3986\",\"3988\",\"3990\",\"3992\",\"3994\",\"3996\",\"3998\",\"4000\"],\"y\":[0.044868001519152816,0.04511334273480872,0.045407261511164504,0.04571590076045964,0.04605594368535873,0.04642591823856784,0.04682386169036173,0.04724977404074039,0.04770120187754726,0.048177163835919724,0.04867716923342647,0.04919925534034225,0.04974342215666706,0.0503096696824009,0.05089799791754377,0.051509388226958296,0.05214482197550711,0.052805771210484125,0.05349518002647723,0.05421501115321167,0.05496820868527531,0.05575771671725604,0.0565864793437417,0.057458422024182804,0.05837550748830459,0.059342151877988886,0.06036129928782352,0.06143540312996511,0.0625683888638641,0.06376320058410838,0.06502278238528582,0.06635007836198428,0.0677495046560856,0.06922302399731499,0.0707755432099856,0.07241000638868526,0.07413082967529581,0.07594095716440512,0.0778457863627576,0.07984973341223509,0.08195672377228803,0.0841721549496609,0.0865009337686668,0.08894894841848147,0.09152110572341804,0.09422427523751484,0.09706336378508502,0.10004524092016696,0.103176776196799,0.10646434848658819,0.10991629939086685,0.11353998914610464,0.11734425003606518,0.12133889570937469,0.12553423049709075,0.1299415400951335,0.13457505429401104,0.13944900288423132,0.14458055975089035,0.1499873894615153,0.15569108204308388,0.16171322752257386,0.16807836002155077,0.17481297639130552,0.18194406416556017,0.18950057360776223,0.19751243634622162,0.20601105605654235,0.21502685504946573,0.2245912370005957,0.23473462422067365,0.24548694833800955,0.25687519688632565,0.26892341330475605,0.2816517155729847,0.29507335211665686,0.30919470180737973,0.3240108578208401,0.33950415558951086,0.35564024734320004,0.3723666300617574,0.38960675728589816,0.4072570950226156,0.42518515901545556,0.44322509860263465,0.4611767153521776,0.47880595374434864,0.49584735458380813,0.5120074897766316,0.5269757573437986,0.5404337043873879,0.5520687661986539,0.5615934028728475,0.5687583477348627,0.5733712532716251,0.5753079768280129,0.5745228849379139,0.5710522881012454,0.5650105153245031,0.5565830445667226,0.5460122729489719,0.5335842683287063,0.519608651320083,0.5044053468683175,0.4882888824118809,0.4715546487744226,0.4544749747053207,0.4372883318661929,0.4202008068781901,0.40338364790984016,0.38697571808920417,0.37108545823360223,0.35579432162663194,0.3411592274303256,0.32721943023918815,0.3139965200801972,0.3014983478722538,0.28972344156806407,0.27866198751900173,0.2682987745696961,0.25861319405803207,0.2495826745921693,0.24118268205054227,0.2333877009467227,0.2261722157942824,0.21951169247165575,0.2133815968572772,0.20775788551201244,0.20261994977374634,0.19794619961550125,0.1937179891048873,0.18991765367437727,0.18652900080373785,0.18353731002002965,0.18093031426246997,0.17869476510541332,0.17682084890023347,0.17529875199830422,0.1741191514334306,0.17327468696914294,0.17275652632167768,0.17255779993699638,0.1726701662137668,0.17308528355065658,0.17379284761660824,0.1747825540805642,0.17603968246958504,0.17754902162830022,0.17929094425945719,0.1812428789712156,0.1833768568649907,0.18566245563004116,0.1880628740840186,0.19053983899728064,0.1930491889510093,0.19554725320881777,0.19798888898702538,0.20033189759653933,0.20253751512528598,0.20457384721523,0.20641930383939378,0.2080611272545631,0.209500789508032,0.21075104834301453,0.21183692856350758,0.21279424998699692,0.21366717403230068,0.21450722235470648,0.21536886070409003,0.21630998960734613,0.21738654686164424,0.21865299821686004,0.2201613560107126,0.2219587257566078,0.22408975955579502,0.22659273063791663,0.22950394950288963,0.23285531050874939,0.2366742918716493,0.24098640907801752,0.24581472420212583,0.25117886454122673,0.25709649466284723,0.2635833164047895,0.270651106145405,0.27831016821575116,0.28656688148743514,0.29542369937261354,0.30487767777669833,0.31492145646321995,0.3255373708646512,0.3367003961769951,0.3483727498530407,0.36050192887263754,0.3730182563305395,0.38583291870667896,0.3988355124540109,0.41189257195121837,0.42484855086757567,0.43752533148051653,0.4497286035472415,0.46125080839930566,0.47188193395610756,0.4814173656437902,0.48966868140872977,0.49647542809588724,0.5017159164622975,0.5053131093662444,0.5072400192740059,0.5075201989422851,0.5062247973236218,0.5034622552353363,0.49937339853521495,0.49411377355398345,0.48784677754126893,0.48073090092238496,0.4729104043321371,0.4645109024729414,0.4556359293378045,0.44636693821032425,0.4367642830295519,0.42687408794403087,0.4167307007239529,0.4063635623151968,0.3958021136636412,0.3850797211746153,0.37423563944262406,0.3633169739810735,0.35237868122227034,0.3414806244228349,0.3306851202515435,0.32005644810689815,0.3096544712455189,0.29953709019430047,0.28975288251394277,0.2803450282584013,0.2713459124681425,0.2627805599471634,0.2546651632156972,0.24700708251021355,0.2398068085131439,0.23305845303531247,0.22674974901593642,0.22086450393478244,0.2153825998121668,0.21028048389138648,0.20553460341573856,0.20111748016906955,0.19700310798251996,0.19316400863993627,0.18957123187787112,0.18619779016260238,0.18301424254825127,0.17999016672407653,0.1770956310617681,0.1742977598384281,0.17156367733115865,0.16886050781706183,0.16615586625567108,0.16341933033624506,0.160622931160199,0.15774507870055518,0.15476859907221766,0.15168367862656024,0.14848835463385768,0.14518753391842307,0.14179152081131396,0.13831847056248892,0.13478899183406298,0.13122712806517048,0.127657413377377,0.12410487257467943,0.12059305841378073,0.11714307023922733,0.11377306330097776,0.11049972080169661,0.10733481911973536,0.10428866258615159,0.10136861143741495,0.09857859113297594,0.09592203644985375,0.09339992875291098,0.09101177735971637,0.08875611022297593,0.08663047393053311,0.0846329057526627,0.08275898954748287,0.08100627190283705,0.07937033667684343,0.07784774909248286,0.07643507437273613,0.07512789637572144,0.07392376168928223,0.0728182541715367,0.07180842972789699,0.07089134426377518,0.07006356300215213,0.06932263253087129,0.06866462739048214,0.06808758485125946,0.06758807013618401,0.06716264846823668,0.06680935711769216,0.06652427062509998,0.06630444489587228,0.0661469358354212,0.06604879934915883,0.06600709134249734,0.06601984908571143,0.06608510984907591,0.06620091090286549,0.0663672522470802,0.06658413388172002,0.0668525371716476,0.06717344348172553,0.06754979690654168,0.06798454154068397,0.0684806214787402,0.06904147149772961,0.06967199842196531,0.07037514634603514,0.07115533141182094,0.07201549771391055,0.07295809866446058,0.07398558767562752,0.07509796474741141,0.07629522987981226,0.07757443897824216,0.07893068521838804,0.0803566083637802,0.08184092271849845,0.08337087053932869,0.08492829657631243,0.08649161080247188,0.08803676977867281,0.08953482324146778,0.0909553488801155,0.09226596165414938,0.0934337858406715,0.09442741776407794,0.09521839784335259,0.0957826826393612,0.0961030982670078,0.09617032176009753,0.09598140902404247,0.09554470166017495,0.09487442945900301,0.09399267312993567,0.09292691088912639,0.09170756504731652,0.09036947405712918,0.08894502295903096,0.08746757815835109,0.08596805264826217,0.08447392464491767,0.0830097282698832,0.08159705355013647,0.08025356505320472,0.07899349256959597,0.07782763111279907,0.07676579433144029,0.07581387041469537,0.07497578482201478,0.07425546301284902,0.07365339566962942,0.07317056415721859,0.0728054964283226,0.07255622975321618,0.07242129208460543,0.07239577659817722,0.07247673919934366,0.07265878238136037,0.07293601795505154,0.07330206704881015,0.07374858806130391,0.07426822075606314,0.07485164216689288,0.07548952932759825,0.07617304995441561,0.07689337176358137,0.07764166247133189,0.07841154320606013,0.07919663509615905,0.07999497541190338,0.08080460142356788,0.08162698517844649,0.08246556145355839,0.08332572775564802,0.08421484432118503,0.08514027138663913,0.08610985987091128,0.08713097001047118,0.08821047135935718,0.08935228937701978,0.09055887747561556,0.09182974497271316,0.09316243845615607,0.0945500883719059,0.09598386243619902,0.0974524749531153,0.09894169613214669,0.1004368055003538,0.10192161053750337,0.10338139077065603,0.10480240709173505,0.10617337380482028,0.10748791203830464,0.1087435683800316,0.10994328692458899,0.11109540927330915,0.11221318385183747,0.11331476591013251,0.11442223615760329,0.11555963803338408,0.11675395907119705,0.11803169612233304,0.11941934603808288,0.12094389635216868,0.12262889982129348,0.12449741851972888,0.1265710424744526,0.12886743625299193,0.13140475510530536,0.1341967381394696,0.1372561430986988,0.1405932743140505,0.14421647338685697,0.14813064714143137,0.15233972103722415,0.15684320439180402,0.16163766242815183,0.16671573490979788,0.17206711750568457,0.1776765990604413,0.18352455227681558,0.1895879150805357,0.1958396999378796,0.2022489938556746,0.20878341179345414,0.21540713393373237,0.222083359094161,0.22877577677482291,0.2354461137460758,0.24205511541341468,0.24856205513504073,0.25492424353942983,0.2610926123834507,0.26701465864695306,0.27263100975574817,0.2778764049464715,0.28267969526658293,0.2869682597162482,0.2906694772956333,0.29371808724137366,0.2960576610738684,0.2976489441986126,0.29847329068321643,0.29853511666956173,0.2978643537859585,0.2965159584647136,0.29456598648268045,0.29211061159639606,0.2892582746231805,0.2861252672992545,0.2828318068202896,0.2794951662873692,0.27622623992996986,0.2731270896938044,0.2702880011462342,0.26778699279383783,0.2656883440351172,0.26404357652536,0.2628909634942085,0.2622555297456597,0.26214954234049637,0.2625730012787185,0.2635136394995432,0.26494643219897374,0.26683261546493636,0.269121649007006,0.2717477813793869,0.27463201271063775,0.27768307606853465,0.28079596541277685,0.28385635173686863,0.28674205511541345,0.2893264794811328,0.2914845008140422,0.29309590191847024,0.2940532233419596,0.2942666701995802,0.29366754695094854,0.2922146362718342,0.28989518041902324,0.2867253719127488,0.2827493721718292,0.27803587673664787,0.2726741898097036,0.2667663733367093,0.2604252842768666,0.25376672368396525,0.24690354851720678,0.23994419959391125,0.23298730408277227,0.22612069413899466,0.21942189758672567,0.21295372177717328,0.20677014177778172,0.20091286559521251,0.19541427826993227,0.19029793255864394,0.1855810023464434,0.18127428264681955,0.17738415233137947,0.1739115927649857,0.170856113265207,0.16821231632529893,0.16597431375608568,0.16413327327380375,0.16267692781767026,0.16159251964447113,0.16086287486911047,0.16046885687676707,0.1603874035931693,0.16059103680216372,0.16104786214571504,0.16171960639418093,0.16256358017603723,0.16353071524815285,0.1645660551782208,0.16561022739205233,0.16659846180871435,0.1674659883472736,0.16814754624436576,0.16857983746635147,0.16870741489849256,0.16848366370981435,0.16787423613012506,0.16685901417974092,0.16543309103434878,0.1636077523898688,0.16140851373272921,0.15887413897500366,0.1560527149949607,0.15300017958976986,0.1497754146511886,0.1464382834358369,0.1430466864706096,0.1396550895053823,0.1363130514657175,0.13306326172313931,0.12994350282485875,0.12698468776404848,0.12421135066227411,0.12164311881678803,0.11929471270052965,0.11717692732698785,0.11529516020290702,0.11365284610530636,0.11224998503418587,0.11108314221252635,0.11014593876872078,0.10943052378386814,0.10892413951475435,0.10861206548844002,0.10847565577253535,0.10849184829276863,0.10863463688028038,0.10887359922432924,0.10917340618986075,0.10949627522966393,0.10980000765464594,0.11004093272842005,0.11017390766730555,0.11015575241734701,0.10994524965431424,0.10950707024315279,0.10881226392041525,0.10784071270641786,0.10658260295253434,0.10503744397633341,0.10321652147373526,0.1011384813771297,0.09883080190267021,0.09632586809082336,0.09365949975907494,0.09087046081949855,0.08799457108957999,0.08506814106923628,0.08212257443407144,0.07918731212996412,0.07628590691361734,0.07343945812957747,0.07066317693321518,0.06796982106774462,0.06536871349936065,0.06286623309967038,0.06046532396326164,0.058168439502291,0.05597557971675848,0.05388478187693882,0.051894083253106765,0.05000103043310576,0.048202188639916634,0.04649265104922625,0.044868001519152816,0.04334688598208617,0.041874838688150715,0.04045185963734643,0.0391760853159357,0.037900310994524976,0.036722673159376606,0.03554503532422824,0.03446553397534223,0.03348416911271859,0.03250280425009495,0.0315705076306025,0.030638211011110035,0.02980405087787994,0.028969890744649847,0.028233867097682122,0.02744877520758321,0.026761819803746655,0.02607486439991011,0.025436977239204746,0.02479909007849938,0.0242102711609252,0.02362145224335101,0.02308170156890801,0.022541950894465007,0.02205126846315319,0.02156058603184137,0.021069903600529547,0.02062828941234891,0.020186675224168272,0.019745061035987634,0.019352515090938178,0.01891090090275754,0.01856742320083927,0.018174877255789812,0.017831399553871537,0.017487921851953265,0.01714444415003499,0.016800966448116714,0.016506556989329624,0.01621214753054253,0.01591773807175544,0.015623328612968345,0.015328919154181254,0.015083577938525345,0.014838236722869436,0.014543827264082342,0.014298486048426432,0.014053144832770523,0.013856871860245795,0.013611530644589885,0.013415257672065157,0.013169916456409247,0.01297364348388452,0.012777370511359791,0.012581097538835066,0.012384824566310335,0.012188551593785606,0.011992278621260882,0.011845073891867335,0.011648800919342605,0.011501596189949058,0.011305323217424333,0.011158118488030786,0.011010913758637239,0.010863709029243693,0.010667436056718965,0.01052023132732542,0.010422094841063056,0.01027489011166951,0.010127685382275963,0.009980480652882418,0.009833275923488871,0.009735139437226509,0.009587934707832962,0.009489798221570598,0.00934259349217705,0.009244457005914688,0.009097252276521141,0.008999115790258777,0.008900979303996415,0.008802842817734049,0.008704706331471686,0.00855750160207814,0.008459365115815775,0.008361228629553413,0.008263092143291047,0.008164955657028685,0.00806681917076632,0.008017750927635138,0.007919614441372774,0.007821477955110411,0.007723341468848045,0.007625204982585683,0.0075761367394545,0.007478000253192136,0.007379863766929772,0.007330795523798591,0.0072326590375362265,0.007183590794405044,0.0070854543081426795,0.007036386065011498,0.006938249578749134,0.006889181335617951,0.006791044849355589,0.006741976606224406,0.006643840119962042,0.006594771876830861,0.006545703633699678,0.006447567147437315,0.006398498904306131,0.0063494306611749495,0.006300362418043768,0.006251294174912587,0.006153157688650223,0.00610408944551904,0.006055021202387859,0.006005952959256676,0.005956884716125495,0.005907816472994314,0.005858748229863129,0.005809679986731948,0.005760611743600767,0.005711543500469585,0.0056624752573384025,0.005613407014207221,0.005564338771076038,0.0055152705279448554,0.005466202284813674,0.005417134041682493,0.005368065798551312,0.005318997555420127,0.005269929312288946,0.005220861069157765,0.005171792826026582,0.005171792826026582,0.005122724582895401,0.0050736563397642195,0.005024588096633037,0.004975519853501854,0.004975519853501854,0.0049264516103706725,0.004877383367239491,0.004828315124108308,0.004828315124108308,0.0047792468809771255,0.004730178637845944,0.004730178637845944,0.004681110394714763,0.00463204215158358,0.00463204215158358,0.004582973908452399,0.004533905665321218,0.004533905665321218,0.004484837422190033,0.004484837422190033,0.004435769179058852,0.004435769179058852,0.004386700935927671,0.00433763269279649,0.00433763269279649,0.004288564449665307,0.004288564449665307,0.0042394962065341255,0.0042394962065341255,0.0041904279634029425,0.0041904279634029425,0.00414135972027176,0.00414135972027176,0.004092291477140578,0.004092291477140578,0.004092291477140578,0.004043223234009397,0.004043223234009397,0.003994154990878214,0.003994154990878214,0.003994154990878214,0.003945086747747031,0.003945086747747031,0.0038960185046158498,0.0038960185046158498,0.0038960185046158498,0.0038469502614846686,0.0038469502614846686,0.0038469502614846686,0.0037978820183534874,0.0037978820183534874,0.0037978820183534874,0.0037488137752223036,0.0037488137752223036,0.0037488137752223036,0.0036997455320911224,0.0036997455320911224,0.0036997455320911224,0.0036997455320911224,0.0036506772889599404,0.0036506772889599404,0.0036506772889599404,0.0036506772889599404,0.0036016090458287583,0.0036016090458287583,0.0036016090458287583,0.0036016090458287583,0.0035525408026975762,0.0035525408026975762,0.0035525408026975762,0.0035525408026975762,0.0035525408026975762,0.003503472559566395,0.003503472559566395,0.003503472559566395,0.003503472559566395,0.003503472559566395,0.003503472559566395,0.003503472559566395,0.003454404316435212,0.003454404316435212,0.003454404316435212,0.003454404316435212,0.003454404316435212,0.003454404316435212,0.003454404316435212,0.003454404316435212,0.003405336073304031,0.003405336073304031,0.003405336073304031,0.003405336073304031,0.003405336073304031,0.003405336073304031,0.003405336073304031,0.003405336073304031,0.003405336073304031,0.003405336073304031,0.003405336073304031,0.003405336073304031,0.003405336073304031,0.003405336073304031,0.003405336073304031,0.003405336073304031,0.003405336073304031,0.003405336073304031,0.003405336073304031,0.003405336073304031,0.003405336073304031,0.003405336073304031,0.003405336073304031,0.003405336073304031,0.003405336073304031,0.003405336073304031,0.003405336073304031,0.003405336073304031,0.003405336073304031,0.003405336073304031,0.003405336073304031,0.003405336073304031,0.003405336073304031,0.003405336073304031,0.003405336073304031,0.003405336073304031,0.003405336073304031,0.003454404316435212,0.003454404316435212,0.003454404316435212,0.003454404316435212,0.003454404316435212,0.003454404316435212,0.003454404316435212,0.003454404316435212,0.003503472559566395,0.003503472559566395,0.003503472559566395,0.003503472559566395,0.003503472559566395,0.003503472559566395,0.003503472559566395,0.0035525408026975762,0.0035525408026975762,0.0035525408026975762,0.0035525408026975762,0.0035525408026975762,0.0036016090458287583,0.0036016090458287583,0.0036016090458287583,0.0036016090458287583,0.0036016090458287583,0.0036506772889599404,0.0036506772889599404,0.0036506772889599404,0.0036506772889599404,0.0036997455320911224,0.0036997455320911224,0.0036997455320911224,0.0036997455320911224,0.0037488137752223036,0.0037488137752223036,0.0037488137752223036,0.0037978820183534874,0.0037978820183534874,0.0037978820183534874,0.0037978820183534874,0.0038469502614846686,0.0038469502614846686,0.0038469502614846686,0.0038960185046158498,0.0038960185046158498,0.0038960185046158498,0.003945086747747031,0.003945086747747031,0.003945086747747031,0.003994154990878214,0.003994154990878214,0.004043223234009397,0.004043223234009397,0.004043223234009397,0.004092291477140578,0.004092291477140578,0.00414135972027176,0.00414135972027176,0.00414135972027176,0.0041904279634029425,0.0041904279634029425,0.0042394962065341255,0.0042394962065341255,0.004288564449665307,0.004288564449665307,0.00433763269279649,0.00433763269279649,0.00433763269279649,0.004386700935927671,0.004386700935927671,0.004435769179058852,0.004435769179058852,0.004484837422190033,0.004533905665321218,0.004533905665321218,0.004582973908452399,0.004582973908452399,0.00463204215158358,0.00463204215158358,0.004681110394714763,0.004681110394714763,0.004730178637845944,0.0047792468809771255,0.0047792468809771255,0.004828315124108308,0.004828315124108308,0.004877383367239491,0.0049264516103706725,0.0049264516103706725,0.004975519853501854,0.005024588096633037,0.005024588096633037,0.0050736563397642195,0.005122724582895401,0.005122724582895401,0.005171792826026582,0.005220861069157765,0.005269929312288946,0.005269929312288946,0.005318997555420127,0.005368065798551312,0.005417134041682493,0.005417134041682493,0.005466202284813674,0.0055152705279448554,0.005564338771076038,0.005613407014207221,0.005613407014207221,0.0056624752573384025,0.005711543500469585,0.005760611743600767,0.005809679986731948,0.005858748229863129,0.005907816472994314,0.005907816472994314,0.005956884716125495,0.006005952959256676,0.006055021202387859,0.00610408944551904,0.006153157688650223,0.006202225931781404,0.006251294174912587,0.006300362418043768,0.0063494306611749495,0.006398498904306131,0.006447567147437315,0.0064966353905684966,0.006545703633699678,0.006594771876830861,0.006643840119962042,0.006741976606224406,0.006791044849355589,0.00684011309248677,0.006889181335617951,0.006938249578749134,0.006987317821880317,0.007036386065011498,0.007134522551273862,0.007183590794405044,0.0072326590375362265,0.0072817272806674094,0.007379863766929772,0.007428932010060953,0.007478000253192136,0.0075761367394545,0.007625204982585683,0.007674273225716864,0.007772409711979228,0.007821477955110411,0.007870546198241592,0.007968682684503956,0.008017750927635138,0.008115887413897502,0.008164955657028685,0.008263092143291047,0.008312160386422232,0.008410296872684594,0.008459365115815775,0.00855750160207814,0.008606569845209322,0.008704706331471686,0.008802842817734049,0.008851911060865232,0.008950047547127596,0.00904818403338996,0.009146320519652324,0.009195388762783507,0.00929352524904587,0.009391661735308234,0.009489798221570598,0.009587934707832962,0.009686071194095326,0.009735139437226509,0.009833275923488871,0.009931412409751235,0.0100295488960136,0.010127685382275963,0.01022582186853833,0.010323958354800692,0.010471163084194237,0.010569299570456603,0.010667436056718965,0.010765572542981331,0.010863709029243693,0.011010913758637239,0.011109050244899605,0.011207186731161967,0.011305323217424333,0.011452527946817878,0.01155066443308024,0.011697869162473788,0.01179600564873615,0.011943210378129697,0.01204134686439206,0.012188551593785606,0.012335756323179153,0.01243389280944152,0.012581097538835066,0.012728302268228606,0.012875506997622153,0.01297364348388452,0.013120848213278066,0.013268052942671613,0.013415257672065157,0.0135624624014587,0.013709667130852247,0.01390594010337698,0.014053144832770523,0.01420034956216407,0.014347554291557617,0.014543827264082342,0.014691031993475889,0.014838236722869436,0.015034509695394164,0.015181714424787711,0.015377987397312436,0.015574260369837167,0.01572146509923071,0.01591773807175544,0.016114011044280167,0.016310284016804896,0.016506556989329624,0.01670282996185435,0.01689910293437908,0.01709537590690381,0.017340717122559718,0.017536990095084443,0.017733263067609174,0.017978604283265084,0.018174877255789812,0.01842021847144572,0.01866555968710163,0.01891090090275754,0.01915624211841345,0.019352515090938178,0.019646924549725272,0.01989226576538118,0.02013760698103709,0.020382948196693004,0.02067735765548009,0.020922698871136004,0.021217108329923094,0.021511517788710185,0.02180592724749728,0.02210033670628437,0.022394746165071464,0.022689155623858554,0.022983565082645648,0.02332704278456392,0.02362145224335101,0.023964929945269286,0.02430840764718756,0.024651885349105833,0.024995363051024108,0.02533884075294238,0.025731386697991836,0.02607486439991011,0.02646741034495957,0.02685995629000902,0.02725250223505848,0.027645048180107934,0.02808666236828858,0.028479208313338028,0.028920822501518673,0.029362436689699303,0.02980405087787994,0.030294733309191767,0.030736347497372404,0.031227029928684223,0.031717712359996035,0.03220839479130786,0.03274814546575087,0.03328789614019387,0.03377857857150569,0.03436739748907987,0.034907148163522875,0.035495967081097056,0.03608478599867124,0.03667360491624542,0.03731149207695079,0.03794937923765616,0.03858726639836152,0.03927422180219807,0.039961177206034613,0.040648132609871164,0.041384156256838896,0.04212017990380662,0.04285620355077435,0.043641295440873265,0.04442638733097218,0.04526054746420227,0.046108937387940405,0.04697450119677446,0.047863617762311475,0.04877775913184539,0.04971741598780753,0.05068356969506051,0.051677692300898255,0.05270027448775209,0.05375327898534725,0.05483670579368374,0.05595300832491814,0.05710267726148173,0.05828718465066847,0.05950800253977227,0.06076660297608709,0.062064948689338165,0.06340402104438812,0.06478627345339352,0.0662131779636483,0.06768669730487768,0.06920928488923828,0.07078241276402396,0.07240853434139133,0.07409059371592826,0.07583055361735996,0.07763135814027435,0.07949595137925926,0.08142727742890257,0.08342828038379217,0.08550239502094725,0.08765354679981827,0.08988566117985573,0.09220217293807884,0.09460749821636938,0.09710654383904047,0.09970372594797394,0.10240493273234551,0.105214580334037,0.10813953830708675,0.11118520415823921,0.11435893812396407,0.11766711907586835,0.12111759793285307,0.12471871629625052,0.12847832508496165,0.1324067286300441,0.13651275921526143,0.14080721185410247,0.14530186292491873,0.1500084888060617,0.15493935655831417,0.16010918665461552,0.16553269956790506,0.1712251064535535,0.17720407187908802,0.1834882417768985,0.19009626207937477,0.19704972281349456,0.20437070468866694,0.2120832511440261,0.22021336834843167,0.22878853451803702,0.2378381905987209,0.24739324958365597,0.25748658719574014,0.26815402325245913,0.2794323589361613,0.2913603581589203,0.3039797289273977,0.31733217924825496,0.3314623612227414,0.3464154176345378,0.3622355099024622,0.37896925285748917,0.39665933587114294,0.41534795763251625,0.43507241000638874,0.45586409666836447,0.4777465703751464,0.5007320981875173,0.5248187173757519,0.5499872913250291,0.5761951306638247,0.6033750118990491,0.6314278171795771,0.6602205715665234,0.689580554844066,0.7192943201545846,0.7491067126337969,0.7787228321404844,0.8078114680335117,0.8360129500907273,0.8629523969346088,0.8882510017281836,0.9115471315195749,0.9325105570325097,0.9508635520108658,0.9663951230091787,0.9789737671358573,0.9885509068302013,0.995162361909697,0.998920498651114,1.0,0.9986236357801705,0.9950392006194376,0.9895028307469463,0.9822623207905092,0.9735424033036667,0.96353787921165,0.9524082203046353,0.9402814946971951,0.9272578016053168,0.9134176129477355,0.8988345310891482,0.883581177029389,0.8677409667817808,0.85141350887988,0.8347170577896327,0.8177885139093749,0.8007804794752447,0.7838548796895748,0.767175111801992,0.750899175555379,0.7351713315845412,0.7201152318621693,0.7058290128745257,0.6923798981147,0.6798017446704528,0.668096024589078,0.6572283901003838,0.6471340711234371,0.6377168939017007,0.6288571319219345,0.6204129779614893,0.6122308484193647,0.6041512715053843,0.5960182102063909,0.5876888759348727,0.5790405980830019,0.5699791656239666,0.5604452059835779,0.5504146757227016,0.5399013139494147,0.5289536982244165,0.5176488656894236,0.5060878969252858,0.4943856116209302,0.48266664311391005,0.4710566061066411,0.45967669915965736,0.4486397792321606,0.4380479082698636,0.4279894091104026,0.4185393561657683,0.40976104746959985,0.4017050233123224,0.39441004760600956,0.3879080147086966,0.38222051464736134,0.3773652119895309,0.3733529017486941,0.3701909441613207,0.3678837553692926,0.36643280741990353,0.36583662826585966,0.36609178313014185,0.3671918931411429,0.3691271446502367,0.3718842892317778,0.3754436995885138,0.3797808415988789,0.3848618581751128,0.39064405994569135,0.3970734718431701,0.4040833610568908,0.41159276498568687,0.4195064912378839,0.4277121735367114,0.4360837064973224,0.44448075494436157,0.4527521886889849,0.46073853594101616,0.4682773808156909,0.47520728879310775,0.4813746762722661,0.4866387173953793,0.4908757601897568,0.49398521475697976,0.49589102532019486,0.4965455956835649,0.4959288078674059,0.4940475314257564,0.4909336607166516,0.4866401894426732,0.48123679450906737,0.4748034571521381,0.4674285002095215,0.45920024651885355,0.4502050561880453,0.44052781727771356,0.4302460576120057,0.4194353422853437,0.40816731093269903,0.39651311250661203,0.3845443866420541,0.37233375433885946,0.3599572713738814,0.3474900121591107,0.33500901383626325,0.32258787877003586,0.3102972652305374,0.29820194329870103,0.28636030418385283,0.27482092544669284,0.2636255150938823,0.2528059674834567,0.24238534468968753,0.23237983923280822,0.22279828339658234,0.21364214922830377,0.2049099646806786,0.19659436951723722,0.18868505940692196,0.18117025797138148,0.1740352447376763,0.16726382718557317,0.16084030347727013,0.15474749972767127,0.14896824205168066,0.14348682861149628,0.13828608552202232,0.13335080162788804,0.12866576577372277,0.1242162574865872,0.11998853765840459,0.11596935786352945,0.11214694172361038,0.10850902217786454,0.1050448042128031,0.1017444741797998,0.0985977277477971,0.09559622331546269,0.09273063791660167,0.08999410199717564,0.08737827395585233,0.08487677492102468,0.08248322602108561,0.08019124838442811,0.07799544450430772,0.0758899261915487,0.07387076798670056,0.07193257238301887,0.07007141392105314,0.06828287645892155,0.06656352521960493,0.0649094347436528,0.06331717025404593,0.061784278338627804,0.06030781490281055,0.05888385448714363,0.057510925044333173,0.05618657316222257,0.054907854746223964,0.05367280706661211,0.05247946739366177,0.05132636368007899,0.05021104251370722,0.049132031847252525,0.04808736895098967,0.047076563142487315,0.046097161009588924,0.0451624109779399,0.04423011435844745,0.04334688598208617,0.042463657605724896,0.0416294974724948,0.04079533733926471,0.040010245449165795,0.03927422180219807,0.03848912991209916,0.037802174508262607,0.03706615086129488,0.03637919545745833,0.03574130829675297,0.03505435289291642,0.03441646573221105,0.03382764681463687,0.03323882789706269,0.0326500089794885,0.03206119006191432,0.03152143938747131,0.03098168871302831,0.03044193803858531,0.02990218736414231,0.02941150493283049,0.028920822501518673,0.028430140070206847,0.02798852588202621,0.02749784345071439,0.02705622926253375,0.026614615074353115,0.026222069129303655,0.025780454941123018,0.025387908996073565,0.024995363051024108,0.02460281710597465,0.0242102711609252,0.02381772521587574,0.023474247513957467,0.023130769812039192,0.022787292110120917,0.02244381440820264,0.02210033670628437,0.021756859004366094,0.021462449545579004,0.02111897184366073,0.020824562384873638,0.020530152926086544,0.020235743467299457,0.019941334008512362,0.019646924549725272,0.019352515090938178,0.019058105632151087,0.018812764416495178,0.01856742320083927,0.018273013742052174,0.018027672526396265,0.017782331310740356,0.017536990095084443,0.017291648879428533,0.017046307663772624,0.016850034691247896,0.016604693475591986,0.016359352259936077,0.01616307928741135,0.01591773807175544,0.01572146509923071,0.015525192126705983,0.015328919154181254,0.015132646181656526,0.014887304966000617,0.014691031993475889,0.014543827264082342,0.014347554291557617,0.014151281319032889,0.01395500834650816,0.013807803617114613,0.013611530644589885,0.013415257672065157,0.013268052942671613,0.013071779970146885,0.012924575240753338,0.012777370511359791,0.012581097538835066,0.01243389280944152,0.012286688080047972,0.012139483350654425,0.011992278621260882,0.011845073891867335,0.011697869162473788,0.01155066443308024,0.011403459703686695,0.011256254974293148,0.011109050244899605,0.011010913758637239,0.010863709029243693,0.010716504299850146,0.010569299570456603,0.010471163084194237,0.010323958354800692,0.01022582186853833,0.010078617139144782,0.009980480652882418,0.009833275923488871,0.009735139437226509,0.009587934707832962,0.009489798221570598,0.009391661735308234,0.00929352524904587,0.009146320519652324,0.00904818403338996,0.008950047547127596,0.008851911060865232,0.008753774574602868,0.008655638088340504,0.008508433358946958,0.008410296872684594,0.008312160386422232,0.008214023900159866,0.008115887413897502,0.008017750927635138,0.007968682684503956,0.007870546198241592,0.007772409711979228,0.007674273225716864,0.0075761367394545,0.007478000253192136,0.007428932010060953,0.007330795523798591,0.0072326590375362265,0.007134522551273862,0.0070854543081426795,0.006987317821880317,0.006889181335617951,0.00684011309248677,0.006741976606224406,0.006643840119962042,0.006594771876830861,0.0064966353905684966,0.006447567147437315,0.0063494306611749495,0.006300362418043768,0.006202225931781404,0.006153157688650223,0.006055021202387859,0.006005952959256676,0.005907816472994314,0.005858748229863129,0.005809679986731948,0.005711543500469585,0.0056624752573384025,0.005613407014207221,0.0055152705279448554,0.005466202284813674,0.005417134041682493,0.005318997555420127,0.005269929312288946,0.005220861069157765,0.005171792826026582,0.0050736563397642195,0.005024588096633037,0.004975519853501854,0.0049264516103706725,0.004877383367239491,0.0047792468809771255,0.004730178637845944,0.004681110394714763,0.00463204215158358,0.004582973908452399,0.004533905665321218,0.004484837422190033,0.004435769179058852,0.00433763269279649,0.004288564449665307,0.0042394962065341255,0.0041904279634029425,0.00414135972027176,0.004092291477140578,0.004043223234009397,0.003994154990878214,0.003945086747747031,0.0038960185046158498,0.0038469502614846686,0.0037978820183534874,0.0037488137752223036,0.0036997455320911224,0.0036997455320911224,0.0036506772889599404,0.0036016090458287583,0.0035525408026975762,0.003503472559566395,0.003454404316435212,0.003405336073304031,0.003356267830172848,0.003307199587041666,0.003307199587041666,0.0032581313439104848,0.003209063100779302,0.0031599948576481207,0.0031109266145169386,0.0030618583713857566,0.0030618583713857566,0.0030127901282545745,0.0029637218851233924,0.0029146536419922104,0.0028655853988610283,0.0028655853988610283,0.0028165171557298463,0.002767448912598664,0.002718380669467483,0.002718380669467483,0.0026693124263363,0.002620244183205118,0.002571175940073937,0.002571175940073937,0.002522107696942754,0.0024730394538115727,0.0024730394538115727,0.0024239712106803907,0.0023749029675492086,0.0023258347244180266,0.0023258347244180266,0.0022767664812868454,0.0022276982381556625,0.0022276982381556625,0.0021786299950244804,0.0021786299950244804,0.0021295617518932984,0.0020804935087621163,0.0020804935087621163,0.002031425265630935,0.001982357022499752,0.001982357022499752,0.001933288779368571,0.001933288779368571,0.001884220536237389,0.001835152293106206,0.001835152293106206,0.0017860840499750248,0.0017860840499750248,0.0017370158068438428,0.0016879475637126607,0.0016879475637126607,0.0016388793205814787,0.0016388793205814787,0.0015898110774502966,0.0015898110774502966,0.0015407428343191146,0.0015407428343191146,0.0014916745911879325,0.0014426063480567504,0.0014426063480567504,0.0013935381049255684,0.0013935381049255684,0.0013444698617943872,0.0013444698617943872,0.0012954016186632043,0.0012954016186632043,0.001246333375532023,0.001246333375532023,0.001197265132400841,0.001197265132400841,0.001148196889269659,0.0011432900649565405,0.001118755943390949,0.001099128646138477,0.0010745945245728863,0.001050060403007294,0.0010255262814417034,0.0010058989841892313,0.0009813648626236407,0.0009617375653711668,0.0009372034438055762,0.0009175761465531032,0.0008930420249875126,0.0008734147277350396,0.0008537874304825666,0.000829253308916976,0.000809626011664503,0.0007899987144120301,0.0007654645928464395,0.0007458372955939665,0.0007262099983414935,0.0007065827010890205,0.0006869554038365475,0.0006673281065840754,0.0006477008093316024,0.0006280735120791302,0.0006084462148266564,0.0005888189175741842,0.0005691916203217112,0.0005495643230692391,0.0005299370258167652,0.0005103097285642923,0.0004906824313118201,0.00047105513405934713,0.0004563346611199926,0.0004367073638675196,0.0004170800666150466,0.0003974527693625745,0.00038273229642321995,0.0003631049991707461,0.00034347770191827396,0.0003287572289789194,0.00030912993172644643,0.0002944094587870919,0.0002747821615346189,0.0002600616885952644,0.00024043439134279225,0.00022571391840343772,0.00020608662115096472,0.00019136614821160932,0.0001766456752722548,0.00015701837801978267,0.00014229790508042814,0.00012267060782795514,0.00010795013488860104,9.322966194924565e-05,7.850918900989112e-05,5.8881891757418554e-05,4.4161418818064024e-05,2.9440945878709494e-05,1.472047293935453e-05,0.0],\"type\":\"scatter\"}],                        {\"template\":{\"data\":{\"histogram2dcontour\":[{\"type\":\"histogram2dcontour\",\"colorbar\":{\"outlinewidth\":0,\"ticks\":\"\"},\"colorscale\":[[0.0,\"#0d0887\"],[0.1111111111111111,\"#46039f\"],[0.2222222222222222,\"#7201a8\"],[0.3333333333333333,\"#9c179e\"],[0.4444444444444444,\"#bd3786\"],[0.5555555555555556,\"#d8576b\"],[0.6666666666666666,\"#ed7953\"],[0.7777777777777778,\"#fb9f3a\"],[0.8888888888888888,\"#fdca26\"],[1.0,\"#f0f921\"]]}],\"choropleth\":[{\"type\":\"choropleth\",\"colorbar\":{\"outlinewidth\":0,\"ticks\":\"\"}}],\"histogram2d\":[{\"type\":\"histogram2d\",\"colorbar\":{\"outlinewidth\":0,\"ticks\":\"\"},\"colorscale\":[[0.0,\"#0d0887\"],[0.1111111111111111,\"#46039f\"],[0.2222222222222222,\"#7201a8\"],[0.3333333333333333,\"#9c179e\"],[0.4444444444444444,\"#bd3786\"],[0.5555555555555556,\"#d8576b\"],[0.6666666666666666,\"#ed7953\"],[0.7777777777777778,\"#fb9f3a\"],[0.8888888888888888,\"#fdca26\"],[1.0,\"#f0f921\"]]}],\"heatmap\":[{\"type\":\"heatmap\",\"colorbar\":{\"outlinewidth\":0,\"ticks\":\"\"},\"colorscale\":[[0.0,\"#0d0887\"],[0.1111111111111111,\"#46039f\"],[0.2222222222222222,\"#7201a8\"],[0.3333333333333333,\"#9c179e\"],[0.4444444444444444,\"#bd3786\"],[0.5555555555555556,\"#d8576b\"],[0.6666666666666666,\"#ed7953\"],[0.7777777777777778,\"#fb9f3a\"],[0.8888888888888888,\"#fdca26\"],[1.0,\"#f0f921\"]]}],\"heatmapgl\":[{\"type\":\"heatmapgl\",\"colorbar\":{\"outlinewidth\":0,\"ticks\":\"\"},\"colorscale\":[[0.0,\"#0d0887\"],[0.1111111111111111,\"#46039f\"],[0.2222222222222222,\"#7201a8\"],[0.3333333333333333,\"#9c179e\"],[0.4444444444444444,\"#bd3786\"],[0.5555555555555556,\"#d8576b\"],[0.6666666666666666,\"#ed7953\"],[0.7777777777777778,\"#fb9f3a\"],[0.8888888888888888,\"#fdca26\"],[1.0,\"#f0f921\"]]}],\"contourcarpet\":[{\"type\":\"contourcarpet\",\"colorbar\":{\"outlinewidth\":0,\"ticks\":\"\"}}],\"contour\":[{\"type\":\"contour\",\"colorbar\":{\"outlinewidth\":0,\"ticks\":\"\"},\"colorscale\":[[0.0,\"#0d0887\"],[0.1111111111111111,\"#46039f\"],[0.2222222222222222,\"#7201a8\"],[0.3333333333333333,\"#9c179e\"],[0.4444444444444444,\"#bd3786\"],[0.5555555555555556,\"#d8576b\"],[0.6666666666666666,\"#ed7953\"],[0.7777777777777778,\"#fb9f3a\"],[0.8888888888888888,\"#fdca26\"],[1.0,\"#f0f921\"]]}],\"surface\":[{\"type\":\"surface\",\"colorbar\":{\"outlinewidth\":0,\"ticks\":\"\"},\"colorscale\":[[0.0,\"#0d0887\"],[0.1111111111111111,\"#46039f\"],[0.2222222222222222,\"#7201a8\"],[0.3333333333333333,\"#9c179e\"],[0.4444444444444444,\"#bd3786\"],[0.5555555555555556,\"#d8576b\"],[0.6666666666666666,\"#ed7953\"],[0.7777777777777778,\"#fb9f3a\"],[0.8888888888888888,\"#fdca26\"],[1.0,\"#f0f921\"]]}],\"mesh3d\":[{\"type\":\"mesh3d\",\"colorbar\":{\"outlinewidth\":0,\"ticks\":\"\"}}],\"scatter\":[{\"fillpattern\":{\"fillmode\":\"overlay\",\"size\":10,\"solidity\":0.2},\"type\":\"scatter\"}],\"parcoords\":[{\"type\":\"parcoords\",\"line\":{\"colorbar\":{\"outlinewidth\":0,\"ticks\":\"\"}}}],\"scatterpolargl\":[{\"type\":\"scatterpolargl\",\"marker\":{\"colorbar\":{\"outlinewidth\":0,\"ticks\":\"\"}}}],\"bar\":[{\"error_x\":{\"color\":\"#2a3f5f\"},\"error_y\":{\"color\":\"#2a3f5f\"},\"marker\":{\"line\":{\"color\":\"#E5ECF6\",\"width\":0.5},\"pattern\":{\"fillmode\":\"overlay\",\"size\":10,\"solidity\":0.2}},\"type\":\"bar\"}],\"scattergeo\":[{\"type\":\"scattergeo\",\"marker\":{\"colorbar\":{\"outlinewidth\":0,\"ticks\":\"\"}}}],\"scatterpolar\":[{\"type\":\"scatterpolar\",\"marker\":{\"colorbar\":{\"outlinewidth\":0,\"ticks\":\"\"}}}],\"histogram\":[{\"marker\":{\"pattern\":{\"fillmode\":\"overlay\",\"size\":10,\"solidity\":0.2}},\"type\":\"histogram\"}],\"scattergl\":[{\"type\":\"scattergl\",\"marker\":{\"colorbar\":{\"outlinewidth\":0,\"ticks\":\"\"}}}],\"scatter3d\":[{\"type\":\"scatter3d\",\"line\":{\"colorbar\":{\"outlinewidth\":0,\"ticks\":\"\"}},\"marker\":{\"colorbar\":{\"outlinewidth\":0,\"ticks\":\"\"}}}],\"scattermapbox\":[{\"type\":\"scattermapbox\",\"marker\":{\"colorbar\":{\"outlinewidth\":0,\"ticks\":\"\"}}}],\"scatterternary\":[{\"type\":\"scatterternary\",\"marker\":{\"colorbar\":{\"outlinewidth\":0,\"ticks\":\"\"}}}],\"scattercarpet\":[{\"type\":\"scattercarpet\",\"marker\":{\"colorbar\":{\"outlinewidth\":0,\"ticks\":\"\"}}}],\"carpet\":[{\"aaxis\":{\"endlinecolor\":\"#2a3f5f\",\"gridcolor\":\"white\",\"linecolor\":\"white\",\"minorgridcolor\":\"white\",\"startlinecolor\":\"#2a3f5f\"},\"baxis\":{\"endlinecolor\":\"#2a3f5f\",\"gridcolor\":\"white\",\"linecolor\":\"white\",\"minorgridcolor\":\"white\",\"startlinecolor\":\"#2a3f5f\"},\"type\":\"carpet\"}],\"table\":[{\"cells\":{\"fill\":{\"color\":\"#EBF0F8\"},\"line\":{\"color\":\"white\"}},\"header\":{\"fill\":{\"color\":\"#C8D4E3\"},\"line\":{\"color\":\"white\"}},\"type\":\"table\"}],\"barpolar\":[{\"marker\":{\"line\":{\"color\":\"#E5ECF6\",\"width\":0.5},\"pattern\":{\"fillmode\":\"overlay\",\"size\":10,\"solidity\":0.2}},\"type\":\"barpolar\"}],\"pie\":[{\"automargin\":true,\"type\":\"pie\"}]},\"layout\":{\"autotypenumbers\":\"strict\",\"colorway\":[\"#636efa\",\"#EF553B\",\"#00cc96\",\"#ab63fa\",\"#FFA15A\",\"#19d3f3\",\"#FF6692\",\"#B6E880\",\"#FF97FF\",\"#FECB52\"],\"font\":{\"color\":\"#2a3f5f\"},\"hovermode\":\"closest\",\"hoverlabel\":{\"align\":\"left\"},\"paper_bgcolor\":\"white\",\"plot_bgcolor\":\"#E5ECF6\",\"polar\":{\"bgcolor\":\"#E5ECF6\",\"angularaxis\":{\"gridcolor\":\"white\",\"linecolor\":\"white\",\"ticks\":\"\"},\"radialaxis\":{\"gridcolor\":\"white\",\"linecolor\":\"white\",\"ticks\":\"\"}},\"ternary\":{\"bgcolor\":\"#E5ECF6\",\"aaxis\":{\"gridcolor\":\"white\",\"linecolor\":\"white\",\"ticks\":\"\"},\"baxis\":{\"gridcolor\":\"white\",\"linecolor\":\"white\",\"ticks\":\"\"},\"caxis\":{\"gridcolor\":\"white\",\"linecolor\":\"white\",\"ticks\":\"\"}},\"coloraxis\":{\"colorbar\":{\"outlinewidth\":0,\"ticks\":\"\"}},\"colorscale\":{\"sequential\":[[0.0,\"#0d0887\"],[0.1111111111111111,\"#46039f\"],[0.2222222222222222,\"#7201a8\"],[0.3333333333333333,\"#9c179e\"],[0.4444444444444444,\"#bd3786\"],[0.5555555555555556,\"#d8576b\"],[0.6666666666666666,\"#ed7953\"],[0.7777777777777778,\"#fb9f3a\"],[0.8888888888888888,\"#fdca26\"],[1.0,\"#f0f921\"]],\"sequentialminus\":[[0.0,\"#0d0887\"],[0.1111111111111111,\"#46039f\"],[0.2222222222222222,\"#7201a8\"],[0.3333333333333333,\"#9c179e\"],[0.4444444444444444,\"#bd3786\"],[0.5555555555555556,\"#d8576b\"],[0.6666666666666666,\"#ed7953\"],[0.7777777777777778,\"#fb9f3a\"],[0.8888888888888888,\"#fdca26\"],[1.0,\"#f0f921\"]],\"diverging\":[[0,\"#8e0152\"],[0.1,\"#c51b7d\"],[0.2,\"#de77ae\"],[0.3,\"#f1b6da\"],[0.4,\"#fde0ef\"],[0.5,\"#f7f7f7\"],[0.6,\"#e6f5d0\"],[0.7,\"#b8e186\"],[0.8,\"#7fbc41\"],[0.9,\"#4d9221\"],[1,\"#276419\"]]},\"xaxis\":{\"gridcolor\":\"white\",\"linecolor\":\"white\",\"ticks\":\"\",\"title\":{\"standoff\":15},\"zerolinecolor\":\"white\",\"automargin\":true,\"zerolinewidth\":2},\"yaxis\":{\"gridcolor\":\"white\",\"linecolor\":\"white\",\"ticks\":\"\",\"title\":{\"standoff\":15},\"zerolinecolor\":\"white\",\"automargin\":true,\"zerolinewidth\":2},\"scene\":{\"xaxis\":{\"backgroundcolor\":\"#E5ECF6\",\"gridcolor\":\"white\",\"linecolor\":\"white\",\"showbackground\":true,\"ticks\":\"\",\"zerolinecolor\":\"white\",\"gridwidth\":2},\"yaxis\":{\"backgroundcolor\":\"#E5ECF6\",\"gridcolor\":\"white\",\"linecolor\":\"white\",\"showbackground\":true,\"ticks\":\"\",\"zerolinecolor\":\"white\",\"gridwidth\":2},\"zaxis\":{\"backgroundcolor\":\"#E5ECF6\",\"gridcolor\":\"white\",\"linecolor\":\"white\",\"showbackground\":true,\"ticks\":\"\",\"zerolinecolor\":\"white\",\"gridwidth\":2}},\"shapedefaults\":{\"line\":{\"color\":\"#2a3f5f\"}},\"annotationdefaults\":{\"arrowcolor\":\"#2a3f5f\",\"arrowhead\":0,\"arrowwidth\":1},\"geo\":{\"bgcolor\":\"white\",\"landcolor\":\"#E5ECF6\",\"subunitcolor\":\"white\",\"showland\":true,\"showlakes\":true,\"lakecolor\":\"white\"},\"title\":{\"x\":0.05},\"mapbox\":{\"style\":\"light\"}}},\"title\":{\"text\":\"Intensities over frequency\",\"x\":0.5}},                        {\"responsive\": true}                    ).then(function(){\n",
              "                            \n",
              "var gd = document.getElementById('cf880c74-0619-4c05-8ab2-40f23ab5e7cc');\n",
              "var x = new MutationObserver(function (mutations, observer) {{\n",
              "        var display = window.getComputedStyle(gd).display;\n",
              "        if (!display || display === 'none') {{\n",
              "            console.log([gd, 'removed!']);\n",
              "            Plotly.purge(gd);\n",
              "            observer.disconnect();\n",
              "        }}\n",
              "}});\n",
              "\n",
              "// Listen for the removal of the full notebook cells\n",
              "var notebookContainer = gd.closest('#notebook-container');\n",
              "if (notebookContainer) {{\n",
              "    x.observe(notebookContainer, {childList: true});\n",
              "}}\n",
              "\n",
              "// Listen for the clearing of the current output cell\n",
              "var outputEl = gd.closest('.output');\n",
              "if (outputEl) {{\n",
              "    x.observe(outputEl, {childList: true});\n",
              "}}\n",
              "\n",
              "                        })                };                            </script>        </div>\n",
              "</body>\n",
              "</html>"
            ]
          },
          "metadata": {},
          "output_type": "display_data"
        }
      ],
      "source": [
        "# change the index values below to pick molecules with and without a carbonyl\n",
        "idx_hasCarbonyl=7\n",
        "idx_notCarbonyl=23\n",
        "# get the data for the two molecules\n",
        "hasCarbonyl=train.set_index('name').iloc[idx_hasCarbonyl,3:]\n",
        "notCarbonyl=train.set_index('name').iloc[idx_notCarbonyl,3:]\n",
        "# plot the spectra\n",
        "fig = go.Figure()\n",
        "fig.add_trace(go.Scatter(x=hasCarbonyl.index, y=hasCarbonyl, name=hasCarbonyl.name,mode='markers'))\n",
        "fig.add_trace(go.Scatter(x=notCarbonyl.index, y=notCarbonyl,name=notCarbonyl.name,mode='markers'))\n",
        "fig.update_layout(title='Intensities over frequency',title_x=0.5)"
      ]
    },
    {
      "cell_type": "code",
      "execution_count": null,
      "metadata": {
        "colab": {
          "background_save": true
        },
        "id": "PP9o7Pz9EI7Z"
      },
      "outputs": [],
      "source": [
        "# set threshold value\n",
        "threshold=0.2"
      ]
    },
    {
      "cell_type": "code",
      "execution_count": null,
      "metadata": {
        "colab": {
          "background_save": true
        },
        "id": "vzQOtAbxEUXI"
      },
      "outputs": [],
      "source": [
        "# define a function to apply the threshold chosen above\n",
        "def applyThreshold (dataframe,i=3):\n",
        "  \"\"\"\n",
        "  i is the position of the start of the attributes\n",
        "  \"\"\"\n",
        "  dataframe.iloc[:,i:]=np.where((dataframe.iloc[:,i:]< threshold),0,dataframe.iloc[:,i:])"
      ]
    },
    {
      "cell_type": "code",
      "execution_count": null,
      "metadata": {
        "colab": {
          "background_save": true
        },
        "id": "K9EsFD-cEWTp"
      },
      "outputs": [],
      "source": [
        "# use the function to apply the threshold to the training and test data\n",
        "applyThreshold(train)\n",
        "applyThreshold(test)"
      ]
    },
    {
      "cell_type": "code",
      "execution_count": null,
      "metadata": {
        "colab": {
          "background_save": true,
          "base_uri": "https://localhost:8080/",
          "height": 542
        },
        "id": "ujd_cOSnEa0G",
        "outputId": "49c1284d-9ba2-4ced-b9e4-88012fce8e01"
      },
      "outputs": [
        {
          "data": {
            "text/html": [
              "<html>\n",
              "<head><meta charset=\"utf-8\" /></head>\n",
              "<body>\n",
              "    <div>            <script src=\"https://cdnjs.cloudflare.com/ajax/libs/mathjax/2.7.5/MathJax.js?config=TeX-AMS-MML_SVG\"></script><script type=\"text/javascript\">if (window.MathJax && window.MathJax.Hub && window.MathJax.Hub.Config) {window.MathJax.Hub.Config({SVG: {font: \"STIX-Web\"}});}</script>                <script type=\"text/javascript\">window.PlotlyConfig = {MathJaxConfig: 'local'};</script>\n",
              "        <script charset=\"utf-8\" src=\"https://cdn.plot.ly/plotly-2.24.1.min.js\"></script>                <div id=\"b6b0894e-c563-4f5c-aef4-1c43b4ca07ad\" class=\"plotly-graph-div\" style=\"height:525px; width:100%;\"></div>            <script type=\"text/javascript\">                                    window.PLOTLYENV=window.PLOTLYENV || {};                                    if (document.getElementById(\"b6b0894e-c563-4f5c-aef4-1c43b4ca07ad\")) {                    Plotly.newPlot(                        \"b6b0894e-c563-4f5c-aef4-1c43b4ca07ad\",                        [{\"mode\":\"markers\",\"name\":\"NN-diethylacetamide\",\"x\":[\"502\",\"504\",\"506\",\"508\",\"510\",\"512\",\"514\",\"516\",\"518\",\"520\",\"522\",\"524\",\"526\",\"528\",\"530\",\"532\",\"534\",\"536\",\"538\",\"540\",\"542\",\"544\",\"546\",\"548\",\"550\",\"552\",\"554\",\"556\",\"558\",\"560\",\"562\",\"564\",\"566\",\"568\",\"570\",\"572\",\"574\",\"576\",\"578\",\"580\",\"582\",\"584\",\"586\",\"588\",\"590\",\"592\",\"594\",\"596\",\"598\",\"600\",\"602\",\"604\",\"606\",\"608\",\"610\",\"612\",\"614\",\"616\",\"618\",\"620\",\"622\",\"624\",\"626\",\"628\",\"630\",\"632\",\"634\",\"636\",\"638\",\"640\",\"642\",\"644\",\"646\",\"648\",\"650\",\"652\",\"654\",\"656\",\"658\",\"660\",\"662\",\"664\",\"666\",\"668\",\"670\",\"672\",\"674\",\"676\",\"678\",\"680\",\"682\",\"684\",\"686\",\"688\",\"690\",\"692\",\"694\",\"696\",\"698\",\"700\",\"702\",\"704\",\"706\",\"708\",\"710\",\"712\",\"714\",\"716\",\"718\",\"720\",\"722\",\"724\",\"726\",\"728\",\"730\",\"732\",\"734\",\"736\",\"738\",\"740\",\"742\",\"744\",\"746\",\"748\",\"750\",\"752\",\"754\",\"756\",\"758\",\"760\",\"762\",\"764\",\"766\",\"768\",\"770\",\"772\",\"774\",\"776\",\"778\",\"780\",\"782\",\"784\",\"786\",\"788\",\"790\",\"792\",\"794\",\"796\",\"798\",\"800\",\"802\",\"804\",\"806\",\"808\",\"810\",\"812\",\"814\",\"816\",\"818\",\"820\",\"822\",\"824\",\"826\",\"828\",\"830\",\"832\",\"834\",\"836\",\"838\",\"840\",\"842\",\"844\",\"846\",\"848\",\"850\",\"852\",\"854\",\"856\",\"858\",\"860\",\"862\",\"864\",\"866\",\"868\",\"870\",\"872\",\"874\",\"876\",\"878\",\"880\",\"882\",\"884\",\"886\",\"888\",\"890\",\"892\",\"894\",\"896\",\"898\",\"900\",\"902\",\"904\",\"906\",\"908\",\"910\",\"912\",\"914\",\"916\",\"918\",\"920\",\"922\",\"924\",\"926\",\"928\",\"930\",\"932\",\"934\",\"936\",\"938\",\"940\",\"942\",\"944\",\"946\",\"948\",\"950\",\"952\",\"954\",\"956\",\"958\",\"960\",\"962\",\"964\",\"966\",\"968\",\"970\",\"972\",\"974\",\"976\",\"978\",\"980\",\"982\",\"984\",\"986\",\"988\",\"990\",\"992\",\"994\",\"996\",\"998\",\"1000\",\"1002\",\"1004\",\"1006\",\"1008\",\"1010\",\"1012\",\"1014\",\"1016\",\"1018\",\"1020\",\"1022\",\"1024\",\"1026\",\"1028\",\"1030\",\"1032\",\"1034\",\"1036\",\"1038\",\"1040\",\"1042\",\"1044\",\"1046\",\"1048\",\"1050\",\"1052\",\"1054\",\"1056\",\"1058\",\"1060\",\"1062\",\"1064\",\"1066\",\"1068\",\"1070\",\"1072\",\"1074\",\"1076\",\"1078\",\"1080\",\"1082\",\"1084\",\"1086\",\"1088\",\"1090\",\"1092\",\"1094\",\"1096\",\"1098\",\"1100\",\"1102\",\"1104\",\"1106\",\"1108\",\"1110\",\"1112\",\"1114\",\"1116\",\"1118\",\"1120\",\"1122\",\"1124\",\"1126\",\"1128\",\"1130\",\"1132\",\"1134\",\"1136\",\"1138\",\"1140\",\"1142\",\"1144\",\"1146\",\"1148\",\"1150\",\"1152\",\"1154\",\"1156\",\"1158\",\"1160\",\"1162\",\"1164\",\"1166\",\"1168\",\"1170\",\"1172\",\"1174\",\"1176\",\"1178\",\"1180\",\"1182\",\"1184\",\"1186\",\"1188\",\"1190\",\"1192\",\"1194\",\"1196\",\"1198\",\"1200\",\"1202\",\"1204\",\"1206\",\"1208\",\"1210\",\"1212\",\"1214\",\"1216\",\"1218\",\"1220\",\"1222\",\"1224\",\"1226\",\"1228\",\"1230\",\"1232\",\"1234\",\"1236\",\"1238\",\"1240\",\"1242\",\"1244\",\"1246\",\"1248\",\"1250\",\"1252\",\"1254\",\"1256\",\"1258\",\"1260\",\"1262\",\"1264\",\"1266\",\"1268\",\"1270\",\"1272\",\"1274\",\"1276\",\"1278\",\"1280\",\"1282\",\"1284\",\"1286\",\"1288\",\"1290\",\"1292\",\"1294\",\"1296\",\"1298\",\"1300\",\"1302\",\"1304\",\"1306\",\"1308\",\"1310\",\"1312\",\"1314\",\"1316\",\"1318\",\"1320\",\"1322\",\"1324\",\"1326\",\"1328\",\"1330\",\"1332\",\"1334\",\"1336\",\"1338\",\"1340\",\"1342\",\"1344\",\"1346\",\"1348\",\"1350\",\"1352\",\"1354\",\"1356\",\"1358\",\"1360\",\"1362\",\"1364\",\"1366\",\"1368\",\"1370\",\"1372\",\"1374\",\"1376\",\"1378\",\"1380\",\"1382\",\"1384\",\"1386\",\"1388\",\"1390\",\"1392\",\"1394\",\"1396\",\"1398\",\"1400\",\"1402\",\"1404\",\"1406\",\"1408\",\"1410\",\"1412\",\"1414\",\"1416\",\"1418\",\"1420\",\"1422\",\"1424\",\"1426\",\"1428\",\"1430\",\"1432\",\"1434\",\"1436\",\"1438\",\"1440\",\"1442\",\"1444\",\"1446\",\"1448\",\"1450\",\"1452\",\"1454\",\"1456\",\"1458\",\"1460\",\"1462\",\"1464\",\"1466\",\"1468\",\"1470\",\"1472\",\"1474\",\"1476\",\"1478\",\"1480\",\"1482\",\"1484\",\"1486\",\"1488\",\"1490\",\"1492\",\"1494\",\"1496\",\"1498\",\"1500\",\"1502\",\"1504\",\"1506\",\"1508\",\"1510\",\"1512\",\"1514\",\"1516\",\"1518\",\"1520\",\"1522\",\"1524\",\"1526\",\"1528\",\"1530\",\"1532\",\"1534\",\"1536\",\"1538\",\"1540\",\"1542\",\"1544\",\"1546\",\"1548\",\"1550\",\"1552\",\"1554\",\"1556\",\"1558\",\"1560\",\"1562\",\"1564\",\"1566\",\"1568\",\"1570\",\"1572\",\"1574\",\"1576\",\"1578\",\"1580\",\"1582\",\"1584\",\"1586\",\"1588\",\"1590\",\"1592\",\"1594\",\"1596\",\"1598\",\"1600\",\"1602\",\"1604\",\"1606\",\"1608\",\"1610\",\"1612\",\"1614\",\"1616\",\"1618\",\"1620\",\"1622\",\"1624\",\"1626\",\"1628\",\"1630\",\"1632\",\"1634\",\"1636\",\"1638\",\"1640\",\"1642\",\"1644\",\"1646\",\"1648\",\"1650\",\"1652\",\"1654\",\"1656\",\"1658\",\"1660\",\"1662\",\"1664\",\"1666\",\"1668\",\"1670\",\"1672\",\"1674\",\"1676\",\"1678\",\"1680\",\"1682\",\"1684\",\"1686\",\"1688\",\"1690\",\"1692\",\"1694\",\"1696\",\"1698\",\"1700\",\"1702\",\"1704\",\"1706\",\"1708\",\"1710\",\"1712\",\"1714\",\"1716\",\"1718\",\"1720\",\"1722\",\"1724\",\"1726\",\"1728\",\"1730\",\"1732\",\"1734\",\"1736\",\"1738\",\"1740\",\"1742\",\"1744\",\"1746\",\"1748\",\"1750\",\"1752\",\"1754\",\"1756\",\"1758\",\"1760\",\"1762\",\"1764\",\"1766\",\"1768\",\"1770\",\"1772\",\"1774\",\"1776\",\"1778\",\"1780\",\"1782\",\"1784\",\"1786\",\"1788\",\"1790\",\"1792\",\"1794\",\"1796\",\"1798\",\"1800\",\"1802\",\"1804\",\"1806\",\"1808\",\"1810\",\"1812\",\"1814\",\"1816\",\"1818\",\"1820\",\"1822\",\"1824\",\"1826\",\"1828\",\"1830\",\"1832\",\"1834\",\"1836\",\"1838\",\"1840\",\"1842\",\"1844\",\"1846\",\"1848\",\"1850\",\"1852\",\"1854\",\"1856\",\"1858\",\"1860\",\"1862\",\"1864\",\"1866\",\"1868\",\"1870\",\"1872\",\"1874\",\"1876\",\"1878\",\"1880\",\"1882\",\"1884\",\"1886\",\"1888\",\"1890\",\"1892\",\"1894\",\"1896\",\"1898\",\"1900\",\"1902\",\"1904\",\"1906\",\"1908\",\"1910\",\"1912\",\"1914\",\"1916\",\"1918\",\"1920\",\"1922\",\"1924\",\"1926\",\"1928\",\"1930\",\"1932\",\"1934\",\"1936\",\"1938\",\"1940\",\"1942\",\"1944\",\"1946\",\"1948\",\"1950\",\"1952\",\"1954\",\"1956\",\"1958\",\"1960\",\"1962\",\"1964\",\"1966\",\"1968\",\"1970\",\"1972\",\"1974\",\"1976\",\"1978\",\"1980\",\"1982\",\"1984\",\"1986\",\"1988\",\"1990\",\"1992\",\"1994\",\"1996\",\"1998\",\"2000\",\"2002\",\"2004\",\"2006\",\"2008\",\"2010\",\"2012\",\"2014\",\"2016\",\"2018\",\"2020\",\"2022\",\"2024\",\"2026\",\"2028\",\"2030\",\"2032\",\"2034\",\"2036\",\"2038\",\"2040\",\"2042\",\"2044\",\"2046\",\"2048\",\"2050\",\"2052\",\"2054\",\"2056\",\"2058\",\"2060\",\"2062\",\"2064\",\"2066\",\"2068\",\"2070\",\"2072\",\"2074\",\"2076\",\"2078\",\"2080\",\"2082\",\"2084\",\"2086\",\"2088\",\"2090\",\"2092\",\"2094\",\"2096\",\"2098\",\"2100\",\"2102\",\"2104\",\"2106\",\"2108\",\"2110\",\"2112\",\"2114\",\"2116\",\"2118\",\"2120\",\"2122\",\"2124\",\"2126\",\"2128\",\"2130\",\"2132\",\"2134\",\"2136\",\"2138\",\"2140\",\"2142\",\"2144\",\"2146\",\"2148\",\"2150\",\"2152\",\"2154\",\"2156\",\"2158\",\"2160\",\"2162\",\"2164\",\"2166\",\"2168\",\"2170\",\"2172\",\"2174\",\"2176\",\"2178\",\"2180\",\"2182\",\"2184\",\"2186\",\"2188\",\"2190\",\"2192\",\"2194\",\"2196\",\"2198\",\"2200\",\"2202\",\"2204\",\"2206\",\"2208\",\"2210\",\"2212\",\"2214\",\"2216\",\"2218\",\"2220\",\"2222\",\"2224\",\"2226\",\"2228\",\"2230\",\"2232\",\"2234\",\"2236\",\"2238\",\"2240\",\"2242\",\"2244\",\"2246\",\"2248\",\"2250\",\"2252\",\"2254\",\"2256\",\"2258\",\"2260\",\"2262\",\"2264\",\"2266\",\"2268\",\"2270\",\"2272\",\"2274\",\"2276\",\"2278\",\"2280\",\"2282\",\"2284\",\"2286\",\"2288\",\"2290\",\"2292\",\"2294\",\"2296\",\"2298\",\"2300\",\"2302\",\"2304\",\"2306\",\"2308\",\"2310\",\"2312\",\"2314\",\"2316\",\"2318\",\"2320\",\"2322\",\"2324\",\"2326\",\"2328\",\"2330\",\"2332\",\"2334\",\"2336\",\"2338\",\"2340\",\"2342\",\"2344\",\"2346\",\"2348\",\"2350\",\"2352\",\"2354\",\"2356\",\"2358\",\"2360\",\"2362\",\"2364\",\"2366\",\"2368\",\"2370\",\"2372\",\"2374\",\"2376\",\"2378\",\"2380\",\"2382\",\"2384\",\"2386\",\"2388\",\"2390\",\"2392\",\"2394\",\"2396\",\"2398\",\"2400\",\"2402\",\"2404\",\"2406\",\"2408\",\"2410\",\"2412\",\"2414\",\"2416\",\"2418\",\"2420\",\"2422\",\"2424\",\"2426\",\"2428\",\"2430\",\"2432\",\"2434\",\"2436\",\"2438\",\"2440\",\"2442\",\"2444\",\"2446\",\"2448\",\"2450\",\"2452\",\"2454\",\"2456\",\"2458\",\"2460\",\"2462\",\"2464\",\"2466\",\"2468\",\"2470\",\"2472\",\"2474\",\"2476\",\"2478\",\"2480\",\"2482\",\"2484\",\"2486\",\"2488\",\"2490\",\"2492\",\"2494\",\"2496\",\"2498\",\"2500\",\"2502\",\"2504\",\"2506\",\"2508\",\"2510\",\"2512\",\"2514\",\"2516\",\"2518\",\"2520\",\"2522\",\"2524\",\"2526\",\"2528\",\"2530\",\"2532\",\"2534\",\"2536\",\"2538\",\"2540\",\"2542\",\"2544\",\"2546\",\"2548\",\"2550\",\"2552\",\"2554\",\"2556\",\"2558\",\"2560\",\"2562\",\"2564\",\"2566\",\"2568\",\"2570\",\"2572\",\"2574\",\"2576\",\"2578\",\"2580\",\"2582\",\"2584\",\"2586\",\"2588\",\"2590\",\"2592\",\"2594\",\"2596\",\"2598\",\"2600\",\"2602\",\"2604\",\"2606\",\"2608\",\"2610\",\"2612\",\"2614\",\"2616\",\"2618\",\"2620\",\"2622\",\"2624\",\"2626\",\"2628\",\"2630\",\"2632\",\"2634\",\"2636\",\"2638\",\"2640\",\"2642\",\"2644\",\"2646\",\"2648\",\"2650\",\"2652\",\"2654\",\"2656\",\"2658\",\"2660\",\"2662\",\"2664\",\"2666\",\"2668\",\"2670\",\"2672\",\"2674\",\"2676\",\"2678\",\"2680\",\"2682\",\"2684\",\"2686\",\"2688\",\"2690\",\"2692\",\"2694\",\"2696\",\"2698\",\"2700\",\"2702\",\"2704\",\"2706\",\"2708\",\"2710\",\"2712\",\"2714\",\"2716\",\"2718\",\"2720\",\"2722\",\"2724\",\"2726\",\"2728\",\"2730\",\"2732\",\"2734\",\"2736\",\"2738\",\"2740\",\"2742\",\"2744\",\"2746\",\"2748\",\"2750\",\"2752\",\"2754\",\"2756\",\"2758\",\"2760\",\"2762\",\"2764\",\"2766\",\"2768\",\"2770\",\"2772\",\"2774\",\"2776\",\"2778\",\"2780\",\"2782\",\"2784\",\"2786\",\"2788\",\"2790\",\"2792\",\"2794\",\"2796\",\"2798\",\"2800\",\"2802\",\"2804\",\"2806\",\"2808\",\"2810\",\"2812\",\"2814\",\"2816\",\"2818\",\"2820\",\"2822\",\"2824\",\"2826\",\"2828\",\"2830\",\"2832\",\"2834\",\"2836\",\"2838\",\"2840\",\"2842\",\"2844\",\"2846\",\"2848\",\"2850\",\"2852\",\"2854\",\"2856\",\"2858\",\"2860\",\"2862\",\"2864\",\"2866\",\"2868\",\"2870\",\"2872\",\"2874\",\"2876\",\"2878\",\"2880\",\"2882\",\"2884\",\"2886\",\"2888\",\"2890\",\"2892\",\"2894\",\"2896\",\"2898\",\"2900\",\"2902\",\"2904\",\"2906\",\"2908\",\"2910\",\"2912\",\"2914\",\"2916\",\"2918\",\"2920\",\"2922\",\"2924\",\"2926\",\"2928\",\"2930\",\"2932\",\"2934\",\"2936\",\"2938\",\"2940\",\"2942\",\"2944\",\"2946\",\"2948\",\"2950\",\"2952\",\"2954\",\"2956\",\"2958\",\"2960\",\"2962\",\"2964\",\"2966\",\"2968\",\"2970\",\"2972\",\"2974\",\"2976\",\"2978\",\"2980\",\"2982\",\"2984\",\"2986\",\"2988\",\"2990\",\"2992\",\"2994\",\"2996\",\"2998\",\"3000\",\"3002\",\"3004\",\"3006\",\"3008\",\"3010\",\"3012\",\"3014\",\"3016\",\"3018\",\"3020\",\"3022\",\"3024\",\"3026\",\"3028\",\"3030\",\"3032\",\"3034\",\"3036\",\"3038\",\"3040\",\"3042\",\"3044\",\"3046\",\"3048\",\"3050\",\"3052\",\"3054\",\"3056\",\"3058\",\"3060\",\"3062\",\"3064\",\"3066\",\"3068\",\"3070\",\"3072\",\"3074\",\"3076\",\"3078\",\"3080\",\"3082\",\"3084\",\"3086\",\"3088\",\"3090\",\"3092\",\"3094\",\"3096\",\"3098\",\"3100\",\"3102\",\"3104\",\"3106\",\"3108\",\"3110\",\"3112\",\"3114\",\"3116\",\"3118\",\"3120\",\"3122\",\"3124\",\"3126\",\"3128\",\"3130\",\"3132\",\"3134\",\"3136\",\"3138\",\"3140\",\"3142\",\"3144\",\"3146\",\"3148\",\"3150\",\"3152\",\"3154\",\"3156\",\"3158\",\"3160\",\"3162\",\"3164\",\"3166\",\"3168\",\"3170\",\"3172\",\"3174\",\"3176\",\"3178\",\"3180\",\"3182\",\"3184\",\"3186\",\"3188\",\"3190\",\"3192\",\"3194\",\"3196\",\"3198\",\"3200\",\"3202\",\"3204\",\"3206\",\"3208\",\"3210\",\"3212\",\"3214\",\"3216\",\"3218\",\"3220\",\"3222\",\"3224\",\"3226\",\"3228\",\"3230\",\"3232\",\"3234\",\"3236\",\"3238\",\"3240\",\"3242\",\"3244\",\"3246\",\"3248\",\"3250\",\"3252\",\"3254\",\"3256\",\"3258\",\"3260\",\"3262\",\"3264\",\"3266\",\"3268\",\"3270\",\"3272\",\"3274\",\"3276\",\"3278\",\"3280\",\"3282\",\"3284\",\"3286\",\"3288\",\"3290\",\"3292\",\"3294\",\"3296\",\"3298\",\"3300\",\"3302\",\"3304\",\"3306\",\"3308\",\"3310\",\"3312\",\"3314\",\"3316\",\"3318\",\"3320\",\"3322\",\"3324\",\"3326\",\"3328\",\"3330\",\"3332\",\"3334\",\"3336\",\"3338\",\"3340\",\"3342\",\"3344\",\"3346\",\"3348\",\"3350\",\"3352\",\"3354\",\"3356\",\"3358\",\"3360\",\"3362\",\"3364\",\"3366\",\"3368\",\"3370\",\"3372\",\"3374\",\"3376\",\"3378\",\"3380\",\"3382\",\"3384\",\"3386\",\"3388\",\"3390\",\"3392\",\"3394\",\"3396\",\"3398\",\"3400\",\"3402\",\"3404\",\"3406\",\"3408\",\"3410\",\"3412\",\"3414\",\"3416\",\"3418\",\"3420\",\"3422\",\"3424\",\"3426\",\"3428\",\"3430\",\"3432\",\"3434\",\"3436\",\"3438\",\"3440\",\"3442\",\"3444\",\"3446\",\"3448\",\"3450\",\"3452\",\"3454\",\"3456\",\"3458\",\"3460\",\"3462\",\"3464\",\"3466\",\"3468\",\"3470\",\"3472\",\"3474\",\"3476\",\"3478\",\"3480\",\"3482\",\"3484\",\"3486\",\"3488\",\"3490\",\"3492\",\"3494\",\"3496\",\"3498\",\"3500\",\"3502\",\"3504\",\"3506\",\"3508\",\"3510\",\"3512\",\"3514\",\"3516\",\"3518\",\"3520\",\"3522\",\"3524\",\"3526\",\"3528\",\"3530\",\"3532\",\"3534\",\"3536\",\"3538\",\"3540\",\"3542\",\"3544\",\"3546\",\"3548\",\"3550\",\"3552\",\"3554\",\"3556\",\"3558\",\"3560\",\"3562\",\"3564\",\"3566\",\"3568\",\"3570\",\"3572\",\"3574\",\"3576\",\"3578\",\"3580\",\"3582\",\"3584\",\"3586\",\"3588\",\"3590\",\"3592\",\"3594\",\"3596\",\"3598\",\"3600\",\"3602\",\"3604\",\"3606\",\"3608\",\"3610\",\"3612\",\"3614\",\"3616\",\"3618\",\"3620\",\"3622\",\"3624\",\"3626\",\"3628\",\"3630\",\"3632\",\"3634\",\"3636\",\"3638\",\"3640\",\"3642\",\"3644\",\"3646\",\"3648\",\"3650\",\"3652\",\"3654\",\"3656\",\"3658\",\"3660\",\"3662\",\"3664\",\"3666\",\"3668\",\"3670\",\"3672\",\"3674\",\"3676\",\"3678\",\"3680\",\"3682\",\"3684\",\"3686\",\"3688\",\"3690\",\"3692\",\"3694\",\"3696\",\"3698\",\"3700\",\"3702\",\"3704\",\"3706\",\"3708\",\"3710\",\"3712\",\"3714\",\"3716\",\"3718\",\"3720\",\"3722\",\"3724\",\"3726\",\"3728\",\"3730\",\"3732\",\"3734\",\"3736\",\"3738\",\"3740\",\"3742\",\"3744\",\"3746\",\"3748\",\"3750\",\"3752\",\"3754\",\"3756\",\"3758\",\"3760\",\"3762\",\"3764\",\"3766\",\"3768\",\"3770\",\"3772\",\"3774\",\"3776\",\"3778\",\"3780\",\"3782\",\"3784\",\"3786\",\"3788\",\"3790\",\"3792\",\"3794\",\"3796\",\"3798\",\"3800\",\"3802\",\"3804\",\"3806\",\"3808\",\"3810\",\"3812\",\"3814\",\"3816\",\"3818\",\"3820\",\"3822\",\"3824\",\"3826\",\"3828\",\"3830\",\"3832\",\"3834\",\"3836\",\"3838\",\"3840\",\"3842\",\"3844\",\"3846\",\"3848\",\"3850\",\"3852\",\"3854\",\"3856\",\"3858\",\"3860\",\"3862\",\"3864\",\"3866\",\"3868\",\"3870\",\"3872\",\"3874\",\"3876\",\"3878\",\"3880\",\"3882\",\"3884\",\"3886\",\"3888\",\"3890\",\"3892\",\"3894\",\"3896\",\"3898\",\"3900\",\"3902\",\"3904\",\"3906\",\"3908\",\"3910\",\"3912\",\"3914\",\"3916\",\"3918\",\"3920\",\"3922\",\"3924\",\"3926\",\"3928\",\"3930\",\"3932\",\"3934\",\"3936\",\"3938\",\"3940\",\"3942\",\"3944\",\"3946\",\"3948\",\"3950\",\"3952\",\"3954\",\"3956\",\"3958\",\"3960\",\"3962\",\"3964\",\"3966\",\"3968\",\"3970\",\"3972\",\"3974\",\"3976\",\"3978\",\"3980\",\"3982\",\"3984\",\"3986\",\"3988\",\"3990\",\"3992\",\"3994\",\"3996\",\"3998\",\"4000\"],\"y\":[0.0,0.0,0.0,0.0,0.0,0.0,0.0,0.0,0.0,0.0,0.0,0.0,0.0,0.0,0.0,0.0,0.0,0.0,0.0,0.0,0.0,0.0,0.0,0.0,0.0,0.0,0.0,0.0,0.0,0.0,0.0,0.0,0.0,0.0,0.0,0.0,0.0,0.0,0.0,0.0,0.0,0.0,0.0,0.0,0.0,0.0,0.0,0.0,0.0,0.0,0.0,0.0,0.0,0.0,0.0,0.0,0.0,0.0,0.0,0.0,0.0,0.0,0.0,0.0,0.0,0.0,0.0,0.0,0.0,0.0,0.0,0.0,0.0,0.0,0.0,0.0,0.0,0.0,0.0,0.0,0.0,0.0,0.0,0.0,0.0,0.0,0.0,0.0,0.0,0.0,0.0,0.0,0.0,0.0,0.0,0.0,0.0,0.0,0.0,0.0,0.0,0.0,0.0,0.0,0.0,0.0,0.0,0.0,0.0,0.0,0.0,0.0,0.0,0.0,0.0,0.0,0.0,0.0,0.0,0.0,0.0,0.0,0.0,0.0,0.0,0.0,0.0,0.0,0.0,0.0,0.0,0.0,0.0,0.0,0.0,0.0,0.0,0.0,0.0,0.0,0.0,0.0,0.0,0.0,0.0,0.0,0.0,0.0,0.0,0.0,0.0,0.0,0.0,0.0,0.0,0.0,0.0,0.0,0.0,0.0,0.0,0.0,0.0,0.0,0.0,0.0,0.0,0.0,0.0,0.0,0.0,0.0,0.0,0.0,0.0,0.0,0.0,0.0,0.0,0.0,0.0,0.0,0.0,0.0,0.0,0.0,0.0,0.0,0.0,0.0,0.0,0.0,0.0,0.0,0.0,0.0,0.0,0.0,0.0,0.0,0.0,0.0,0.0,0.0,0.0,0.0,0.0,0.0,0.0,0.0,0.0,0.0,0.0,0.0,0.0,0.0,0.0,0.0,0.0,0.0,0.0,0.0,0.0,0.0,0.0,0.0,0.0,0.0,0.0,0.0,0.0,0.0,0.0,0.0,0.0,0.0,0.0,0.0,0.0,0.0,0.0,0.0,0.0,0.0,0.0,0.0,0.0,0.0,0.0,0.0,0.0,0.0,0.0,0.0,0.0,0.0,0.0,0.0,0.0,0.0,0.0,0.0,0.0,0.0,0.0,0.0,0.0,0.0,0.0,0.0,0.0,0.0,0.0,0.0,0.0,0.0,0.0,0.0,0.0,0.0,0.0,0.0,0.0,0.0,0.0,0.0,0.0,0.0,0.0,0.0,0.0,0.0,0.0,0.0,0.0,0.0,0.0,0.0,0.0,0.0,0.0,0.0,0.0,0.0,0.0,0.0,0.0,0.0,0.0,0.0,0.0,0.0,0.0,0.0,0.0,0.0,0.0,0.0,0.0,0.0,0.0,0.0,0.0,0.0,0.0,0.0,0.0,0.0,0.0,0.0,0.0,0.0,0.0,0.0,0.0,0.0,0.0,0.0,0.0,0.0,0.0,0.0,0.0,0.0,0.0,0.0,0.0,0.0,0.0,0.0,0.0,0.0,0.0,0.0,0.0,0.0,0.0,0.0,0.0,0.0,0.0,0.0,0.0,0.0,0.20156007249599314,0.20487611718929793,0.20830231451566011,0.21180549583835984,0.21535617792475714,0.21892692498892333,0.22249644358506282,0.22605122056488236,0.22958757052430195,0.23311122631411277,0.23663979597603013,0.2401986678492719,0.24382387699595343,0.24755555337161242,0.2514387408038931,0.2555193020991243,0.25984105261692353,0.2644433033341442,0.26935758493013706,0.27460723829740885,0.280204138626884,0.28614541949316685,0.29241592979059533,0.29898291037179175,0.30579640353700516,0.31279007201279574,0.31987997048400824,0.32696454559377186,0.33392873083692254,0.340645994006714,0.34698284157758225,0.35280496104527886,0.35798377275634646,0.36240380071627876,0.3659696339083383,0.3686137065910586,0.3702987552342975,0.3710223229020019,0.370816759252207,0.3697447161542727,0.367897100242172,0.3653840641489624,0.3623296831453368,0.3588621273954103,0.35510956706329805,0.3511915730369286,0.34721665999199036,0.3432786009878521,0.33945519899953563,0.33580910589640084,0.3323874129528031,0.32922492676283116,0.3263466261763605,0.32376970974576447,0.32150769061933626,0.3195712155199737,0.3179725691279433,0.3167240361235118,0.3158415865910258,0.31534282857220075,0.31524782704480553,0.31557664698660887,0.3163489438860375,0.31758232578480683,0.3192915342992368,0.32148557819485635,0.3241677333864032,0.32733513344848175,0.33097672216885216,0.33507407252711435,0.3396026151627352,0.3445300004176791,0.3498181457831197,0.3554248738568081,0.3613047313217579,0.36740980792492917,0.37369342188130866,0.3801101198739101,0.38661649603245773,0.3931740583587831,0.3997492287268239,0.4063133428826248,0.4128442884017058,0.41932650468906246,0.4257526209365349,0.4321222276547808,0.4384439241199869,0.4447361373525532,0.4510254841597238,0.4573488185822988,0.46374995597989577,0.4702809014989767,0.4769957077327148,0.4839512936996789,0.4912000740356731,0.49878791154702623,0.5067483843598002,0.5150982815370264,0.5238322797172558,0.532920076689164,0.5423027059874712,0.5518896704675467,0.561559761284093,0.571160648401804,0.5805154324248403,0.5894251015328824,0.597679587693371,0.6050663659376937,0.6113835580201353,0.6164505791407767,0.6201212416044447,0.6222915351182154,0.6229078165782579,0.6219680385378609,0.6195197017607222,0.6156557603275259,0.6105031559343604,0.6042154470845588,0.5969576579830357,0.5888984982387863,0.580199716141988,0.5710091373451823,0.5614553415018267,0.5516456148195831,0.5416651310816333,0.5315789990933906,0.5214318531931569,0.5112535861029145,0.501060577396352,0.49086019788162977,0.48065326653743184,0.47043609795967845,0.4602045972549472,0.44995507901915843,0.4396854958056007,0.4293970760823008,0.4190951432107077,0.40878829646700793,0.3984880015527836,0.3882106380417237,0.3779746329542281,0.36780127973609233,0.3577135097904807,0.34773753043529537,0.3378991394990963,0.3282274107251811,0.31874977989947856,0.3094949112759442,0.3004906501298491,0.29176279428975305,0.2833355036268471,0.2752300715869268,0.2674636967223654,0.2600515301388251,0.25300380906986136,0.24632749483429195,0.2400262728361969,0.23410096205426065,0.228549515041772,0.22336742741596666,0.2185485568367112,0.21408594198518796,0.2099701646065258,0.2061930349138803,0.20274431567369597,0.0,0.0,0.0,0.0,0.0,0.0,0.0,0.0,0.0,0.0,0.0,0.0,0.0,0.0,0.0,0.0,0.0,0.0,0.0,0.0,0.0,0.0,0.0,0.20263539150866522,0.2059952515615876,0.2096736943227579,0.21368382345112702,0.21804119954169954,0.22276179267882196,0.2278628014148676,0.23336429072760526,0.23928755406283042,0.24565511333436527,0.25249235688142746,0.2598259015112614,0.26768523045650694,0.27610146490717286,0.2851085924786636,0.2947422387437522,0.3050404862112654,0.31604469330476737,0.3277970374265069,0.3403433813828128,0.35372999746935585,0.36800643389654497,0.3832218293854466,0.3994265511251539,0.41667055681541776,0.43500216619862037,0.4544660136130637,0.47510263850362766,0.4969443905283477,0.5200142010903882,0.5443202599765936,0.5698527394427505,0.5965792898308235,0.6244388972288217,0.65333656010935,0.6831355090321064,0.7136527022611182,0.7446506359778974,0.7758344778560448,0.8068496101251972,0.8372787631456315,0.8666493862164248,0.8944410183836145,0.92010043954586,0.9430600974748431,0.9627659530905388,0.9787040972684604,0.9904310530509821,0.9976036683693232,1.0,0.9975373310958836,0.9902783135263339,0.9784244160477236,0.9623024111551448,0.9423434911259565,0.9190525563191166,0.8929795509212282,0.864689979713898,0.8347411576918887,0.8036580501919276,0.7719197597444131,0.7399513362865705,0.7081155873756073,0.6767155351247673,0.6459948256926716,0.6161438716234533,0.5873043562295204,0.5595766043997172,0.5330249059607726,0.5076844769961172,0.48356760218601785,0.46066732021165685,0.4389611091592119,0.4184178478386743,0.39899658731582194,0.3806522837630105,0.3633357984591735,0.34699676421521775,0.3315831758846813,0.3170446662784708,0.30333086820749317,0.29039305244002417,0.27818494668039273,0.2666615071009547,0.2557805562994612,0.24550155483103242,0.23578682967618406,0.226601164751485,0.21791016295218887,0.20968311257762895,0.2018905303951654,0.0,0.0,0.0,0.0,0.0,0.0,0.0,0.0,0.0,0.0,0.0,0.0,0.0,0.0,0.0,0.0,0.0,0.0,0.0,0.0,0.0,0.0,0.0,0.0,0.0,0.0,0.0,0.0,0.0,0.0,0.0,0.0,0.0,0.0,0.0,0.0,0.0,0.0,0.0,0.0,0.0,0.0,0.0,0.0,0.0,0.0,0.0,0.0,0.0,0.0,0.0,0.0,0.0,0.0,0.0,0.0,0.0,0.0,0.0,0.0,0.0,0.0,0.0,0.0,0.0,0.0,0.0,0.0,0.0,0.0,0.0,0.0,0.0,0.0,0.0,0.0,0.0,0.0,0.0,0.0,0.0,0.0,0.0,0.0,0.0,0.0,0.0,0.0,0.0,0.0,0.0,0.0,0.0,0.0,0.0,0.0,0.0,0.0,0.0,0.0,0.0,0.0,0.0,0.0,0.0,0.0,0.0,0.0,0.0,0.0,0.0,0.0,0.0,0.0,0.0,0.0,0.0,0.0,0.0,0.0,0.0,0.0,0.0,0.0,0.0,0.0,0.0,0.0,0.0,0.0,0.0,0.0,0.0,0.0,0.0,0.0,0.0,0.0,0.0,0.0,0.0,0.0,0.0,0.0,0.0,0.0,0.0,0.0,0.0,0.0,0.0,0.0,0.0,0.0,0.0,0.0,0.0,0.0,0.0,0.0,0.0,0.0,0.0,0.0,0.0,0.0,0.0,0.0,0.0,0.0,0.0,0.0,0.0,0.0,0.0,0.0,0.0,0.0,0.0,0.0,0.0,0.0,0.0,0.0,0.0,0.0,0.0,0.0,0.0,0.0,0.0,0.0,0.0,0.0,0.0,0.0,0.0,0.0,0.0,0.0,0.0,0.0,0.0,0.0,0.0,0.0,0.0,0.0,0.0,0.0,0.0,0.0,0.0,0.0,0.0,0.0,0.0,0.0,0.0,0.0,0.0,0.0,0.0,0.0,0.0,0.0,0.0,0.0,0.0,0.0,0.0,0.0,0.0,0.0,0.0,0.0,0.0,0.0,0.0,0.0,0.0,0.0,0.0,0.0,0.0,0.0,0.0,0.0,0.0,0.0,0.0,0.0,0.0,0.0,0.0,0.0,0.0,0.0,0.0,0.0,0.0,0.0,0.0,0.0,0.0,0.0,0.0,0.0,0.0,0.0,0.0,0.0,0.0,0.0,0.0,0.0,0.0,0.0,0.0,0.0,0.0,0.0,0.0,0.0,0.0,0.0,0.0,0.0,0.0,0.0,0.0,0.0,0.0,0.0,0.0,0.0,0.0,0.0,0.0,0.0,0.0,0.0,0.0,0.0,0.0,0.0,0.0,0.0,0.0,0.0,0.0,0.0,0.0,0.0,0.0,0.0,0.0,0.0,0.0,0.0,0.0,0.0,0.0,0.0,0.0,0.0,0.0,0.0,0.0,0.0,0.0,0.0,0.0,0.0,0.0,0.0,0.0,0.0,0.0,0.0,0.0,0.0,0.0,0.0,0.0,0.0,0.0,0.0,0.0,0.0,0.0,0.0,0.0,0.0,0.0,0.0,0.0,0.0,0.0,0.0,0.0,0.0,0.0,0.0,0.0,0.0,0.0,0.0,0.0,0.0,0.0,0.0,0.0,0.0,0.0,0.0,0.0,0.0,0.0,0.0,0.0,0.0,0.0,0.0,0.0,0.0,0.0,0.0,0.0,0.0,0.0,0.0,0.0,0.0,0.0,0.0,0.0,0.0,0.0,0.0,0.0,0.0,0.0,0.0,0.0,0.0,0.0,0.0,0.0,0.0,0.0,0.0,0.0,0.0,0.0,0.0,0.0,0.0,0.0,0.0,0.0,0.0,0.0,0.0,0.0,0.0,0.0,0.0,0.0,0.0,0.0,0.0,0.0,0.0,0.0,0.0,0.0,0.0,0.0,0.0,0.0,0.0,0.0,0.0,0.0,0.0,0.0,0.0,0.0,0.0,0.0,0.0,0.0,0.0,0.0,0.0,0.0,0.0,0.0,0.0,0.0,0.0,0.0,0.0,0.0,0.0,0.0,0.0,0.0,0.0,0.0,0.0,0.0,0.0,0.0,0.0,0.0,0.0,0.0,0.0,0.0,0.0,0.0,0.0,0.0,0.0,0.0,0.0,0.0,0.0,0.0,0.0,0.0,0.0,0.0,0.0,0.0,0.0,0.0,0.0,0.0,0.0,0.0,0.0,0.0,0.0,0.0,0.0,0.0,0.0,0.0,0.0,0.0,0.0,0.0,0.0,0.0,0.0,0.0,0.0,0.0,0.0,0.0,0.0,0.0,0.0,0.0,0.0,0.0,0.0,0.0,0.0,0.0,0.0,0.0,0.0,0.0,0.0,0.0,0.0,0.0,0.0,0.0,0.0,0.0,0.0,0.0,0.0,0.0,0.0,0.0,0.0,0.0,0.0,0.0,0.0,0.0,0.0,0.0,0.0,0.0,0.0,0.0,0.0,0.0,0.0,0.0,0.0,0.0,0.0,0.0,0.0,0.0,0.0,0.0,0.0,0.0,0.0,0.0,0.0,0.0,0.0,0.0,0.0,0.0,0.0,0.0,0.0,0.0,0.0,0.0,0.0,0.0,0.0,0.0,0.0,0.0,0.0,0.0,0.0,0.0,0.0,0.0,0.0,0.0,0.2073318247745966,0.2169179702759876,0.2269005014606485,0.23725771539344145,0.2479568529269889,0.25895287023364644,0.2701892577841877,0.28159435494372387,0.29308339741841544,0.3045589267448136,0.31591119977920334,0.327022283591025,0.3377693313776123,0.34802908684695666,0.35768320757915634,0.3666239978772073,0.3747613700858208,0.38202489203813494,0.38837074837453206,0.39378296901066556,0.3982742481161443,0.40188553462519033,0.40468439427927005,0.4067613242230145,0.40822606760013863,0.40920147121330874,0.4098189811413778,0.4102133193779366,0.41051675098052226,0.41085294173048553,0.4113345011969374,0.4120572498859572,0.4130977623045405,0.4145121384925715,0.41633313759742774,0.41856976838463833,0.42120974617393636,0.42421785488189107,0.42753840395796017,0.43109850429922864,0.4348080682504077,0.43856554245462653,0.4422579078534323,0.4457660030482387,0.44896657174703714,0.45173512918979264,0.45395005704186536,0.4554958793087493,0.4562653097827823,0.4561629374472271,0.45510809290166604,0.45303689580871276,0.4499047118300652,0.4456882000732167,0.4403857225807984,0.4340181633092635,0.4266289281288876,0.41828271635574144,0.40906347330498033,0.39907193335479063,0.3884202965849408,0.377231000308755,0.36562771030758384,0.35373573032014693,0.34167299327700396,0.32955006130055453,0.31746521183293164,0.30550361865731723,0.2937361234299155,0.28221964516929515,0.27099636127770504,0.26009780243449604,0.2495444431067793,0.2393477489961369,0.2295130434640178,0.2200411454891064,0.21092959813534934,0.20217389701998226,0.0,0.0,0.0,0.0,0.0,0.0,0.0,0.0,0.0,0.0,0.0,0.0,0.0,0.0,0.0,0.0,0.0,0.0,0.0,0.0,0.0,0.0,0.0,0.0,0.0,0.0,0.0,0.0,0.0,0.0,0.0,0.0,0.0,0.0,0.0,0.0,0.0,0.0,0.0,0.0,0.0,0.0,0.0,0.0,0.0,0.0,0.0,0.0,0.0,0.0,0.0,0.0,0.0,0.0,0.0,0.0,0.0,0.0,0.0,0.0,0.0,0.0,0.0,0.0,0.0,0.0,0.0,0.0,0.0,0.0,0.0,0.0,0.0,0.0,0.0,0.0,0.0,0.0,0.0,0.0,0.0,0.0,0.0,0.0,0.0,0.0,0.0,0.0,0.0,0.0,0.0,0.0,0.0,0.0,0.0,0.0,0.0,0.0,0.0,0.0,0.0,0.0,0.0,0.0,0.0,0.0,0.0,0.0,0.0,0.0,0.0,0.0,0.0,0.0,0.0,0.0,0.0,0.0,0.0,0.0,0.0,0.0,0.0,0.0,0.0,0.0,0.0,0.0,0.0,0.0,0.0,0.0,0.0,0.0,0.0,0.0,0.0,0.0,0.0,0.0,0.0,0.0,0.0,0.0,0.0,0.0,0.0,0.0,0.0,0.0,0.0,0.0,0.0,0.0,0.0,0.0,0.0,0.0,0.0,0.0,0.0,0.0,0.0,0.0,0.0,0.0,0.0,0.0,0.0,0.0,0.0,0.0,0.0,0.0,0.0,0.0,0.0,0.0,0.0,0.0,0.0,0.0,0.0,0.0,0.0,0.0,0.0,0.0,0.0,0.0,0.0,0.0,0.0,0.0,0.0,0.0,0.0,0.0,0.0,0.0,0.0,0.0,0.0,0.0,0.0,0.0,0.0,0.0,0.0,0.0,0.0,0.0,0.0,0.0,0.0,0.0,0.0,0.0,0.0,0.0,0.0,0.0,0.0,0.0,0.0,0.0,0.0,0.0,0.0,0.0,0.0,0.0,0.0,0.0,0.0,0.0,0.0,0.0,0.0,0.0,0.0,0.0,0.0,0.0,0.0,0.0,0.0,0.0,0.0,0.0,0.0,0.0,0.0,0.0,0.0,0.0,0.0,0.0,0.0,0.0,0.0,0.0,0.0,0.0,0.0,0.0,0.0,0.0,0.0,0.0,0.0,0.0,0.0,0.0,0.0,0.0,0.0,0.0,0.0,0.0,0.0,0.0,0.0,0.0,0.0,0.0,0.0,0.0,0.0,0.0,0.0,0.0,0.0,0.0,0.0,0.0,0.0,0.0,0.0,0.0,0.0,0.0,0.0,0.0,0.0,0.0,0.0,0.0,0.0,0.0,0.0,0.0,0.0,0.0,0.0,0.0,0.0,0.0,0.0,0.0,0.0,0.0,0.0,0.0,0.0,0.0,0.0,0.0,0.0,0.0,0.0,0.0,0.0,0.0,0.0,0.0,0.0,0.0,0.0,0.0,0.0,0.0,0.0,0.0,0.0,0.0,0.0,0.0,0.0,0.0,0.0,0.0,0.0,0.0,0.0,0.0,0.0,0.0,0.0,0.0,0.0,0.0,0.0,0.0,0.0,0.0,0.0,0.0,0.0,0.0,0.0,0.0,0.0,0.0,0.0,0.0,0.0,0.0,0.0,0.0,0.0,0.0,0.0,0.0,0.0,0.0,0.0,0.0,0.0,0.0,0.0,0.0,0.0,0.0,0.0,0.0,0.0,0.0,0.0,0.0,0.0,0.0,0.0,0.0,0.0,0.0,0.0,0.0,0.0,0.0,0.0,0.0,0.0,0.0,0.0,0.0,0.0,0.0,0.0,0.0,0.0,0.0,0.0,0.0],\"type\":\"scatter\"},{\"mode\":\"markers\",\"name\":\"methylcyclopentadiene\",\"x\":[\"502\",\"504\",\"506\",\"508\",\"510\",\"512\",\"514\",\"516\",\"518\",\"520\",\"522\",\"524\",\"526\",\"528\",\"530\",\"532\",\"534\",\"536\",\"538\",\"540\",\"542\",\"544\",\"546\",\"548\",\"550\",\"552\",\"554\",\"556\",\"558\",\"560\",\"562\",\"564\",\"566\",\"568\",\"570\",\"572\",\"574\",\"576\",\"578\",\"580\",\"582\",\"584\",\"586\",\"588\",\"590\",\"592\",\"594\",\"596\",\"598\",\"600\",\"602\",\"604\",\"606\",\"608\",\"610\",\"612\",\"614\",\"616\",\"618\",\"620\",\"622\",\"624\",\"626\",\"628\",\"630\",\"632\",\"634\",\"636\",\"638\",\"640\",\"642\",\"644\",\"646\",\"648\",\"650\",\"652\",\"654\",\"656\",\"658\",\"660\",\"662\",\"664\",\"666\",\"668\",\"670\",\"672\",\"674\",\"676\",\"678\",\"680\",\"682\",\"684\",\"686\",\"688\",\"690\",\"692\",\"694\",\"696\",\"698\",\"700\",\"702\",\"704\",\"706\",\"708\",\"710\",\"712\",\"714\",\"716\",\"718\",\"720\",\"722\",\"724\",\"726\",\"728\",\"730\",\"732\",\"734\",\"736\",\"738\",\"740\",\"742\",\"744\",\"746\",\"748\",\"750\",\"752\",\"754\",\"756\",\"758\",\"760\",\"762\",\"764\",\"766\",\"768\",\"770\",\"772\",\"774\",\"776\",\"778\",\"780\",\"782\",\"784\",\"786\",\"788\",\"790\",\"792\",\"794\",\"796\",\"798\",\"800\",\"802\",\"804\",\"806\",\"808\",\"810\",\"812\",\"814\",\"816\",\"818\",\"820\",\"822\",\"824\",\"826\",\"828\",\"830\",\"832\",\"834\",\"836\",\"838\",\"840\",\"842\",\"844\",\"846\",\"848\",\"850\",\"852\",\"854\",\"856\",\"858\",\"860\",\"862\",\"864\",\"866\",\"868\",\"870\",\"872\",\"874\",\"876\",\"878\",\"880\",\"882\",\"884\",\"886\",\"888\",\"890\",\"892\",\"894\",\"896\",\"898\",\"900\",\"902\",\"904\",\"906\",\"908\",\"910\",\"912\",\"914\",\"916\",\"918\",\"920\",\"922\",\"924\",\"926\",\"928\",\"930\",\"932\",\"934\",\"936\",\"938\",\"940\",\"942\",\"944\",\"946\",\"948\",\"950\",\"952\",\"954\",\"956\",\"958\",\"960\",\"962\",\"964\",\"966\",\"968\",\"970\",\"972\",\"974\",\"976\",\"978\",\"980\",\"982\",\"984\",\"986\",\"988\",\"990\",\"992\",\"994\",\"996\",\"998\",\"1000\",\"1002\",\"1004\",\"1006\",\"1008\",\"1010\",\"1012\",\"1014\",\"1016\",\"1018\",\"1020\",\"1022\",\"1024\",\"1026\",\"1028\",\"1030\",\"1032\",\"1034\",\"1036\",\"1038\",\"1040\",\"1042\",\"1044\",\"1046\",\"1048\",\"1050\",\"1052\",\"1054\",\"1056\",\"1058\",\"1060\",\"1062\",\"1064\",\"1066\",\"1068\",\"1070\",\"1072\",\"1074\",\"1076\",\"1078\",\"1080\",\"1082\",\"1084\",\"1086\",\"1088\",\"1090\",\"1092\",\"1094\",\"1096\",\"1098\",\"1100\",\"1102\",\"1104\",\"1106\",\"1108\",\"1110\",\"1112\",\"1114\",\"1116\",\"1118\",\"1120\",\"1122\",\"1124\",\"1126\",\"1128\",\"1130\",\"1132\",\"1134\",\"1136\",\"1138\",\"1140\",\"1142\",\"1144\",\"1146\",\"1148\",\"1150\",\"1152\",\"1154\",\"1156\",\"1158\",\"1160\",\"1162\",\"1164\",\"1166\",\"1168\",\"1170\",\"1172\",\"1174\",\"1176\",\"1178\",\"1180\",\"1182\",\"1184\",\"1186\",\"1188\",\"1190\",\"1192\",\"1194\",\"1196\",\"1198\",\"1200\",\"1202\",\"1204\",\"1206\",\"1208\",\"1210\",\"1212\",\"1214\",\"1216\",\"1218\",\"1220\",\"1222\",\"1224\",\"1226\",\"1228\",\"1230\",\"1232\",\"1234\",\"1236\",\"1238\",\"1240\",\"1242\",\"1244\",\"1246\",\"1248\",\"1250\",\"1252\",\"1254\",\"1256\",\"1258\",\"1260\",\"1262\",\"1264\",\"1266\",\"1268\",\"1270\",\"1272\",\"1274\",\"1276\",\"1278\",\"1280\",\"1282\",\"1284\",\"1286\",\"1288\",\"1290\",\"1292\",\"1294\",\"1296\",\"1298\",\"1300\",\"1302\",\"1304\",\"1306\",\"1308\",\"1310\",\"1312\",\"1314\",\"1316\",\"1318\",\"1320\",\"1322\",\"1324\",\"1326\",\"1328\",\"1330\",\"1332\",\"1334\",\"1336\",\"1338\",\"1340\",\"1342\",\"1344\",\"1346\",\"1348\",\"1350\",\"1352\",\"1354\",\"1356\",\"1358\",\"1360\",\"1362\",\"1364\",\"1366\",\"1368\",\"1370\",\"1372\",\"1374\",\"1376\",\"1378\",\"1380\",\"1382\",\"1384\",\"1386\",\"1388\",\"1390\",\"1392\",\"1394\",\"1396\",\"1398\",\"1400\",\"1402\",\"1404\",\"1406\",\"1408\",\"1410\",\"1412\",\"1414\",\"1416\",\"1418\",\"1420\",\"1422\",\"1424\",\"1426\",\"1428\",\"1430\",\"1432\",\"1434\",\"1436\",\"1438\",\"1440\",\"1442\",\"1444\",\"1446\",\"1448\",\"1450\",\"1452\",\"1454\",\"1456\",\"1458\",\"1460\",\"1462\",\"1464\",\"1466\",\"1468\",\"1470\",\"1472\",\"1474\",\"1476\",\"1478\",\"1480\",\"1482\",\"1484\",\"1486\",\"1488\",\"1490\",\"1492\",\"1494\",\"1496\",\"1498\",\"1500\",\"1502\",\"1504\",\"1506\",\"1508\",\"1510\",\"1512\",\"1514\",\"1516\",\"1518\",\"1520\",\"1522\",\"1524\",\"1526\",\"1528\",\"1530\",\"1532\",\"1534\",\"1536\",\"1538\",\"1540\",\"1542\",\"1544\",\"1546\",\"1548\",\"1550\",\"1552\",\"1554\",\"1556\",\"1558\",\"1560\",\"1562\",\"1564\",\"1566\",\"1568\",\"1570\",\"1572\",\"1574\",\"1576\",\"1578\",\"1580\",\"1582\",\"1584\",\"1586\",\"1588\",\"1590\",\"1592\",\"1594\",\"1596\",\"1598\",\"1600\",\"1602\",\"1604\",\"1606\",\"1608\",\"1610\",\"1612\",\"1614\",\"1616\",\"1618\",\"1620\",\"1622\",\"1624\",\"1626\",\"1628\",\"1630\",\"1632\",\"1634\",\"1636\",\"1638\",\"1640\",\"1642\",\"1644\",\"1646\",\"1648\",\"1650\",\"1652\",\"1654\",\"1656\",\"1658\",\"1660\",\"1662\",\"1664\",\"1666\",\"1668\",\"1670\",\"1672\",\"1674\",\"1676\",\"1678\",\"1680\",\"1682\",\"1684\",\"1686\",\"1688\",\"1690\",\"1692\",\"1694\",\"1696\",\"1698\",\"1700\",\"1702\",\"1704\",\"1706\",\"1708\",\"1710\",\"1712\",\"1714\",\"1716\",\"1718\",\"1720\",\"1722\",\"1724\",\"1726\",\"1728\",\"1730\",\"1732\",\"1734\",\"1736\",\"1738\",\"1740\",\"1742\",\"1744\",\"1746\",\"1748\",\"1750\",\"1752\",\"1754\",\"1756\",\"1758\",\"1760\",\"1762\",\"1764\",\"1766\",\"1768\",\"1770\",\"1772\",\"1774\",\"1776\",\"1778\",\"1780\",\"1782\",\"1784\",\"1786\",\"1788\",\"1790\",\"1792\",\"1794\",\"1796\",\"1798\",\"1800\",\"1802\",\"1804\",\"1806\",\"1808\",\"1810\",\"1812\",\"1814\",\"1816\",\"1818\",\"1820\",\"1822\",\"1824\",\"1826\",\"1828\",\"1830\",\"1832\",\"1834\",\"1836\",\"1838\",\"1840\",\"1842\",\"1844\",\"1846\",\"1848\",\"1850\",\"1852\",\"1854\",\"1856\",\"1858\",\"1860\",\"1862\",\"1864\",\"1866\",\"1868\",\"1870\",\"1872\",\"1874\",\"1876\",\"1878\",\"1880\",\"1882\",\"1884\",\"1886\",\"1888\",\"1890\",\"1892\",\"1894\",\"1896\",\"1898\",\"1900\",\"1902\",\"1904\",\"1906\",\"1908\",\"1910\",\"1912\",\"1914\",\"1916\",\"1918\",\"1920\",\"1922\",\"1924\",\"1926\",\"1928\",\"1930\",\"1932\",\"1934\",\"1936\",\"1938\",\"1940\",\"1942\",\"1944\",\"1946\",\"1948\",\"1950\",\"1952\",\"1954\",\"1956\",\"1958\",\"1960\",\"1962\",\"1964\",\"1966\",\"1968\",\"1970\",\"1972\",\"1974\",\"1976\",\"1978\",\"1980\",\"1982\",\"1984\",\"1986\",\"1988\",\"1990\",\"1992\",\"1994\",\"1996\",\"1998\",\"2000\",\"2002\",\"2004\",\"2006\",\"2008\",\"2010\",\"2012\",\"2014\",\"2016\",\"2018\",\"2020\",\"2022\",\"2024\",\"2026\",\"2028\",\"2030\",\"2032\",\"2034\",\"2036\",\"2038\",\"2040\",\"2042\",\"2044\",\"2046\",\"2048\",\"2050\",\"2052\",\"2054\",\"2056\",\"2058\",\"2060\",\"2062\",\"2064\",\"2066\",\"2068\",\"2070\",\"2072\",\"2074\",\"2076\",\"2078\",\"2080\",\"2082\",\"2084\",\"2086\",\"2088\",\"2090\",\"2092\",\"2094\",\"2096\",\"2098\",\"2100\",\"2102\",\"2104\",\"2106\",\"2108\",\"2110\",\"2112\",\"2114\",\"2116\",\"2118\",\"2120\",\"2122\",\"2124\",\"2126\",\"2128\",\"2130\",\"2132\",\"2134\",\"2136\",\"2138\",\"2140\",\"2142\",\"2144\",\"2146\",\"2148\",\"2150\",\"2152\",\"2154\",\"2156\",\"2158\",\"2160\",\"2162\",\"2164\",\"2166\",\"2168\",\"2170\",\"2172\",\"2174\",\"2176\",\"2178\",\"2180\",\"2182\",\"2184\",\"2186\",\"2188\",\"2190\",\"2192\",\"2194\",\"2196\",\"2198\",\"2200\",\"2202\",\"2204\",\"2206\",\"2208\",\"2210\",\"2212\",\"2214\",\"2216\",\"2218\",\"2220\",\"2222\",\"2224\",\"2226\",\"2228\",\"2230\",\"2232\",\"2234\",\"2236\",\"2238\",\"2240\",\"2242\",\"2244\",\"2246\",\"2248\",\"2250\",\"2252\",\"2254\",\"2256\",\"2258\",\"2260\",\"2262\",\"2264\",\"2266\",\"2268\",\"2270\",\"2272\",\"2274\",\"2276\",\"2278\",\"2280\",\"2282\",\"2284\",\"2286\",\"2288\",\"2290\",\"2292\",\"2294\",\"2296\",\"2298\",\"2300\",\"2302\",\"2304\",\"2306\",\"2308\",\"2310\",\"2312\",\"2314\",\"2316\",\"2318\",\"2320\",\"2322\",\"2324\",\"2326\",\"2328\",\"2330\",\"2332\",\"2334\",\"2336\",\"2338\",\"2340\",\"2342\",\"2344\",\"2346\",\"2348\",\"2350\",\"2352\",\"2354\",\"2356\",\"2358\",\"2360\",\"2362\",\"2364\",\"2366\",\"2368\",\"2370\",\"2372\",\"2374\",\"2376\",\"2378\",\"2380\",\"2382\",\"2384\",\"2386\",\"2388\",\"2390\",\"2392\",\"2394\",\"2396\",\"2398\",\"2400\",\"2402\",\"2404\",\"2406\",\"2408\",\"2410\",\"2412\",\"2414\",\"2416\",\"2418\",\"2420\",\"2422\",\"2424\",\"2426\",\"2428\",\"2430\",\"2432\",\"2434\",\"2436\",\"2438\",\"2440\",\"2442\",\"2444\",\"2446\",\"2448\",\"2450\",\"2452\",\"2454\",\"2456\",\"2458\",\"2460\",\"2462\",\"2464\",\"2466\",\"2468\",\"2470\",\"2472\",\"2474\",\"2476\",\"2478\",\"2480\",\"2482\",\"2484\",\"2486\",\"2488\",\"2490\",\"2492\",\"2494\",\"2496\",\"2498\",\"2500\",\"2502\",\"2504\",\"2506\",\"2508\",\"2510\",\"2512\",\"2514\",\"2516\",\"2518\",\"2520\",\"2522\",\"2524\",\"2526\",\"2528\",\"2530\",\"2532\",\"2534\",\"2536\",\"2538\",\"2540\",\"2542\",\"2544\",\"2546\",\"2548\",\"2550\",\"2552\",\"2554\",\"2556\",\"2558\",\"2560\",\"2562\",\"2564\",\"2566\",\"2568\",\"2570\",\"2572\",\"2574\",\"2576\",\"2578\",\"2580\",\"2582\",\"2584\",\"2586\",\"2588\",\"2590\",\"2592\",\"2594\",\"2596\",\"2598\",\"2600\",\"2602\",\"2604\",\"2606\",\"2608\",\"2610\",\"2612\",\"2614\",\"2616\",\"2618\",\"2620\",\"2622\",\"2624\",\"2626\",\"2628\",\"2630\",\"2632\",\"2634\",\"2636\",\"2638\",\"2640\",\"2642\",\"2644\",\"2646\",\"2648\",\"2650\",\"2652\",\"2654\",\"2656\",\"2658\",\"2660\",\"2662\",\"2664\",\"2666\",\"2668\",\"2670\",\"2672\",\"2674\",\"2676\",\"2678\",\"2680\",\"2682\",\"2684\",\"2686\",\"2688\",\"2690\",\"2692\",\"2694\",\"2696\",\"2698\",\"2700\",\"2702\",\"2704\",\"2706\",\"2708\",\"2710\",\"2712\",\"2714\",\"2716\",\"2718\",\"2720\",\"2722\",\"2724\",\"2726\",\"2728\",\"2730\",\"2732\",\"2734\",\"2736\",\"2738\",\"2740\",\"2742\",\"2744\",\"2746\",\"2748\",\"2750\",\"2752\",\"2754\",\"2756\",\"2758\",\"2760\",\"2762\",\"2764\",\"2766\",\"2768\",\"2770\",\"2772\",\"2774\",\"2776\",\"2778\",\"2780\",\"2782\",\"2784\",\"2786\",\"2788\",\"2790\",\"2792\",\"2794\",\"2796\",\"2798\",\"2800\",\"2802\",\"2804\",\"2806\",\"2808\",\"2810\",\"2812\",\"2814\",\"2816\",\"2818\",\"2820\",\"2822\",\"2824\",\"2826\",\"2828\",\"2830\",\"2832\",\"2834\",\"2836\",\"2838\",\"2840\",\"2842\",\"2844\",\"2846\",\"2848\",\"2850\",\"2852\",\"2854\",\"2856\",\"2858\",\"2860\",\"2862\",\"2864\",\"2866\",\"2868\",\"2870\",\"2872\",\"2874\",\"2876\",\"2878\",\"2880\",\"2882\",\"2884\",\"2886\",\"2888\",\"2890\",\"2892\",\"2894\",\"2896\",\"2898\",\"2900\",\"2902\",\"2904\",\"2906\",\"2908\",\"2910\",\"2912\",\"2914\",\"2916\",\"2918\",\"2920\",\"2922\",\"2924\",\"2926\",\"2928\",\"2930\",\"2932\",\"2934\",\"2936\",\"2938\",\"2940\",\"2942\",\"2944\",\"2946\",\"2948\",\"2950\",\"2952\",\"2954\",\"2956\",\"2958\",\"2960\",\"2962\",\"2964\",\"2966\",\"2968\",\"2970\",\"2972\",\"2974\",\"2976\",\"2978\",\"2980\",\"2982\",\"2984\",\"2986\",\"2988\",\"2990\",\"2992\",\"2994\",\"2996\",\"2998\",\"3000\",\"3002\",\"3004\",\"3006\",\"3008\",\"3010\",\"3012\",\"3014\",\"3016\",\"3018\",\"3020\",\"3022\",\"3024\",\"3026\",\"3028\",\"3030\",\"3032\",\"3034\",\"3036\",\"3038\",\"3040\",\"3042\",\"3044\",\"3046\",\"3048\",\"3050\",\"3052\",\"3054\",\"3056\",\"3058\",\"3060\",\"3062\",\"3064\",\"3066\",\"3068\",\"3070\",\"3072\",\"3074\",\"3076\",\"3078\",\"3080\",\"3082\",\"3084\",\"3086\",\"3088\",\"3090\",\"3092\",\"3094\",\"3096\",\"3098\",\"3100\",\"3102\",\"3104\",\"3106\",\"3108\",\"3110\",\"3112\",\"3114\",\"3116\",\"3118\",\"3120\",\"3122\",\"3124\",\"3126\",\"3128\",\"3130\",\"3132\",\"3134\",\"3136\",\"3138\",\"3140\",\"3142\",\"3144\",\"3146\",\"3148\",\"3150\",\"3152\",\"3154\",\"3156\",\"3158\",\"3160\",\"3162\",\"3164\",\"3166\",\"3168\",\"3170\",\"3172\",\"3174\",\"3176\",\"3178\",\"3180\",\"3182\",\"3184\",\"3186\",\"3188\",\"3190\",\"3192\",\"3194\",\"3196\",\"3198\",\"3200\",\"3202\",\"3204\",\"3206\",\"3208\",\"3210\",\"3212\",\"3214\",\"3216\",\"3218\",\"3220\",\"3222\",\"3224\",\"3226\",\"3228\",\"3230\",\"3232\",\"3234\",\"3236\",\"3238\",\"3240\",\"3242\",\"3244\",\"3246\",\"3248\",\"3250\",\"3252\",\"3254\",\"3256\",\"3258\",\"3260\",\"3262\",\"3264\",\"3266\",\"3268\",\"3270\",\"3272\",\"3274\",\"3276\",\"3278\",\"3280\",\"3282\",\"3284\",\"3286\",\"3288\",\"3290\",\"3292\",\"3294\",\"3296\",\"3298\",\"3300\",\"3302\",\"3304\",\"3306\",\"3308\",\"3310\",\"3312\",\"3314\",\"3316\",\"3318\",\"3320\",\"3322\",\"3324\",\"3326\",\"3328\",\"3330\",\"3332\",\"3334\",\"3336\",\"3338\",\"3340\",\"3342\",\"3344\",\"3346\",\"3348\",\"3350\",\"3352\",\"3354\",\"3356\",\"3358\",\"3360\",\"3362\",\"3364\",\"3366\",\"3368\",\"3370\",\"3372\",\"3374\",\"3376\",\"3378\",\"3380\",\"3382\",\"3384\",\"3386\",\"3388\",\"3390\",\"3392\",\"3394\",\"3396\",\"3398\",\"3400\",\"3402\",\"3404\",\"3406\",\"3408\",\"3410\",\"3412\",\"3414\",\"3416\",\"3418\",\"3420\",\"3422\",\"3424\",\"3426\",\"3428\",\"3430\",\"3432\",\"3434\",\"3436\",\"3438\",\"3440\",\"3442\",\"3444\",\"3446\",\"3448\",\"3450\",\"3452\",\"3454\",\"3456\",\"3458\",\"3460\",\"3462\",\"3464\",\"3466\",\"3468\",\"3470\",\"3472\",\"3474\",\"3476\",\"3478\",\"3480\",\"3482\",\"3484\",\"3486\",\"3488\",\"3490\",\"3492\",\"3494\",\"3496\",\"3498\",\"3500\",\"3502\",\"3504\",\"3506\",\"3508\",\"3510\",\"3512\",\"3514\",\"3516\",\"3518\",\"3520\",\"3522\",\"3524\",\"3526\",\"3528\",\"3530\",\"3532\",\"3534\",\"3536\",\"3538\",\"3540\",\"3542\",\"3544\",\"3546\",\"3548\",\"3550\",\"3552\",\"3554\",\"3556\",\"3558\",\"3560\",\"3562\",\"3564\",\"3566\",\"3568\",\"3570\",\"3572\",\"3574\",\"3576\",\"3578\",\"3580\",\"3582\",\"3584\",\"3586\",\"3588\",\"3590\",\"3592\",\"3594\",\"3596\",\"3598\",\"3600\",\"3602\",\"3604\",\"3606\",\"3608\",\"3610\",\"3612\",\"3614\",\"3616\",\"3618\",\"3620\",\"3622\",\"3624\",\"3626\",\"3628\",\"3630\",\"3632\",\"3634\",\"3636\",\"3638\",\"3640\",\"3642\",\"3644\",\"3646\",\"3648\",\"3650\",\"3652\",\"3654\",\"3656\",\"3658\",\"3660\",\"3662\",\"3664\",\"3666\",\"3668\",\"3670\",\"3672\",\"3674\",\"3676\",\"3678\",\"3680\",\"3682\",\"3684\",\"3686\",\"3688\",\"3690\",\"3692\",\"3694\",\"3696\",\"3698\",\"3700\",\"3702\",\"3704\",\"3706\",\"3708\",\"3710\",\"3712\",\"3714\",\"3716\",\"3718\",\"3720\",\"3722\",\"3724\",\"3726\",\"3728\",\"3730\",\"3732\",\"3734\",\"3736\",\"3738\",\"3740\",\"3742\",\"3744\",\"3746\",\"3748\",\"3750\",\"3752\",\"3754\",\"3756\",\"3758\",\"3760\",\"3762\",\"3764\",\"3766\",\"3768\",\"3770\",\"3772\",\"3774\",\"3776\",\"3778\",\"3780\",\"3782\",\"3784\",\"3786\",\"3788\",\"3790\",\"3792\",\"3794\",\"3796\",\"3798\",\"3800\",\"3802\",\"3804\",\"3806\",\"3808\",\"3810\",\"3812\",\"3814\",\"3816\",\"3818\",\"3820\",\"3822\",\"3824\",\"3826\",\"3828\",\"3830\",\"3832\",\"3834\",\"3836\",\"3838\",\"3840\",\"3842\",\"3844\",\"3846\",\"3848\",\"3850\",\"3852\",\"3854\",\"3856\",\"3858\",\"3860\",\"3862\",\"3864\",\"3866\",\"3868\",\"3870\",\"3872\",\"3874\",\"3876\",\"3878\",\"3880\",\"3882\",\"3884\",\"3886\",\"3888\",\"3890\",\"3892\",\"3894\",\"3896\",\"3898\",\"3900\",\"3902\",\"3904\",\"3906\",\"3908\",\"3910\",\"3912\",\"3914\",\"3916\",\"3918\",\"3920\",\"3922\",\"3924\",\"3926\",\"3928\",\"3930\",\"3932\",\"3934\",\"3936\",\"3938\",\"3940\",\"3942\",\"3944\",\"3946\",\"3948\",\"3950\",\"3952\",\"3954\",\"3956\",\"3958\",\"3960\",\"3962\",\"3964\",\"3966\",\"3968\",\"3970\",\"3972\",\"3974\",\"3976\",\"3978\",\"3980\",\"3982\",\"3984\",\"3986\",\"3988\",\"3990\",\"3992\",\"3994\",\"3996\",\"3998\",\"4000\"],\"y\":[0.0,0.0,0.0,0.0,0.0,0.0,0.0,0.0,0.0,0.0,0.0,0.0,0.0,0.0,0.0,0.0,0.0,0.0,0.0,0.0,0.0,0.0,0.0,0.0,0.0,0.0,0.0,0.0,0.0,0.0,0.0,0.0,0.0,0.0,0.0,0.0,0.0,0.0,0.0,0.0,0.0,0.0,0.0,0.0,0.0,0.0,0.0,0.0,0.0,0.0,0.0,0.0,0.0,0.0,0.0,0.0,0.0,0.0,0.0,0.0,0.0,0.0,0.0,0.0,0.0,0.0,0.0,0.20601105605654235,0.21502685504946573,0.2245912370005957,0.23473462422067365,0.24548694833800955,0.25687519688632565,0.26892341330475605,0.2816517155729847,0.29507335211665686,0.30919470180737973,0.3240108578208401,0.33950415558951086,0.35564024734320004,0.3723666300617574,0.38960675728589816,0.4072570950226156,0.42518515901545556,0.44322509860263465,0.4611767153521776,0.47880595374434864,0.49584735458380813,0.5120074897766316,0.5269757573437986,0.5404337043873879,0.5520687661986539,0.5615934028728475,0.5687583477348627,0.5733712532716251,0.5753079768280129,0.5745228849379139,0.5710522881012454,0.5650105153245031,0.5565830445667226,0.5460122729489719,0.5335842683287063,0.519608651320083,0.5044053468683175,0.4882888824118809,0.4715546487744226,0.4544749747053207,0.4372883318661929,0.4202008068781901,0.40338364790984016,0.38697571808920417,0.37108545823360223,0.35579432162663194,0.3411592274303256,0.32721943023918815,0.3139965200801972,0.3014983478722538,0.28972344156806407,0.27866198751900173,0.2682987745696961,0.25861319405803207,0.2495826745921693,0.24118268205054227,0.2333877009467227,0.2261722157942824,0.21951169247165575,0.2133815968572772,0.20775788551201244,0.20261994977374634,0.0,0.0,0.0,0.0,0.0,0.0,0.0,0.0,0.0,0.0,0.0,0.0,0.0,0.0,0.0,0.0,0.0,0.0,0.0,0.0,0.0,0.0,0.0,0.0,0.0,0.0,0.0,0.0,0.20033189759653933,0.20253751512528598,0.20457384721523,0.20641930383939378,0.2080611272545631,0.209500789508032,0.21075104834301453,0.21183692856350758,0.21279424998699692,0.21366717403230068,0.21450722235470648,0.21536886070409003,0.21630998960734613,0.21738654686164424,0.21865299821686004,0.2201613560107126,0.2219587257566078,0.22408975955579502,0.22659273063791663,0.22950394950288963,0.23285531050874939,0.2366742918716493,0.24098640907801752,0.24581472420212583,0.25117886454122673,0.25709649466284723,0.2635833164047895,0.270651106145405,0.27831016821575116,0.28656688148743514,0.29542369937261354,0.30487767777669833,0.31492145646321995,0.3255373708646512,0.3367003961769951,0.3483727498530407,0.36050192887263754,0.3730182563305395,0.38583291870667896,0.3988355124540109,0.41189257195121837,0.42484855086757567,0.43752533148051653,0.4497286035472415,0.46125080839930566,0.47188193395610756,0.4814173656437902,0.48966868140872977,0.49647542809588724,0.5017159164622975,0.5053131093662444,0.5072400192740059,0.5075201989422851,0.5062247973236218,0.5034622552353363,0.49937339853521495,0.49411377355398345,0.48784677754126893,0.48073090092238496,0.4729104043321371,0.4645109024729414,0.4556359293378045,0.44636693821032425,0.4367642830295519,0.42687408794403087,0.4167307007239529,0.4063635623151968,0.3958021136636412,0.3850797211746153,0.37423563944262406,0.3633169739810735,0.35237868122227034,0.3414806244228349,0.3306851202515435,0.32005644810689815,0.3096544712455189,0.29953709019430047,0.28975288251394277,0.2803450282584013,0.2713459124681425,0.2627805599471634,0.2546651632156972,0.24700708251021355,0.2398068085131439,0.23305845303531247,0.22674974901593642,0.22086450393478244,0.2153825998121668,0.21028048389138648,0.20553460341573856,0.20111748016906955,0.0,0.0,0.0,0.0,0.0,0.0,0.0,0.0,0.0,0.0,0.0,0.0,0.0,0.0,0.0,0.0,0.0,0.0,0.0,0.0,0.0,0.0,0.0,0.0,0.0,0.0,0.0,0.0,0.0,0.0,0.0,0.0,0.0,0.0,0.0,0.0,0.0,0.0,0.0,0.0,0.0,0.0,0.0,0.0,0.0,0.0,0.0,0.0,0.0,0.0,0.0,0.0,0.0,0.0,0.0,0.0,0.0,0.0,0.0,0.0,0.0,0.0,0.0,0.0,0.0,0.0,0.0,0.0,0.0,0.0,0.0,0.0,0.0,0.0,0.0,0.0,0.0,0.0,0.0,0.0,0.0,0.0,0.0,0.0,0.0,0.0,0.0,0.0,0.0,0.0,0.0,0.0,0.0,0.0,0.0,0.0,0.0,0.0,0.0,0.0,0.0,0.0,0.0,0.0,0.0,0.0,0.0,0.0,0.0,0.0,0.0,0.0,0.0,0.0,0.0,0.0,0.0,0.0,0.0,0.0,0.0,0.0,0.0,0.0,0.0,0.0,0.0,0.0,0.0,0.0,0.0,0.0,0.0,0.0,0.0,0.0,0.0,0.0,0.0,0.0,0.0,0.0,0.0,0.0,0.0,0.0,0.0,0.0,0.0,0.0,0.0,0.0,0.0,0.0,0.0,0.0,0.0,0.0,0.0,0.0,0.0,0.0,0.0,0.0,0.0,0.0,0.0,0.0,0.0,0.0,0.0,0.0,0.0,0.0,0.0,0.0,0.0,0.0,0.0,0.0,0.0,0.0,0.0,0.0,0.0,0.0,0.0,0.0,0.0,0.2022489938556746,0.20878341179345414,0.21540713393373237,0.222083359094161,0.22877577677482291,0.2354461137460758,0.24205511541341468,0.24856205513504073,0.25492424353942983,0.2610926123834507,0.26701465864695306,0.27263100975574817,0.2778764049464715,0.28267969526658293,0.2869682597162482,0.2906694772956333,0.29371808724137366,0.2960576610738684,0.2976489441986126,0.29847329068321643,0.29853511666956173,0.2978643537859585,0.2965159584647136,0.29456598648268045,0.29211061159639606,0.2892582746231805,0.2861252672992545,0.2828318068202896,0.2794951662873692,0.27622623992996986,0.2731270896938044,0.2702880011462342,0.26778699279383783,0.2656883440351172,0.26404357652536,0.2628909634942085,0.2622555297456597,0.26214954234049637,0.2625730012787185,0.2635136394995432,0.26494643219897374,0.26683261546493636,0.269121649007006,0.2717477813793869,0.27463201271063775,0.27768307606853465,0.28079596541277685,0.28385635173686863,0.28674205511541345,0.2893264794811328,0.2914845008140422,0.29309590191847024,0.2940532233419596,0.2942666701995802,0.29366754695094854,0.2922146362718342,0.28989518041902324,0.2867253719127488,0.2827493721718292,0.27803587673664787,0.2726741898097036,0.2667663733367093,0.2604252842768666,0.25376672368396525,0.24690354851720678,0.23994419959391125,0.23298730408277227,0.22612069413899466,0.21942189758672567,0.21295372177717328,0.20677014177778172,0.20091286559521251,0.0,0.0,0.0,0.0,0.0,0.0,0.0,0.0,0.0,0.0,0.0,0.0,0.0,0.0,0.0,0.0,0.0,0.0,0.0,0.0,0.0,0.0,0.0,0.0,0.0,0.0,0.0,0.0,0.0,0.0,0.0,0.0,0.0,0.0,0.0,0.0,0.0,0.0,0.0,0.0,0.0,0.0,0.0,0.0,0.0,0.0,0.0,0.0,0.0,0.0,0.0,0.0,0.0,0.0,0.0,0.0,0.0,0.0,0.0,0.0,0.0,0.0,0.0,0.0,0.0,0.0,0.0,0.0,0.0,0.0,0.0,0.0,0.0,0.0,0.0,0.0,0.0,0.0,0.0,0.0,0.0,0.0,0.0,0.0,0.0,0.0,0.0,0.0,0.0,0.0,0.0,0.0,0.0,0.0,0.0,0.0,0.0,0.0,0.0,0.0,0.0,0.0,0.0,0.0,0.0,0.0,0.0,0.0,0.0,0.0,0.0,0.0,0.0,0.0,0.0,0.0,0.0,0.0,0.0,0.0,0.0,0.0,0.0,0.0,0.0,0.0,0.0,0.0,0.0,0.0,0.0,0.0,0.0,0.0,0.0,0.0,0.0,0.0,0.0,0.0,0.0,0.0,0.0,0.0,0.0,0.0,0.0,0.0,0.0,0.0,0.0,0.0,0.0,0.0,0.0,0.0,0.0,0.0,0.0,0.0,0.0,0.0,0.0,0.0,0.0,0.0,0.0,0.0,0.0,0.0,0.0,0.0,0.0,0.0,0.0,0.0,0.0,0.0,0.0,0.0,0.0,0.0,0.0,0.0,0.0,0.0,0.0,0.0,0.0,0.0,0.0,0.0,0.0,0.0,0.0,0.0,0.0,0.0,0.0,0.0,0.0,0.0,0.0,0.0,0.0,0.0,0.0,0.0,0.0,0.0,0.0,0.0,0.0,0.0,0.0,0.0,0.0,0.0,0.0,0.0,0.0,0.0,0.0,0.0,0.0,0.0,0.0,0.0,0.0,0.0,0.0,0.0,0.0,0.0,0.0,0.0,0.0,0.0,0.0,0.0,0.0,0.0,0.0,0.0,0.0,0.0,0.0,0.0,0.0,0.0,0.0,0.0,0.0,0.0,0.0,0.0,0.0,0.0,0.0,0.0,0.0,0.0,0.0,0.0,0.0,0.0,0.0,0.0,0.0,0.0,0.0,0.0,0.0,0.0,0.0,0.0,0.0,0.0,0.0,0.0,0.0,0.0,0.0,0.0,0.0,0.0,0.0,0.0,0.0,0.0,0.0,0.0,0.0,0.0,0.0,0.0,0.0,0.0,0.0,0.0,0.0,0.0,0.0,0.0,0.0,0.0,0.0,0.0,0.0,0.0,0.0,0.0,0.0,0.0,0.0,0.0,0.0,0.0,0.0,0.0,0.0,0.0,0.0,0.0,0.0,0.0,0.0,0.0,0.0,0.0,0.0,0.0,0.0,0.0,0.0,0.0,0.0,0.0,0.0,0.0,0.0,0.0,0.0,0.0,0.0,0.0,0.0,0.0,0.0,0.0,0.0,0.0,0.0,0.0,0.0,0.0,0.0,0.0,0.0,0.0,0.0,0.0,0.0,0.0,0.0,0.0,0.0,0.0,0.0,0.0,0.0,0.0,0.0,0.0,0.0,0.0,0.0,0.0,0.0,0.0,0.0,0.0,0.0,0.0,0.0,0.0,0.0,0.0,0.0,0.0,0.0,0.0,0.0,0.0,0.0,0.0,0.0,0.0,0.0,0.0,0.0,0.0,0.0,0.0,0.0,0.0,0.0,0.0,0.0,0.0,0.0,0.0,0.0,0.0,0.0,0.0,0.0,0.0,0.0,0.0,0.0,0.0,0.0,0.0,0.0,0.0,0.0,0.0,0.0,0.0,0.0,0.0,0.0,0.0,0.0,0.0,0.0,0.0,0.0,0.0,0.0,0.0,0.0,0.0,0.0,0.0,0.0,0.0,0.0,0.0,0.0,0.0,0.0,0.0,0.0,0.0,0.0,0.0,0.0,0.0,0.0,0.0,0.0,0.0,0.0,0.0,0.0,0.0,0.0,0.0,0.0,0.0,0.0,0.0,0.0,0.0,0.0,0.0,0.0,0.0,0.0,0.0,0.0,0.0,0.0,0.0,0.0,0.0,0.0,0.0,0.0,0.0,0.0,0.0,0.0,0.0,0.0,0.0,0.0,0.0,0.0,0.0,0.0,0.0,0.0,0.0,0.0,0.0,0.0,0.0,0.0,0.0,0.0,0.0,0.0,0.0,0.0,0.0,0.0,0.0,0.0,0.0,0.0,0.0,0.0,0.0,0.0,0.0,0.0,0.0,0.0,0.0,0.0,0.0,0.0,0.0,0.0,0.0,0.0,0.0,0.0,0.0,0.0,0.0,0.0,0.0,0.0,0.0,0.0,0.0,0.0,0.0,0.0,0.0,0.0,0.0,0.0,0.0,0.0,0.0,0.0,0.0,0.0,0.0,0.0,0.0,0.0,0.0,0.0,0.0,0.0,0.0,0.0,0.0,0.0,0.0,0.0,0.0,0.0,0.0,0.0,0.0,0.0,0.0,0.0,0.0,0.0,0.0,0.0,0.0,0.0,0.0,0.0,0.0,0.0,0.0,0.0,0.0,0.0,0.0,0.0,0.0,0.0,0.0,0.0,0.0,0.0,0.0,0.0,0.0,0.0,0.0,0.0,0.0,0.0,0.0,0.0,0.0,0.0,0.0,0.0,0.0,0.0,0.0,0.0,0.0,0.0,0.0,0.0,0.0,0.0,0.0,0.0,0.0,0.0,0.0,0.0,0.0,0.0,0.0,0.0,0.0,0.0,0.0,0.0,0.0,0.0,0.0,0.0,0.0,0.0,0.0,0.0,0.0,0.0,0.0,0.0,0.0,0.0,0.0,0.0,0.0,0.0,0.0,0.0,0.0,0.0,0.0,0.0,0.0,0.0,0.0,0.0,0.0,0.0,0.0,0.0,0.0,0.0,0.0,0.0,0.0,0.0,0.0,0.0,0.0,0.0,0.0,0.0,0.0,0.0,0.0,0.0,0.0,0.0,0.0,0.0,0.0,0.0,0.0,0.0,0.0,0.0,0.0,0.0,0.20437070468866694,0.2120832511440261,0.22021336834843167,0.22878853451803702,0.2378381905987209,0.24739324958365597,0.25748658719574014,0.26815402325245913,0.2794323589361613,0.2913603581589203,0.3039797289273977,0.31733217924825496,0.3314623612227414,0.3464154176345378,0.3622355099024622,0.37896925285748917,0.39665933587114294,0.41534795763251625,0.43507241000638874,0.45586409666836447,0.4777465703751464,0.5007320981875173,0.5248187173757519,0.5499872913250291,0.5761951306638247,0.6033750118990491,0.6314278171795771,0.6602205715665234,0.689580554844066,0.7192943201545846,0.7491067126337969,0.7787228321404844,0.8078114680335117,0.8360129500907273,0.8629523969346088,0.8882510017281836,0.9115471315195749,0.9325105570325097,0.9508635520108658,0.9663951230091787,0.9789737671358573,0.9885509068302013,0.995162361909697,0.998920498651114,1.0,0.9986236357801705,0.9950392006194376,0.9895028307469463,0.9822623207905092,0.9735424033036667,0.96353787921165,0.9524082203046353,0.9402814946971951,0.9272578016053168,0.9134176129477355,0.8988345310891482,0.883581177029389,0.8677409667817808,0.85141350887988,0.8347170577896327,0.8177885139093749,0.8007804794752447,0.7838548796895748,0.767175111801992,0.750899175555379,0.7351713315845412,0.7201152318621693,0.7058290128745257,0.6923798981147,0.6798017446704528,0.668096024589078,0.6572283901003838,0.6471340711234371,0.6377168939017007,0.6288571319219345,0.6204129779614893,0.6122308484193647,0.6041512715053843,0.5960182102063909,0.5876888759348727,0.5790405980830019,0.5699791656239666,0.5604452059835779,0.5504146757227016,0.5399013139494147,0.5289536982244165,0.5176488656894236,0.5060878969252858,0.4943856116209302,0.48266664311391005,0.4710566061066411,0.45967669915965736,0.4486397792321606,0.4380479082698636,0.4279894091104026,0.4185393561657683,0.40976104746959985,0.4017050233123224,0.39441004760600956,0.3879080147086966,0.38222051464736134,0.3773652119895309,0.3733529017486941,0.3701909441613207,0.3678837553692926,0.36643280741990353,0.36583662826585966,0.36609178313014185,0.3671918931411429,0.3691271446502367,0.3718842892317778,0.3754436995885138,0.3797808415988789,0.3848618581751128,0.39064405994569135,0.3970734718431701,0.4040833610568908,0.41159276498568687,0.4195064912378839,0.4277121735367114,0.4360837064973224,0.44448075494436157,0.4527521886889849,0.46073853594101616,0.4682773808156909,0.47520728879310775,0.4813746762722661,0.4866387173953793,0.4908757601897568,0.49398521475697976,0.49589102532019486,0.4965455956835649,0.4959288078674059,0.4940475314257564,0.4909336607166516,0.4866401894426732,0.48123679450906737,0.4748034571521381,0.4674285002095215,0.45920024651885355,0.4502050561880453,0.44052781727771356,0.4302460576120057,0.4194353422853437,0.40816731093269903,0.39651311250661203,0.3845443866420541,0.37233375433885946,0.3599572713738814,0.3474900121591107,0.33500901383626325,0.32258787877003586,0.3102972652305374,0.29820194329870103,0.28636030418385283,0.27482092544669284,0.2636255150938823,0.2528059674834567,0.24238534468968753,0.23237983923280822,0.22279828339658234,0.21364214922830377,0.2049099646806786,0.0,0.0,0.0,0.0,0.0,0.0,0.0,0.0,0.0,0.0,0.0,0.0,0.0,0.0,0.0,0.0,0.0,0.0,0.0,0.0,0.0,0.0,0.0,0.0,0.0,0.0,0.0,0.0,0.0,0.0,0.0,0.0,0.0,0.0,0.0,0.0,0.0,0.0,0.0,0.0,0.0,0.0,0.0,0.0,0.0,0.0,0.0,0.0,0.0,0.0,0.0,0.0,0.0,0.0,0.0,0.0,0.0,0.0,0.0,0.0,0.0,0.0,0.0,0.0,0.0,0.0,0.0,0.0,0.0,0.0,0.0,0.0,0.0,0.0,0.0,0.0,0.0,0.0,0.0,0.0,0.0,0.0,0.0,0.0,0.0,0.0,0.0,0.0,0.0,0.0,0.0,0.0,0.0,0.0,0.0,0.0,0.0,0.0,0.0,0.0,0.0,0.0,0.0,0.0,0.0,0.0,0.0,0.0,0.0,0.0,0.0,0.0,0.0,0.0,0.0,0.0,0.0,0.0,0.0,0.0,0.0,0.0,0.0,0.0,0.0,0.0,0.0,0.0,0.0,0.0,0.0,0.0,0.0,0.0,0.0,0.0,0.0,0.0,0.0,0.0,0.0,0.0,0.0,0.0,0.0,0.0,0.0,0.0,0.0,0.0,0.0,0.0,0.0,0.0,0.0,0.0,0.0,0.0,0.0,0.0,0.0,0.0,0.0,0.0,0.0,0.0,0.0,0.0,0.0,0.0,0.0,0.0,0.0,0.0,0.0,0.0,0.0,0.0,0.0,0.0,0.0,0.0,0.0,0.0,0.0,0.0,0.0,0.0,0.0,0.0,0.0,0.0,0.0,0.0,0.0,0.0,0.0,0.0,0.0,0.0,0.0,0.0,0.0,0.0,0.0,0.0,0.0,0.0,0.0,0.0,0.0,0.0,0.0,0.0,0.0,0.0,0.0,0.0,0.0,0.0,0.0,0.0,0.0,0.0,0.0,0.0,0.0,0.0,0.0,0.0,0.0,0.0,0.0,0.0,0.0,0.0,0.0,0.0,0.0,0.0,0.0,0.0,0.0,0.0,0.0,0.0,0.0,0.0,0.0,0.0,0.0,0.0,0.0,0.0,0.0,0.0,0.0,0.0,0.0,0.0,0.0,0.0,0.0,0.0,0.0,0.0,0.0,0.0,0.0,0.0,0.0,0.0,0.0,0.0,0.0,0.0,0.0,0.0,0.0,0.0,0.0,0.0,0.0,0.0,0.0,0.0,0.0,0.0,0.0,0.0,0.0,0.0,0.0,0.0,0.0,0.0,0.0,0.0,0.0,0.0,0.0,0.0,0.0,0.0,0.0,0.0,0.0,0.0,0.0,0.0,0.0,0.0,0.0,0.0,0.0,0.0,0.0,0.0,0.0,0.0,0.0,0.0,0.0,0.0,0.0,0.0,0.0,0.0,0.0,0.0,0.0,0.0,0.0,0.0,0.0,0.0,0.0,0.0,0.0,0.0,0.0,0.0,0.0,0.0,0.0,0.0,0.0,0.0,0.0,0.0,0.0,0.0,0.0,0.0,0.0,0.0,0.0,0.0,0.0,0.0,0.0,0.0,0.0,0.0,0.0,0.0,0.0,0.0,0.0,0.0,0.0,0.0,0.0],\"type\":\"scatter\"}],                        {\"template\":{\"data\":{\"histogram2dcontour\":[{\"type\":\"histogram2dcontour\",\"colorbar\":{\"outlinewidth\":0,\"ticks\":\"\"},\"colorscale\":[[0.0,\"#0d0887\"],[0.1111111111111111,\"#46039f\"],[0.2222222222222222,\"#7201a8\"],[0.3333333333333333,\"#9c179e\"],[0.4444444444444444,\"#bd3786\"],[0.5555555555555556,\"#d8576b\"],[0.6666666666666666,\"#ed7953\"],[0.7777777777777778,\"#fb9f3a\"],[0.8888888888888888,\"#fdca26\"],[1.0,\"#f0f921\"]]}],\"choropleth\":[{\"type\":\"choropleth\",\"colorbar\":{\"outlinewidth\":0,\"ticks\":\"\"}}],\"histogram2d\":[{\"type\":\"histogram2d\",\"colorbar\":{\"outlinewidth\":0,\"ticks\":\"\"},\"colorscale\":[[0.0,\"#0d0887\"],[0.1111111111111111,\"#46039f\"],[0.2222222222222222,\"#7201a8\"],[0.3333333333333333,\"#9c179e\"],[0.4444444444444444,\"#bd3786\"],[0.5555555555555556,\"#d8576b\"],[0.6666666666666666,\"#ed7953\"],[0.7777777777777778,\"#fb9f3a\"],[0.8888888888888888,\"#fdca26\"],[1.0,\"#f0f921\"]]}],\"heatmap\":[{\"type\":\"heatmap\",\"colorbar\":{\"outlinewidth\":0,\"ticks\":\"\"},\"colorscale\":[[0.0,\"#0d0887\"],[0.1111111111111111,\"#46039f\"],[0.2222222222222222,\"#7201a8\"],[0.3333333333333333,\"#9c179e\"],[0.4444444444444444,\"#bd3786\"],[0.5555555555555556,\"#d8576b\"],[0.6666666666666666,\"#ed7953\"],[0.7777777777777778,\"#fb9f3a\"],[0.8888888888888888,\"#fdca26\"],[1.0,\"#f0f921\"]]}],\"heatmapgl\":[{\"type\":\"heatmapgl\",\"colorbar\":{\"outlinewidth\":0,\"ticks\":\"\"},\"colorscale\":[[0.0,\"#0d0887\"],[0.1111111111111111,\"#46039f\"],[0.2222222222222222,\"#7201a8\"],[0.3333333333333333,\"#9c179e\"],[0.4444444444444444,\"#bd3786\"],[0.5555555555555556,\"#d8576b\"],[0.6666666666666666,\"#ed7953\"],[0.7777777777777778,\"#fb9f3a\"],[0.8888888888888888,\"#fdca26\"],[1.0,\"#f0f921\"]]}],\"contourcarpet\":[{\"type\":\"contourcarpet\",\"colorbar\":{\"outlinewidth\":0,\"ticks\":\"\"}}],\"contour\":[{\"type\":\"contour\",\"colorbar\":{\"outlinewidth\":0,\"ticks\":\"\"},\"colorscale\":[[0.0,\"#0d0887\"],[0.1111111111111111,\"#46039f\"],[0.2222222222222222,\"#7201a8\"],[0.3333333333333333,\"#9c179e\"],[0.4444444444444444,\"#bd3786\"],[0.5555555555555556,\"#d8576b\"],[0.6666666666666666,\"#ed7953\"],[0.7777777777777778,\"#fb9f3a\"],[0.8888888888888888,\"#fdca26\"],[1.0,\"#f0f921\"]]}],\"surface\":[{\"type\":\"surface\",\"colorbar\":{\"outlinewidth\":0,\"ticks\":\"\"},\"colorscale\":[[0.0,\"#0d0887\"],[0.1111111111111111,\"#46039f\"],[0.2222222222222222,\"#7201a8\"],[0.3333333333333333,\"#9c179e\"],[0.4444444444444444,\"#bd3786\"],[0.5555555555555556,\"#d8576b\"],[0.6666666666666666,\"#ed7953\"],[0.7777777777777778,\"#fb9f3a\"],[0.8888888888888888,\"#fdca26\"],[1.0,\"#f0f921\"]]}],\"mesh3d\":[{\"type\":\"mesh3d\",\"colorbar\":{\"outlinewidth\":0,\"ticks\":\"\"}}],\"scatter\":[{\"fillpattern\":{\"fillmode\":\"overlay\",\"size\":10,\"solidity\":0.2},\"type\":\"scatter\"}],\"parcoords\":[{\"type\":\"parcoords\",\"line\":{\"colorbar\":{\"outlinewidth\":0,\"ticks\":\"\"}}}],\"scatterpolargl\":[{\"type\":\"scatterpolargl\",\"marker\":{\"colorbar\":{\"outlinewidth\":0,\"ticks\":\"\"}}}],\"bar\":[{\"error_x\":{\"color\":\"#2a3f5f\"},\"error_y\":{\"color\":\"#2a3f5f\"},\"marker\":{\"line\":{\"color\":\"#E5ECF6\",\"width\":0.5},\"pattern\":{\"fillmode\":\"overlay\",\"size\":10,\"solidity\":0.2}},\"type\":\"bar\"}],\"scattergeo\":[{\"type\":\"scattergeo\",\"marker\":{\"colorbar\":{\"outlinewidth\":0,\"ticks\":\"\"}}}],\"scatterpolar\":[{\"type\":\"scatterpolar\",\"marker\":{\"colorbar\":{\"outlinewidth\":0,\"ticks\":\"\"}}}],\"histogram\":[{\"marker\":{\"pattern\":{\"fillmode\":\"overlay\",\"size\":10,\"solidity\":0.2}},\"type\":\"histogram\"}],\"scattergl\":[{\"type\":\"scattergl\",\"marker\":{\"colorbar\":{\"outlinewidth\":0,\"ticks\":\"\"}}}],\"scatter3d\":[{\"type\":\"scatter3d\",\"line\":{\"colorbar\":{\"outlinewidth\":0,\"ticks\":\"\"}},\"marker\":{\"colorbar\":{\"outlinewidth\":0,\"ticks\":\"\"}}}],\"scattermapbox\":[{\"type\":\"scattermapbox\",\"marker\":{\"colorbar\":{\"outlinewidth\":0,\"ticks\":\"\"}}}],\"scatterternary\":[{\"type\":\"scatterternary\",\"marker\":{\"colorbar\":{\"outlinewidth\":0,\"ticks\":\"\"}}}],\"scattercarpet\":[{\"type\":\"scattercarpet\",\"marker\":{\"colorbar\":{\"outlinewidth\":0,\"ticks\":\"\"}}}],\"carpet\":[{\"aaxis\":{\"endlinecolor\":\"#2a3f5f\",\"gridcolor\":\"white\",\"linecolor\":\"white\",\"minorgridcolor\":\"white\",\"startlinecolor\":\"#2a3f5f\"},\"baxis\":{\"endlinecolor\":\"#2a3f5f\",\"gridcolor\":\"white\",\"linecolor\":\"white\",\"minorgridcolor\":\"white\",\"startlinecolor\":\"#2a3f5f\"},\"type\":\"carpet\"}],\"table\":[{\"cells\":{\"fill\":{\"color\":\"#EBF0F8\"},\"line\":{\"color\":\"white\"}},\"header\":{\"fill\":{\"color\":\"#C8D4E3\"},\"line\":{\"color\":\"white\"}},\"type\":\"table\"}],\"barpolar\":[{\"marker\":{\"line\":{\"color\":\"#E5ECF6\",\"width\":0.5},\"pattern\":{\"fillmode\":\"overlay\",\"size\":10,\"solidity\":0.2}},\"type\":\"barpolar\"}],\"pie\":[{\"automargin\":true,\"type\":\"pie\"}]},\"layout\":{\"autotypenumbers\":\"strict\",\"colorway\":[\"#636efa\",\"#EF553B\",\"#00cc96\",\"#ab63fa\",\"#FFA15A\",\"#19d3f3\",\"#FF6692\",\"#B6E880\",\"#FF97FF\",\"#FECB52\"],\"font\":{\"color\":\"#2a3f5f\"},\"hovermode\":\"closest\",\"hoverlabel\":{\"align\":\"left\"},\"paper_bgcolor\":\"white\",\"plot_bgcolor\":\"#E5ECF6\",\"polar\":{\"bgcolor\":\"#E5ECF6\",\"angularaxis\":{\"gridcolor\":\"white\",\"linecolor\":\"white\",\"ticks\":\"\"},\"radialaxis\":{\"gridcolor\":\"white\",\"linecolor\":\"white\",\"ticks\":\"\"}},\"ternary\":{\"bgcolor\":\"#E5ECF6\",\"aaxis\":{\"gridcolor\":\"white\",\"linecolor\":\"white\",\"ticks\":\"\"},\"baxis\":{\"gridcolor\":\"white\",\"linecolor\":\"white\",\"ticks\":\"\"},\"caxis\":{\"gridcolor\":\"white\",\"linecolor\":\"white\",\"ticks\":\"\"}},\"coloraxis\":{\"colorbar\":{\"outlinewidth\":0,\"ticks\":\"\"}},\"colorscale\":{\"sequential\":[[0.0,\"#0d0887\"],[0.1111111111111111,\"#46039f\"],[0.2222222222222222,\"#7201a8\"],[0.3333333333333333,\"#9c179e\"],[0.4444444444444444,\"#bd3786\"],[0.5555555555555556,\"#d8576b\"],[0.6666666666666666,\"#ed7953\"],[0.7777777777777778,\"#fb9f3a\"],[0.8888888888888888,\"#fdca26\"],[1.0,\"#f0f921\"]],\"sequentialminus\":[[0.0,\"#0d0887\"],[0.1111111111111111,\"#46039f\"],[0.2222222222222222,\"#7201a8\"],[0.3333333333333333,\"#9c179e\"],[0.4444444444444444,\"#bd3786\"],[0.5555555555555556,\"#d8576b\"],[0.6666666666666666,\"#ed7953\"],[0.7777777777777778,\"#fb9f3a\"],[0.8888888888888888,\"#fdca26\"],[1.0,\"#f0f921\"]],\"diverging\":[[0,\"#8e0152\"],[0.1,\"#c51b7d\"],[0.2,\"#de77ae\"],[0.3,\"#f1b6da\"],[0.4,\"#fde0ef\"],[0.5,\"#f7f7f7\"],[0.6,\"#e6f5d0\"],[0.7,\"#b8e186\"],[0.8,\"#7fbc41\"],[0.9,\"#4d9221\"],[1,\"#276419\"]]},\"xaxis\":{\"gridcolor\":\"white\",\"linecolor\":\"white\",\"ticks\":\"\",\"title\":{\"standoff\":15},\"zerolinecolor\":\"white\",\"automargin\":true,\"zerolinewidth\":2},\"yaxis\":{\"gridcolor\":\"white\",\"linecolor\":\"white\",\"ticks\":\"\",\"title\":{\"standoff\":15},\"zerolinecolor\":\"white\",\"automargin\":true,\"zerolinewidth\":2},\"scene\":{\"xaxis\":{\"backgroundcolor\":\"#E5ECF6\",\"gridcolor\":\"white\",\"linecolor\":\"white\",\"showbackground\":true,\"ticks\":\"\",\"zerolinecolor\":\"white\",\"gridwidth\":2},\"yaxis\":{\"backgroundcolor\":\"#E5ECF6\",\"gridcolor\":\"white\",\"linecolor\":\"white\",\"showbackground\":true,\"ticks\":\"\",\"zerolinecolor\":\"white\",\"gridwidth\":2},\"zaxis\":{\"backgroundcolor\":\"#E5ECF6\",\"gridcolor\":\"white\",\"linecolor\":\"white\",\"showbackground\":true,\"ticks\":\"\",\"zerolinecolor\":\"white\",\"gridwidth\":2}},\"shapedefaults\":{\"line\":{\"color\":\"#2a3f5f\"}},\"annotationdefaults\":{\"arrowcolor\":\"#2a3f5f\",\"arrowhead\":0,\"arrowwidth\":1},\"geo\":{\"bgcolor\":\"white\",\"landcolor\":\"#E5ECF6\",\"subunitcolor\":\"white\",\"showland\":true,\"showlakes\":true,\"lakecolor\":\"white\"},\"title\":{\"x\":0.05},\"mapbox\":{\"style\":\"light\"}}},\"title\":{\"text\":\"Intensities over frequency\",\"x\":0.5}},                        {\"responsive\": true}                    ).then(function(){\n",
              "                            \n",
              "var gd = document.getElementById('b6b0894e-c563-4f5c-aef4-1c43b4ca07ad');\n",
              "var x = new MutationObserver(function (mutations, observer) {{\n",
              "        var display = window.getComputedStyle(gd).display;\n",
              "        if (!display || display === 'none') {{\n",
              "            console.log([gd, 'removed!']);\n",
              "            Plotly.purge(gd);\n",
              "            observer.disconnect();\n",
              "        }}\n",
              "}});\n",
              "\n",
              "// Listen for the removal of the full notebook cells\n",
              "var notebookContainer = gd.closest('#notebook-container');\n",
              "if (notebookContainer) {{\n",
              "    x.observe(notebookContainer, {childList: true});\n",
              "}}\n",
              "\n",
              "// Listen for the clearing of the current output cell\n",
              "var outputEl = gd.closest('.output');\n",
              "if (outputEl) {{\n",
              "    x.observe(outputEl, {childList: true});\n",
              "}}\n",
              "\n",
              "                        })                };                            </script>        </div>\n",
              "</body>\n",
              "</html>"
            ]
          },
          "metadata": {},
          "output_type": "display_data"
        }
      ],
      "source": [
        "# change the index values below to pick molecules with and without a carbonyl\n",
        "idx_hasCarbonyl=7\n",
        "idx_notCarbonyl=23\n",
        "# get the data for the two molecules\n",
        "hasCarbonyl=train.set_index('name').iloc[idx_hasCarbonyl,3:] # picked\n",
        "notCarbonyl=train.set_index('name').iloc[idx_notCarbonyl,3:] # picked\n",
        "# plot the spectra\n",
        "fig = go.Figure()\n",
        "fig.add_trace(go.Scatter(x=hasCarbonyl.index, y=hasCarbonyl, name=hasCarbonyl.name,mode='markers'))\n",
        "fig.add_trace(go.Scatter(x=notCarbonyl.index, y=notCarbonyl,name=notCarbonyl.name,mode='markers'))\n",
        "fig.update_layout(title='Intensities over frequency',title_x=0.5)"
      ]
    },
    {
      "cell_type": "code",
      "execution_count": null,
      "metadata": {
        "colab": {
          "background_save": true
        },
        "id": "vhUDvu7TE8oj"
      },
      "outputs": [],
      "source": [
        "# define a function to split the column containing the label from the columns containing the attributes\n",
        "def splitXY(dataframe,start_X=3,end_X=None,start_Y=2,end_Y=3):\n",
        "  X=dataframe.iloc[:,start_X:end_X]\n",
        "  # since current X is a dataframe structure, we use \".value\" to only get values\n",
        "  X=X.values\n",
        "  Y=dataframe.iloc[:,start_Y:end_Y]\n",
        "  # since current Y is a dataframe structure, we use \".value\" to only get values\n",
        "  Y=Y.values.ravel()\n",
        "  # this makes sure all the labels are integers\n",
        "  Y=Y.astype(float).astype(int)\n",
        "  return X,Y"
      ]
    },
    {
      "cell_type": "code",
      "execution_count": null,
      "metadata": {
        "colab": {
          "background_save": true
        },
        "id": "Tk8n2CaAE_vN"
      },
      "outputs": [],
      "source": [
        "# now apply the function to the normalized and thresholded train and test data\n",
        "X,Y=splitXY(train)\n",
        "X_test,Y_test=splitXY(test)"
      ]
    },
    {
      "cell_type": "code",
      "execution_count": null,
      "metadata": {
        "colab": {
          "background_save": true,
          "base_uri": "https://localhost:8080/",
          "height": 428
        },
        "id": "eQQICxmAFIi6",
        "outputId": "febf3987-56fb-4e5a-d1ee-4c1395a7147c"
      },
      "outputs": [
        {
          "data": {
            "image/png": "[encoded data removed]",
            "text/plain": [
              "<Figure size 640x480 with 1 Axes>"
            ]
          },
          "metadata": {},
          "output_type": "display_data"
        }
      ],
      "source": [
        "# get the total number of molecules in the training data\n",
        "total=len(Y)\n",
        "# determine how many contain a carbonyl\n",
        "label1=Y.sum()\n",
        "# find the number without a carbonyl by subtraction\n",
        "label0=total-label1\n",
        "# plot the data\n",
        "data=[label1,label0]\n",
        "my_labels = 'Carbonyl','notCarbonyl'\n",
        "plt.pie(data,labels=my_labels,autopct='%1.1f%%')\n",
        "plt.title('Data Distribution')\n",
        "plt.show()"
      ]
    },
    {
      "cell_type": "markdown",
      "metadata": {
        "id": "jKdTTWVEFM1T"
      },
      "source": [
        "Molecules without a carbonyl dominate the training set, so the classes are imbalanced. Applying SMOTE to counter this"
      ]
    },
    {
      "cell_type": "code",
      "execution_count": null,
      "metadata": {
        "colab": {
          "background_save": true
        },
        "id": "BduHw8_EFY4X"
      },
      "outputs": [],
      "source": [
        "%%capture\n",
        "# define SMOTE method\n",
        "sm = SMOTE(sampling_strategy='minority')\n",
        "# apply SMOTE to the training data\n",
        "X, Y= sm.fit_resample(X,Y)"
      ]
    },
    {
      "cell_type": "code",
      "execution_count": null,
      "metadata": {
        "colab": {
          "background_save": true,
          "base_uri": "https://localhost:8080/",
          "height": 428
        },
        "id": "nSvOIQQoFb3_",
        "outputId": "ca6d2871-a47f-49c6-e160-e20d4beaf3e1"
      },
      "outputs": [
        {
          "data": {
            "image/png": "[encoded data removed]",
            "text/plain": [
              "<Figure size 640x480 with 1 Axes>"
            ]
          },
          "metadata": {},
          "output_type": "display_data"
        }
      ],
      "source": [
        "# again determine the number of molecules with and without carbonyl groups and visualize\n",
        "total=len(Y)\n",
        "label1=Y.sum()\n",
        "label0=total-label1\n",
        "data=[label1,label0]\n",
        "my_labels = 'Carbonyl','notCarbonyl'\n",
        "plt.pie(data,labels=my_labels,autopct='%1.1f%%')\n",
        "plt.title('Data Distribution')\n",
        "plt.show()"
      ]
    },
    {
      "cell_type": "markdown",
      "metadata": {
        "id": "5pDZ7dMxF1yU"
      },
      "source": [
        "Now the training data are balanced between the two classes. We can plot one of the new synthetic carbonyl-containing spectra for comparison to a real carbonyl-containing spectrum. (The synthetic spectrum will vary each time you run SMOTE.) Note that the synthetic spectra are stored at the end of the variable X, so any index value greater than the original length of the variable train corresponds to a synthetic spectrum."
      ]
    },
    {
      "cell_type": "code",
      "execution_count": null,
      "metadata": {
        "colab": {
          "background_save": true,
          "base_uri": "https://localhost:8080/",
          "height": 449
        },
        "id": "qWeBzgX4F22D",
        "outputId": "ce87449e-7f78-443a-d4a1-6e1f467275f8"
      },
      "outputs": [
        {
          "data": {
            "image/png": "[encoded data removed]",
            "text/plain": [
              "<Figure size 640x480 with 1 Axes>"
            ]
          },
          "metadata": {},
          "output_type": "display_data"
        }
      ],
      "source": [
        "# index values of a real and synthetic carbonyl (you can change these values to see other spectra)\n",
        "idx_realCarbonyl=1 # this selects the molecule in row 1 of the training data (hexanal)\n",
        "idx_synCarbonyl=len(train) # this selects the first synthetic carbonyl spectrum\n",
        "# get the data for the two molecules\n",
        "spectrum_realCarbonyl=X[idx_realCarbonyl,:]\n",
        "spectrum_synCarbonyl=X[idx_synCarbonyl,:]\n",
        "# get the frequencies for plotting\n",
        "frequencies=range(500,4002,2)\n",
        "# generate the plot\n",
        "plt.plot(frequencies,spectrum_realCarbonyl,\"o\",label=\"Real carbonyl\")\n",
        "plt.plot(frequencies,spectrum_synCarbonyl,\"o\",label=\"Synthetic carbonyl\")\n",
        "plt.legend(loc=\"upper right\")\n",
        "plt.xlabel(\"Frequency (cm^-1)\")\n",
        "plt.ylabel(\"Intensity\")\n",
        "plt.show()"
      ]
    },
    {
      "cell_type": "code",
      "execution_count": null,
      "metadata": {
        "colab": {
          "background_save": true,
          "base_uri": "https://localhost:8080/",
          "height": 74
        },
        "id": "I-GeBTjsHY51",
        "outputId": "1871c76a-b8db-4d65-c155-16dc42c94f7a"
      },
      "outputs": [
        {
          "data": {
            "text/html": [
              "<style>#sk-container-id-23 {color: black;background-color: white;}#sk-container-id-23 pre{padding: 0;}#sk-container-id-23 div.sk-toggleable {background-color: white;}#sk-container-id-23 label.sk-toggleable__label {cursor: pointer;display: block;width: 100%;margin-bottom: 0;padding: 0.3em;box-sizing: border-box;text-align: center;}#sk-container-id-23 label.sk-toggleable__label-arrow:before {content: \"▸\";float: left;margin-right: 0.25em;color: #696969;}#sk-container-id-23 label.sk-toggleable__label-arrow:hover:before {color: black;}#sk-container-id-23 div.sk-estimator:hover label.sk-toggleable__label-arrow:before {color: black;}#sk-container-id-23 div.sk-toggleable__content {max-height: 0;max-width: 0;overflow: hidden;text-align: left;background-color: #f0f8ff;}#sk-container-id-23 div.sk-toggleable__content pre {margin: 0.2em;color: black;border-radius: 0.25em;background-color: #f0f8ff;}#sk-container-id-23 input.sk-toggleable__control:checked~div.sk-toggleable__content {max-height: 200px;max-width: 100%;overflow: auto;}#sk-container-id-23 input.sk-toggleable__control:checked~label.sk-toggleable__label-arrow:before {content: \"▾\";}#sk-container-id-23 div.sk-estimator input.sk-toggleable__control:checked~label.sk-toggleable__label {background-color: #d4ebff;}#sk-container-id-23 div.sk-label input.sk-toggleable__control:checked~label.sk-toggleable__label {background-color: #d4ebff;}#sk-container-id-23 input.sk-hidden--visually {border: 0;clip: rect(1px 1px 1px 1px);clip: rect(1px, 1px, 1px, 1px);height: 1px;margin: -1px;overflow: hidden;padding: 0;position: absolute;width: 1px;}#sk-container-id-23 div.sk-estimator {font-family: monospace;background-color: #f0f8ff;border: 1px dotted black;border-radius: 0.25em;box-sizing: border-box;margin-bottom: 0.5em;}#sk-container-id-23 div.sk-estimator:hover {background-color: #d4ebff;}#sk-container-id-23 div.sk-parallel-item::after {content: \"\";width: 100%;border-bottom: 1px solid gray;flex-grow: 1;}#sk-container-id-23 div.sk-label:hover label.sk-toggleable__label {background-color: #d4ebff;}#sk-container-id-23 div.sk-serial::before {content: \"\";position: absolute;border-left: 1px solid gray;box-sizing: border-box;top: 0;bottom: 0;left: 50%;z-index: 0;}#sk-container-id-23 div.sk-serial {display: flex;flex-direction: column;align-items: center;background-color: white;padding-right: 0.2em;padding-left: 0.2em;position: relative;}#sk-container-id-23 div.sk-item {position: relative;z-index: 1;}#sk-container-id-23 div.sk-parallel {display: flex;align-items: stretch;justify-content: center;background-color: white;position: relative;}#sk-container-id-23 div.sk-item::before, #sk-container-id-23 div.sk-parallel-item::before {content: \"\";position: absolute;border-left: 1px solid gray;box-sizing: border-box;top: 0;bottom: 0;left: 50%;z-index: -1;}#sk-container-id-23 div.sk-parallel-item {display: flex;flex-direction: column;z-index: 1;position: relative;background-color: white;}#sk-container-id-23 div.sk-parallel-item:first-child::after {align-self: flex-end;width: 50%;}#sk-container-id-23 div.sk-parallel-item:last-child::after {align-self: flex-start;width: 50%;}#sk-container-id-23 div.sk-parallel-item:only-child::after {width: 0;}#sk-container-id-23 div.sk-dashed-wrapped {border: 1px dashed gray;margin: 0 0.4em 0.5em 0.4em;box-sizing: border-box;padding-bottom: 0.4em;background-color: white;}#sk-container-id-23 div.sk-label label {font-family: monospace;font-weight: bold;display: inline-block;line-height: 1.2em;}#sk-container-id-23 div.sk-label-container {text-align: center;}#sk-container-id-23 div.sk-container {/* jupyter's `normalize.less` sets `[hidden] { display: none; }` but bootstrap.min.css set `[hidden] { display: none !important; }` so we also need the `!important` here to be able to override the default hidden behavior on the sphinx rendered scikit-learn.org. See: https://github.com/scikit-learn/scikit-learn/issues/21755 */display: inline-block !important;position: relative;}#sk-container-id-23 div.sk-text-repr-fallback {display: none;}</style><div id=\"sk-container-id-23\" class=\"sk-top-container\"><div class=\"sk-text-repr-fallback\"><pre>RandomForestClassifier()</pre><b>In a Jupyter environment, please rerun this cell to show the HTML representation or trust the notebook. <br />On GitHub, the HTML representation is unable to render, please try loading this page with nbviewer.org.</b></div><div class=\"sk-container\" hidden><div class=\"sk-item\"><div class=\"sk-estimator sk-toggleable\"><input class=\"sk-toggleable__control sk-hidden--visually\" id=\"sk-estimator-id-23\" type=\"checkbox\" checked><label for=\"sk-estimator-id-23\" class=\"sk-toggleable__label sk-toggleable__label-arrow\">RandomForestClassifier</label><div class=\"sk-toggleable__content\"><pre>RandomForestClassifier()</pre></div></div></div></div></div>"
            ],
            "text/plain": [
              "RandomForestClassifier()"
            ]
          },
          "execution_count": 286,
          "metadata": {},
          "output_type": "execute_result"
        }
      ],
      "source": [
        "# use the Random Forest algorithm with the default parameters\n",
        "rf_clf=RandomForestClassifier()\n",
        "# fit the model using the training dataset\n",
        "rf_clf.fit(X,Y)"
      ]
    },
    {
      "cell_type": "code",
      "execution_count": null,
      "metadata": {
        "colab": {
          "background_save": true,
          "base_uri": "https://localhost:8080/",
          "height": 74
        },
        "id": "bwwG8nm-V_5I",
        "outputId": "7b8e2e83-0a80-48e5-bf86-f8340e7dc0d8"
      },
      "outputs": [
        {
          "data": {
            "text/html": [
              "<style>#sk-container-id-24 {color: black;background-color: white;}#sk-container-id-24 pre{padding: 0;}#sk-container-id-24 div.sk-toggleable {background-color: white;}#sk-container-id-24 label.sk-toggleable__label {cursor: pointer;display: block;width: 100%;margin-bottom: 0;padding: 0.3em;box-sizing: border-box;text-align: center;}#sk-container-id-24 label.sk-toggleable__label-arrow:before {content: \"▸\";float: left;margin-right: 0.25em;color: #696969;}#sk-container-id-24 label.sk-toggleable__label-arrow:hover:before {color: black;}#sk-container-id-24 div.sk-estimator:hover label.sk-toggleable__label-arrow:before {color: black;}#sk-container-id-24 div.sk-toggleable__content {max-height: 0;max-width: 0;overflow: hidden;text-align: left;background-color: #f0f8ff;}#sk-container-id-24 div.sk-toggleable__content pre {margin: 0.2em;color: black;border-radius: 0.25em;background-color: #f0f8ff;}#sk-container-id-24 input.sk-toggleable__control:checked~div.sk-toggleable__content {max-height: 200px;max-width: 100%;overflow: auto;}#sk-container-id-24 input.sk-toggleable__control:checked~label.sk-toggleable__label-arrow:before {content: \"▾\";}#sk-container-id-24 div.sk-estimator input.sk-toggleable__control:checked~label.sk-toggleable__label {background-color: #d4ebff;}#sk-container-id-24 div.sk-label input.sk-toggleable__control:checked~label.sk-toggleable__label {background-color: #d4ebff;}#sk-container-id-24 input.sk-hidden--visually {border: 0;clip: rect(1px 1px 1px 1px);clip: rect(1px, 1px, 1px, 1px);height: 1px;margin: -1px;overflow: hidden;padding: 0;position: absolute;width: 1px;}#sk-container-id-24 div.sk-estimator {font-family: monospace;background-color: #f0f8ff;border: 1px dotted black;border-radius: 0.25em;box-sizing: border-box;margin-bottom: 0.5em;}#sk-container-id-24 div.sk-estimator:hover {background-color: #d4ebff;}#sk-container-id-24 div.sk-parallel-item::after {content: \"\";width: 100%;border-bottom: 1px solid gray;flex-grow: 1;}#sk-container-id-24 div.sk-label:hover label.sk-toggleable__label {background-color: #d4ebff;}#sk-container-id-24 div.sk-serial::before {content: \"\";position: absolute;border-left: 1px solid gray;box-sizing: border-box;top: 0;bottom: 0;left: 50%;z-index: 0;}#sk-container-id-24 div.sk-serial {display: flex;flex-direction: column;align-items: center;background-color: white;padding-right: 0.2em;padding-left: 0.2em;position: relative;}#sk-container-id-24 div.sk-item {position: relative;z-index: 1;}#sk-container-id-24 div.sk-parallel {display: flex;align-items: stretch;justify-content: center;background-color: white;position: relative;}#sk-container-id-24 div.sk-item::before, #sk-container-id-24 div.sk-parallel-item::before {content: \"\";position: absolute;border-left: 1px solid gray;box-sizing: border-box;top: 0;bottom: 0;left: 50%;z-index: -1;}#sk-container-id-24 div.sk-parallel-item {display: flex;flex-direction: column;z-index: 1;position: relative;background-color: white;}#sk-container-id-24 div.sk-parallel-item:first-child::after {align-self: flex-end;width: 50%;}#sk-container-id-24 div.sk-parallel-item:last-child::after {align-self: flex-start;width: 50%;}#sk-container-id-24 div.sk-parallel-item:only-child::after {width: 0;}#sk-container-id-24 div.sk-dashed-wrapped {border: 1px dashed gray;margin: 0 0.4em 0.5em 0.4em;box-sizing: border-box;padding-bottom: 0.4em;background-color: white;}#sk-container-id-24 div.sk-label label {font-family: monospace;font-weight: bold;display: inline-block;line-height: 1.2em;}#sk-container-id-24 div.sk-label-container {text-align: center;}#sk-container-id-24 div.sk-container {/* jupyter's `normalize.less` sets `[hidden] { display: none; }` but bootstrap.min.css set `[hidden] { display: none !important; }` so we also need the `!important` here to be able to override the default hidden behavior on the sphinx rendered scikit-learn.org. See: https://github.com/scikit-learn/scikit-learn/issues/21755 */display: inline-block !important;position: relative;}#sk-container-id-24 div.sk-text-repr-fallback {display: none;}</style><div id=\"sk-container-id-24\" class=\"sk-top-container\"><div class=\"sk-text-repr-fallback\"><pre>KNeighborsClassifier()</pre><b>In a Jupyter environment, please rerun this cell to show the HTML representation or trust the notebook. <br />On GitHub, the HTML representation is unable to render, please try loading this page with nbviewer.org.</b></div><div class=\"sk-container\" hidden><div class=\"sk-item\"><div class=\"sk-estimator sk-toggleable\"><input class=\"sk-toggleable__control sk-hidden--visually\" id=\"sk-estimator-id-24\" type=\"checkbox\" checked><label for=\"sk-estimator-id-24\" class=\"sk-toggleable__label sk-toggleable__label-arrow\">KNeighborsClassifier</label><div class=\"sk-toggleable__content\"><pre>KNeighborsClassifier()</pre></div></div></div></div></div>"
            ],
            "text/plain": [
              "KNeighborsClassifier()"
            ]
          },
          "execution_count": 287,
          "metadata": {},
          "output_type": "execute_result"
        }
      ],
      "source": [
        "# use the Random Forest algorithm with the default parameters\n",
        "kn_clf=KNeighborsClassifier()\n",
        "# fit the model using the training dataset\n",
        "kn_clf.fit(X,Y)"
      ]
    },
    {
      "cell_type": "code",
      "execution_count": null,
      "metadata": {
        "colab": {
          "background_save": true,
          "base_uri": "https://localhost:8080/",
          "height": 74
        },
        "id": "x23ErYlSXVy1",
        "outputId": "24e01467-718c-415c-85e5-cd707ff7c023"
      },
      "outputs": [
        {
          "data": {
            "text/html": [
              "<style>#sk-container-id-25 {color: black;background-color: white;}#sk-container-id-25 pre{padding: 0;}#sk-container-id-25 div.sk-toggleable {background-color: white;}#sk-container-id-25 label.sk-toggleable__label {cursor: pointer;display: block;width: 100%;margin-bottom: 0;padding: 0.3em;box-sizing: border-box;text-align: center;}#sk-container-id-25 label.sk-toggleable__label-arrow:before {content: \"▸\";float: left;margin-right: 0.25em;color: #696969;}#sk-container-id-25 label.sk-toggleable__label-arrow:hover:before {color: black;}#sk-container-id-25 div.sk-estimator:hover label.sk-toggleable__label-arrow:before {color: black;}#sk-container-id-25 div.sk-toggleable__content {max-height: 0;max-width: 0;overflow: hidden;text-align: left;background-color: #f0f8ff;}#sk-container-id-25 div.sk-toggleable__content pre {margin: 0.2em;color: black;border-radius: 0.25em;background-color: #f0f8ff;}#sk-container-id-25 input.sk-toggleable__control:checked~div.sk-toggleable__content {max-height: 200px;max-width: 100%;overflow: auto;}#sk-container-id-25 input.sk-toggleable__control:checked~label.sk-toggleable__label-arrow:before {content: \"▾\";}#sk-container-id-25 div.sk-estimator input.sk-toggleable__control:checked~label.sk-toggleable__label {background-color: #d4ebff;}#sk-container-id-25 div.sk-label input.sk-toggleable__control:checked~label.sk-toggleable__label {background-color: #d4ebff;}#sk-container-id-25 input.sk-hidden--visually {border: 0;clip: rect(1px 1px 1px 1px);clip: rect(1px, 1px, 1px, 1px);height: 1px;margin: -1px;overflow: hidden;padding: 0;position: absolute;width: 1px;}#sk-container-id-25 div.sk-estimator {font-family: monospace;background-color: #f0f8ff;border: 1px dotted black;border-radius: 0.25em;box-sizing: border-box;margin-bottom: 0.5em;}#sk-container-id-25 div.sk-estimator:hover {background-color: #d4ebff;}#sk-container-id-25 div.sk-parallel-item::after {content: \"\";width: 100%;border-bottom: 1px solid gray;flex-grow: 1;}#sk-container-id-25 div.sk-label:hover label.sk-toggleable__label {background-color: #d4ebff;}#sk-container-id-25 div.sk-serial::before {content: \"\";position: absolute;border-left: 1px solid gray;box-sizing: border-box;top: 0;bottom: 0;left: 50%;z-index: 0;}#sk-container-id-25 div.sk-serial {display: flex;flex-direction: column;align-items: center;background-color: white;padding-right: 0.2em;padding-left: 0.2em;position: relative;}#sk-container-id-25 div.sk-item {position: relative;z-index: 1;}#sk-container-id-25 div.sk-parallel {display: flex;align-items: stretch;justify-content: center;background-color: white;position: relative;}#sk-container-id-25 div.sk-item::before, #sk-container-id-25 div.sk-parallel-item::before {content: \"\";position: absolute;border-left: 1px solid gray;box-sizing: border-box;top: 0;bottom: 0;left: 50%;z-index: -1;}#sk-container-id-25 div.sk-parallel-item {display: flex;flex-direction: column;z-index: 1;position: relative;background-color: white;}#sk-container-id-25 div.sk-parallel-item:first-child::after {align-self: flex-end;width: 50%;}#sk-container-id-25 div.sk-parallel-item:last-child::after {align-self: flex-start;width: 50%;}#sk-container-id-25 div.sk-parallel-item:only-child::after {width: 0;}#sk-container-id-25 div.sk-dashed-wrapped {border: 1px dashed gray;margin: 0 0.4em 0.5em 0.4em;box-sizing: border-box;padding-bottom: 0.4em;background-color: white;}#sk-container-id-25 div.sk-label label {font-family: monospace;font-weight: bold;display: inline-block;line-height: 1.2em;}#sk-container-id-25 div.sk-label-container {text-align: center;}#sk-container-id-25 div.sk-container {/* jupyter's `normalize.less` sets `[hidden] { display: none; }` but bootstrap.min.css set `[hidden] { display: none !important; }` so we also need the `!important` here to be able to override the default hidden behavior on the sphinx rendered scikit-learn.org. See: https://github.com/scikit-learn/scikit-learn/issues/21755 */display: inline-block !important;position: relative;}#sk-container-id-25 div.sk-text-repr-fallback {display: none;}</style><div id=\"sk-container-id-25\" class=\"sk-top-container\"><div class=\"sk-text-repr-fallback\"><pre>GaussianNB()</pre><b>In a Jupyter environment, please rerun this cell to show the HTML representation or trust the notebook. <br />On GitHub, the HTML representation is unable to render, please try loading this page with nbviewer.org.</b></div><div class=\"sk-container\" hidden><div class=\"sk-item\"><div class=\"sk-estimator sk-toggleable\"><input class=\"sk-toggleable__control sk-hidden--visually\" id=\"sk-estimator-id-25\" type=\"checkbox\" checked><label for=\"sk-estimator-id-25\" class=\"sk-toggleable__label sk-toggleable__label-arrow\">GaussianNB</label><div class=\"sk-toggleable__content\"><pre>GaussianNB()</pre></div></div></div></div></div>"
            ],
            "text/plain": [
              "GaussianNB()"
            ]
          },
          "execution_count": 288,
          "metadata": {},
          "output_type": "execute_result"
        }
      ],
      "source": [
        "# use the Random Forest algorithm with the default parameters\n",
        "nb_clf=GaussianNB()\n",
        "# fit the model using the training dataset\n",
        "nb_clf.fit(X,Y)"
      ]
    },
    {
      "cell_type": "code",
      "execution_count": null,
      "metadata": {
        "colab": {
          "background_save": true
        },
        "id": "XRMFGLuoXsim"
      },
      "outputs": [],
      "source": [
        "# use the fitted Decision Tree model to predict the labels (with or without carbonyl) for the test dataset\n",
        "Y_pred=nb_clf.predict(X_test)"
      ]
    },
    {
      "cell_type": "code",
      "execution_count": null,
      "metadata": {
        "colab": {
          "background_save": true,
          "base_uri": "https://localhost:8080/"
        },
        "id": "oLx2xnaWXvhd",
        "outputId": "c421af0b-653b-4deb-81ee-68768c2611d2"
      },
      "outputs": [
        {
          "name": "stdout",
          "output_type": "stream",
          "text": [
            "Accuracy: 0.43 Sensitivity: 1.0 Specificity: 0.3\n"
          ]
        }
      ],
      "source": [
        "# determine the accuracy, sensitivity, and specificity by comparing the predicted labels to the actual labels\n",
        "nb_accuracy=np.round(accuracy_score(Y_test,Y_pred),2)\n",
        "nb_sensitivity=np.round(recall_score(Y_test,Y_pred),2)\n",
        "nb_specificity=np.round(recall_score(Y_test,Y_pred,pos_label=0),2)\n",
        "\n",
        "# display the accuracy, sensitivity, and specificity\n",
        "print(\"Accuracy: \"+str(nb_accuracy)+\" Sensitivity: \"+str(nb_sensitivity)+\" Specificity: \"+str(nb_specificity))"
      ]
    },
    {
      "cell_type": "code",
      "execution_count": null,
      "metadata": {
        "colab": {
          "background_save": true
        },
        "id": "1vcd18WKWoBx"
      },
      "outputs": [],
      "source": [
        "# use the fitted Decision Tree model to predict the labels (with or without carbonyl) for the test dataset\n",
        "Y_pred=kn_clf.predict(X_test)"
      ]
    },
    {
      "cell_type": "code",
      "execution_count": null,
      "metadata": {
        "colab": {
          "background_save": true,
          "base_uri": "https://localhost:8080/"
        },
        "id": "FXD0QrRxWr57",
        "outputId": "9cf697e3-5562-4c8a-9901-4dd8b8d32479"
      },
      "outputs": [
        {
          "name": "stdout",
          "output_type": "stream",
          "text": [
            "Accuracy: 0.96 Sensitivity: 1.0 Specificity: 0.95\n"
          ]
        }
      ],
      "source": [
        "# determine the accuracy, sensitivity, and specificity by comparing the predicted labels to the actual labels\n",
        "kn_accuracy=np.round(accuracy_score(Y_test,Y_pred),2)\n",
        "kn_sensitivity=np.round(recall_score(Y_test,Y_pred),2)\n",
        "kn_specificity=np.round(recall_score(Y_test,Y_pred,pos_label=0),2)\n",
        "\n",
        "# display the accuracy, sensitivity, and specificity\n",
        "print(\"Accuracy: \"+str(kn_accuracy)+\" Sensitivity: \"+str(kn_sensitivity)+\" Specificity: \"+str(kn_specificity))"
      ]
    },
    {
      "cell_type": "code",
      "execution_count": null,
      "metadata": {
        "colab": {
          "background_save": true,
          "base_uri": "https://localhost:8080/",
          "height": 74
        },
        "id": "HSmCgrvGHBFN",
        "outputId": "bc86ce54-82a9-4a3d-c9e1-78d3df2e7b0c"
      },
      "outputs": [
        {
          "data": {
            "text/html": [
              "<style>#sk-container-id-26 {color: black;background-color: white;}#sk-container-id-26 pre{padding: 0;}#sk-container-id-26 div.sk-toggleable {background-color: white;}#sk-container-id-26 label.sk-toggleable__label {cursor: pointer;display: block;width: 100%;margin-bottom: 0;padding: 0.3em;box-sizing: border-box;text-align: center;}#sk-container-id-26 label.sk-toggleable__label-arrow:before {content: \"▸\";float: left;margin-right: 0.25em;color: #696969;}#sk-container-id-26 label.sk-toggleable__label-arrow:hover:before {color: black;}#sk-container-id-26 div.sk-estimator:hover label.sk-toggleable__label-arrow:before {color: black;}#sk-container-id-26 div.sk-toggleable__content {max-height: 0;max-width: 0;overflow: hidden;text-align: left;background-color: #f0f8ff;}#sk-container-id-26 div.sk-toggleable__content pre {margin: 0.2em;color: black;border-radius: 0.25em;background-color: #f0f8ff;}#sk-container-id-26 input.sk-toggleable__control:checked~div.sk-toggleable__content {max-height: 200px;max-width: 100%;overflow: auto;}#sk-container-id-26 input.sk-toggleable__control:checked~label.sk-toggleable__label-arrow:before {content: \"▾\";}#sk-container-id-26 div.sk-estimator input.sk-toggleable__control:checked~label.sk-toggleable__label {background-color: #d4ebff;}#sk-container-id-26 div.sk-label input.sk-toggleable__control:checked~label.sk-toggleable__label {background-color: #d4ebff;}#sk-container-id-26 input.sk-hidden--visually {border: 0;clip: rect(1px 1px 1px 1px);clip: rect(1px, 1px, 1px, 1px);height: 1px;margin: -1px;overflow: hidden;padding: 0;position: absolute;width: 1px;}#sk-container-id-26 div.sk-estimator {font-family: monospace;background-color: #f0f8ff;border: 1px dotted black;border-radius: 0.25em;box-sizing: border-box;margin-bottom: 0.5em;}#sk-container-id-26 div.sk-estimator:hover {background-color: #d4ebff;}#sk-container-id-26 div.sk-parallel-item::after {content: \"\";width: 100%;border-bottom: 1px solid gray;flex-grow: 1;}#sk-container-id-26 div.sk-label:hover label.sk-toggleable__label {background-color: #d4ebff;}#sk-container-id-26 div.sk-serial::before {content: \"\";position: absolute;border-left: 1px solid gray;box-sizing: border-box;top: 0;bottom: 0;left: 50%;z-index: 0;}#sk-container-id-26 div.sk-serial {display: flex;flex-direction: column;align-items: center;background-color: white;padding-right: 0.2em;padding-left: 0.2em;position: relative;}#sk-container-id-26 div.sk-item {position: relative;z-index: 1;}#sk-container-id-26 div.sk-parallel {display: flex;align-items: stretch;justify-content: center;background-color: white;position: relative;}#sk-container-id-26 div.sk-item::before, #sk-container-id-26 div.sk-parallel-item::before {content: \"\";position: absolute;border-left: 1px solid gray;box-sizing: border-box;top: 0;bottom: 0;left: 50%;z-index: -1;}#sk-container-id-26 div.sk-parallel-item {display: flex;flex-direction: column;z-index: 1;position: relative;background-color: white;}#sk-container-id-26 div.sk-parallel-item:first-child::after {align-self: flex-end;width: 50%;}#sk-container-id-26 div.sk-parallel-item:last-child::after {align-self: flex-start;width: 50%;}#sk-container-id-26 div.sk-parallel-item:only-child::after {width: 0;}#sk-container-id-26 div.sk-dashed-wrapped {border: 1px dashed gray;margin: 0 0.4em 0.5em 0.4em;box-sizing: border-box;padding-bottom: 0.4em;background-color: white;}#sk-container-id-26 div.sk-label label {font-family: monospace;font-weight: bold;display: inline-block;line-height: 1.2em;}#sk-container-id-26 div.sk-label-container {text-align: center;}#sk-container-id-26 div.sk-container {/* jupyter's `normalize.less` sets `[hidden] { display: none; }` but bootstrap.min.css set `[hidden] { display: none !important; }` so we also need the `!important` here to be able to override the default hidden behavior on the sphinx rendered scikit-learn.org. See: https://github.com/scikit-learn/scikit-learn/issues/21755 */display: inline-block !important;position: relative;}#sk-container-id-26 div.sk-text-repr-fallback {display: none;}</style><div id=\"sk-container-id-26\" class=\"sk-top-container\"><div class=\"sk-text-repr-fallback\"><pre>DecisionTreeClassifier()</pre><b>In a Jupyter environment, please rerun this cell to show the HTML representation or trust the notebook. <br />On GitHub, the HTML representation is unable to render, please try loading this page with nbviewer.org.</b></div><div class=\"sk-container\" hidden><div class=\"sk-item\"><div class=\"sk-estimator sk-toggleable\"><input class=\"sk-toggleable__control sk-hidden--visually\" id=\"sk-estimator-id-26\" type=\"checkbox\" checked><label for=\"sk-estimator-id-26\" class=\"sk-toggleable__label sk-toggleable__label-arrow\">DecisionTreeClassifier</label><div class=\"sk-toggleable__content\"><pre>DecisionTreeClassifier()</pre></div></div></div></div></div>"
            ],
            "text/plain": [
              "DecisionTreeClassifier()"
            ]
          },
          "execution_count": 293,
          "metadata": {},
          "output_type": "execute_result"
        }
      ],
      "source": [
        "# use the Decision Tree algorithm with the default parameters\n",
        "dt_clf=DecisionTreeClassifier()\n",
        "# fit the model using the training dataset\n",
        "dt_clf.fit(X,Y)"
      ]
    },
    {
      "cell_type": "code",
      "execution_count": null,
      "metadata": {
        "colab": {
          "background_save": true
        },
        "id": "zmp0adK7HkMN"
      },
      "outputs": [],
      "source": [
        "# use the fitted Decision Tree model to predict the labels (with or without carbonyl) for the test dataset\n",
        "Y_pred=dt_clf.predict(X_test)"
      ]
    },
    {
      "cell_type": "code",
      "execution_count": null,
      "metadata": {
        "colab": {
          "background_save": true,
          "base_uri": "https://localhost:8080/"
        },
        "id": "VMp_hbUEHtrL",
        "outputId": "1c9195b1-593a-46ed-cad1-c4b53e4fb0fe"
      },
      "outputs": [
        {
          "ename": "NameError",
          "evalue": "ignored",
          "output_type": "error",
          "traceback": [
            "\u001b[0;31m---------------------------------------------------------------------------\u001b[0m",
            "\u001b[0;31mNameError\u001b[0m                                 Traceback (most recent call last)",
            "\u001b[0;32m<ipython-input-295-985533057cbb>\u001b[0m in \u001b[0;36m<cell line: 2>\u001b[0;34m()\u001b[0m\n\u001b[1;32m      1\u001b[0m \u001b[0;31m# determine the accuracy, sensitivity, and specificity by comparing the predicted labels to the actual labels\u001b[0m\u001b[0;34m\u001b[0m\u001b[0;34m\u001b[0m\u001b[0m\n\u001b[0;32m----> 2\u001b[0;31m \u001b[0mdt_accuracy\u001b[0m\u001b[0;34m=\u001b[0m\u001b[0mnp\u001b[0m\u001b[0;34m.\u001b[0m\u001b[0mround\u001b[0m\u001b[0;34m(\u001b[0m\u001b[0maccuracy_score\u001b[0m\u001b[0;34m(\u001b[0m\u001b[0mY_test\u001b[0m\u001b[0;34m,\u001b[0m\u001b[0mY_ketone\u001b[0m\u001b[0;34m)\u001b[0m\u001b[0;34m,\u001b[0m\u001b[0;36m2\u001b[0m\u001b[0;34m)\u001b[0m\u001b[0;34m\u001b[0m\u001b[0;34m\u001b[0m\u001b[0m\n\u001b[0m\u001b[1;32m      3\u001b[0m \u001b[0mdt_sensitivity\u001b[0m\u001b[0;34m=\u001b[0m\u001b[0mnp\u001b[0m\u001b[0;34m.\u001b[0m\u001b[0mround\u001b[0m\u001b[0;34m(\u001b[0m\u001b[0mrecall_score\u001b[0m\u001b[0;34m(\u001b[0m\u001b[0mY_test\u001b[0m\u001b[0;34m,\u001b[0m\u001b[0mY_pred\u001b[0m\u001b[0;34m)\u001b[0m\u001b[0;34m,\u001b[0m\u001b[0;36m2\u001b[0m\u001b[0;34m)\u001b[0m\u001b[0;34m\u001b[0m\u001b[0;34m\u001b[0m\u001b[0m\n\u001b[1;32m      4\u001b[0m \u001b[0mdt_specificity\u001b[0m\u001b[0;34m=\u001b[0m\u001b[0mnp\u001b[0m\u001b[0;34m.\u001b[0m\u001b[0mround\u001b[0m\u001b[0;34m(\u001b[0m\u001b[0mrecall_score\u001b[0m\u001b[0;34m(\u001b[0m\u001b[0mY_test\u001b[0m\u001b[0;34m,\u001b[0m\u001b[0mY_pred\u001b[0m\u001b[0;34m,\u001b[0m\u001b[0mpos_label\u001b[0m\u001b[0;34m=\u001b[0m\u001b[0;36m0\u001b[0m\u001b[0;34m)\u001b[0m\u001b[0;34m,\u001b[0m\u001b[0;36m2\u001b[0m\u001b[0;34m)\u001b[0m\u001b[0;34m\u001b[0m\u001b[0;34m\u001b[0m\u001b[0m\n\u001b[1;32m      5\u001b[0m \u001b[0;34m\u001b[0m\u001b[0m\n",
            "\u001b[0;31mNameError\u001b[0m: name 'Y_ketone' is not defined"
          ]
        }
      ],
      "source": [
        "# determine the accuracy, sensitivity, and specificity by comparing the predicted labels to the actual labels\n",
        "dt_accuracy=np.round(accuracy_score(Y_test,Y_ketone),2)\n",
        "dt_sensitivity=np.round(recall_score(Y_test,Y_pred),2)\n",
        "dt_specificity=np.round(recall_score(Y_test,Y_pred,pos_label=0),2)\n",
        "\n",
        "# display the accuracy, sensitivity, and specificity\n",
        "print(\"Accuracy: \"+str(dt_accuracy)+\" Sensitivity: \"+str(dt_sensitivity)+\" Specificity: \"+str(dt_specificity))"
      ]
    },
    {
      "cell_type": "code",
      "execution_count": null,
      "metadata": {
        "colab": {
          "background_save": true
        },
        "id": "gf3a_qj_Je7M"
      },
      "outputs": [],
      "source": [
        "# use the fitted Random Forest model to predict the labels (with or without carbonyl) for the test dataset\n",
        "Y_pred=rf_clf.predict(X_test)"
      ]
    },
    {
      "cell_type": "code",
      "execution_count": null,
      "metadata": {
        "colab": {
          "background_save": true
        },
        "id": "9BBxiepIJhqY"
      },
      "outputs": [],
      "source": [
        "# determine the accuracy, sensitivity, and specificity by comparing the predicted labels to the actual labels\n",
        "rf_accuracy=np.round(accuracy_score(Y_test,Y_pred),2)\n",
        "rf_sensitivity=np.round(recall_score(Y_test,Y_pred),2)\n",
        "rf_specificity=np.round(recall_score(Y_test,Y_pred,pos_label=0),2)\n",
        "\n",
        "# display the accuracy, sensitivity, and specificity\n",
        "print(\"Accuracy: \"+str(rf_accuracy)+\" Sensitivity: \"+str(rf_sensitivity)+\" Specificity: \"+str(rf_specificity))"
      ]
    },
    {
      "cell_type": "code",
      "execution_count": null,
      "metadata": {
        "colab": {
          "background_save": true
        },
        "id": "KGkFbjpYJ3Nd"
      },
      "outputs": [],
      "source": [
        "# rerun the label prediction (change the line below to specify which model to use)\n",
        "Y_pred=dt_clf.predict(X_test)\n",
        "\n",
        "# create new variables to hold the indices (i.e., row number) of all FPs and FNs\n",
        "fp=[]\n",
        "fn=[]\n",
        "\n",
        "# go through all predictions to identify the errors and then determine whether each one is an FP or FN\n",
        "for i in range (len(Y_test)):\n",
        "  # identify FPs and store their indices\n",
        "  if Y_pred[i] != Y_test[i] and Y_test[i] ==0:\n",
        "       fp.append(i)\n",
        "  # identify FNs and store their indices\n",
        "  elif Y_pred[i] != Y_test[i] and Y_test[i]==1:\n",
        "       fn.append(i)"
      ]
    },
    {
      "cell_type": "code",
      "execution_count": null,
      "metadata": {
        "colab": {
          "background_save": true
        },
        "id": "zcqpjo80K3I3"
      },
      "outputs": [],
      "source": [
        "# get the SMILES strings\n",
        "fpmols=test.iloc[fp,0].values\n",
        "# get the molecule name\n",
        "fpmols_name=test.iloc[fp,1].values\n",
        "\n",
        "# get the SMILES strings\n",
        "fnmols=test.iloc[fn,0].values\n",
        "# get the molecule names\n",
        "fnmols_name=test.iloc[fn,1].values\n",
        "\n",
        "# get lists of the FP and FN SMILES strings\n",
        "fp_list = [Chem.MolFromSmiles(smiles) for smiles in fpmols]\n",
        "fn_list = [Chem.MolFromSmiles(smiles) for smiles in fnmols]"
      ]
    },
    {
      "cell_type": "code",
      "execution_count": null,
      "metadata": {
        "colab": {
          "background_save": true
        },
        "id": "5t_S0K3oK9iw"
      },
      "outputs": [],
      "source": [
        "# set molecule names for the FP plot displayed below\n",
        "for i in range(len(fp_list)):\n",
        "  mol=fp_list[i]\n",
        "  mol.SetProp(\"_Name\",fpmols_name[i])\n",
        "\n",
        "# set molecule names for the FN plot displayed below\n",
        "for i in range(len(fn_list)):\n",
        "  mol=fn_list[i]\n",
        "  mol.SetProp(\"_Name\",fnmols_name[i])"
      ]
    },
    {
      "cell_type": "code",
      "execution_count": null,
      "metadata": {
        "colab": {
          "background_save": true
        },
        "id": "6NgMu1SbLFoY"
      },
      "outputs": [],
      "source": [
        "# display a table showing the index, SMILES string, and name of all FPs\n",
        "print('\\033[1m' + 'FP List' + '\\033[0m')\n",
        "test.iloc[fp, 0:2]"
      ]
    },
    {
      "cell_type": "code",
      "execution_count": null,
      "metadata": {
        "colab": {
          "background_save": true
        },
        "id": "GYgTyej_vwNU"
      },
      "outputs": [],
      "source": [
        "# change the index values below to pick molecules with and without a carbonyl\n",
        "idx_hasCarbonyl=78\n",
        "idx_notCarbonyl=182\n",
        "# get the data for the two molecules\n",
        "hasCarbonyl=test.set_index('name').iloc[idx_hasCarbonyl,3:] # picked\n",
        "notCarbonyl=test.set_index('name').iloc[idx_notCarbonyl,3:] # picked\n",
        "# plot the spectra\n",
        "fig = go.Figure()\n",
        "fig.add_trace(go.Scatter(x=hasCarbonyl.index, y=hasCarbonyl, name=hasCarbonyl.name,mode='markers'))\n",
        "fig.add_trace(go.Scatter(x=notCarbonyl.index, y=notCarbonyl,name=notCarbonyl.name,mode='markers'))\n",
        "fig.update_layout(title='Intensities over frequency',title_x=0.5)"
      ]
    },
    {
      "cell_type": "code",
      "execution_count": null,
      "metadata": {
        "colab": {
          "background_save": true
        },
        "id": "edg5vSn7LTWi"
      },
      "outputs": [],
      "source": [
        "# display the molecular structures of all FPs\n",
        "img1=Chem.Draw.MolsToGridImage(fp_list,molsPerRow=4,subImgSize=(200,200),legends=[mol.GetProp('_Name') for mol in fp_list])\n",
        "img1"
      ]
    },
    {
      "cell_type": "code",
      "execution_count": null,
      "metadata": {
        "colab": {
          "background_save": true
        },
        "id": "oVFWSW6cLJkf"
      },
      "outputs": [],
      "source": [
        "# display a table showing the index, SMILES string, and name of all FNs\n",
        "print('\\033[1m' + 'FN List' + '\\033[0m')\n",
        "test.iloc[fn, 0:2]"
      ]
    },
    {
      "cell_type": "code",
      "execution_count": null,
      "metadata": {
        "colab": {
          "background_save": true
        },
        "id": "wXVodJwMv9_E"
      },
      "outputs": [],
      "source": [
        "# change the index values below to pick molecules with and without a carbonyl\n",
        "idx_hasCarbonyl=23\n",
        "idx_notCarbonyl=211\n",
        "# get the data for the two molecules\n",
        "hasCarbonyl=test.set_index('name').iloc[idx_hasCarbonyl,3:] # picked\n",
        "notCarbonyl=test.set_index('name').iloc[idx_notCarbonyl,3:] # picked\n",
        "# plot the spectra\n",
        "fig = go.Figure()\n",
        "fig.add_trace(go.Scatter(x=hasCarbonyl.index, y=hasCarbonyl, name=hasCarbonyl.name,mode='markers'))\n",
        "fig.add_trace(go.Scatter(x=notCarbonyl.index, y=notCarbonyl,name=notCarbonyl.name,mode='markers'))\n",
        "fig.update_layout(title='Intensities over frequency',title_x=0.5)"
      ]
    },
    {
      "cell_type": "code",
      "execution_count": null,
      "metadata": {
        "colab": {
          "background_save": true
        },
        "id": "zdiC-rKdLXP-"
      },
      "outputs": [],
      "source": [
        "# display the molecular structures of all FNs\n",
        "img2=Chem.Draw.MolsToGridImage(fn_list,molsPerRow=4,subImgSize=(200,200),legends=[mol.GetProp('_Name') for mol in fn_list])\n",
        "img2"
      ]
    },
    {
      "cell_type": "code",
      "execution_count": null,
      "metadata": {
        "colab": {
          "background_save": true
        },
        "id": "FcZ1cudaLwqf"
      },
      "outputs": [],
      "source": [
        "# change the index values below to pick molecules with and without a carbonyl\n",
        "idx_hasCarbonyl=23\n",
        "idx_1=183\n",
        "idx_notCarbonyl=211\n",
        "\n",
        "# get the data for the two molecules\n",
        "hasCarbonyl=test.set_index('name').iloc[idx_hasCarbonyl,3:] # picked\n",
        "notCarbonyl=test.set_index('name').iloc[idx_notCarbonyl,3:] # picked\n",
        "notCarbonyl1=test.set_index('name').iloc[idx_1,3:] # picked\n",
        "# plot the spectra\n",
        "fig = go.Figure()\n",
        "fig.add_trace(go.Scatter(x=hasCarbonyl.index, y=hasCarbonyl, name=hasCarbonyl.name,mode='markers'))\n",
        "fig.add_trace(go.Scatter(x=notCarbonyl.index, y=notCarbonyl,name=notCarbonyl.name,mode='markers'))\n",
        "fig.add_trace(go.Scatter(x=notCarbonyl1.index, y=notCarbonyl1,name=notCarbonyl1.name,mode='markers'))\n",
        "fig.update_layout(title='Intensities over frequency',title_x=0.5)"
      ]
    },
    {
      "cell_type": "code",
      "execution_count": null,
      "metadata": {
        "colab": {
          "background_save": true
        },
        "id": "vzhpkF6YMvEq"
      },
      "outputs": [],
      "source": [
        "# to display the spectrum of a FN\n",
        "# in the line below, insert the index value of the molecule you want to see from the table above\n",
        "fn_idx=183\n",
        "# then display the figure\n",
        "fn_mol=test.set_index('name').iloc[fn_idx,3:]\n",
        "fig = go.Figure()\n",
        "fig.add_trace(go.Scatter(x=fn_mol.index, y=fn_mol, name=fn_mol.name,mode='markers'))\n",
        "fig.update_layout(title='Intensities over frequency',title_x=0.5)\n",
        "fig.update_layout(showlegend=True)\n"
      ]
    },
    {
      "cell_type": "code",
      "execution_count": null,
      "metadata": {
        "colab": {
          "background_save": true
        },
        "id": "n8wzWyF1NLCu"
      },
      "outputs": [],
      "source": [
        "# create variables containing the performance metrics for each of the models\n",
        "acs=[dt_accuracy,rf_accuracy,kn_accuracy,nb_accuracy]\n",
        "sens=[dt_sensitivity,rf_sensitivity,kn_sensitivity,nb_sensitivity]\n",
        "specs=[dt_specificity,rf_specificity,kn_specificity,nb_specificity]"
      ]
    },
    {
      "cell_type": "code",
      "execution_count": null,
      "metadata": {
        "colab": {
          "background_save": true
        },
        "id": "LCrGoVCvNQOf"
      },
      "outputs": [],
      "source": [
        "# make and display a DataFrame\n",
        "d = {'Model':['Decision Tree','Random Forest','k-Nearest Neighbors','Naive Bayes'],'Accuracy':acs, 'Sensitivity':sens,' Specificity':specs}\n",
        "result = pd.DataFrame(data=d)"
      ]
    },
    {
      "cell_type": "code",
      "execution_count": null,
      "metadata": {
        "colab": {
          "background_save": true
        },
        "id": "7td8hoChNdcB"
      },
      "outputs": [],
      "source": [
        "result"
      ]
    }
  ],
  "metadata": {
    "colab": {
      "provenance": [],
      "authorship_tag": "ABX9TyPLiIv5E6XZRA7gECczqO4K",
      "include_colab_link": true
    },
    "kernelspec": {
      "display_name": "Python 3",
      "name": "python3"
    },
    "language_info": {
      "name": "python"
    }
  },
  "nbformat": 4,
  "nbformat_minor": 0
}